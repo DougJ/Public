{
 "cells": [
  {
   "cell_type": "markdown",
   "metadata": {
    "heading_collapsed": true
   },
   "source": [
    "### Interview Cake - Array and string manipulation"
   ]
  },
  {
   "cell_type": "markdown",
   "metadata": {
    "heading_collapsed": true
   },
   "source": [
    "### Question 1: Array and string manipulation - Merging meeting times\n",
    "\n",
    "#### Meeting time availability given tuple of integers (start time, end time). Find available slots. \n",
    ">given: [(0, 1), (3, 5), (4, 8), (10, 12), (9, 10)]  \n",
    "return: [(0, 1), (3, 8), (9, 12)]  "
   ]
  },
  {
   "cell_type": "markdown",
   "metadata": {},
   "source": [
    "### Question 1: Array and string manipulation - Merging meeting times\n",
    "\n",
    "#### Practice space"
   ]
  },
  {
   "cell_type": "code",
   "execution_count": 4,
   "metadata": {},
   "outputs": [],
   "source": [
    "def merge_ranges(meeting):\n",
    "    pass\n",
    "    #return merged_meetings"
   ]
  },
  {
   "cell_type": "markdown",
   "metadata": {
    "heading_collapsed": true
   },
   "source": [
    "### Question 1: Array and string manipulation - Merging meeting times\n",
    "\n",
    "#### QA Test for function"
   ]
  },
  {
   "cell_type": "code",
   "execution_count": 3,
   "metadata": {
    "hidden": true
   },
   "outputs": [
    {
     "ename": "NameError",
     "evalue": "name 'merge_ranges' is not defined",
     "output_type": "error",
     "traceback": [
      "\u001b[1;31m---------------------------------------------------------------------------\u001b[0m",
      "\u001b[1;31mNameError\u001b[0m                                 Traceback (most recent call last)",
      "\u001b[1;32m<ipython-input-3-4643df075dce>\u001b[0m in \u001b[0;36m<module>\u001b[1;34m\u001b[0m\n\u001b[0;32m     13\u001b[0m \u001b[1;33m\u001b[0m\u001b[0m\n\u001b[0;32m     14\u001b[0m \u001b[1;31m# Test\u001b[0m\u001b[1;33m\u001b[0m\u001b[1;33m\u001b[0m\u001b[1;33m\u001b[0m\u001b[0m\n\u001b[1;32m---> 15\u001b[1;33m \u001b[0mmerge_ranges\u001b[0m\u001b[1;33m(\u001b[0m\u001b[0mmeetings\u001b[0m\u001b[1;33m)\u001b[0m\u001b[1;33m\u001b[0m\u001b[1;33m\u001b[0m\u001b[0m\n\u001b[0m",
      "\u001b[1;31mNameError\u001b[0m: name 'merge_ranges' is not defined"
     ]
    }
   ],
   "source": [
    "#GIVEN\n",
    "meetings = [(0, 1), (3, 5), (4, 8), (10, 12), (9, 10)]\n",
    "# EDGE CASE: SAME START\n",
    "meetings1 = [(0, 3), (3, 5), (3, 8), (10, 12), (9, 10)]\n",
    "# EDGE CASE: SAME END\n",
    "meetings2 = [(0, 1), (3, 8), (4, 8), (10, 12), (9, 10)]\n",
    "# EDGE CASE: SAME END AND START\n",
    "meetings3 = [(0, 3), (3, 5), (4, 8), (10, 12), (9, 10)]\n",
    "# EDGE CASE: OVERLAP\n",
    "meetings4 = [(0, 1), (3, 5), (4, 12), (10, 12), (9, 10)]\n",
    "# EDGE CASE: NO OVERLAP\n",
    "meetings5 = [(0, 1), (2, 3), (4, 8), (11, 12), (9, 10)]\n",
    "\n",
    "# Test\n",
    "merge_ranges(meetings)"
   ]
  },
  {
   "cell_type": "markdown",
   "metadata": {
    "heading_collapsed": true
   },
   "source": [
    "### Question 1: Array and string manipulation - Merging meeting times\n",
    "\n",
    "#### Answer - Optimal solution provided by Interview Cake"
   ]
  },
  {
   "cell_type": "code",
   "execution_count": 4,
   "metadata": {
    "code_folding": [],
    "hidden": true
   },
   "outputs": [
    {
     "data": {
      "text/plain": [
       "[(0, 1), (2, 3), (4, 8), (9, 10), (11, 12)]"
      ]
     },
     "execution_count": 4,
     "metadata": {},
     "output_type": "execute_result"
    }
   ],
   "source": [
    "def merge_ranges(meetings):\n",
    "    '''\n",
    "    Didn't get this correct on first pass. Close. used i,j, and ran into issue. \n",
    "    Stopped due to time.\n",
    "    Close but did two nested loops and ran into issue.\n",
    "    Got sort. Got append to new. Got loop with range and initializing tuple with [0].\n",
    "    Got the max time comparision.\n",
    "    Didn't get the more elegant one loop approach. \n",
    "    Didn't get the reference -1, meaning always be on back of array.\n",
    "    '''\n",
    "\n",
    "    # SORT BY START TIME\n",
    "    sorted_meetings = sorted(meetings)\n",
    "    #print(sorted_meetings)\n",
    "\n",
    "    # INITIALIZE NEW TUPLE WITH EARLIEST MEETING\n",
    "    merged_meetings = [sorted_meetings[0]]\n",
    "\n",
    "    # LOOP OVER TUPLES OTHER THAN EARLIEST\n",
    "    for current_meeting_start, current_meeting_end in sorted_meetings[1:]:\n",
    "        # POPULATE VARIABLES WITH DATA FROM LATEST (LAST IN TUPLE) MEETING TIME TUPLE\n",
    "        last_merged_meeting_start, last_merged_meeting_end = merged_meetings[-1]\n",
    "\n",
    "        # IF TUPLE COMPARING TO LAST MERGED MEETING OVERLAPS USE LATER END TIME\n",
    "        if (current_meeting_start <= last_merged_meeting_end):\n",
    "            merged_meetings[-1] = (last_merged_meeting_start,\n",
    "                                   max(last_merged_meeting_end,\n",
    "                                       current_meeting_end))\n",
    "        else:\n",
    "            # ADD THE CURRENT MEETING, DIDN'T OVERLAP\n",
    "            merged_meetings.append((current_meeting_start, current_meeting_end))\n",
    "\n",
    "    return merged_meetings\n",
    "\n",
    "meetings = [(0, 1), (2, 3), (4, 8), (11, 12), (9, 10)]\n",
    "#merge_ranges(meetings)"
   ]
  },
  {
   "cell_type": "markdown",
   "metadata": {
    "heading_collapsed": true
   },
   "source": [
    "### Question 2: Array and string manipulation - Reverse string in place\n",
    "* Write a function that takes a list of characters and reverses the letters in place.\n",
    "> input: \"guzzle\"  \n",
    "output: ['e', 'l', 'z', 'z', 'u', 'g']"
   ]
  },
  {
   "cell_type": "code",
   "execution_count": 10,
   "metadata": {
    "hidden": true
   },
   "outputs": [],
   "source": [
    "def reverse_list(list_in):\n",
    "    list_in.reverse()\n",
    "    return list_in"
   ]
  },
  {
   "cell_type": "code",
   "execution_count": 16,
   "metadata": {
    "hidden": true
   },
   "outputs": [
    {
     "name": "stdout",
     "output_type": "stream",
     "text": [
      "11\n",
      "['r', 'e', 'e', 'b', ' ', 'e', 'l', 'z', 'z', 'u', 'g']\n"
     ]
    }
   ],
   "source": [
    "string  = \"guzzle beer\"\n",
    "list_in = list(string)\n",
    "print(len(list_in))\n",
    "\n",
    "print(reverse_list(list_in))"
   ]
  },
  {
   "cell_type": "code",
   "execution_count": 18,
   "metadata": {
    "hidden": true
   },
   "outputs": [],
   "source": [
    "def reverse(list_of_chars):\n",
    "    left_index  = 0\n",
    "    right_index = len(list_of_chars) - 1\n",
    "\n",
    "    while left_index < right_index:\n",
    "        # Swap characters\n",
    "        list_of_chars[left_index], list_of_chars[right_index] = \\\n",
    "            list_of_chars[right_index], list_of_chars[left_index]\n",
    "        # Move towards middle\n",
    "        left_index  += 1\n",
    "        right_index -= 1\n",
    "    \n",
    "    return list_of_chars"
   ]
  },
  {
   "cell_type": "code",
   "execution_count": 19,
   "metadata": {
    "hidden": true
   },
   "outputs": [
    {
     "name": "stdout",
     "output_type": "stream",
     "text": [
      "['r', 'e', 'e', 'b', ' ', 'e', 'l', 'z', 'z', 'u', 'g']\n"
     ]
    }
   ],
   "source": [
    "print(reverse(list_in))"
   ]
  },
  {
   "cell_type": "markdown",
   "metadata": {
    "hidden": true
   },
   "source": [
    "#### Complexity:\n",
    "O(n) time and O(1) space."
   ]
  },
  {
   "cell_type": "markdown",
   "metadata": {
    "heading_collapsed": true
   },
   "source": [
    "### Question 3: Array and string manipulation - Reverse words in list\n",
    "* Write a function reverse_words() that takes a message as a list of characters and reverses the order of the words in place.   \n",
    ">input message = [ 'c', 'a', 'k', 'e', ' ', 'p', 'o', 'u', 'n', 'd', ' ', 's', 't', 'e', 'a', 'l' ]  \n",
    "> output: steal pound cake  "
   ]
  },
  {
   "cell_type": "code",
   "execution_count": null,
   "metadata": {
    "hidden": true
   },
   "outputs": [],
   "source": [
    "def reverse_words():\n",
    "    "
   ]
  },
  {
   "cell_type": "markdown",
   "metadata": {
    "heading_collapsed": true
   },
   "source": [
    "### Question 4: Array and string manipulation - Merge sorted arrays  \n",
    "> Merge numeric lists  \n",
    "my_list     = [3, 4, 6, 10, 11, 15]  \n",
    "alices_list = [1, 5, 8, 12, 14, 19]  \n",
    "\n",
    "print(merge_lists(my_list, alices_list))  \n",
    "Prints [1, 3, 4, 5, 6, 8, 10, 11, 12, 14, 15, 19]  "
   ]
  },
  {
   "cell_type": "code",
   "execution_count": 23,
   "metadata": {
    "hidden": true
   },
   "outputs": [
    {
     "data": {
      "text/plain": [
       "[1, 3, 4, 5, 6, 8, 10, 11, 12, 14, 15, 19]"
      ]
     },
     "execution_count": 23,
     "metadata": {},
     "output_type": "execute_result"
    }
   ],
   "source": [
    "def merge_lists(list1, list2):\n",
    "    list_new = list1\n",
    "    for item in list2:\n",
    "        list_new.append(item)\n",
    "    list_new.sort()\n",
    "    return list_new\n",
    "\n",
    "my_list     = [3, 4, 6, 10, 11, 15]\n",
    "alices_list = [1, 5, 8, 12, 14, 19]\n",
    "\n",
    "merge_lists(my_list, alices_list)"
   ]
  },
  {
   "cell_type": "code",
   "execution_count": null,
   "metadata": {
    "hidden": true
   },
   "outputs": [],
   "source": [
    "  def merge_lists(my_list, alices_list):\n",
    "    # Set up our merged_list\n",
    "    merged_list_size = len(my_list) + len(alices_list)\n",
    "    merged_list = [None] * merged_list_size\n",
    "\n",
    "    current_index_alices = 0\n",
    "    current_index_mine = 0\n",
    "    current_index_merged = 0\n",
    "    while current_index_merged < merged_list_size:\n",
    "        is_my_list_exhausted = current_index_mine >= len(my_list)\n",
    "        is_alices_list_exhausted = current_index_alices >= len(alices_list)\n",
    "        if (not is_my_list_exhausted and\n",
    "                (is_alices_list_exhausted or\n",
    "                 my_list[current_index_mine] < alices_list[current_index_alices])):\n",
    "            # Case: next comes from my list\n",
    "            # My list must not be exhausted, and EITHER:\n",
    "            # 1) Alice's list IS exhausted, or\n",
    "            # 2) the current element in my list is less\n",
    "            #    than the current element in Alice's list\n",
    "            merged_list[current_index_merged] = my_list[current_index_mine]\n",
    "            current_index_mine += 1\n",
    "        else:\n",
    "            # Case: next comes from Alice's list\n",
    "            merged_list[current_index_merged] = alices_list[current_index_alices]\n",
    "            current_index_alices += 1\n",
    "\n",
    "        current_index_merged += 1\n",
    "\n",
    "    return merged_list"
   ]
  },
  {
   "cell_type": "markdown",
   "metadata": {
    "hidden": true
   },
   "source": [
    "Gotchas\n",
    "We can do this in O(n) time and space.\n",
    "\n",
    "If you're running a built-in sorting function, your algorithm probably takes O(n\\lg{n}) time for that sort.\n",
    "\n",
    "Think about edge cases! \n",
    "What happens when we've merged in all of the elements from one of our lists but we still have elements to merge in from our other list?\n",
    "\n",
    "prints:\n",
    "[1, 3, 4, 5, 6, 8, 10, 11, 12, 14, 15, 19]\n"
   ]
  },
  {
   "cell_type": "markdown",
   "metadata": {
    "heading_collapsed": true
   },
   "source": [
    "### Question 5: Array and string manipulation - Get two ordered numeric lists, make sure first in, first out\n",
    "> Given all three lists, write a function to check that my service is first-come, first-served.   All food should come out in the same order customers requested it.  \n",
    "Take Out Orders: [1, 3, 5]  \n",
    "Dine In Orders : [2, 4, 6]  \n",
    " not first in first out  \n",
    "Served Orders:   [1, 2, 4, 6, 5, 3]  \n",
    "first in, first out  \n",
    "Served Orders:   [1, 2, 3, 5, 4, 6]  "
   ]
  },
  {
   "cell_type": "markdown",
   "metadata": {
    "hidden": true
   },
   "source": []
  }
 ],
 "metadata": {
  "kernelspec": {
   "display_name": "Python 3",
   "language": "python",
   "name": "python3"
  },
  "language_info": {
   "codemirror_mode": {
    "name": "ipython",
    "version": 3
   },
   "file_extension": ".py",
   "mimetype": "text/x-python",
   "name": "python",
   "nbconvert_exporter": "python",
   "pygments_lexer": "ipython3",
   "version": "3.7.3"
  }
 },
 "nbformat": 4,
 "nbformat_minor": 2
}
