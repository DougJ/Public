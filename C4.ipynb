{
 "cells": [
  {
   "cell_type": "markdown",
   "metadata": {
    "slideshow": {
     "slide_type": "slide"
    }
   },
   "source": [
    "## Capstone 4: Unstrucured Learning with Recommendation System for Musical Artistis using Last.fm. "
   ]
  },
  {
   "cell_type": "markdown",
   "metadata": {
    "slideshow": {
     "slide_type": "slide"
    }
   },
   "source": [
    "###    Last.fm website, http://www.lastfm.com \n",
    "    @inproceedings{Cantador:RecSys2011,\n",
    "      author = {Cantador, Iv\\'{a}n and Brusilovsky, Peter and Kuflik, Tsvi},\n",
    "      title = {2nd Workshop on Information Heterogeneity and Fusion in Recommender Systems (HetRec 2011)},\n",
    "      booktitle = {Proceedings of the 5th ACM conference on Recommender systems},\n",
    "      series = {RecSys 2011},\n",
    "      year = {2011},\n",
    "      location = {Chicago, IL, USA},\n",
    "      publisher = {ACM},\n",
    "      address = {New York, NY, USA},\n",
    "      keywords = {information heterogeneity, information integration, recommender systems},\n",
    "   } \n",
    "\n",
    "### Credits\n",
    "   This dataset was built by Ignacio Fernández-Tobías with the collaboration of Iván Cantador and Alejandro Bellogín, \n",
    "   members of the Information Retrieval group at Universidad Autonoma de Madrid (http://ir.ii.uam.es)\n",
    "\n",
    "   \n",
    "### Contact\n",
    "   Iván Cantador, ivan [dot] cantador [at] uam [dot] es"
   ]
  },
  {
   "cell_type": "markdown",
   "metadata": {
    "slideshow": {
     "slide_type": "slide"
    }
   },
   "source": [
    "#### Why I chose this dataset:  \n",
    "1) To stretch myself with a dataset that isn't frequently used, and where there are not a lot of recommender examples in contrast to a well known set such as MovieLens.\n",
    "\n",
    "2) Recommender systems are frequently used in business, and they are of interest to me.  \n",
    "\n",
    "3) This is similar to capstone 4 suggestion, \"Netflix wants to identify similar movies based on movie characteristics.\" Rather than just output content based recommendations, members in a similar cluster or group, built collaborative and content based filters to recommend an artist based on similarities in ratings."
   ]
  },
  {
   "cell_type": "markdown",
   "metadata": {
    "slideshow": {
     "slide_type": "skip"
    }
   },
   "source": [
    "#### To run slideshow:\n",
    "\n",
    "jupyter nbconvert Jupyter\\ C:\\Users\\DJ\\Documents\\AnacondaPython\\Thinkful\\C4.ipynb --to slides --post serve"
   ]
  },
  {
   "cell_type": "markdown",
   "metadata": {
    "slideshow": {
     "slide_type": "slide"
    }
   },
   "source": [
    "### Problem Statement:\n",
    "After prepocessing data and generating a rating score, identify optimal number of clusters and make artist recommendations based on collaborative and content based clustering.\n",
    "\n",
    "#### Clustering: cluster user ratings in three genres. \n",
    "A) K-Means  \n",
    "B) Agglomorative  \n",
    "C) GMM  \n",
    "D) Dimension Reduction - UMAP  \n",
    "\n",
    "#### Recommendation Systems: \n",
    "A) Collaborative recommendation - Recommend artist based on artist listening to.  \n",
    "B) Collaborative recommendation - Recommend artist based on similar users.  \n",
    "C) Content recommendation - Recommend artist based on genre.   "
   ]
  },
  {
   "cell_type": "code",
   "execution_count": 1,
   "metadata": {
    "slideshow": {
     "slide_type": "slide"
    }
   },
   "outputs": [],
   "source": [
    "# HIGH LEVEL DATA PLAN\n",
    "\n",
    "# PREPROCESSING\n",
    "    # IMPORT DATA\n",
    "    # BASIC EDA\n",
    "    # MERGE DIFFERENT FILES INTO ONE DATAFRAME\n",
    "    # CREATE RANKING SYSTEM BASED ON USER LISTENS# \n",
    "    # UNIFY TAGS BY HAVING MOST USED TAG FOR EACH ARTIST BE THE TAG FOR ARTIST\n",
    "\n",
    "# CLUSTERING \n",
    "    # NORMALIZE\n",
    "    # KMEANS\n",
    "    # AGGLOMERATIVE CLUSTERING\n",
    "    # GMM\n",
    "    # DIMENSION REDUCTION - UMAP\n",
    "\n",
    "# RECOMMENDER SYSTEMS, COLLABORATIVE FILTERING, CONTENT FILTERING\n",
    "    #COLLABORATIVE \n",
    "        # 1) RECOMMENDATION OF ARTIST BASED ON SIMILARITY TO OTHER ARTISTS\n",
    "        # 2) RECOMMENDATION OF ARTIST BASED ON SIMILARITY TO OTHER USERS\n",
    "    # CONTENT BASED\n",
    "        # GENRE AS CONTENT CHARACTERISTIC. RECOMMEND MOST POPULAR (HIGHEST RATED) IN GENRE"
   ]
  },
  {
   "cell_type": "code",
   "execution_count": 2,
   "metadata": {
    "slideshow": {
     "slide_type": "skip"
    }
   },
   "outputs": [],
   "source": [
    "import numpy as np\n",
    "import pandas as pd\n",
    "import seaborn as sns\n",
    "import matplotlib.pyplot as plt\n",
    "%matplotlib inline\n",
    "\n",
    "from datetime import datetime\n",
    "import time\n",
    "import os\n",
    "\n",
    "from scipy.stats import ttest_ind\n",
    "\n",
    "from scipy.cluster.hierarchy import dendrogram, linkage\n",
    "from sklearn.cluster import AgglomerativeClustering, KMeans\n",
    "\n",
    "from sklearn.decomposition import PCA\n",
    "from sklearn.model_selection import train_test_split\n",
    "from sklearn import metrics"
   ]
  },
  {
   "cell_type": "code",
   "execution_count": 3,
   "metadata": {
    "slideshow": {
     "slide_type": "skip"
    }
   },
   "outputs": [
    {
     "name": "stdout",
     "output_type": "stream",
     "text": [
      "['artists.dat', 'lastFM_dj.csv', 'readme.txt', 'tags.dat', 'user_artists.dat', 'user_friends.dat', 'user_taggedartists-timestamps.dat', 'user_taggedartists.dat']\n"
     ]
    }
   ],
   "source": [
    "# OUTPUT FILES IN DIRECTORY\n",
    "print(os.listdir(\"C:/Users/DJ/Documents/AnacondaPython/Thinkful/FilesToLoad/lastfm_2k\"))"
   ]
  },
  {
   "cell_type": "code",
   "execution_count": 4,
   "metadata": {
    "slideshow": {
     "slide_type": "skip"
    }
   },
   "outputs": [],
   "source": [
    "# lOAD TAG FILE. THESE ARE TAGIDs TO TAGS (HASHTAGS) IN ANOTHER FILE\n",
    "user_taggedartists=pd.read_csv('C:/Users/DJ/Documents/AnacondaPython/Thinkful/FilesToLoad/lastfm_2k/user_taggedartists.dat',\n",
    "                               sep='\\t')"
   ]
  },
  {
   "cell_type": "code",
   "execution_count": 5,
   "metadata": {
    "slideshow": {
     "slide_type": "skip"
    }
   },
   "outputs": [],
   "source": [
    "# LOAD USAGE OF ARTIST BY USER FILE. \n",
    "user_artists=pd.read_csv('C:/Users/DJ/Documents/AnacondaPython/Thinkful/FilesToLoad/lastfm_2k/user_artists.dat', sep='\\t')"
   ]
  },
  {
   "cell_type": "code",
   "execution_count": 6,
   "metadata": {
    "slideshow": {
     "slide_type": "skip"
    }
   },
   "outputs": [],
   "source": [
    "# LOAD ARTISTID FILE\n",
    "artists=pd.read_csv('C:/Users/DJ/Documents/AnacondaPython/Thinkful/FilesToLoad/lastfm_2k/artists.dat', sep='\\t')"
   ]
  },
  {
   "cell_type": "code",
   "execution_count": 7,
   "metadata": {
    "slideshow": {
     "slide_type": "skip"
    }
   },
   "outputs": [],
   "source": [
    "# LOAD HASHTAG FILE, EX ROCK, POP, DINNER MUSIC, ...\n",
    "tags=pd.read_csv('C:/Users/DJ/Documents/AnacondaPython/Thinkful/FilesToLoad/lastfm_2k/tags.dat',encoding=\"ISO-8859-1\", sep='\\t')"
   ]
  },
  {
   "cell_type": "code",
   "execution_count": 8,
   "metadata": {
    "slideshow": {
     "slide_type": "skip"
    }
   },
   "outputs": [
    {
     "data": {
      "text/html": [
       "<div>\n",
       "<style scoped>\n",
       "    .dataframe tbody tr th:only-of-type {\n",
       "        vertical-align: middle;\n",
       "    }\n",
       "\n",
       "    .dataframe tbody tr th {\n",
       "        vertical-align: top;\n",
       "    }\n",
       "\n",
       "    .dataframe thead th {\n",
       "        text-align: right;\n",
       "    }\n",
       "</style>\n",
       "<table border=\"1\" class=\"dataframe\">\n",
       "  <thead>\n",
       "    <tr style=\"text-align: right;\">\n",
       "      <th></th>\n",
       "      <th>userID</th>\n",
       "      <th>artistID</th>\n",
       "      <th>tagID</th>\n",
       "      <th>day</th>\n",
       "      <th>month</th>\n",
       "      <th>year</th>\n",
       "    </tr>\n",
       "  </thead>\n",
       "  <tbody>\n",
       "    <tr>\n",
       "      <th>0</th>\n",
       "      <td>2</td>\n",
       "      <td>52</td>\n",
       "      <td>13</td>\n",
       "      <td>1</td>\n",
       "      <td>4</td>\n",
       "      <td>2009</td>\n",
       "    </tr>\n",
       "    <tr>\n",
       "      <th>1</th>\n",
       "      <td>2</td>\n",
       "      <td>52</td>\n",
       "      <td>15</td>\n",
       "      <td>1</td>\n",
       "      <td>4</td>\n",
       "      <td>2009</td>\n",
       "    </tr>\n",
       "    <tr>\n",
       "      <th>2</th>\n",
       "      <td>2</td>\n",
       "      <td>52</td>\n",
       "      <td>18</td>\n",
       "      <td>1</td>\n",
       "      <td>4</td>\n",
       "      <td>2009</td>\n",
       "    </tr>\n",
       "    <tr>\n",
       "      <th>3</th>\n",
       "      <td>2</td>\n",
       "      <td>52</td>\n",
       "      <td>21</td>\n",
       "      <td>1</td>\n",
       "      <td>4</td>\n",
       "      <td>2009</td>\n",
       "    </tr>\n",
       "    <tr>\n",
       "      <th>4</th>\n",
       "      <td>2</td>\n",
       "      <td>52</td>\n",
       "      <td>41</td>\n",
       "      <td>1</td>\n",
       "      <td>4</td>\n",
       "      <td>2009</td>\n",
       "    </tr>\n",
       "  </tbody>\n",
       "</table>\n",
       "</div>"
      ],
      "text/plain": [
       "   userID  artistID  tagID  day  month  year\n",
       "0       2        52     13    1      4  2009\n",
       "1       2        52     15    1      4  2009\n",
       "2       2        52     18    1      4  2009\n",
       "3       2        52     21    1      4  2009\n",
       "4       2        52     41    1      4  2009"
      ]
     },
     "execution_count": 8,
     "metadata": {},
     "output_type": "execute_result"
    }
   ],
   "source": [
    "user_taggedartists.head(5)"
   ]
  },
  {
   "cell_type": "code",
   "execution_count": 9,
   "metadata": {
    "slideshow": {
     "slide_type": "skip"
    }
   },
   "outputs": [
    {
     "data": {
      "text/plain": [
       "(186479, 6)"
      ]
     },
     "execution_count": 9,
     "metadata": {},
     "output_type": "execute_result"
    }
   ],
   "source": [
    "user_taggedartists.shape"
   ]
  },
  {
   "cell_type": "code",
   "execution_count": 10,
   "metadata": {
    "slideshow": {
     "slide_type": "skip"
    }
   },
   "outputs": [
    {
     "data": {
      "text/plain": [
       "(92834, 3)"
      ]
     },
     "execution_count": 10,
     "metadata": {},
     "output_type": "execute_result"
    }
   ],
   "source": [
    "user_artists.shape"
   ]
  },
  {
   "cell_type": "code",
   "execution_count": 11,
   "metadata": {
    "slideshow": {
     "slide_type": "skip"
    }
   },
   "outputs": [],
   "source": [
    "# CREATE PRIMARY DATAFRAME, LOAD IN DATA WILL USE\n",
    "# DROP DAY MONTH YEAR, WON'T USE IN THIS PROJECT\n",
    "df=user_taggedartists.drop(columns=['day','month','year']).copy()"
   ]
  },
  {
   "cell_type": "code",
   "execution_count": 12,
   "metadata": {
    "slideshow": {
     "slide_type": "skip"
    }
   },
   "outputs": [],
   "source": [
    "# PREPARE TO MERGE WEIGHT (NUMBER OF LISTENING EVENTS) BY CREATING A UNIQUE USER/ARTIST ID\n",
    "df['weight']=''\n",
    "df['user_artistID'] = df.userID.astype(str) + '_' + df.artistID.astype(str)\n",
    "user_artists['user_artistID'] = user_artists.userID.astype(str) + '_' + user_artists.artistID.astype(str)\n",
    "df.head(1)\n",
    "\n",
    "# MERGE WEIGHT BASED ON MAPPING OF user_artistID COMBO\n",
    "df['weight'] = df['user_artistID'].map(user_artists.set_index('user_artistID')['weight'])"
   ]
  },
  {
   "cell_type": "code",
   "execution_count": 13,
   "metadata": {
    "slideshow": {
     "slide_type": "skip"
    }
   },
   "outputs": [
    {
     "data": {
      "text/plain": [
       "71064"
      ]
     },
     "execution_count": 13,
     "metadata": {},
     "output_type": "execute_result"
    }
   ],
   "source": [
    "df['user_artistID'].nunique()"
   ]
  },
  {
   "cell_type": "code",
   "execution_count": 14,
   "metadata": {
    "slideshow": {
     "slide_type": "skip"
    }
   },
   "outputs": [
    {
     "data": {
      "text/plain": [
       "92834"
      ]
     },
     "execution_count": 14,
     "metadata": {},
     "output_type": "execute_result"
    }
   ],
   "source": [
    "user_artists['user_artistID'].nunique()"
   ]
  },
  {
   "cell_type": "code",
   "execution_count": 15,
   "metadata": {
    "slideshow": {
     "slide_type": "skip"
    }
   },
   "outputs": [
    {
     "data": {
      "text/html": [
       "<div>\n",
       "<style scoped>\n",
       "    .dataframe tbody tr th:only-of-type {\n",
       "        vertical-align: middle;\n",
       "    }\n",
       "\n",
       "    .dataframe tbody tr th {\n",
       "        vertical-align: top;\n",
       "    }\n",
       "\n",
       "    .dataframe thead th {\n",
       "        text-align: right;\n",
       "    }\n",
       "</style>\n",
       "<table border=\"1\" class=\"dataframe\">\n",
       "  <thead>\n",
       "    <tr style=\"text-align: right;\">\n",
       "      <th></th>\n",
       "      <th>userID</th>\n",
       "      <th>artistID</th>\n",
       "      <th>tagID</th>\n",
       "      <th>weight</th>\n",
       "      <th>user_artistID</th>\n",
       "    </tr>\n",
       "  </thead>\n",
       "  <tbody>\n",
       "    <tr>\n",
       "      <th>0</th>\n",
       "      <td>2</td>\n",
       "      <td>52</td>\n",
       "      <td>13</td>\n",
       "      <td>11690.0</td>\n",
       "      <td>2_52</td>\n",
       "    </tr>\n",
       "    <tr>\n",
       "      <th>1</th>\n",
       "      <td>2</td>\n",
       "      <td>52</td>\n",
       "      <td>15</td>\n",
       "      <td>11690.0</td>\n",
       "      <td>2_52</td>\n",
       "    </tr>\n",
       "    <tr>\n",
       "      <th>2</th>\n",
       "      <td>2</td>\n",
       "      <td>52</td>\n",
       "      <td>18</td>\n",
       "      <td>11690.0</td>\n",
       "      <td>2_52</td>\n",
       "    </tr>\n",
       "    <tr>\n",
       "      <th>3</th>\n",
       "      <td>2</td>\n",
       "      <td>52</td>\n",
       "      <td>21</td>\n",
       "      <td>11690.0</td>\n",
       "      <td>2_52</td>\n",
       "    </tr>\n",
       "    <tr>\n",
       "      <th>4</th>\n",
       "      <td>2</td>\n",
       "      <td>52</td>\n",
       "      <td>41</td>\n",
       "      <td>11690.0</td>\n",
       "      <td>2_52</td>\n",
       "    </tr>\n",
       "  </tbody>\n",
       "</table>\n",
       "</div>"
      ],
      "text/plain": [
       "   userID  artistID  tagID   weight user_artistID\n",
       "0       2        52     13  11690.0          2_52\n",
       "1       2        52     15  11690.0          2_52\n",
       "2       2        52     18  11690.0          2_52\n",
       "3       2        52     21  11690.0          2_52\n",
       "4       2        52     41  11690.0          2_52"
      ]
     },
     "execution_count": 15,
     "metadata": {},
     "output_type": "execute_result"
    }
   ],
   "source": [
    "df.head(5)"
   ]
  },
  {
   "cell_type": "code",
   "execution_count": 16,
   "metadata": {
    "slideshow": {
     "slide_type": "skip"
    }
   },
   "outputs": [
    {
     "name": "stdout",
     "output_type": "stream",
     "text": [
      "\n",
      "check shape:\n",
      "(186479, 5)\n",
      "\n",
      "check for nulls:\n",
      "userID           0.000000\n",
      "artistID         0.000000\n",
      "tagID            0.000000\n",
      "weight           0.606615\n",
      "user_artistID    0.000000\n",
      "dtype: float64\n",
      "\n",
      "check for duplicates:\n",
      "(0, 5)\n"
     ]
    }
   ],
   "source": [
    "print(\"\\ncheck shape:\\n{}\".format(df.shape))\n",
    "print(\"\\ncheck for nulls:\\n{}\".format(df.isnull().mean()))\n",
    "print(\"\\ncheck for duplicates:\\n{}\".format(df[df.duplicated()].shape))"
   ]
  },
  {
   "cell_type": "markdown",
   "metadata": {
    "slideshow": {
     "slide_type": "skip"
    }
   },
   "source": [
    "#### That is a high null percentage in 'weight'. \n",
    "\n",
    "What to do about the high null count in 'weight'? \n",
    "\n",
    "To recap, created a unique identifier for artist and user in two dataframes. One dataframe had tags for artist inputted by user (ex. 'favorite', 'rock', 'workout'). These tags were tokenized, meaning, for each artist, a user could have many tag entries, or just one. Then the other dataframe represented the count each user listened to each artist. Only one unique pair for each listening 'weight'. \n",
    "\n",
    "Then merged the two dataframes on the unique artist user identifier to have tag and weight in same place. \n",
    "\n",
    "Did a successful merge.\n",
    "\n",
    "However, now have large percent of nulls. Since this is a unique identifier, it would appear that there is a material difference in the tag and weight data files. Meaning the files are not synchronized for artist user pairs. One file has tags for artists, but in the listened to file, the user does not have a weight for the artist which the same user allegedly tagged. And vice versa, meaning listened to but didn't tag.   \n",
    "\n",
    "Significance is need to remove the items with no weight, as need both weight and tag to perform the clustering and recommendations later in project. \n",
    "\n",
    "Conclusion. While disappointing, dropping this large of an amount still gives us plenty of data to work with and make a meaningful analysis. There may be some selection bias as a result, but that is acceptiable in this non-business use case."
   ]
  },
  {
   "cell_type": "code",
   "execution_count": 17,
   "metadata": {
    "slideshow": {
     "slide_type": "skip"
    }
   },
   "outputs": [],
   "source": [
    "# DROP WHERE WEIGHTS ARE NULL, NO RATINGS, USER DID NOT LISTEN TO\n",
    "df = df.dropna(axis=0, subset=['weight'])"
   ]
  },
  {
   "cell_type": "code",
   "execution_count": 18,
   "metadata": {
    "slideshow": {
     "slide_type": "skip"
    }
   },
   "outputs": [
    {
     "data": {
      "text/plain": [
       "userID           0.0\n",
       "artistID         0.0\n",
       "tagID            0.0\n",
       "weight           0.0\n",
       "user_artistID    0.0\n",
       "dtype: float64"
      ]
     },
     "execution_count": 18,
     "metadata": {},
     "output_type": "execute_result"
    }
   ],
   "source": [
    "df.isnull().mean()"
   ]
  },
  {
   "cell_type": "code",
   "execution_count": 19,
   "metadata": {
    "slideshow": {
     "slide_type": "skip"
    }
   },
   "outputs": [
    {
     "data": {
      "text/plain": [
       "(73358, 5)"
      ]
     },
     "execution_count": 19,
     "metadata": {},
     "output_type": "execute_result"
    }
   ],
   "source": [
    "df.shape"
   ]
  },
  {
   "cell_type": "code",
   "execution_count": 20,
   "metadata": {
    "slideshow": {
     "slide_type": "skip"
    }
   },
   "outputs": [],
   "source": [
    "# CREATE ONE TAG FOR EACH ARTIST TO USE AS A REFERENCE POINT TO CLUSTER ON\n",
    "# THE ONE TAG WILL BE BASED ON MOST FREQUENT TAG ENTERED BY USERS FOR ANY GIVEN ARTIST\n",
    "# ALT APPROACH: FIND AN INDUSTRY STANDARD MAPPING FOR ARTIST TO MUSIC CATEGORIES\n",
    "\n",
    "# CREATE A NEW TAG FEATURE\n",
    "df['tagID_new']=0\n",
    "\n",
    "# POPULATE GENRE ('tagValue') WITH MOST FREQUENTLY CITED FOR ARTIST\n",
    "for artist_name in df['artistID'].unique():\n",
    "    df_temp = df[df['artistID']==artist_name]\n",
    "    max_tag = df_temp['tagID'].value_counts().idxmax()\n",
    "    df.loc[(df['artistID'] == artist_name),'tagID_new'] = max_tag"
   ]
  },
  {
   "cell_type": "code",
   "execution_count": 21,
   "metadata": {
    "slideshow": {
     "slide_type": "skip"
    }
   },
   "outputs": [
    {
     "data": {
      "text/html": [
       "<div>\n",
       "<style scoped>\n",
       "    .dataframe tbody tr th:only-of-type {\n",
       "        vertical-align: middle;\n",
       "    }\n",
       "\n",
       "    .dataframe tbody tr th {\n",
       "        vertical-align: top;\n",
       "    }\n",
       "\n",
       "    .dataframe thead th {\n",
       "        text-align: right;\n",
       "    }\n",
       "</style>\n",
       "<table border=\"1\" class=\"dataframe\">\n",
       "  <thead>\n",
       "    <tr style=\"text-align: right;\">\n",
       "      <th></th>\n",
       "      <th>userID</th>\n",
       "      <th>artistID</th>\n",
       "      <th>tagID</th>\n",
       "      <th>weight</th>\n",
       "      <th>user_artistID</th>\n",
       "      <th>tagID_new</th>\n",
       "    </tr>\n",
       "  </thead>\n",
       "  <tbody>\n",
       "    <tr>\n",
       "      <th>0</th>\n",
       "      <td>2</td>\n",
       "      <td>52</td>\n",
       "      <td>13</td>\n",
       "      <td>11690.0</td>\n",
       "      <td>2_52</td>\n",
       "      <td>13</td>\n",
       "    </tr>\n",
       "    <tr>\n",
       "      <th>1</th>\n",
       "      <td>2</td>\n",
       "      <td>52</td>\n",
       "      <td>15</td>\n",
       "      <td>11690.0</td>\n",
       "      <td>2_52</td>\n",
       "      <td>13</td>\n",
       "    </tr>\n",
       "    <tr>\n",
       "      <th>2</th>\n",
       "      <td>2</td>\n",
       "      <td>52</td>\n",
       "      <td>18</td>\n",
       "      <td>11690.0</td>\n",
       "      <td>2_52</td>\n",
       "      <td>13</td>\n",
       "    </tr>\n",
       "    <tr>\n",
       "      <th>3</th>\n",
       "      <td>2</td>\n",
       "      <td>52</td>\n",
       "      <td>21</td>\n",
       "      <td>11690.0</td>\n",
       "      <td>2_52</td>\n",
       "      <td>13</td>\n",
       "    </tr>\n",
       "    <tr>\n",
       "      <th>4</th>\n",
       "      <td>2</td>\n",
       "      <td>52</td>\n",
       "      <td>41</td>\n",
       "      <td>11690.0</td>\n",
       "      <td>2_52</td>\n",
       "      <td>13</td>\n",
       "    </tr>\n",
       "  </tbody>\n",
       "</table>\n",
       "</div>"
      ],
      "text/plain": [
       "   userID  artistID  tagID   weight user_artistID  tagID_new\n",
       "0       2        52     13  11690.0          2_52         13\n",
       "1       2        52     15  11690.0          2_52         13\n",
       "2       2        52     18  11690.0          2_52         13\n",
       "3       2        52     21  11690.0          2_52         13\n",
       "4       2        52     41  11690.0          2_52         13"
      ]
     },
     "execution_count": 21,
     "metadata": {},
     "output_type": "execute_result"
    }
   ],
   "source": [
    "df.head()"
   ]
  },
  {
   "cell_type": "code",
   "execution_count": 22,
   "metadata": {
    "slideshow": {
     "slide_type": "skip"
    }
   },
   "outputs": [
    {
     "name": "stdout",
     "output_type": "stream",
     "text": [
      "artistID: 1\ttagID_new: 1219\n",
      "artistID: 2\ttagID_new: 575\n",
      "artistID: 3\ttagID_new: 4117\n",
      "artistID: 4\ttagID_new: 139\n",
      "artistID: 5\ttagID_new: 179\n"
     ]
    }
   ],
   "source": [
    "# lOOK AT NEW TAGS BY ARTIST\n",
    "grouped = df.groupby(['artistID','tagID_new']).groups\n",
    "\n",
    "cnt = 0\n",
    "for artist, tag in grouped:\n",
    "    cnt += 1\n",
    "    if cnt < 6:\n",
    "        print (\"artistID: {}\\ttagID_new: {}\".format(artist,tag))"
   ]
  },
  {
   "cell_type": "code",
   "execution_count": 23,
   "metadata": {
    "slideshow": {
     "slide_type": "skip"
    }
   },
   "outputs": [],
   "source": [
    "# DROP OLD tagID\n",
    "df.drop(columns='tagID', axis=1, inplace=True)"
   ]
  },
  {
   "cell_type": "code",
   "execution_count": 24,
   "metadata": {
    "slideshow": {
     "slide_type": "skip"
    }
   },
   "outputs": [
    {
     "name": "stdout",
     "output_type": "stream",
     "text": [
      "shape prior to dropping duplicates:\n",
      " (73358, 5)\n",
      "shape of dupplicates prior to dropping duplicates:\n",
      " (52693, 5)\n",
      "shape after dropping duplicates:\n",
      " (20665, 5)\n"
     ]
    },
    {
     "data": {
      "text/plain": [
       "(20665, 5)"
      ]
     },
     "execution_count": 24,
     "metadata": {},
     "output_type": "execute_result"
    }
   ],
   "source": [
    "# WHEN UNIFIED TAG LABELS INTO ONE PER ARTIST, CREATED DUPLICATE\n",
    "\n",
    "# CHECK FOR DUPLICATES\n",
    "print(\"shape prior to dropping duplicates:\\n {}\".format(df.shape))\n",
    "# SHAPE OF DUPLICATES:\n",
    "print(\"shape of dupplicates prior to dropping duplicates:\\n {}\".format(df[df.duplicated()].shape))\n",
    "# DROP DUPLICATES\n",
    "df.drop_duplicates(keep='first', inplace=True)\n",
    "# SHAPE AFTER DROPPING DUPLICATES\n",
    "print(\"shape after dropping duplicates:\\n {}\".format(df.shape))\n",
    "df.shape"
   ]
  },
  {
   "cell_type": "code",
   "execution_count": 25,
   "metadata": {
    "slideshow": {
     "slide_type": "skip"
    }
   },
   "outputs": [
    {
     "name": "stdout",
     "output_type": "stream",
     "text": [
      "\n",
      "check shape:\n",
      "(20665, 5)\n",
      "\n",
      "check for nulls:\n",
      "userID           0.0\n",
      "artistID         0.0\n",
      "weight           0.0\n",
      "user_artistID    0.0\n",
      "tagID_new        0.0\n",
      "dtype: float64\n",
      "\n",
      "check for duplicates:\n",
      "(0, 5)\n"
     ]
    }
   ],
   "source": [
    "print(\"\\ncheck shape:\\n{}\".format(df.shape))\n",
    "print(\"\\ncheck for nulls:\\n{}\".format(df.isnull().mean()))\n",
    "print(\"\\ncheck for duplicates:\\n{}\".format(df[df.duplicated()].shape))"
   ]
  },
  {
   "cell_type": "code",
   "execution_count": 26,
   "metadata": {
    "slideshow": {
     "slide_type": "skip"
    }
   },
   "outputs": [
    {
     "data": {
      "text/html": [
       "<div>\n",
       "<style scoped>\n",
       "    .dataframe tbody tr th:only-of-type {\n",
       "        vertical-align: middle;\n",
       "    }\n",
       "\n",
       "    .dataframe tbody tr th {\n",
       "        vertical-align: top;\n",
       "    }\n",
       "\n",
       "    .dataframe thead th {\n",
       "        text-align: right;\n",
       "    }\n",
       "</style>\n",
       "<table border=\"1\" class=\"dataframe\">\n",
       "  <thead>\n",
       "    <tr style=\"text-align: right;\">\n",
       "      <th></th>\n",
       "      <th>id</th>\n",
       "      <th>name</th>\n",
       "      <th>url</th>\n",
       "      <th>pictureURL</th>\n",
       "    </tr>\n",
       "  </thead>\n",
       "  <tbody>\n",
       "    <tr>\n",
       "      <th>0</th>\n",
       "      <td>1</td>\n",
       "      <td>MALICE MIZER</td>\n",
       "      <td>http://www.last.fm/music/MALICE+MIZER</td>\n",
       "      <td>http://userserve-ak.last.fm/serve/252/10808.jpg</td>\n",
       "    </tr>\n",
       "    <tr>\n",
       "      <th>1</th>\n",
       "      <td>2</td>\n",
       "      <td>Diary of Dreams</td>\n",
       "      <td>http://www.last.fm/music/Diary+of+Dreams</td>\n",
       "      <td>http://userserve-ak.last.fm/serve/252/3052066.jpg</td>\n",
       "    </tr>\n",
       "    <tr>\n",
       "      <th>2</th>\n",
       "      <td>3</td>\n",
       "      <td>Carpathian Forest</td>\n",
       "      <td>http://www.last.fm/music/Carpathian+Forest</td>\n",
       "      <td>http://userserve-ak.last.fm/serve/252/40222717...</td>\n",
       "    </tr>\n",
       "    <tr>\n",
       "      <th>3</th>\n",
       "      <td>4</td>\n",
       "      <td>Moi dix Mois</td>\n",
       "      <td>http://www.last.fm/music/Moi+dix+Mois</td>\n",
       "      <td>http://userserve-ak.last.fm/serve/252/54697835...</td>\n",
       "    </tr>\n",
       "    <tr>\n",
       "      <th>4</th>\n",
       "      <td>5</td>\n",
       "      <td>Bella Morte</td>\n",
       "      <td>http://www.last.fm/music/Bella+Morte</td>\n",
       "      <td>http://userserve-ak.last.fm/serve/252/14789013...</td>\n",
       "    </tr>\n",
       "  </tbody>\n",
       "</table>\n",
       "</div>"
      ],
      "text/plain": [
       "   id               name                                         url  \\\n",
       "0   1       MALICE MIZER       http://www.last.fm/music/MALICE+MIZER   \n",
       "1   2    Diary of Dreams    http://www.last.fm/music/Diary+of+Dreams   \n",
       "2   3  Carpathian Forest  http://www.last.fm/music/Carpathian+Forest   \n",
       "3   4       Moi dix Mois       http://www.last.fm/music/Moi+dix+Mois   \n",
       "4   5        Bella Morte        http://www.last.fm/music/Bella+Morte   \n",
       "\n",
       "                                          pictureURL  \n",
       "0    http://userserve-ak.last.fm/serve/252/10808.jpg  \n",
       "1  http://userserve-ak.last.fm/serve/252/3052066.jpg  \n",
       "2  http://userserve-ak.last.fm/serve/252/40222717...  \n",
       "3  http://userserve-ak.last.fm/serve/252/54697835...  \n",
       "4  http://userserve-ak.last.fm/serve/252/14789013...  "
      ]
     },
     "execution_count": 26,
     "metadata": {},
     "output_type": "execute_result"
    }
   ],
   "source": [
    "artists.head()"
   ]
  },
  {
   "cell_type": "code",
   "execution_count": 27,
   "metadata": {
    "slideshow": {
     "slide_type": "skip"
    }
   },
   "outputs": [],
   "source": [
    "# PREPARE TO MERGE ARTISTS INTO df BY ESTABLISHING artistID, WILL USE TO MAP\n",
    "artists.columns=['artistID','name','url','pictureURL']"
   ]
  },
  {
   "cell_type": "code",
   "execution_count": 28,
   "metadata": {
    "slideshow": {
     "slide_type": "skip"
    }
   },
   "outputs": [
    {
     "name": "stdout",
     "output_type": "stream",
     "text": [
      "\n",
      "check shape:\n",
      "(17632, 4)\n",
      "\n",
      "check for nulls:\n",
      "artistID      0.000000\n",
      "name          0.000000\n",
      "url           0.000000\n",
      "pictureURL    0.025181\n",
      "dtype: float64\n",
      "\n",
      "check for duplicates:\n",
      "(0, 4)\n"
     ]
    }
   ],
   "source": [
    "# NOT USING pictureURL, IT IS A URL TO A PICTURE\n",
    "# MANY OF URL ARE NOT FUNCTIONING AND IS NOT RELEVANT TO CLUSTERING BASED ON GENRE RANKINGS\n",
    "# THUS, CAN IGNORE NULLS IN pictureURL\n",
    "print(\"\\ncheck shape:\\n{}\".format(artists.shape))\n",
    "print(\"\\ncheck for nulls:\\n{}\".format(artists.isnull().mean()))\n",
    "print(\"\\ncheck for duplicates:\\n{}\".format(artists[artists.duplicated()].shape))"
   ]
  },
  {
   "cell_type": "code",
   "execution_count": 29,
   "metadata": {
    "slideshow": {
     "slide_type": "skip"
    }
   },
   "outputs": [
    {
     "data": {
      "text/html": [
       "<div>\n",
       "<style scoped>\n",
       "    .dataframe tbody tr th:only-of-type {\n",
       "        vertical-align: middle;\n",
       "    }\n",
       "\n",
       "    .dataframe tbody tr th {\n",
       "        vertical-align: top;\n",
       "    }\n",
       "\n",
       "    .dataframe thead th {\n",
       "        text-align: right;\n",
       "    }\n",
       "</style>\n",
       "<table border=\"1\" class=\"dataframe\">\n",
       "  <thead>\n",
       "    <tr style=\"text-align: right;\">\n",
       "      <th></th>\n",
       "      <th>userID</th>\n",
       "      <th>artistID</th>\n",
       "      <th>weight</th>\n",
       "      <th>user_artistID</th>\n",
       "      <th>tagID_new</th>\n",
       "      <th>name</th>\n",
       "    </tr>\n",
       "  </thead>\n",
       "  <tbody>\n",
       "    <tr>\n",
       "      <th>0</th>\n",
       "      <td>2</td>\n",
       "      <td>52</td>\n",
       "      <td>11690.0</td>\n",
       "      <td>2_52</td>\n",
       "      <td>13</td>\n",
       "      <td>Morcheeba</td>\n",
       "    </tr>\n",
       "    <tr>\n",
       "      <th>5</th>\n",
       "      <td>2</td>\n",
       "      <td>63</td>\n",
       "      <td>3735.0</td>\n",
       "      <td>2_63</td>\n",
       "      <td>23</td>\n",
       "      <td>Enigma</td>\n",
       "    </tr>\n",
       "    <tr>\n",
       "      <th>9</th>\n",
       "      <td>2</td>\n",
       "      <td>73</td>\n",
       "      <td>2584.0</td>\n",
       "      <td>2_73</td>\n",
       "      <td>13</td>\n",
       "      <td>Café Del Mar</td>\n",
       "    </tr>\n",
       "    <tr>\n",
       "      <th>17</th>\n",
       "      <td>2</td>\n",
       "      <td>94</td>\n",
       "      <td>1373.0</td>\n",
       "      <td>2_94</td>\n",
       "      <td>15</td>\n",
       "      <td>Ministry of Sound</td>\n",
       "    </tr>\n",
       "    <tr>\n",
       "      <th>25</th>\n",
       "      <td>2</td>\n",
       "      <td>96</td>\n",
       "      <td>1342.0</td>\n",
       "      <td>2_96</td>\n",
       "      <td>735</td>\n",
       "      <td>Fleetwood Mac</td>\n",
       "    </tr>\n",
       "  </tbody>\n",
       "</table>\n",
       "</div>"
      ],
      "text/plain": [
       "    userID  artistID   weight user_artistID  tagID_new               name\n",
       "0        2        52  11690.0          2_52         13          Morcheeba\n",
       "5        2        63   3735.0          2_63         23             Enigma\n",
       "9        2        73   2584.0          2_73         13       Café Del Mar\n",
       "17       2        94   1373.0          2_94         15  Ministry of Sound\n",
       "25       2        96   1342.0          2_96        735      Fleetwood Mac"
      ]
     },
     "execution_count": 29,
     "metadata": {},
     "output_type": "execute_result"
    }
   ],
   "source": [
    "# GET ARTIST NAME FIELD INTO df BY MAPPING artistID\n",
    "df['name']=''\n",
    "df['name'] = df['artistID'].map(artists.set_index('artistID')['name'])\n",
    "df.head()"
   ]
  },
  {
   "cell_type": "code",
   "execution_count": 30,
   "metadata": {
    "slideshow": {
     "slide_type": "skip"
    }
   },
   "outputs": [
    {
     "data": {
      "text/html": [
       "<div>\n",
       "<style scoped>\n",
       "    .dataframe tbody tr th:only-of-type {\n",
       "        vertical-align: middle;\n",
       "    }\n",
       "\n",
       "    .dataframe tbody tr th {\n",
       "        vertical-align: top;\n",
       "    }\n",
       "\n",
       "    .dataframe thead th {\n",
       "        text-align: right;\n",
       "    }\n",
       "</style>\n",
       "<table border=\"1\" class=\"dataframe\">\n",
       "  <thead>\n",
       "    <tr style=\"text-align: right;\">\n",
       "      <th></th>\n",
       "      <th>tagID</th>\n",
       "      <th>tagValue</th>\n",
       "    </tr>\n",
       "  </thead>\n",
       "  <tbody>\n",
       "    <tr>\n",
       "      <th>0</th>\n",
       "      <td>1</td>\n",
       "      <td>metal</td>\n",
       "    </tr>\n",
       "    <tr>\n",
       "      <th>1</th>\n",
       "      <td>2</td>\n",
       "      <td>alternative metal</td>\n",
       "    </tr>\n",
       "    <tr>\n",
       "      <th>2</th>\n",
       "      <td>3</td>\n",
       "      <td>goth rock</td>\n",
       "    </tr>\n",
       "    <tr>\n",
       "      <th>3</th>\n",
       "      <td>4</td>\n",
       "      <td>black metal</td>\n",
       "    </tr>\n",
       "    <tr>\n",
       "      <th>4</th>\n",
       "      <td>5</td>\n",
       "      <td>death metal</td>\n",
       "    </tr>\n",
       "  </tbody>\n",
       "</table>\n",
       "</div>"
      ],
      "text/plain": [
       "   tagID           tagValue\n",
       "0      1              metal\n",
       "1      2  alternative metal\n",
       "2      3          goth rock\n",
       "3      4        black metal\n",
       "4      5        death metal"
      ]
     },
     "execution_count": 30,
     "metadata": {},
     "output_type": "execute_result"
    }
   ],
   "source": [
    "# LOOK AT TAG IMPORT\n",
    "tags.head()"
   ]
  },
  {
   "cell_type": "code",
   "execution_count": 31,
   "metadata": {
    "slideshow": {
     "slide_type": "skip"
    }
   },
   "outputs": [
    {
     "data": {
      "text/html": [
       "<div>\n",
       "<style scoped>\n",
       "    .dataframe tbody tr th:only-of-type {\n",
       "        vertical-align: middle;\n",
       "    }\n",
       "\n",
       "    .dataframe tbody tr th {\n",
       "        vertical-align: top;\n",
       "    }\n",
       "\n",
       "    .dataframe thead th {\n",
       "        text-align: right;\n",
       "    }\n",
       "</style>\n",
       "<table border=\"1\" class=\"dataframe\">\n",
       "  <thead>\n",
       "    <tr style=\"text-align: right;\">\n",
       "      <th></th>\n",
       "      <th>userID</th>\n",
       "      <th>artistID</th>\n",
       "      <th>weight</th>\n",
       "      <th>user_artistID</th>\n",
       "      <th>tagID_new</th>\n",
       "      <th>name</th>\n",
       "      <th>tagValue</th>\n",
       "    </tr>\n",
       "  </thead>\n",
       "  <tbody>\n",
       "    <tr>\n",
       "      <th>0</th>\n",
       "      <td>2</td>\n",
       "      <td>52</td>\n",
       "      <td>11690.0</td>\n",
       "      <td>2_52</td>\n",
       "      <td>13</td>\n",
       "      <td>Morcheeba</td>\n",
       "      <td>chillout</td>\n",
       "    </tr>\n",
       "    <tr>\n",
       "      <th>5</th>\n",
       "      <td>2</td>\n",
       "      <td>63</td>\n",
       "      <td>3735.0</td>\n",
       "      <td>2_63</td>\n",
       "      <td>23</td>\n",
       "      <td>Enigma</td>\n",
       "      <td>new age</td>\n",
       "    </tr>\n",
       "    <tr>\n",
       "      <th>9</th>\n",
       "      <td>2</td>\n",
       "      <td>73</td>\n",
       "      <td>2584.0</td>\n",
       "      <td>2_73</td>\n",
       "      <td>13</td>\n",
       "      <td>Café Del Mar</td>\n",
       "      <td>chillout</td>\n",
       "    </tr>\n",
       "    <tr>\n",
       "      <th>17</th>\n",
       "      <td>2</td>\n",
       "      <td>94</td>\n",
       "      <td>1373.0</td>\n",
       "      <td>2_94</td>\n",
       "      <td>15</td>\n",
       "      <td>Ministry of Sound</td>\n",
       "      <td>downtempo</td>\n",
       "    </tr>\n",
       "    <tr>\n",
       "      <th>25</th>\n",
       "      <td>2</td>\n",
       "      <td>96</td>\n",
       "      <td>1342.0</td>\n",
       "      <td>2_96</td>\n",
       "      <td>735</td>\n",
       "      <td>Fleetwood Mac</td>\n",
       "      <td>70s</td>\n",
       "    </tr>\n",
       "  </tbody>\n",
       "</table>\n",
       "</div>"
      ],
      "text/plain": [
       "    userID  artistID   weight user_artistID  tagID_new               name  \\\n",
       "0        2        52  11690.0          2_52         13          Morcheeba   \n",
       "5        2        63   3735.0          2_63         23             Enigma   \n",
       "9        2        73   2584.0          2_73         13       Café Del Mar   \n",
       "17       2        94   1373.0          2_94         15  Ministry of Sound   \n",
       "25       2        96   1342.0          2_96        735      Fleetwood Mac   \n",
       "\n",
       "     tagValue  \n",
       "0    chillout  \n",
       "5     new age  \n",
       "9    chillout  \n",
       "17  downtempo  \n",
       "25        70s  "
      ]
     },
     "execution_count": 31,
     "metadata": {},
     "output_type": "execute_result"
    }
   ],
   "source": [
    "# MERGE tagVALUE INTO df BY MAPPING ON tagID WITH tagID_new\n",
    "df['tagValue']=''\n",
    "df['tagValue'] = df['tagID_new'].map(tags.set_index('tagID')['tagValue'])\n",
    "\n",
    "# NOW HAVE NUMERIC IDS FOR TAGS AND ARTIST NAME IN df, \n",
    "# TAG CHOSEN BY MOST FREQUENT TAG PLACED BY ALL USERS\n",
    "df.head()"
   ]
  },
  {
   "cell_type": "code",
   "execution_count": 32,
   "metadata": {
    "slideshow": {
     "slide_type": "skip"
    }
   },
   "outputs": [
    {
     "name": "stdout",
     "output_type": "stream",
     "text": [
      "\n",
      "check shape:\n",
      "(20665, 7)\n",
      "\n",
      "check for nulls:\n",
      "userID           0.0\n",
      "artistID         0.0\n",
      "weight           0.0\n",
      "user_artistID    0.0\n",
      "tagID_new        0.0\n",
      "name             0.0\n",
      "tagValue         0.0\n",
      "dtype: float64\n",
      "\n",
      "check for duplicates:\n",
      "(0, 7)\n"
     ]
    }
   ],
   "source": [
    "# NAME HAS SOME NULL VALUES\n",
    "# ARTIST ID AND ARTIST NAME WERE NOT SYNCED IN TWO LOAD FILES, WILL DROP NULL ROWS LATER\n",
    "print(\"\\ncheck shape:\\n{}\".format(df.shape))\n",
    "print(\"\\ncheck for nulls:\\n{}\".format(df.isnull().mean()))\n",
    "print(\"\\ncheck for duplicates:\\n{}\".format(df[df.duplicated()].shape))"
   ]
  },
  {
   "cell_type": "code",
   "execution_count": 33,
   "metadata": {
    "slideshow": {
     "slide_type": "skip"
    }
   },
   "outputs": [
    {
     "name": "stdout",
     "output_type": "stream",
     "text": [
      "Number unique Genres : 1651\n",
      "Number unique Users  : 1824\n",
      "Number unique Artists: 6854\n"
     ]
    }
   ],
   "source": [
    "print(\"Number unique Genres : {}\".format(df['tagID_new'].nunique()))\n",
    "print(\"Number unique Users  : {}\".format(df['userID'].nunique()))\n",
    "print(\"Number unique Artists: {}\".format(df['artistID'].nunique()))"
   ]
  },
  {
   "cell_type": "code",
   "execution_count": 34,
   "metadata": {
    "slideshow": {
     "slide_type": "skip"
    }
   },
   "outputs": [],
   "source": [
    "# CREATE DATAFRAME FOR tagValue_cnt.\n",
    "# THIS WILL BE USED TO GROUP VALUES AND LOOK AT POPULARITY FOR EACH TAG\n",
    "df_tagValue_cnt=pd.DataFrame()\n",
    "df_tagValue_cnt['tagValue']=df['tagValue']\n",
    "df_tagValue_cnt['tagCnt']=1"
   ]
  },
  {
   "cell_type": "code",
   "execution_count": 35,
   "metadata": {
    "slideshow": {
     "slide_type": "skip"
    }
   },
   "outputs": [
    {
     "data": {
      "text/html": [
       "<div>\n",
       "<style scoped>\n",
       "    .dataframe tbody tr th:only-of-type {\n",
       "        vertical-align: middle;\n",
       "    }\n",
       "\n",
       "    .dataframe tbody tr th {\n",
       "        vertical-align: top;\n",
       "    }\n",
       "\n",
       "    .dataframe thead th {\n",
       "        text-align: right;\n",
       "    }\n",
       "</style>\n",
       "<table border=\"1\" class=\"dataframe\">\n",
       "  <thead>\n",
       "    <tr style=\"text-align: right;\">\n",
       "      <th></th>\n",
       "      <th>tagCnt</th>\n",
       "    </tr>\n",
       "    <tr>\n",
       "      <th>tagValue</th>\n",
       "      <th></th>\n",
       "    </tr>\n",
       "  </thead>\n",
       "  <tbody>\n",
       "    <tr>\n",
       "      <th>pop</th>\n",
       "      <td>2206</td>\n",
       "    </tr>\n",
       "    <tr>\n",
       "      <th>rock</th>\n",
       "      <td>1146</td>\n",
       "    </tr>\n",
       "    <tr>\n",
       "      <th>alternative</th>\n",
       "      <td>869</td>\n",
       "    </tr>\n",
       "    <tr>\n",
       "      <th>electronic</th>\n",
       "      <td>858</td>\n",
       "    </tr>\n",
       "    <tr>\n",
       "      <th>indie</th>\n",
       "      <td>614</td>\n",
       "    </tr>\n",
       "  </tbody>\n",
       "</table>\n",
       "</div>"
      ],
      "text/plain": [
       "             tagCnt\n",
       "tagValue           \n",
       "pop            2206\n",
       "rock           1146\n",
       "alternative     869\n",
       "electronic      858\n",
       "indie           614"
      ]
     },
     "execution_count": 35,
     "metadata": {},
     "output_type": "execute_result"
    }
   ],
   "source": [
    "# CREATE GROUP BY, AND OUTPUT MOST USED TAGS\n",
    "df_gb = df_tagValue_cnt.groupby(['tagValue']).sum().sort_values(ascending=False, by='tagCnt')\n",
    "df_gb.head()"
   ]
  },
  {
   "cell_type": "markdown",
   "metadata": {
    "slideshow": {
     "slide_type": "skip"
    }
   },
   "source": [
    "### Analysis:\n",
    "Based on consumption, meaning number of listens, users have voted the top genres to be:\n",
    "    pop, rock, alternative, electronic, and indie."
   ]
  },
  {
   "cell_type": "code",
   "execution_count": 36,
   "metadata": {
    "slideshow": {
     "slide_type": "skip"
    }
   },
   "outputs": [],
   "source": [
    "# CREATE A RANK FOR THE TAGS (GENRES) SO CAN FILTER FOR MOST FREQUENT\n",
    "df_gb['tagRank']=0\n",
    "counter=0\n",
    "value=0\n",
    "for index, row in df_gb.iterrows():\n",
    "    value+=1\n",
    "    df_gb['tagRank'].iloc[[counter]]=value\n",
    "    counter+=1"
   ]
  },
  {
   "cell_type": "code",
   "execution_count": 37,
   "metadata": {
    "slideshow": {
     "slide_type": "skip"
    }
   },
   "outputs": [
    {
     "data": {
      "text/plain": [
       "tagValue\n",
       "pop            1\n",
       "rock           2\n",
       "alternative    3\n",
       "electronic     4\n",
       "indie          5\n",
       "Name: tagRank, dtype: int64"
      ]
     },
     "execution_count": 37,
     "metadata": {},
     "output_type": "execute_result"
    }
   ],
   "source": [
    "df_gb['tagRank'].head(5)"
   ]
  },
  {
   "cell_type": "code",
   "execution_count": 38,
   "metadata": {
    "slideshow": {
     "slide_type": "skip"
    }
   },
   "outputs": [],
   "source": [
    "df = pd.merge(df, df_gb, how='left', on=['tagValue', 'tagValue'])"
   ]
  },
  {
   "cell_type": "code",
   "execution_count": 39,
   "metadata": {
    "slideshow": {
     "slide_type": "skip"
    }
   },
   "outputs": [
    {
     "data": {
      "text/html": [
       "<div>\n",
       "<style scoped>\n",
       "    .dataframe tbody tr th:only-of-type {\n",
       "        vertical-align: middle;\n",
       "    }\n",
       "\n",
       "    .dataframe tbody tr th {\n",
       "        vertical-align: top;\n",
       "    }\n",
       "\n",
       "    .dataframe thead th {\n",
       "        text-align: right;\n",
       "    }\n",
       "</style>\n",
       "<table border=\"1\" class=\"dataframe\">\n",
       "  <thead>\n",
       "    <tr style=\"text-align: right;\">\n",
       "      <th></th>\n",
       "      <th>userID</th>\n",
       "      <th>artistID</th>\n",
       "      <th>weight</th>\n",
       "      <th>tagID_new</th>\n",
       "      <th>tagCnt</th>\n",
       "      <th>tagRank</th>\n",
       "    </tr>\n",
       "  </thead>\n",
       "  <tbody>\n",
       "    <tr>\n",
       "      <th>count</th>\n",
       "      <td>20665.000000</td>\n",
       "      <td>20665.000000</td>\n",
       "      <td>20665.000000</td>\n",
       "      <td>20665.000000</td>\n",
       "      <td>20665.000000</td>\n",
       "      <td>20665.000000</td>\n",
       "    </tr>\n",
       "    <tr>\n",
       "      <th>mean</th>\n",
       "      <td>1045.666780</td>\n",
       "      <td>3390.632906</td>\n",
       "      <td>1425.566368</td>\n",
       "      <td>837.964287</td>\n",
       "      <td>489.027196</td>\n",
       "      <td>119.741737</td>\n",
       "    </tr>\n",
       "    <tr>\n",
       "      <th>std</th>\n",
       "      <td>620.353435</td>\n",
       "      <td>4519.863040</td>\n",
       "      <td>7064.561155</td>\n",
       "      <td>2144.489820</td>\n",
       "      <td>673.487823</td>\n",
       "      <td>269.069202</td>\n",
       "    </tr>\n",
       "    <tr>\n",
       "      <th>min</th>\n",
       "      <td>2.000000</td>\n",
       "      <td>1.000000</td>\n",
       "      <td>1.000000</td>\n",
       "      <td>1.000000</td>\n",
       "      <td>1.000000</td>\n",
       "      <td>1.000000</td>\n",
       "    </tr>\n",
       "    <tr>\n",
       "      <th>25%</th>\n",
       "      <td>507.000000</td>\n",
       "      <td>430.000000</td>\n",
       "      <td>172.000000</td>\n",
       "      <td>61.000000</td>\n",
       "      <td>42.000000</td>\n",
       "      <td>5.000000</td>\n",
       "    </tr>\n",
       "    <tr>\n",
       "      <th>50%</th>\n",
       "      <td>1029.000000</td>\n",
       "      <td>1243.000000</td>\n",
       "      <td>411.000000</td>\n",
       "      <td>127.000000</td>\n",
       "      <td>164.000000</td>\n",
       "      <td>22.000000</td>\n",
       "    </tr>\n",
       "    <tr>\n",
       "      <th>75%</th>\n",
       "      <td>1597.000000</td>\n",
       "      <td>4365.000000</td>\n",
       "      <td>1014.000000</td>\n",
       "      <td>386.000000</td>\n",
       "      <td>614.000000</td>\n",
       "      <td>78.000000</td>\n",
       "    </tr>\n",
       "    <tr>\n",
       "      <th>max</th>\n",
       "      <td>2100.000000</td>\n",
       "      <td>18744.000000</td>\n",
       "      <td>352698.000000</td>\n",
       "      <td>12642.000000</td>\n",
       "      <td>2206.000000</td>\n",
       "      <td>1651.000000</td>\n",
       "    </tr>\n",
       "  </tbody>\n",
       "</table>\n",
       "</div>"
      ],
      "text/plain": [
       "             userID      artistID         weight     tagID_new        tagCnt  \\\n",
       "count  20665.000000  20665.000000   20665.000000  20665.000000  20665.000000   \n",
       "mean    1045.666780   3390.632906    1425.566368    837.964287    489.027196   \n",
       "std      620.353435   4519.863040    7064.561155   2144.489820    673.487823   \n",
       "min        2.000000      1.000000       1.000000      1.000000      1.000000   \n",
       "25%      507.000000    430.000000     172.000000     61.000000     42.000000   \n",
       "50%     1029.000000   1243.000000     411.000000    127.000000    164.000000   \n",
       "75%     1597.000000   4365.000000    1014.000000    386.000000    614.000000   \n",
       "max     2100.000000  18744.000000  352698.000000  12642.000000   2206.000000   \n",
       "\n",
       "            tagRank  \n",
       "count  20665.000000  \n",
       "mean     119.741737  \n",
       "std      269.069202  \n",
       "min        1.000000  \n",
       "25%        5.000000  \n",
       "50%       22.000000  \n",
       "75%       78.000000  \n",
       "max     1651.000000  "
      ]
     },
     "execution_count": 39,
     "metadata": {},
     "output_type": "execute_result"
    }
   ],
   "source": [
    "df.describe()"
   ]
  },
  {
   "cell_type": "code",
   "execution_count": 40,
   "metadata": {
    "slideshow": {
     "slide_type": "skip"
    }
   },
   "outputs": [
    {
     "data": {
      "text/html": [
       "<div>\n",
       "<style scoped>\n",
       "    .dataframe tbody tr th:only-of-type {\n",
       "        vertical-align: middle;\n",
       "    }\n",
       "\n",
       "    .dataframe tbody tr th {\n",
       "        vertical-align: top;\n",
       "    }\n",
       "\n",
       "    .dataframe thead th {\n",
       "        text-align: right;\n",
       "    }\n",
       "</style>\n",
       "<table border=\"1\" class=\"dataframe\">\n",
       "  <thead>\n",
       "    <tr style=\"text-align: right;\">\n",
       "      <th></th>\n",
       "      <th>userID</th>\n",
       "      <th>artistID</th>\n",
       "      <th>weight</th>\n",
       "      <th>user_artistID</th>\n",
       "      <th>tagID_new</th>\n",
       "      <th>name</th>\n",
       "      <th>tagValue</th>\n",
       "      <th>tagCnt</th>\n",
       "      <th>tagRank</th>\n",
       "    </tr>\n",
       "  </thead>\n",
       "  <tbody>\n",
       "    <tr>\n",
       "      <th>0</th>\n",
       "      <td>2</td>\n",
       "      <td>52</td>\n",
       "      <td>11690.0</td>\n",
       "      <td>2_52</td>\n",
       "      <td>13</td>\n",
       "      <td>Morcheeba</td>\n",
       "      <td>chillout</td>\n",
       "      <td>62</td>\n",
       "      <td>61</td>\n",
       "    </tr>\n",
       "    <tr>\n",
       "      <th>1</th>\n",
       "      <td>2</td>\n",
       "      <td>63</td>\n",
       "      <td>3735.0</td>\n",
       "      <td>2_63</td>\n",
       "      <td>23</td>\n",
       "      <td>Enigma</td>\n",
       "      <td>new age</td>\n",
       "      <td>50</td>\n",
       "      <td>71</td>\n",
       "    </tr>\n",
       "    <tr>\n",
       "      <th>2</th>\n",
       "      <td>2</td>\n",
       "      <td>73</td>\n",
       "      <td>2584.0</td>\n",
       "      <td>2_73</td>\n",
       "      <td>13</td>\n",
       "      <td>Café Del Mar</td>\n",
       "      <td>chillout</td>\n",
       "      <td>62</td>\n",
       "      <td>61</td>\n",
       "    </tr>\n",
       "    <tr>\n",
       "      <th>3</th>\n",
       "      <td>2</td>\n",
       "      <td>94</td>\n",
       "      <td>1373.0</td>\n",
       "      <td>2_94</td>\n",
       "      <td>15</td>\n",
       "      <td>Ministry of Sound</td>\n",
       "      <td>downtempo</td>\n",
       "      <td>122</td>\n",
       "      <td>38</td>\n",
       "    </tr>\n",
       "    <tr>\n",
       "      <th>4</th>\n",
       "      <td>2</td>\n",
       "      <td>96</td>\n",
       "      <td>1342.0</td>\n",
       "      <td>2_96</td>\n",
       "      <td>735</td>\n",
       "      <td>Fleetwood Mac</td>\n",
       "      <td>70s</td>\n",
       "      <td>72</td>\n",
       "      <td>52</td>\n",
       "    </tr>\n",
       "  </tbody>\n",
       "</table>\n",
       "</div>"
      ],
      "text/plain": [
       "   userID  artistID   weight user_artistID  tagID_new               name  \\\n",
       "0       2        52  11690.0          2_52         13          Morcheeba   \n",
       "1       2        63   3735.0          2_63         23             Enigma   \n",
       "2       2        73   2584.0          2_73         13       Café Del Mar   \n",
       "3       2        94   1373.0          2_94         15  Ministry of Sound   \n",
       "4       2        96   1342.0          2_96        735      Fleetwood Mac   \n",
       "\n",
       "    tagValue  tagCnt  tagRank  \n",
       "0   chillout      62       61  \n",
       "1    new age      50       71  \n",
       "2   chillout      62       61  \n",
       "3  downtempo     122       38  \n",
       "4        70s      72       52  "
      ]
     },
     "execution_count": 40,
     "metadata": {},
     "output_type": "execute_result"
    }
   ],
   "source": [
    "df.head()"
   ]
  },
  {
   "cell_type": "code",
   "execution_count": 41,
   "metadata": {
    "slideshow": {
     "slide_type": "skip"
    }
   },
   "outputs": [],
   "source": [
    "# BACKUP df\n",
    "#df_orig = df.copy()"
   ]
  },
  {
   "cell_type": "code",
   "execution_count": 42,
   "metadata": {
    "slideshow": {
     "slide_type": "skip"
    }
   },
   "outputs": [],
   "source": [
    "# GET ALL DATA FOR JUST THE TOP 3 TAG RANKINGS INTO A DATAFRAME:  POP, ROCK, ALTERNATIVE\n",
    "# PURPOSE IS TO REDUCE SIZE OF FEATURES AND USERS\n",
    "df = df[df['tagRank']<=3]"
   ]
  },
  {
   "cell_type": "code",
   "execution_count": 43,
   "metadata": {
    "slideshow": {
     "slide_type": "skip"
    }
   },
   "outputs": [],
   "source": [
    "# PREPARE TO CREATE A PERCENT RANK  \n",
    "# EACH GENRE WILL BE A PERCENTAGE OF TOTAL  \n",
    "# ZERO SUM, MEANING A CUMULATIVE TYPE RANKING WHICH SUMS TO 1  \n",
    "# HAVE THREE GROUPS, LISTENERS HAVE LISTENED TO AT LEAST ONE\n",
    "# RANK % OF LISTEN ACROSS GROUPS, WITH RESPECT TO OVERALL NUMBER OF LISTENS FOR ALL GROUPS\n",
    "# INITIALIZE 0.00\n",
    "df_user_genre=pd.DataFrame()\n",
    "df_user_genre['userID']=df['userID'].unique()\n",
    "df_user_genre['cum_weight']=0.00\n",
    "df_user_genre['cum_rank']=0.00"
   ]
  },
  {
   "cell_type": "code",
   "execution_count": 44,
   "metadata": {
    "slideshow": {
     "slide_type": "skip"
    }
   },
   "outputs": [
    {
     "name": "stdout",
     "output_type": "stream",
     "text": [
      "['alternative']\n"
     ]
    }
   ],
   "source": [
    "# CHECK TAGS FOR AN USER\n",
    "user_num = 10\n",
    "tags = df[df['userID']==user_num]['tagValue'].unique()\n",
    "print(tags)"
   ]
  },
  {
   "cell_type": "code",
   "execution_count": 45,
   "metadata": {
    "slideshow": {
     "slide_type": "skip"
    }
   },
   "outputs": [],
   "source": [
    "# MAKE % FEATURE CATEGORIES SO CAN USE FOR K-MEANS CLUSTERING, DO IN df_user_genre\n",
    "for i in df['tagValue'].unique(): \n",
    "    pctID = i + '_%'\n",
    "    df_user_genre[pctID] = 0.00\n",
    "for i in df['tagValue'].unique(): \n",
    "    df_user_genre[i]     = 0.00"
   ]
  },
  {
   "cell_type": "code",
   "execution_count": 46,
   "metadata": {
    "slideshow": {
     "slide_type": "skip"
    }
   },
   "outputs": [],
   "source": [
    "# NORMALIZE DATA USING %\n",
    "# POPULATE FIELDS WITH PERCENTAGES SO DATA IS NORMALIZED PRIOR TO KMEANS AND CLUSTERING\n",
    "idx=0\n",
    "\n",
    "for i in df['userID'].unique():\n",
    "    cum_weight=0\n",
    "    \n",
    "    # GET UNIQUE TAGS WITHIN EACH USER\n",
    "    # COUNT TAGS\n",
    "    for j in df[df['userID']==i]['tagValue'].unique():\n",
    "        wgt=df[(df['tagValue'] == j) & (df['userID'] == i)]['weight'].sum()\n",
    "        df_user_genre.at[idx,j]= wgt\n",
    "        cum_weight+=wgt\n",
    "    \n",
    "    df_user_genre.at[idx,'cum_weight'] = cum_weight\n",
    "    \n",
    "    for j in df[df['userID']==i]['tagValue'].unique():\n",
    "        wgt=df[(df['tagValue'] == j) & (df['userID'] == i)]['weight'].sum()\n",
    "        pct_wgt = wgt/cum_weight\n",
    "        string = j + \"_%\"\n",
    "        rank_col = string\n",
    "        df_user_genre.at[idx,rank_col] = pct_wgt\n",
    "    idx+=1"
   ]
  },
  {
   "cell_type": "code",
   "execution_count": 47,
   "metadata": {
    "slideshow": {
     "slide_type": "skip"
    }
   },
   "outputs": [],
   "source": [
    "# CREATE A DATAFRAME WITH USER WHO LISTEN TO ALL THREE CATEGORIES\n",
    "#df_user_genre[(df_user_genre['pop']>0) & (df_user_genre['rock']>0) & (df_user_genre['indie']>0)].count()"
   ]
  },
  {
   "cell_type": "code",
   "execution_count": 48,
   "metadata": {
    "slideshow": {
     "slide_type": "slide"
    }
   },
   "outputs": [
    {
     "data": {
      "text/html": [
       "<div>\n",
       "<style scoped>\n",
       "    .dataframe tbody tr th:only-of-type {\n",
       "        vertical-align: middle;\n",
       "    }\n",
       "\n",
       "    .dataframe tbody tr th {\n",
       "        vertical-align: top;\n",
       "    }\n",
       "\n",
       "    .dataframe thead th {\n",
       "        text-align: right;\n",
       "    }\n",
       "</style>\n",
       "<table border=\"1\" class=\"dataframe\">\n",
       "  <thead>\n",
       "    <tr style=\"text-align: right;\">\n",
       "      <th></th>\n",
       "      <th>userID</th>\n",
       "      <th>artistID</th>\n",
       "      <th>weight</th>\n",
       "      <th>user_artistID</th>\n",
       "      <th>tagID_new</th>\n",
       "      <th>name</th>\n",
       "      <th>tagValue</th>\n",
       "      <th>tagCnt</th>\n",
       "      <th>tagRank</th>\n",
       "    </tr>\n",
       "  </thead>\n",
       "  <tbody>\n",
       "    <tr>\n",
       "      <th>22</th>\n",
       "      <td>4</td>\n",
       "      <td>154</td>\n",
       "      <td>826.0</td>\n",
       "      <td>4_154</td>\n",
       "      <td>79</td>\n",
       "      <td>Radiohead</td>\n",
       "      <td>alternative</td>\n",
       "      <td>869</td>\n",
       "      <td>3</td>\n",
       "    </tr>\n",
       "    <tr>\n",
       "      <th>23</th>\n",
       "      <td>4</td>\n",
       "      <td>156</td>\n",
       "      <td>743.0</td>\n",
       "      <td>4_156</td>\n",
       "      <td>79</td>\n",
       "      <td>VAST</td>\n",
       "      <td>alternative</td>\n",
       "      <td>869</td>\n",
       "      <td>3</td>\n",
       "    </tr>\n",
       "    <tr>\n",
       "      <th>24</th>\n",
       "      <td>4</td>\n",
       "      <td>157</td>\n",
       "      <td>732.0</td>\n",
       "      <td>4_157</td>\n",
       "      <td>24</td>\n",
       "      <td>Michael Jackson</td>\n",
       "      <td>pop</td>\n",
       "      <td>2206</td>\n",
       "      <td>1</td>\n",
       "    </tr>\n",
       "    <tr>\n",
       "      <th>31</th>\n",
       "      <td>4</td>\n",
       "      <td>171</td>\n",
       "      <td>359.0</td>\n",
       "      <td>4_171</td>\n",
       "      <td>73</td>\n",
       "      <td>Stereophonics</td>\n",
       "      <td>rock</td>\n",
       "      <td>1146</td>\n",
       "      <td>2</td>\n",
       "    </tr>\n",
       "    <tr>\n",
       "      <th>32</th>\n",
       "      <td>4</td>\n",
       "      <td>173</td>\n",
       "      <td>292.0</td>\n",
       "      <td>4_173</td>\n",
       "      <td>79</td>\n",
       "      <td>Placebo</td>\n",
       "      <td>alternative</td>\n",
       "      <td>869</td>\n",
       "      <td>3</td>\n",
       "    </tr>\n",
       "  </tbody>\n",
       "</table>\n",
       "</div>"
      ],
      "text/plain": [
       "    userID  artistID  weight user_artistID  tagID_new             name  \\\n",
       "22       4       154   826.0         4_154         79        Radiohead   \n",
       "23       4       156   743.0         4_156         79             VAST   \n",
       "24       4       157   732.0         4_157         24  Michael Jackson   \n",
       "31       4       171   359.0         4_171         73    Stereophonics   \n",
       "32       4       173   292.0         4_173         79          Placebo   \n",
       "\n",
       "       tagValue  tagCnt  tagRank  \n",
       "22  alternative     869        3  \n",
       "23  alternative     869        3  \n",
       "24          pop    2206        1  \n",
       "31         rock    1146        2  \n",
       "32  alternative     869        3  "
      ]
     },
     "execution_count": 48,
     "metadata": {},
     "output_type": "execute_result"
    }
   ],
   "source": [
    "# PRIMARY DATA FRAME CONTENT AFTER PREPROCESSING\n",
    "df.head()"
   ]
  },
  {
   "cell_type": "code",
   "execution_count": 49,
   "metadata": {
    "slideshow": {
     "slide_type": "slide"
    }
   },
   "outputs": [
    {
     "data": {
      "text/html": [
       "<div>\n",
       "<style scoped>\n",
       "    .dataframe tbody tr th:only-of-type {\n",
       "        vertical-align: middle;\n",
       "    }\n",
       "\n",
       "    .dataframe tbody tr th {\n",
       "        vertical-align: top;\n",
       "    }\n",
       "\n",
       "    .dataframe thead th {\n",
       "        text-align: right;\n",
       "    }\n",
       "</style>\n",
       "<table border=\"1\" class=\"dataframe\">\n",
       "  <thead>\n",
       "    <tr style=\"text-align: right;\">\n",
       "      <th></th>\n",
       "      <th>userID</th>\n",
       "      <th>cum_weight</th>\n",
       "      <th>cum_rank</th>\n",
       "      <th>alternative_%</th>\n",
       "      <th>pop_%</th>\n",
       "      <th>rock_%</th>\n",
       "      <th>alternative</th>\n",
       "      <th>pop</th>\n",
       "      <th>rock</th>\n",
       "    </tr>\n",
       "  </thead>\n",
       "  <tbody>\n",
       "    <tr>\n",
       "      <th>0</th>\n",
       "      <td>4</td>\n",
       "      <td>3892.0</td>\n",
       "      <td>0.0</td>\n",
       "      <td>0.478160</td>\n",
       "      <td>0.367934</td>\n",
       "      <td>0.153905</td>\n",
       "      <td>1861.0</td>\n",
       "      <td>1432.0</td>\n",
       "      <td>599.0</td>\n",
       "    </tr>\n",
       "    <tr>\n",
       "      <th>1</th>\n",
       "      <td>5</td>\n",
       "      <td>1302.0</td>\n",
       "      <td>0.0</td>\n",
       "      <td>0.849462</td>\n",
       "      <td>0.000000</td>\n",
       "      <td>0.150538</td>\n",
       "      <td>1106.0</td>\n",
       "      <td>0.0</td>\n",
       "      <td>196.0</td>\n",
       "    </tr>\n",
       "    <tr>\n",
       "      <th>2</th>\n",
       "      <td>7</td>\n",
       "      <td>43864.0</td>\n",
       "      <td>0.0</td>\n",
       "      <td>0.000000</td>\n",
       "      <td>1.000000</td>\n",
       "      <td>0.000000</td>\n",
       "      <td>0.0</td>\n",
       "      <td>43864.0</td>\n",
       "      <td>0.0</td>\n",
       "    </tr>\n",
       "    <tr>\n",
       "      <th>3</th>\n",
       "      <td>8</td>\n",
       "      <td>402.0</td>\n",
       "      <td>0.0</td>\n",
       "      <td>0.000000</td>\n",
       "      <td>1.000000</td>\n",
       "      <td>0.000000</td>\n",
       "      <td>0.0</td>\n",
       "      <td>402.0</td>\n",
       "      <td>0.0</td>\n",
       "    </tr>\n",
       "    <tr>\n",
       "      <th>4</th>\n",
       "      <td>9</td>\n",
       "      <td>1149.0</td>\n",
       "      <td>0.0</td>\n",
       "      <td>0.232376</td>\n",
       "      <td>0.000000</td>\n",
       "      <td>0.767624</td>\n",
       "      <td>267.0</td>\n",
       "      <td>0.0</td>\n",
       "      <td>882.0</td>\n",
       "    </tr>\n",
       "  </tbody>\n",
       "</table>\n",
       "</div>"
      ],
      "text/plain": [
       "   userID  cum_weight  cum_rank  alternative_%     pop_%    rock_%  \\\n",
       "0       4      3892.0       0.0       0.478160  0.367934  0.153905   \n",
       "1       5      1302.0       0.0       0.849462  0.000000  0.150538   \n",
       "2       7     43864.0       0.0       0.000000  1.000000  0.000000   \n",
       "3       8       402.0       0.0       0.000000  1.000000  0.000000   \n",
       "4       9      1149.0       0.0       0.232376  0.000000  0.767624   \n",
       "\n",
       "   alternative      pop   rock  \n",
       "0       1861.0   1432.0  599.0  \n",
       "1       1106.0      0.0  196.0  \n",
       "2          0.0  43864.0    0.0  \n",
       "3          0.0    402.0    0.0  \n",
       "4        267.0      0.0  882.0  "
      ]
     },
     "execution_count": 49,
     "metadata": {},
     "output_type": "execute_result"
    }
   ],
   "source": [
    "# ANOTHER SIGNIFICANT DATA FRAME WITH % RANKINGS NORMALIZED BETWEEN 0 AND 1 INCLUSIVE\n",
    "# WEIGHT IS NUMBER OF LISTENING EVENTS, % IS PERCENT OF GENRE TO TOTAL\n",
    "df_user_genre.head()"
   ]
  },
  {
   "cell_type": "code",
   "execution_count": 50,
   "metadata": {
    "slideshow": {
     "slide_type": "skip"
    }
   },
   "outputs": [
    {
     "data": {
      "text/plain": [
       "userID           0.0\n",
       "cum_weight       0.0\n",
       "cum_rank         0.0\n",
       "alternative_%    0.0\n",
       "pop_%            0.0\n",
       "rock_%           0.0\n",
       "alternative      0.0\n",
       "pop              0.0\n",
       "rock             0.0\n",
       "dtype: float64"
      ]
     },
     "execution_count": 50,
     "metadata": {},
     "output_type": "execute_result"
    }
   ],
   "source": [
    "df_user_genre.isnull().mean()"
   ]
  },
  {
   "cell_type": "code",
   "execution_count": 51,
   "metadata": {
    "slideshow": {
     "slide_type": "skip"
    }
   },
   "outputs": [],
   "source": [
    "#df_user_genre = df_user_genre.dropna()"
   ]
  },
  {
   "cell_type": "code",
   "execution_count": 52,
   "metadata": {
    "slideshow": {
     "slide_type": "skip"
    }
   },
   "outputs": [],
   "source": [
    "df_user_genre['cum_rank']=df_user_genre['cum_weight']/df_user_genre['cum_weight'].sum()"
   ]
  },
  {
   "cell_type": "markdown",
   "metadata": {
    "slideshow": {
     "slide_type": "skip"
    }
   },
   "source": [
    "### K-Means  \n",
    "Data prerequisites for k-means:\n",
    "In order to successfully apply k-means to clustering problems, there are three prerequisites the data must meet. If you apply k-means to data that does not meet these assumptions, you will get incorrect, unintuitive results.\n",
    "\n",
    "1. Cluster number is k K-means assumes that the correct cluster number is k. Since we provide the value of k to k-means, we need to determine the best value. However, most of the time determining k is not trivial and we need to run k-means with several k values and choose the one that makes most sense to us. \n",
    "\n",
    "2. Clusters are isotropic K-means assumes that the underlying \"true\" clusters are radially symmetrical (isotropic), meaning that they are uniform in all directions and the edges curve outward. If this assumption fails, k-means would come up with unuseful clusters. \n",
    "\n",
    "3. Similar variance K-means also assumes all clusters have similar variance.\n",
    "\n",
    "The outcome of k-means can be sensitive to the scale of the data. Normalizing each variable is a common practice before applying k-means.\n",
    "\n",
    "The results depend on the value of k. So, choosing the correct k is essential for the algorithm to find the correct clusters. "
   ]
  },
  {
   "cell_type": "code",
   "execution_count": 53,
   "metadata": {
    "slideshow": {
     "slide_type": "skip"
    }
   },
   "outputs": [
    {
     "data": {
      "image/png": "[encoded data removed]",
      "text/plain": [
       "<Figure size 432x288 with 1 Axes>"
      ]
     },
     "metadata": {
      "needs_background": "light"
     },
     "output_type": "display_data"
    }
   ],
   "source": [
    "# CREATE ARRAY FOR PERCENTAGE WEIGHT RANK FOR JUST POP AND ROCK GENRES\n",
    "X = df_user_genre.loc[:,['pop_%','rock_%']].values\n",
    "\n",
    "# VISUALIZE NORMALIZED DATA WITH SCATTER PLOT\n",
    "plt.scatter(X[:,0], X[:,1], s = 100, edgecolors='black', marker='o')\n",
    "plt.title('Genre - Cumulative Ranking by Listener')\n",
    "plt.xlabel('pop_%')\n",
    "plt.ylabel('rock_%')\n",
    "plt.show()"
   ]
  },
  {
   "cell_type": "code",
   "execution_count": 54,
   "metadata": {
    "slideshow": {
     "slide_type": "skip"
    }
   },
   "outputs": [
    {
     "data": {
      "text/plain": [
       "(1054, 9)"
      ]
     },
     "execution_count": 54,
     "metadata": {},
     "output_type": "execute_result"
    }
   ],
   "source": [
    "df_user_genre.shape"
   ]
  },
  {
   "cell_type": "code",
   "execution_count": 55,
   "metadata": {
    "slideshow": {
     "slide_type": "skip"
    }
   },
   "outputs": [
    {
     "data": {
      "text/plain": [
       "(1054, 2)"
      ]
     },
     "execution_count": 55,
     "metadata": {},
     "output_type": "execute_result"
    }
   ],
   "source": [
    "X.shape"
   ]
  },
  {
   "cell_type": "code",
   "execution_count": 56,
   "metadata": {
    "slideshow": {
     "slide_type": "slide"
    }
   },
   "outputs": [
    {
     "data": {
      "image/png": "[encoded data removed]",
      "text/plain": [
       "<Figure size 432x288 with 1 Axes>"
      ]
     },
     "metadata": {
      "needs_background": "light"
     },
     "output_type": "display_data"
    }
   ],
   "source": [
    "# DETERMINE OPTIMAL CLUSTER NUMBER \n",
    "# ELBOW METHOD -> WITHIN CLUSTER SUM OF SQUARES (WCSS)\n",
    "wcss = []\n",
    "for i in range(1,11):\n",
    "    kmeans = KMeans(n_clusters = i, init = 'random', max_iter = 300,\n",
    "                    n_init = 10, random_state = 42)\n",
    "    kmeans.fit(X)\n",
    "    wcss.append(kmeans.inertia_)\n",
    "plt.plot(range(1,11), wcss)\n",
    "plt.title('Elbow Method')\n",
    "plt.xlabel('# Clusters')\n",
    "plt.ylabel('WCSS')\n",
    "plt.show()"
   ]
  },
  {
   "cell_type": "code",
   "execution_count": 57,
   "metadata": {
    "slideshow": {
     "slide_type": "slide"
    }
   },
   "outputs": [
    {
     "name": "stdout",
     "output_type": "stream",
     "text": [
      "Silhouette score for two   cluster k-means:\t 0.667561317774461\n",
      "Silhouette score for three cluster k-means:\t 0.7287082551855586\n",
      "Silhouette score for four  cluster k-means:\t 0.735636152385852\n",
      "Silhouette score for five  cluster k-means:\t 0.7415966546972222\n"
     ]
    }
   ],
   "source": [
    "pred_2 = KMeans(n_clusters=2, random_state=42).fit_predict(X)\n",
    "pred_3 = KMeans(n_clusters=3, random_state=42).fit_predict(X)\n",
    "pred_4 = KMeans(n_clusters=4, random_state=42).fit_predict(X)\n",
    "pred_5 = KMeans(n_clusters=5, random_state=42).fit_predict(X)\n",
    "pred_6 = KMeans(n_clusters=6, random_state=42).fit_predict(X)\n",
    "\n",
    "print(\"Silhouette score for two   cluster k-means:\\t {}\".format(\n",
    "    metrics.silhouette_score(X, pred_2, metric='euclidean')))\n",
    "print(\"Silhouette score for three cluster k-means:\\t {}\".format(\n",
    "    metrics.silhouette_score(X, pred_3, metric='euclidean')))\n",
    "print(\"Silhouette score for four  cluster k-means:\\t {}\".format(\n",
    "    metrics.silhouette_score(X, pred_4, metric='euclidean')))\n",
    "print(\"Silhouette score for five  cluster k-means:\\t {}\".format(\n",
    "    metrics.silhouette_score(X, pred_5, metric='euclidean')))\n",
    "\n",
    "# SILHOUETTE INCREASES WITH CLUSTERS"
   ]
  },
  {
   "cell_type": "markdown",
   "metadata": {},
   "source": [
    "#### K-Means analysis.\n",
    "Elbow method suggests three as the best cluster number.\n",
    "Silhouette score rises with each cluster, but starts to level off at three supporting the general reasoning behind the elbow method which is choose number of clusters when WCSS starts to level off.  "
   ]
  },
  {
   "cell_type": "markdown",
   "metadata": {
    "slideshow": {
     "slide_type": "skip"
    }
   },
   "source": [
    "#### Agglomerative Clustering\n",
    "Ward: The Ward method tends to look for spherical clusters such that the clusters are cohesive inside and differentiated from other groups. In general, this method tends to find clusters of similar size. Note that the Ward method only works with Euclidean distance.  \n",
    "\n",
    "Complete: The Complete method links clusters using their furthest observations, that is, their most dissimilar data points. Consequently, clusters created using this method tend to be comprised of highly similar observations, making the resulting groups quite compact.  \n",
    "\n",
    "Average: The Average method links clusters using their centroids. Since this method focuses on centroids and ignoring the boundary points, it tends to create larger groups than the complete method. Moreover, the clusters can be different sizes and shapes in contrast to the Ward method.  "
   ]
  },
  {
   "cell_type": "code",
   "execution_count": 58,
   "metadata": {
    "slideshow": {
     "slide_type": "skip"
    }
   },
   "outputs": [],
   "source": [
    "agg_cluster1 = AgglomerativeClustering(linkage='complete', \n",
    "                                      affinity='euclidean',\n",
    "                                      n_clusters=3)\n",
    "clusters1 = agg_cluster1.fit_predict(X)\n",
    "\n",
    "agg_cluster2 = AgglomerativeClustering(linkage='average', \n",
    "                                      affinity='euclidean',\n",
    "                                      n_clusters=3)\n",
    "clusters2 = agg_cluster2.fit_predict(X)\n",
    "\n",
    "agg_cluster3 = AgglomerativeClustering(linkage='ward', \n",
    "                                      affinity='euclidean',\n",
    "                                      n_clusters=3)\n",
    "clusters3 = agg_cluster3.fit_predict(X)\n",
    "\n",
    "agg_cluster4 = AgglomerativeClustering(linkage='complete', \n",
    "                                      affinity='manhattan',\n",
    "                                      n_clusters=3)\n",
    "clusters4 = agg_cluster4.fit_predict(X)\n",
    "\n",
    "agg_cluster5 = AgglomerativeClustering(linkage='average', \n",
    "                                      affinity='manhattan',\n",
    "                                      n_clusters=3)\n",
    "clusters5 = agg_cluster5.fit_predict(X)"
   ]
  },
  {
   "cell_type": "code",
   "execution_count": 59,
   "metadata": {
    "slideshow": {
     "slide_type": "slide"
    }
   },
   "outputs": [
    {
     "name": "stdout",
     "output_type": "stream",
     "text": [
      "Silhoutte - metric = euclidean, linkage = complete :\t 0.6921475646630343\n",
      "Silhoutte - metric = euclidean, linkage = average:\t 0.7272870989454674\n",
      "Silhoutte - metric = euclidean, linkage = ward:\t\t 0.6389041120246003\n",
      "Silhoutte - metric = manhattan, linkage = complete:\t 0.6863754253748112\n",
      "Silhoutte - metric = manhattan, linkage = average:\t 0.7001394540474729\n",
      "Silhoutte - metric = cosine, linkage = complete:\t 0.5840345475806079\n",
      "Silhoutte - metric = cosine, linkage = average:\t\t 0.508603905012469\n"
     ]
    }
   ],
   "source": [
    "print(\"Silhoutte - metric = euclidean, linkage = complete :\\t {}\"\n",
    "      .format(metrics.silhouette_score(X, clusters1, metric='euclidean')))\n",
    "\n",
    "print(\"Silhoutte - metric = euclidean, linkage = average:\\t {}\"\n",
    "      .format(metrics.silhouette_score(X, clusters2, metric='euclidean')))\n",
    "\n",
    "print(\"Silhoutte - metric = euclidean, linkage = ward:\\t\\t {}\"\n",
    "      .format(metrics.silhouette_score(X, clusters3, metric='euclidean')))\n",
    "\n",
    "print(\"Silhoutte - metric = manhattan, linkage = complete:\\t {}\"\n",
    "      .format(metrics.silhouette_score(X, clusters4, metric='manhattan')))\n",
    "\n",
    "print(\"Silhoutte - metric = manhattan, linkage = average:\\t {}\"\n",
    "      .format(metrics.silhouette_score(X, clusters5, metric='manhattan')))\n",
    "\n",
    "print(\"Silhoutte - metric = cosine, linkage = complete:\\t {}\"\n",
    "      .format(metrics.silhouette_score(X, clusters4, metric='cosine')))\n",
    "\n",
    "print(\"Silhoutte - metric = cosine, linkage = average:\\t\\t {}\"\n",
    "      .format(metrics.silhouette_score(X, clusters5, metric='cosine')))\n",
    "\n",
    "# EUCLIDEAN BEST DISTANCE, WARD BEST LINKAGE"
   ]
  },
  {
   "cell_type": "code",
   "execution_count": 60,
   "metadata": {
    "slideshow": {
     "slide_type": "slide"
    }
   },
   "outputs": [
    {
     "data": {
      "image/png": "[encoded data removed]",
      "text/plain": [
       "<Figure size 1440x720 with 1 Axes>"
      ]
     },
     "metadata": {
      "needs_background": "light"
     },
     "output_type": "display_data"
    }
   ],
   "source": [
    "plt.figure(figsize=(20,10))\n",
    "dendrogram(linkage(X, method='ward'))\n",
    "plt.show()\n",
    "# TWO CLUSTERS ARE CHOSEN, BUT THREE ARE NOTICEABLE"
   ]
  },
  {
   "cell_type": "markdown",
   "metadata": {},
   "source": [
    "#### Agglomerative clustering analysis\n",
    "Two clusters are chosen.   \n",
    "Ward is best \"method\".  "
   ]
  },
  {
   "cell_type": "markdown",
   "metadata": {
    "slideshow": {
     "slide_type": "skip"
    }
   },
   "source": [
    "### GMM\n",
    "There are two important assumptions that GMM makes:\n",
    "\n",
    "The first one is that there are k distributions that generate the data. In effect, this is equivalent to say that there are exactly k clusters in the data.\n",
    "\n",
    "The other assumption is that all of these k distributions are Gaussians. However, GMM doesn't put constraints on the parameters of these Gaussians but estimates them such that the likelihood of the data being generated by these k Gaussians is maximized.\n",
    "\n",
    "GMM implementation of scikit-learn has a parameter called covariance_type. This parameter determines the type of covariance parameters to use. Specifically, there are four types you can specify:\n",
    "\n",
    "full: This is the default. Each component has its own general covariance matrix.    \n",
    "tied: All components share the same general covariance matrix.  \n",
    "diag: Each component has its own diagonal covariance matrix.  \n",
    "spherical: Each component has its own single variance.      \n",
    "\n",
    "Full: means the components may independently adopt any position and shape.  \n",
    "Tied: means they have the same shape, but the shape may be anything.  \n",
    "Diagonal: means the contour axes are oriented along the coordinate axes, but otherwise the eccentricities may vary between components.  \n",
    "Tied Diagonal: is a \"tied\" situation where the contour axes are oriented along the coordinate axes. (I have added this because initially it was how I misinterpreted \"diagonal.\")  \n",
    "Spherical: is a \"diagonal\" situation with circular contours (spherical in higher dimensions, whence the name).  "
   ]
  },
  {
   "cell_type": "code",
   "execution_count": 61,
   "metadata": {
    "slideshow": {
     "slide_type": "skip"
    }
   },
   "outputs": [
    {
     "name": "stdout",
     "output_type": "stream",
     "text": [
      "Silhoutte - GMM n_components = 3, covariance_type = full:\t\t 0.402\n",
      "Silhoutte - GMM n_components = 3, covariance_type = tied:\t\t 0.725\n",
      "Silhoutte - GMM n_components = 3, covariance_type = diag:\t\t 0.402\n",
      "Silhoutte - GMM n_components = 3, covariance_type = spherical:\t\t 0.465\n",
      "Silhoutte - GMM n_components = 4, covariance_type = full:\t\t 0.489\n",
      "Silhoutte - GMM n_components = 4, covariance_type = tied:\t\t 0.734\n",
      "Silhoutte - GMM n_components = 4, covariance_type = diag:\t\t 0.468\n",
      "Silhoutte - GMM n_components = 4, covariance_type = spherical:\t\t 0.444\n"
     ]
    }
   ],
   "source": [
    "from matplotlib.patches import Ellipse\n",
    "from sklearn.mixture import GaussianMixture\n",
    "\n",
    "gmm_cluster = GaussianMixture(n_components=3, random_state=42, covariance_type='full')\n",
    "clusters = gmm_cluster.fit_predict(X)\n",
    "print(\"Silhoutte - GMM n_components = 3, covariance_type = full:\\t\\t {:.3f}\"\n",
    "      .format(metrics.silhouette_score(X, clusters, metric='euclidean')))\n",
    "\n",
    "gmm_cluster = GaussianMixture(n_components=3, random_state=42, covariance_type='tied')\n",
    "clusters = gmm_cluster.fit_predict(X)\n",
    "print(\"Silhoutte - GMM n_components = 3, covariance_type = tied:\\t\\t {:.3f}\"\n",
    "      .format(metrics.silhouette_score(X, clusters, metric='euclidean')))\n",
    "\n",
    "gmm_cluster = GaussianMixture(n_components=3, random_state=42, covariance_type='diag')\n",
    "clusters = gmm_cluster.fit_predict(X)\n",
    "print(\"Silhoutte - GMM n_components = 3, covariance_type = diag:\\t\\t {:.3f}\"\n",
    "      .format(metrics.silhouette_score(X, clusters, metric='euclidean')))\n",
    "\n",
    "gmm_cluster = GaussianMixture(n_components=3, random_state=42, covariance_type='spherical')\n",
    "clusters = gmm_cluster.fit_predict(X)\n",
    "print(\"Silhoutte - GMM n_components = 3, covariance_type = spherical:\\t\\t {:.3f}\"\n",
    "      .format(metrics.silhouette_score(X, clusters, metric='euclidean')))\n",
    "\n",
    "gmm_cluster = GaussianMixture(n_components=4, random_state=42, covariance_type='full')\n",
    "clusters = gmm_cluster.fit_predict(X)\n",
    "print(\"Silhoutte - GMM n_components = 4, covariance_type = full:\\t\\t {:.3f}\"\n",
    "      .format(metrics.silhouette_score(X, clusters, metric='euclidean')))\n",
    "\n",
    "gmm_cluster = GaussianMixture(n_components=4, random_state=42, covariance_type='tied')\n",
    "clusters = gmm_cluster.fit_predict(X)\n",
    "print(\"Silhoutte - GMM n_components = 4, covariance_type = tied:\\t\\t {:.3f}\"\n",
    "      .format(metrics.silhouette_score(X, clusters, metric='euclidean')))\n",
    "\n",
    "gmm_cluster = GaussianMixture(n_components=4, random_state=42, covariance_type='diag')\n",
    "clusters = gmm_cluster.fit_predict(X)\n",
    "print(\"Silhoutte - GMM n_components = 4, covariance_type = diag:\\t\\t {:.3f}\"\n",
    "      .format(metrics.silhouette_score(X, clusters, metric='euclidean')))\n",
    "\n",
    "gmm_cluster = GaussianMixture(n_components=4, random_state=42, covariance_type='spherical')\n",
    "clusters = gmm_cluster.fit_predict(X)\n",
    "print(\"Silhoutte - GMM n_components = 4, covariance_type = spherical:\\t\\t {:.3f}\"\n",
    "      .format(metrics.silhouette_score(X, clusters, metric='euclidean')))\n",
    "\n",
    "# TIED (SAME SHAPE) COVARIANCE TYPE BEST PERFORMER WITH THREE COMPONENTS"
   ]
  },
  {
   "cell_type": "markdown",
   "metadata": {},
   "source": [
    "#### GMM Analysis\n",
    "Four outperforms three clusters across the board. But the highest ranked covariance type is tied."
   ]
  },
  {
   "cell_type": "markdown",
   "metadata": {
    "slideshow": {
     "slide_type": "slide"
    }
   },
   "source": [
    "#### Summary \n",
    "Three clusters are optimal.  \n",
    "K-Means chose three using WCSS, and is the best performing clustering algorithm based on siloutette score. \n",
    "Agglomerative, Ward performed the best. Chose two clusters.  \n",
    "GMM, chose four clusters, best performance came from tied covariance type (uniform shape).   "
   ]
  },
  {
   "cell_type": "markdown",
   "metadata": {
    "slideshow": {
     "slide_type": "skip"
    }
   },
   "source": [
    "### DIMENSION REDUCTION\n",
    "\n",
    "UMAP is fast and can handle large datasets with high-dimensional data. This is its core advantage against the t-SNE method. So, if you have a large high-dimensional data and want to visualize it, you should try UMAP first instead of t-SNE. Moreover, UMAP is usually better at preserving the global structure of the data than t-SNE. This means that it can provide a better \"big picture\" view of your data as well as preserving local neighbor similarities.\n",
    "\n",
    "Hyperparameters: UMAP supports a wide variety of distance metrics, including cosine and correlation distances. Hence, the quality of the lower-dimensional representation might be affected by the metric used. We should also specify the number of neighbors and the minimum distance parameters when applying UMAP. As usual, the best way to choose values for these hyperparameters is to apply k-fold cross-validation.\n",
    "\n",
    "Among the dimensionality reduction algorithms we cover in this module, PCA is the fastest then comes UMAP. So, if you are very time-constrained or your data isn't too complex, you should start with PCA. But if your data is complex like image, text or audio where non-linear relationship between the observations is the norm, then you should go with UMAP as it's more likely that UMAP would produce better representation of your data than PCA.\n",
    "\n",
    "UMAP minimizes the total cross-entropy using an optimization method like Stochastic Gradient Descent (SGD). This step is an iterative one and continues until convergence.\n",
    "\n",
    "Output does not appear to be deterministic, like t-SNE, as it changes from run to run. Cannot use in a model, for that use PCA."
   ]
  },
  {
   "cell_type": "code",
   "execution_count": 62,
   "metadata": {
    "slideshow": {
     "slide_type": "skip"
    }
   },
   "outputs": [],
   "source": [
    "#UNIFORM MANIFOLD APPROXIMATION AND PROJECTION\n",
    "import umap\n",
    "umap_results = umap.UMAP(metric='correlation').fit_transform(X)"
   ]
  },
  {
   "cell_type": "code",
   "execution_count": 63,
   "metadata": {
    "slideshow": {
     "slide_type": "slide"
    }
   },
   "outputs": [
    {
     "data": {
      "image/png": "[encoded data removed]",
      "text/plain": [
       "<Figure size 720x360 with 1 Axes>"
      ]
     },
     "metadata": {},
     "output_type": "display_data"
    }
   ],
   "source": [
    "# UMAP DIMENSION REDUCTION USING CORRELATION\n",
    "plt.figure(figsize=(10,5))\n",
    "plt.scatter(umap_results[:, 0], umap_results[:, 1])\n",
    "plt.xticks([])\n",
    "plt.yticks([])\n",
    "plt.axis('off')\n",
    "plt.show()\n",
    "\n",
    "# THREE DISTINCT CLUSTERS ARE NOTICEABLE"
   ]
  },
  {
   "cell_type": "code",
   "execution_count": 64,
   "metadata": {
    "slideshow": {
     "slide_type": "skip"
    }
   },
   "outputs": [],
   "source": [
    "# UMAP DIMENSION REDUCTION USING COSINE\n",
    "umap_results = umap.UMAP(metric='cosine').fit_transform(X)"
   ]
  },
  {
   "cell_type": "code",
   "execution_count": 65,
   "metadata": {
    "slideshow": {
     "slide_type": "skip"
    }
   },
   "outputs": [
    {
     "data": {
      "image/png": "[encoded data removed]",
      "text/plain": [
       "<Figure size 720x360 with 1 Axes>"
      ]
     },
     "metadata": {},
     "output_type": "display_data"
    }
   ],
   "source": [
    "plt.figure(figsize=(10,5))\n",
    "plt.scatter(umap_results[:, 0], umap_results[:, 1])\n",
    "plt.xticks([])\n",
    "plt.yticks([])\n",
    "plt.axis('off')\n",
    "plt.show()\n",
    "\n",
    "# NOT SURE HOW MANY CLUSTERS THIS MAY BE, DOESN'T APPEAR TO BE OF QUALITY"
   ]
  },
  {
   "cell_type": "code",
   "execution_count": 66,
   "metadata": {
    "slideshow": {
     "slide_type": "skip"
    }
   },
   "outputs": [],
   "source": [
    "umap_results = umap.UMAP(metric='euclidean').fit_transform(X)"
   ]
  },
  {
   "cell_type": "code",
   "execution_count": 67,
   "metadata": {
    "slideshow": {
     "slide_type": "slide"
    }
   },
   "outputs": [
    {
     "data": {
      "image/png": "[encoded data removed]",
      "text/plain": [
       "<Figure size 720x360 with 1 Axes>"
      ]
     },
     "metadata": {},
     "output_type": "display_data"
    }
   ],
   "source": [
    "# UMAP DIMENSION REDUCTION USING EUCLIDEAN DISTANCE\n",
    "plt.figure(figsize=(10,5))\n",
    "plt.scatter(umap_results[:, 0], umap_results[:, 1])\n",
    "plt.xticks([])\n",
    "plt.yticks([])\n",
    "plt.axis('off')\n",
    "plt.show()\n",
    "\n",
    "# AT LEAST FOUR CLUSTERS ARE NOTICEABLE."
   ]
  },
  {
   "cell_type": "markdown",
   "metadata": {
    "slideshow": {
     "slide_type": "slide"
    }
   },
   "source": [
    "### Summary - UMAP dimension reduction\n",
    "Correlation appears to give the best visualization using UMAP, yielding three clusters.\n",
    "Correlation has most uniform circular output.\n",
    "UMAP output changes with each run, not deterministic.  "
   ]
  },
  {
   "cell_type": "markdown",
   "metadata": {
    "slideshow": {
     "slide_type": "slide"
    }
   },
   "source": [
    "### Summary - Clustering and dimension reduction\n",
    "Three clusters appear to be the appropriate number of clusters as seen by the elbow method with K-Means.\n",
    "\n",
    "K = 3 is supported by dimension reduction UMAP visualization which has three distinct blobs.   "
   ]
  },
  {
   "cell_type": "code",
   "execution_count": 68,
   "metadata": {
    "scrolled": true,
    "slideshow": {
     "slide_type": "slide"
    }
   },
   "outputs": [
    {
     "data": {
      "image/png": "[encoded data removed]",
      "text/plain": [
       "<Figure size 432x288 with 1 Axes>"
      ]
     },
     "metadata": {
      "needs_background": "light"
     },
     "output_type": "display_data"
    }
   ],
   "source": [
    "# CHART 3 CLUSTERS \n",
    "kmeans = KMeans(n_clusters= 3, init= 'random', max_iter=300, n_init=10,\n",
    "                random_state=42)\n",
    "y_kmeans = kmeans.fit_predict(X)\n",
    "clusters = set(y_kmeans)\n",
    "colors = ['red', 'blue', 'magenta','grey']\n",
    "labels = ['Cluster {}'.format(i+1) for i in set(y_kmeans)]\n",
    "for clust, color, labels in zip(clusters, colors, labels):\n",
    "    plt.scatter(X[y_kmeans == clust, 0], X[y_kmeans == clust, 1], \n",
    "                s=100, c = color, label = labels, edgecolors='black')\n",
    "centroids = kmeans.cluster_centers_\n",
    "plt.scatter(centroids[:, 0], centroids[:, 1], s = 200, c = 'yellow', \n",
    "            label = 'Centroids', edgecolors='black', marker='s')\n",
    "plt.title('Genre: Cumulative Scoring by Listener')\n",
    "plt.xlabel('% pop')\n",
    "plt.ylabel('% rock')\n",
    "plt.legend()\n",
    "plt.show()"
   ]
  },
  {
   "cell_type": "code",
   "execution_count": 69,
   "metadata": {
    "slideshow": {
     "slide_type": "skip"
    }
   },
   "outputs": [],
   "source": [
    "# FIT KMEANS ALGORITHM\n",
    "kmeans = KMeans(n_clusters=3).fit(X)\n",
    "preds = kmeans.predict(X)\n",
    "\n",
    "# GET CENTROIDS\n",
    "centroids = kmeans.cluster_centers_"
   ]
  },
  {
   "cell_type": "code",
   "execution_count": 70,
   "metadata": {
    "slideshow": {
     "slide_type": "skip"
    }
   },
   "outputs": [
    {
     "data": {
      "text/html": [
       "<div>\n",
       "<style scoped>\n",
       "    .dataframe tbody tr th:only-of-type {\n",
       "        vertical-align: middle;\n",
       "    }\n",
       "\n",
       "    .dataframe tbody tr th {\n",
       "        vertical-align: top;\n",
       "    }\n",
       "\n",
       "    .dataframe thead th {\n",
       "        text-align: right;\n",
       "    }\n",
       "</style>\n",
       "<table border=\"1\" class=\"dataframe\">\n",
       "  <thead>\n",
       "    <tr style=\"text-align: right;\">\n",
       "      <th></th>\n",
       "      <th>0</th>\n",
       "      <th>1</th>\n",
       "      <th>2</th>\n",
       "    </tr>\n",
       "  </thead>\n",
       "  <tbody>\n",
       "    <tr>\n",
       "      <th>0</th>\n",
       "      <td>0.156428</td>\n",
       "      <td>1.248077</td>\n",
       "      <td>0.737094</td>\n",
       "    </tr>\n",
       "    <tr>\n",
       "      <th>1</th>\n",
       "      <td>1.245311</td>\n",
       "      <td>0.102287</td>\n",
       "      <td>0.874001</td>\n",
       "    </tr>\n",
       "    <tr>\n",
       "      <th>2</th>\n",
       "      <td>0.751004</td>\n",
       "      <td>0.894317</td>\n",
       "      <td>0.223732</td>\n",
       "    </tr>\n",
       "  </tbody>\n",
       "</table>\n",
       "</div>"
      ],
      "text/plain": [
       "          0         1         2\n",
       "0  0.156428  1.248077  0.737094\n",
       "1  1.245311  0.102287  0.874001\n",
       "2  0.751004  0.894317  0.223732"
      ]
     },
     "execution_count": 70,
     "metadata": {},
     "output_type": "execute_result"
    }
   ],
   "source": [
    "# DISTANCE FROM CENTROID\n",
    "\n",
    "from scipy.spatial import distance_matrix\n",
    "\n",
    "dist_mat = pd.DataFrame(distance_matrix(X, centroids))\n",
    "dist_mat.groupby(preds).mean()"
   ]
  },
  {
   "cell_type": "code",
   "execution_count": 71,
   "metadata": {
    "slideshow": {
     "slide_type": "skip"
    }
   },
   "outputs": [],
   "source": [
    "cluster_map = pd.DataFrame()\n",
    "cluster_map['data_index'] = df_user_genre.index.values\n",
    "cluster_map['cl_label'] = kmeans.labels_"
   ]
  },
  {
   "cell_type": "code",
   "execution_count": 72,
   "metadata": {
    "slideshow": {
     "slide_type": "skip"
    }
   },
   "outputs": [
    {
     "data": {
      "text/html": [
       "<div>\n",
       "<style scoped>\n",
       "    .dataframe tbody tr th:only-of-type {\n",
       "        vertical-align: middle;\n",
       "    }\n",
       "\n",
       "    .dataframe tbody tr th {\n",
       "        vertical-align: top;\n",
       "    }\n",
       "\n",
       "    .dataframe thead th {\n",
       "        text-align: right;\n",
       "    }\n",
       "</style>\n",
       "<table border=\"1\" class=\"dataframe\">\n",
       "  <thead>\n",
       "    <tr style=\"text-align: right;\">\n",
       "      <th></th>\n",
       "      <th>userID</th>\n",
       "      <th>cum_weight</th>\n",
       "      <th>cum_rank</th>\n",
       "      <th>alternative_%</th>\n",
       "      <th>pop_%</th>\n",
       "      <th>rock_%</th>\n",
       "      <th>alternative</th>\n",
       "      <th>pop</th>\n",
       "      <th>rock</th>\n",
       "      <th>cl_label</th>\n",
       "      <th>0</th>\n",
       "      <th>1</th>\n",
       "      <th>2</th>\n",
       "    </tr>\n",
       "  </thead>\n",
       "  <tbody>\n",
       "    <tr>\n",
       "      <th>0</th>\n",
       "      <td>4</td>\n",
       "      <td>3892.0</td>\n",
       "      <td>0.000371</td>\n",
       "      <td>0.478160</td>\n",
       "      <td>0.367934</td>\n",
       "      <td>0.153905</td>\n",
       "      <td>1861.0</td>\n",
       "      <td>1432.0</td>\n",
       "      <td>599.0</td>\n",
       "      <td>2</td>\n",
       "      <td>0.805781</td>\n",
       "      <td>0.589043</td>\n",
       "      <td>0.282943</td>\n",
       "    </tr>\n",
       "    <tr>\n",
       "      <th>1</th>\n",
       "      <td>5</td>\n",
       "      <td>1302.0</td>\n",
       "      <td>0.000124</td>\n",
       "      <td>0.849462</td>\n",
       "      <td>0.000000</td>\n",
       "      <td>0.150538</td>\n",
       "      <td>1106.0</td>\n",
       "      <td>0.0</td>\n",
       "      <td>196.0</td>\n",
       "      <td>2</td>\n",
       "      <td>0.740886</td>\n",
       "      <td>0.951928</td>\n",
       "      <td>0.085937</td>\n",
       "    </tr>\n",
       "    <tr>\n",
       "      <th>2</th>\n",
       "      <td>7</td>\n",
       "      <td>43864.0</td>\n",
       "      <td>0.004183</td>\n",
       "      <td>0.000000</td>\n",
       "      <td>1.000000</td>\n",
       "      <td>0.000000</td>\n",
       "      <td>0.0</td>\n",
       "      <td>43864.0</td>\n",
       "      <td>0.0</td>\n",
       "      <td>1</td>\n",
       "      <td>1.308692</td>\n",
       "      <td>0.065485</td>\n",
       "      <td>0.929181</td>\n",
       "    </tr>\n",
       "    <tr>\n",
       "      <th>3</th>\n",
       "      <td>8</td>\n",
       "      <td>402.0</td>\n",
       "      <td>0.000038</td>\n",
       "      <td>0.000000</td>\n",
       "      <td>1.000000</td>\n",
       "      <td>0.000000</td>\n",
       "      <td>0.0</td>\n",
       "      <td>402.0</td>\n",
       "      <td>0.0</td>\n",
       "      <td>1</td>\n",
       "      <td>1.308692</td>\n",
       "      <td>0.065485</td>\n",
       "      <td>0.929181</td>\n",
       "    </tr>\n",
       "    <tr>\n",
       "      <th>4</th>\n",
       "      <td>9</td>\n",
       "      <td>1149.0</td>\n",
       "      <td>0.000110</td>\n",
       "      <td>0.232376</td>\n",
       "      <td>0.000000</td>\n",
       "      <td>0.767624</td>\n",
       "      <td>267.0</td>\n",
       "      <td>0.0</td>\n",
       "      <td>882.0</td>\n",
       "      <td>0</td>\n",
       "      <td>0.129285</td>\n",
       "      <td>1.195403</td>\n",
       "      <td>0.611201</td>\n",
       "    </tr>\n",
       "  </tbody>\n",
       "</table>\n",
       "</div>"
      ],
      "text/plain": [
       "   userID  cum_weight  cum_rank  alternative_%     pop_%    rock_%  \\\n",
       "0       4      3892.0  0.000371       0.478160  0.367934  0.153905   \n",
       "1       5      1302.0  0.000124       0.849462  0.000000  0.150538   \n",
       "2       7     43864.0  0.004183       0.000000  1.000000  0.000000   \n",
       "3       8       402.0  0.000038       0.000000  1.000000  0.000000   \n",
       "4       9      1149.0  0.000110       0.232376  0.000000  0.767624   \n",
       "\n",
       "   alternative      pop   rock  cl_label         0         1         2  \n",
       "0       1861.0   1432.0  599.0         2  0.805781  0.589043  0.282943  \n",
       "1       1106.0      0.0  196.0         2  0.740886  0.951928  0.085937  \n",
       "2          0.0  43864.0    0.0         1  1.308692  0.065485  0.929181  \n",
       "3          0.0    402.0    0.0         1  1.308692  0.065485  0.929181  \n",
       "4        267.0      0.0  882.0         0  0.129285  1.195403  0.611201  "
      ]
     },
     "execution_count": 72,
     "metadata": {},
     "output_type": "execute_result"
    }
   ],
   "source": [
    "df_user_genre= pd.concat([df_user_genre, cluster_map['cl_label']], axis=1)\n",
    "df_user_genre= pd.concat([df_user_genre, dist_mat], axis=1)\n",
    "df_user_genre.head()"
   ]
  },
  {
   "cell_type": "code",
   "execution_count": 73,
   "metadata": {
    "slideshow": {
     "slide_type": "skip"
    }
   },
   "outputs": [
    {
     "data": {
      "text/html": [
       "<div>\n",
       "<style scoped>\n",
       "    .dataframe tbody tr th:only-of-type {\n",
       "        vertical-align: middle;\n",
       "    }\n",
       "\n",
       "    .dataframe tbody tr th {\n",
       "        vertical-align: top;\n",
       "    }\n",
       "\n",
       "    .dataframe thead th {\n",
       "        text-align: right;\n",
       "    }\n",
       "</style>\n",
       "<table border=\"1\" class=\"dataframe\">\n",
       "  <thead>\n",
       "    <tr style=\"text-align: right;\">\n",
       "      <th></th>\n",
       "      <th>userID</th>\n",
       "      <th>artistID</th>\n",
       "      <th>weight</th>\n",
       "      <th>user_artistID</th>\n",
       "      <th>tagID_new</th>\n",
       "      <th>name</th>\n",
       "      <th>tagValue</th>\n",
       "      <th>tagCnt</th>\n",
       "      <th>tagRank</th>\n",
       "    </tr>\n",
       "  </thead>\n",
       "  <tbody>\n",
       "    <tr>\n",
       "      <th>22</th>\n",
       "      <td>4</td>\n",
       "      <td>154</td>\n",
       "      <td>826.0</td>\n",
       "      <td>4_154</td>\n",
       "      <td>79</td>\n",
       "      <td>Radiohead</td>\n",
       "      <td>alternative</td>\n",
       "      <td>869</td>\n",
       "      <td>3</td>\n",
       "    </tr>\n",
       "    <tr>\n",
       "      <th>23</th>\n",
       "      <td>4</td>\n",
       "      <td>156</td>\n",
       "      <td>743.0</td>\n",
       "      <td>4_156</td>\n",
       "      <td>79</td>\n",
       "      <td>VAST</td>\n",
       "      <td>alternative</td>\n",
       "      <td>869</td>\n",
       "      <td>3</td>\n",
       "    </tr>\n",
       "    <tr>\n",
       "      <th>24</th>\n",
       "      <td>4</td>\n",
       "      <td>157</td>\n",
       "      <td>732.0</td>\n",
       "      <td>4_157</td>\n",
       "      <td>24</td>\n",
       "      <td>Michael Jackson</td>\n",
       "      <td>pop</td>\n",
       "      <td>2206</td>\n",
       "      <td>1</td>\n",
       "    </tr>\n",
       "    <tr>\n",
       "      <th>31</th>\n",
       "      <td>4</td>\n",
       "      <td>171</td>\n",
       "      <td>359.0</td>\n",
       "      <td>4_171</td>\n",
       "      <td>73</td>\n",
       "      <td>Stereophonics</td>\n",
       "      <td>rock</td>\n",
       "      <td>1146</td>\n",
       "      <td>2</td>\n",
       "    </tr>\n",
       "    <tr>\n",
       "      <th>32</th>\n",
       "      <td>4</td>\n",
       "      <td>173</td>\n",
       "      <td>292.0</td>\n",
       "      <td>4_173</td>\n",
       "      <td>79</td>\n",
       "      <td>Placebo</td>\n",
       "      <td>alternative</td>\n",
       "      <td>869</td>\n",
       "      <td>3</td>\n",
       "    </tr>\n",
       "  </tbody>\n",
       "</table>\n",
       "</div>"
      ],
      "text/plain": [
       "    userID  artistID  weight user_artistID  tagID_new             name  \\\n",
       "22       4       154   826.0         4_154         79        Radiohead   \n",
       "23       4       156   743.0         4_156         79             VAST   \n",
       "24       4       157   732.0         4_157         24  Michael Jackson   \n",
       "31       4       171   359.0         4_171         73    Stereophonics   \n",
       "32       4       173   292.0         4_173         79          Placebo   \n",
       "\n",
       "       tagValue  tagCnt  tagRank  \n",
       "22  alternative     869        3  \n",
       "23  alternative     869        3  \n",
       "24          pop    2206        1  \n",
       "31         rock    1146        2  \n",
       "32  alternative     869        3  "
      ]
     },
     "execution_count": 73,
     "metadata": {},
     "output_type": "execute_result"
    }
   ],
   "source": [
    "df.head()"
   ]
  },
  {
   "cell_type": "markdown",
   "metadata": {
    "slideshow": {
     "slide_type": "skip"
    }
   },
   "source": [
    "## START BASIC RECOMMENDER"
   ]
  },
  {
   "cell_type": "markdown",
   "metadata": {
    "slideshow": {
     "slide_type": "skip"
    }
   },
   "source": [
    "### COLLABORATIVE FILTER - ARTIST "
   ]
  },
  {
   "cell_type": "code",
   "execution_count": 74,
   "metadata": {
    "slideshow": {
     "slide_type": "skip"
    }
   },
   "outputs": [],
   "source": [
    "# INPUT THE CLUSTER OF INTEREST\n",
    "cluster_of_interest = 2"
   ]
  },
  {
   "cell_type": "code",
   "execution_count": 75,
   "metadata": {
    "slideshow": {
     "slide_type": "skip"
    }
   },
   "outputs": [],
   "source": [
    "from scipy.spatial.distance import cosine, euclidean, correlation"
   ]
  },
  {
   "cell_type": "code",
   "execution_count": 76,
   "metadata": {
    "slideshow": {
     "slide_type": "skip"
    }
   },
   "outputs": [],
   "source": [
    "# GET CLUSTER NUMBER INTO df SO CAN LIMIT INPUTS INTO RECOMMENDATION ENGINE\n",
    "# PURPOSE IS TO LEVERAGE UNSTRUCTURED LEARNING AND GROUP USERS BASED ON CLUSTER \n",
    "# THEN RECOMMEND IN CLUSTER\n",
    "df['cl_label'] = df['userID'].map(df_user_genre.set_index('userID')['cl_label'])"
   ]
  },
  {
   "cell_type": "code",
   "execution_count": 77,
   "metadata": {
    "slideshow": {
     "slide_type": "skip"
    }
   },
   "outputs": [
    {
     "data": {
      "text/html": [
       "<div>\n",
       "<style scoped>\n",
       "    .dataframe tbody tr th:only-of-type {\n",
       "        vertical-align: middle;\n",
       "    }\n",
       "\n",
       "    .dataframe tbody tr th {\n",
       "        vertical-align: top;\n",
       "    }\n",
       "\n",
       "    .dataframe thead th {\n",
       "        text-align: right;\n",
       "    }\n",
       "</style>\n",
       "<table border=\"1\" class=\"dataframe\">\n",
       "  <thead>\n",
       "    <tr style=\"text-align: right;\">\n",
       "      <th></th>\n",
       "      <th>userID</th>\n",
       "      <th>name</th>\n",
       "      <th>weight</th>\n",
       "    </tr>\n",
       "  </thead>\n",
       "  <tbody>\n",
       "    <tr>\n",
       "      <th>22</th>\n",
       "      <td>4</td>\n",
       "      <td>Radiohead</td>\n",
       "      <td>1</td>\n",
       "    </tr>\n",
       "    <tr>\n",
       "      <th>23</th>\n",
       "      <td>4</td>\n",
       "      <td>VAST</td>\n",
       "      <td>1</td>\n",
       "    </tr>\n",
       "    <tr>\n",
       "      <th>24</th>\n",
       "      <td>4</td>\n",
       "      <td>Michael Jackson</td>\n",
       "      <td>1</td>\n",
       "    </tr>\n",
       "    <tr>\n",
       "      <th>31</th>\n",
       "      <td>4</td>\n",
       "      <td>Stereophonics</td>\n",
       "      <td>1</td>\n",
       "    </tr>\n",
       "    <tr>\n",
       "      <th>32</th>\n",
       "      <td>4</td>\n",
       "      <td>Placebo</td>\n",
       "      <td>1</td>\n",
       "    </tr>\n",
       "  </tbody>\n",
       "</table>\n",
       "</div>"
      ],
      "text/plain": [
       "    userID             name  weight\n",
       "22       4        Radiohead       1\n",
       "23       4             VAST       1\n",
       "24       4  Michael Jackson       1\n",
       "31       4    Stereophonics       1\n",
       "32       4          Placebo       1"
      ]
     },
     "execution_count": 77,
     "metadata": {},
     "output_type": "execute_result"
    }
   ],
   "source": [
    "# USE COPY SO WON'T IMPACT WEIGHTS IN df. TREAT LIKE ONEHOTENCODING \n",
    "df_preprocess = df[df['cl_label']==cluster_of_interest][['userID','name','weight']].copy()\n",
    "# SET WEIGHTS EQUAL TO ONE SO DON'T HAVE SCALING ISSUES\n",
    "df_preprocess['weight']=1\n",
    "df_preprocess.head()"
   ]
  },
  {
   "cell_type": "code",
   "execution_count": 78,
   "metadata": {
    "slideshow": {
     "slide_type": "skip"
    }
   },
   "outputs": [
    {
     "data": {
      "text/plain": [
       "161"
      ]
     },
     "execution_count": 78,
     "metadata": {},
     "output_type": "execute_result"
    }
   ],
   "source": [
    "# COUNT AGGREGATION COLUMN BASED ON ARTISTID\n",
    "df_preprocess['count'] = df_preprocess.groupby('name')['name'].transform('count')\n",
    "\n",
    "# ARTIST REQUIRES >=2 EVENTS TO BE CONSIDERED\n",
    "df_preprocess = df_preprocess[(df_preprocess['count']>=2)]\n",
    "\n",
    "# OUTPUT UNIQUE ARTISTS SO VALIDATE NO DUPES WHEN PIVOT\n",
    "df_preprocess['name'].nunique()"
   ]
  },
  {
   "cell_type": "code",
   "execution_count": 79,
   "metadata": {
    "slideshow": {
     "slide_type": "skip"
    }
   },
   "outputs": [
    {
     "data": {
      "text/plain": [
       "(281, 162)"
      ]
     },
     "execution_count": 79,
     "metadata": {},
     "output_type": "execute_result"
    }
   ],
   "source": [
    "df_preprocess=df_preprocess.pivot(index='userID', columns='name', values='weight')\n",
    "df_preprocess=df_preprocess.reset_index()\n",
    "df_preprocess.shape"
   ]
  },
  {
   "cell_type": "code",
   "execution_count": 80,
   "metadata": {
    "slideshow": {
     "slide_type": "skip"
    }
   },
   "outputs": [
    {
     "data": {
      "text/plain": [
       "(281, 162)"
      ]
     },
     "execution_count": 80,
     "metadata": {},
     "output_type": "execute_result"
    }
   ],
   "source": [
    "df_preprocess.shape"
   ]
  },
  {
   "cell_type": "code",
   "execution_count": 81,
   "metadata": {
    "slideshow": {
     "slide_type": "skip"
    }
   },
   "outputs": [],
   "source": [
    "df_same_clust=df_preprocess.copy()\n",
    "#df_same_clust.rename(columns={'userID':'user'}, inplace=True)"
   ]
  },
  {
   "cell_type": "code",
   "execution_count": 82,
   "metadata": {
    "slideshow": {
     "slide_type": "skip"
    }
   },
   "outputs": [],
   "source": [
    "df_same_clust.fillna(0,inplace=True)"
   ]
  },
  {
   "cell_type": "code",
   "execution_count": 83,
   "metadata": {
    "slideshow": {
     "slide_type": "skip"
    }
   },
   "outputs": [
    {
     "data": {
      "text/html": [
       "<div>\n",
       "<style scoped>\n",
       "    .dataframe tbody tr th:only-of-type {\n",
       "        vertical-align: middle;\n",
       "    }\n",
       "\n",
       "    .dataframe tbody tr th {\n",
       "        vertical-align: top;\n",
       "    }\n",
       "\n",
       "    .dataframe thead th {\n",
       "        text-align: right;\n",
       "    }\n",
       "</style>\n",
       "<table border=\"1\" class=\"dataframe\">\n",
       "  <thead>\n",
       "    <tr style=\"text-align: right;\">\n",
       "      <th>name</th>\n",
       "      <th>userID</th>\n",
       "      <th>30 Seconds to Mars</th>\n",
       "      <th>311</th>\n",
       "      <th>ABBA</th>\n",
       "      <th>Adam Lambert</th>\n",
       "      <th>Air Traffic</th>\n",
       "      <th>Alanis Morissette</th>\n",
       "      <th>Alkaline Trio</th>\n",
       "      <th>Anberlin</th>\n",
       "      <th>Architecture in Helsinki</th>\n",
       "      <th>...</th>\n",
       "      <th>Travis</th>\n",
       "      <th>U2</th>\n",
       "      <th>VAST</th>\n",
       "      <th>Ween</th>\n",
       "      <th>Weezer</th>\n",
       "      <th>Zoé</th>\n",
       "      <th>t.A.T.u.</th>\n",
       "      <th>Агата Кристи</th>\n",
       "      <th>Адаптация Пчёл</th>\n",
       "      <th>Психея</th>\n",
       "    </tr>\n",
       "  </thead>\n",
       "  <tbody>\n",
       "    <tr>\n",
       "      <th>0</th>\n",
       "      <td>4</td>\n",
       "      <td>0.0</td>\n",
       "      <td>0.0</td>\n",
       "      <td>0.0</td>\n",
       "      <td>0.0</td>\n",
       "      <td>0.0</td>\n",
       "      <td>0.0</td>\n",
       "      <td>0.0</td>\n",
       "      <td>0.0</td>\n",
       "      <td>0.0</td>\n",
       "      <td>...</td>\n",
       "      <td>0.0</td>\n",
       "      <td>0.0</td>\n",
       "      <td>1.0</td>\n",
       "      <td>0.0</td>\n",
       "      <td>0.0</td>\n",
       "      <td>0.0</td>\n",
       "      <td>0.0</td>\n",
       "      <td>0.0</td>\n",
       "      <td>0.0</td>\n",
       "      <td>0.0</td>\n",
       "    </tr>\n",
       "    <tr>\n",
       "      <th>1</th>\n",
       "      <td>5</td>\n",
       "      <td>0.0</td>\n",
       "      <td>0.0</td>\n",
       "      <td>0.0</td>\n",
       "      <td>0.0</td>\n",
       "      <td>0.0</td>\n",
       "      <td>0.0</td>\n",
       "      <td>0.0</td>\n",
       "      <td>0.0</td>\n",
       "      <td>0.0</td>\n",
       "      <td>...</td>\n",
       "      <td>0.0</td>\n",
       "      <td>0.0</td>\n",
       "      <td>0.0</td>\n",
       "      <td>0.0</td>\n",
       "      <td>0.0</td>\n",
       "      <td>0.0</td>\n",
       "      <td>0.0</td>\n",
       "      <td>0.0</td>\n",
       "      <td>0.0</td>\n",
       "      <td>0.0</td>\n",
       "    </tr>\n",
       "    <tr>\n",
       "      <th>2</th>\n",
       "      <td>23</td>\n",
       "      <td>0.0</td>\n",
       "      <td>0.0</td>\n",
       "      <td>0.0</td>\n",
       "      <td>0.0</td>\n",
       "      <td>0.0</td>\n",
       "      <td>0.0</td>\n",
       "      <td>0.0</td>\n",
       "      <td>0.0</td>\n",
       "      <td>0.0</td>\n",
       "      <td>...</td>\n",
       "      <td>0.0</td>\n",
       "      <td>0.0</td>\n",
       "      <td>0.0</td>\n",
       "      <td>0.0</td>\n",
       "      <td>0.0</td>\n",
       "      <td>0.0</td>\n",
       "      <td>0.0</td>\n",
       "      <td>0.0</td>\n",
       "      <td>0.0</td>\n",
       "      <td>0.0</td>\n",
       "    </tr>\n",
       "    <tr>\n",
       "      <th>3</th>\n",
       "      <td>43</td>\n",
       "      <td>0.0</td>\n",
       "      <td>0.0</td>\n",
       "      <td>0.0</td>\n",
       "      <td>0.0</td>\n",
       "      <td>0.0</td>\n",
       "      <td>0.0</td>\n",
       "      <td>0.0</td>\n",
       "      <td>0.0</td>\n",
       "      <td>0.0</td>\n",
       "      <td>...</td>\n",
       "      <td>0.0</td>\n",
       "      <td>0.0</td>\n",
       "      <td>0.0</td>\n",
       "      <td>0.0</td>\n",
       "      <td>0.0</td>\n",
       "      <td>0.0</td>\n",
       "      <td>0.0</td>\n",
       "      <td>0.0</td>\n",
       "      <td>0.0</td>\n",
       "      <td>0.0</td>\n",
       "    </tr>\n",
       "    <tr>\n",
       "      <th>4</th>\n",
       "      <td>62</td>\n",
       "      <td>0.0</td>\n",
       "      <td>0.0</td>\n",
       "      <td>0.0</td>\n",
       "      <td>0.0</td>\n",
       "      <td>0.0</td>\n",
       "      <td>0.0</td>\n",
       "      <td>0.0</td>\n",
       "      <td>0.0</td>\n",
       "      <td>0.0</td>\n",
       "      <td>...</td>\n",
       "      <td>1.0</td>\n",
       "      <td>0.0</td>\n",
       "      <td>0.0</td>\n",
       "      <td>0.0</td>\n",
       "      <td>0.0</td>\n",
       "      <td>0.0</td>\n",
       "      <td>0.0</td>\n",
       "      <td>0.0</td>\n",
       "      <td>0.0</td>\n",
       "      <td>0.0</td>\n",
       "    </tr>\n",
       "  </tbody>\n",
       "</table>\n",
       "<p>5 rows × 162 columns</p>\n",
       "</div>"
      ],
      "text/plain": [
       "name  userID  30 Seconds to Mars  311  ABBA  Adam Lambert  Air Traffic  \\\n",
       "0          4                 0.0  0.0   0.0           0.0          0.0   \n",
       "1          5                 0.0  0.0   0.0           0.0          0.0   \n",
       "2         23                 0.0  0.0   0.0           0.0          0.0   \n",
       "3         43                 0.0  0.0   0.0           0.0          0.0   \n",
       "4         62                 0.0  0.0   0.0           0.0          0.0   \n",
       "\n",
       "name  Alanis Morissette  Alkaline Trio  Anberlin  Architecture in Helsinki  \\\n",
       "0                   0.0            0.0       0.0                       0.0   \n",
       "1                   0.0            0.0       0.0                       0.0   \n",
       "2                   0.0            0.0       0.0                       0.0   \n",
       "3                   0.0            0.0       0.0                       0.0   \n",
       "4                   0.0            0.0       0.0                       0.0   \n",
       "\n",
       "name  ...  Travis   U2  VAST  Ween  Weezer  Zoé  t.A.T.u.  Агата Кристи  \\\n",
       "0     ...     0.0  0.0   1.0   0.0     0.0  0.0       0.0           0.0   \n",
       "1     ...     0.0  0.0   0.0   0.0     0.0  0.0       0.0           0.0   \n",
       "2     ...     0.0  0.0   0.0   0.0     0.0  0.0       0.0           0.0   \n",
       "3     ...     0.0  0.0   0.0   0.0     0.0  0.0       0.0           0.0   \n",
       "4     ...     1.0  0.0   0.0   0.0     0.0  0.0       0.0           0.0   \n",
       "\n",
       "name  Адаптация Пчёл  Психея  \n",
       "0                0.0     0.0  \n",
       "1                0.0     0.0  \n",
       "2                0.0     0.0  \n",
       "3                0.0     0.0  \n",
       "4                0.0     0.0  \n",
       "\n",
       "[5 rows x 162 columns]"
      ]
     },
     "execution_count": 83,
     "metadata": {},
     "output_type": "execute_result"
    }
   ],
   "source": [
    "df_same_clust.head()"
   ]
  },
  {
   "cell_type": "code",
   "execution_count": 84,
   "metadata": {
    "slideshow": {
     "slide_type": "skip"
    }
   },
   "outputs": [],
   "source": [
    "# ARTISTS AS FEATURES, INDEX  \n",
    "df_same_clust_no_user = df_same_clust.drop('userID', 1)\n",
    " \n",
    "# CREATE A PLACEHOLDER DATAFRAME FOR ITEM SIMILARITY\n",
    "df_item_sim_scr = pd.DataFrame(index=df_same_clust_no_user.columns,columns=\n",
    "                         df_same_clust_no_user.columns)"
   ]
  },
  {
   "cell_type": "code",
   "execution_count": 85,
   "metadata": {
    "slideshow": {
     "slide_type": "skip"
    }
   },
   "outputs": [],
   "source": [
    "# ARTIST BASED SIMILARITY - USE COSINE TO MEASURE DISTANCE AND POPULATE\n",
    "# THE SIMILARITY SCORE IS BASED ON COMPARING LISTENED TO VECTORS OF TWO ARTISTS\n",
    "\n",
    "# USE COSINE FOR SIMILARITY SCORE\n",
    "# LOOP COLUMNS\n",
    "for i in range(0,len(df_item_sim_scr.columns)):\n",
    "    for j in range(0,len(df_item_sim_scr.columns)):\n",
    "        # SIMILARITY SCORE\n",
    "        # COSINE \n",
    "        df_item_sim_scr.iloc[i,j] = 1-cosine(df_same_clust_no_user.iloc[:,i],\n",
    "                                             df_same_clust_no_user.iloc[:,j])\n",
    "        # CORRELATION\n",
    "        #df_item_sim_scr.iloc[i,j] = 1-correlation(df_same_clust_no_user.iloc[:,i],\n",
    "        #                                        df_same_clust_no_user.iloc[:,j])\n",
    "        # EUCLIDEAN\n",
    "        #df_item_sim_scr.iloc[i,j] = 1-euclidean(df_same_clust_no_user.iloc[:,i],\n",
    "        #                                         df_same_clust_no_user.iloc[:,j])"
   ]
  },
  {
   "cell_type": "code",
   "execution_count": 86,
   "metadata": {
    "scrolled": true,
    "slideshow": {
     "slide_type": "slide"
    }
   },
   "outputs": [
    {
     "data": {
      "text/html": [
       "<div>\n",
       "<style scoped>\n",
       "    .dataframe tbody tr th:only-of-type {\n",
       "        vertical-align: middle;\n",
       "    }\n",
       "\n",
       "    .dataframe tbody tr th {\n",
       "        vertical-align: top;\n",
       "    }\n",
       "\n",
       "    .dataframe thead th {\n",
       "        text-align: right;\n",
       "    }\n",
       "</style>\n",
       "<table border=\"1\" class=\"dataframe\">\n",
       "  <thead>\n",
       "    <tr style=\"text-align: right;\">\n",
       "      <th>name</th>\n",
       "      <th>30 Seconds to Mars</th>\n",
       "      <th>311</th>\n",
       "      <th>ABBA</th>\n",
       "      <th>Adam Lambert</th>\n",
       "      <th>Air Traffic</th>\n",
       "      <th>Alanis Morissette</th>\n",
       "      <th>Alkaline Trio</th>\n",
       "      <th>Anberlin</th>\n",
       "      <th>Architecture in Helsinki</th>\n",
       "      <th>Ash</th>\n",
       "      <th>...</th>\n",
       "      <th>Travis</th>\n",
       "      <th>U2</th>\n",
       "      <th>VAST</th>\n",
       "      <th>Ween</th>\n",
       "      <th>Weezer</th>\n",
       "      <th>Zoé</th>\n",
       "      <th>t.A.T.u.</th>\n",
       "      <th>Агата Кристи</th>\n",
       "      <th>Адаптация Пчёл</th>\n",
       "      <th>Психея</th>\n",
       "    </tr>\n",
       "    <tr>\n",
       "      <th>name</th>\n",
       "      <th></th>\n",
       "      <th></th>\n",
       "      <th></th>\n",
       "      <th></th>\n",
       "      <th></th>\n",
       "      <th></th>\n",
       "      <th></th>\n",
       "      <th></th>\n",
       "      <th></th>\n",
       "      <th></th>\n",
       "      <th></th>\n",
       "      <th></th>\n",
       "      <th></th>\n",
       "      <th></th>\n",
       "      <th></th>\n",
       "      <th></th>\n",
       "      <th></th>\n",
       "      <th></th>\n",
       "      <th></th>\n",
       "      <th></th>\n",
       "      <th></th>\n",
       "    </tr>\n",
       "  </thead>\n",
       "  <tbody>\n",
       "    <tr>\n",
       "      <th>30 Seconds to Mars</th>\n",
       "      <td>1</td>\n",
       "      <td>0</td>\n",
       "      <td>0.144338</td>\n",
       "      <td>0.166667</td>\n",
       "      <td>0</td>\n",
       "      <td>0</td>\n",
       "      <td>0</td>\n",
       "      <td>0</td>\n",
       "      <td>0</td>\n",
       "      <td>0</td>\n",
       "      <td>...</td>\n",
       "      <td>0</td>\n",
       "      <td>0</td>\n",
       "      <td>0</td>\n",
       "      <td>0</td>\n",
       "      <td>0</td>\n",
       "      <td>0</td>\n",
       "      <td>0</td>\n",
       "      <td>0.204124</td>\n",
       "      <td>0</td>\n",
       "      <td>0.166667</td>\n",
       "    </tr>\n",
       "    <tr>\n",
       "      <th>311</th>\n",
       "      <td>0</td>\n",
       "      <td>1</td>\n",
       "      <td>0</td>\n",
       "      <td>0</td>\n",
       "      <td>0</td>\n",
       "      <td>0</td>\n",
       "      <td>0</td>\n",
       "      <td>0</td>\n",
       "      <td>0</td>\n",
       "      <td>0</td>\n",
       "      <td>...</td>\n",
       "      <td>0</td>\n",
       "      <td>0</td>\n",
       "      <td>0</td>\n",
       "      <td>0</td>\n",
       "      <td>0</td>\n",
       "      <td>0</td>\n",
       "      <td>0</td>\n",
       "      <td>0</td>\n",
       "      <td>0</td>\n",
       "      <td>0</td>\n",
       "    </tr>\n",
       "    <tr>\n",
       "      <th>ABBA</th>\n",
       "      <td>0.144338</td>\n",
       "      <td>0</td>\n",
       "      <td>1</td>\n",
       "      <td>0</td>\n",
       "      <td>0</td>\n",
       "      <td>0</td>\n",
       "      <td>0</td>\n",
       "      <td>0</td>\n",
       "      <td>0</td>\n",
       "      <td>0</td>\n",
       "      <td>...</td>\n",
       "      <td>0.133631</td>\n",
       "      <td>0.333333</td>\n",
       "      <td>0</td>\n",
       "      <td>0</td>\n",
       "      <td>0</td>\n",
       "      <td>0</td>\n",
       "      <td>0</td>\n",
       "      <td>0</td>\n",
       "      <td>0</td>\n",
       "      <td>0</td>\n",
       "    </tr>\n",
       "    <tr>\n",
       "      <th>Adam Lambert</th>\n",
       "      <td>0.166667</td>\n",
       "      <td>0</td>\n",
       "      <td>0</td>\n",
       "      <td>1</td>\n",
       "      <td>0</td>\n",
       "      <td>0</td>\n",
       "      <td>0</td>\n",
       "      <td>0</td>\n",
       "      <td>0</td>\n",
       "      <td>0</td>\n",
       "      <td>...</td>\n",
       "      <td>0</td>\n",
       "      <td>0</td>\n",
       "      <td>0</td>\n",
       "      <td>0</td>\n",
       "      <td>0</td>\n",
       "      <td>0</td>\n",
       "      <td>0</td>\n",
       "      <td>0</td>\n",
       "      <td>0</td>\n",
       "      <td>0</td>\n",
       "    </tr>\n",
       "    <tr>\n",
       "      <th>Air Traffic</th>\n",
       "      <td>0</td>\n",
       "      <td>0</td>\n",
       "      <td>0</td>\n",
       "      <td>0</td>\n",
       "      <td>1</td>\n",
       "      <td>0</td>\n",
       "      <td>0</td>\n",
       "      <td>0</td>\n",
       "      <td>0</td>\n",
       "      <td>0</td>\n",
       "      <td>...</td>\n",
       "      <td>0.188982</td>\n",
       "      <td>0</td>\n",
       "      <td>0</td>\n",
       "      <td>0</td>\n",
       "      <td>0</td>\n",
       "      <td>0</td>\n",
       "      <td>0</td>\n",
       "      <td>0</td>\n",
       "      <td>0</td>\n",
       "      <td>0</td>\n",
       "    </tr>\n",
       "  </tbody>\n",
       "</table>\n",
       "<p>5 rows × 161 columns</p>\n",
       "</div>"
      ],
      "text/plain": [
       "name               30 Seconds to Mars 311      ABBA Adam Lambert Air Traffic  \\\n",
       "name                                                                           \n",
       "30 Seconds to Mars                  1   0  0.144338     0.166667           0   \n",
       "311                                 0   1         0            0           0   \n",
       "ABBA                         0.144338   0         1            0           0   \n",
       "Adam Lambert                 0.166667   0         0            1           0   \n",
       "Air Traffic                         0   0         0            0           1   \n",
       "\n",
       "name               Alanis Morissette Alkaline Trio Anberlin  \\\n",
       "name                                                          \n",
       "30 Seconds to Mars                 0             0        0   \n",
       "311                                0             0        0   \n",
       "ABBA                               0             0        0   \n",
       "Adam Lambert                       0             0        0   \n",
       "Air Traffic                        0             0        0   \n",
       "\n",
       "name               Architecture in Helsinki Ash  ...    Travis        U2 VAST  \\\n",
       "name                                             ...                            \n",
       "30 Seconds to Mars                        0   0  ...         0         0    0   \n",
       "311                                       0   0  ...         0         0    0   \n",
       "ABBA                                      0   0  ...  0.133631  0.333333    0   \n",
       "Adam Lambert                              0   0  ...         0         0    0   \n",
       "Air Traffic                               0   0  ...  0.188982         0    0   \n",
       "\n",
       "name               Ween Weezer Zoé t.A.T.u. Агата Кристи Адаптация Пчёл  \\\n",
       "name                                                                      \n",
       "30 Seconds to Mars    0      0   0        0     0.204124              0   \n",
       "311                   0      0   0        0            0              0   \n",
       "ABBA                  0      0   0        0            0              0   \n",
       "Adam Lambert          0      0   0        0            0              0   \n",
       "Air Traffic           0      0   0        0            0              0   \n",
       "\n",
       "name                  Психея  \n",
       "name                          \n",
       "30 Seconds to Mars  0.166667  \n",
       "311                        0  \n",
       "ABBA                       0  \n",
       "Adam Lambert               0  \n",
       "Air Traffic                0  \n",
       "\n",
       "[5 rows x 161 columns]"
      ]
     },
     "execution_count": 86,
     "metadata": {},
     "output_type": "execute_result"
    }
   ],
   "source": [
    "# ARTIST ON ROW AND COLUMN, VALUE IS COSINE SIMILARITY SCORE\n",
    "# HIGHER SCORE, HIGHER SIMILARITY, 1 IS THE SAME, 0 IS NO RANK\n",
    "df_item_sim_scr.head()"
   ]
  },
  {
   "cell_type": "code",
   "execution_count": 87,
   "metadata": {
    "slideshow": {
     "slide_type": "skip"
    }
   },
   "outputs": [
    {
     "data": {
      "text/plain": [
       "name\n",
       "Adam Lambert             1\n",
       "Mika              0.408248\n",
       "Kris Allen        0.408248\n",
       "P!nk              0.333333\n",
       "Lenny Kravitz     0.333333\n",
       "Kelly Clarkson    0.333333\n",
       "Name: Adam Lambert, dtype: object"
      ]
     },
     "execution_count": 87,
     "metadata": {},
     "output_type": "execute_result"
    }
   ],
   "source": [
    "# CHECK SIMILARITY SCORE VALUES\n",
    "df_item_sim_scr.iloc[0:,3].sort_values(ascending=False)[:6]"
   ]
  },
  {
   "cell_type": "code",
   "execution_count": 88,
   "metadata": {
    "slideshow": {
     "slide_type": "skip"
    }
   },
   "outputs": [],
   "source": [
    "# CLOSEST SIMILARITY FOR ARTIST TO ARTIST\n",
    "df_item_sim = pd.DataFrame(index=df_item_sim_scr.columns,columns=range(1,11))"
   ]
  },
  {
   "cell_type": "code",
   "execution_count": 89,
   "metadata": {
    "slideshow": {
     "slide_type": "skip"
    }
   },
   "outputs": [],
   "source": [
    "# LOOP ARTIST BASED SIMILARITY AND POPULATE NAMES ASSOCIATED WITH HIGHEST SIM SCORE \n",
    "for i in range(0,len(df_item_sim_scr.columns)):\n",
    "    df_item_sim.iloc[i,:10] = df_item_sim_scr.iloc[0:,i].sort_values(\n",
    "        ascending=False)[:10].index"
   ]
  },
  {
   "cell_type": "code",
   "execution_count": 90,
   "metadata": {
    "slideshow": {
     "slide_type": "slide"
    }
   },
   "outputs": [
    {
     "data": {
      "text/html": [
       "<div>\n",
       "<style scoped>\n",
       "    .dataframe tbody tr th:only-of-type {\n",
       "        vertical-align: middle;\n",
       "    }\n",
       "\n",
       "    .dataframe tbody tr th {\n",
       "        vertical-align: top;\n",
       "    }\n",
       "\n",
       "    .dataframe thead th {\n",
       "        text-align: right;\n",
       "    }\n",
       "</style>\n",
       "<table border=\"1\" class=\"dataframe\">\n",
       "  <thead>\n",
       "    <tr style=\"text-align: right;\">\n",
       "      <th></th>\n",
       "      <th>2</th>\n",
       "      <th>3</th>\n",
       "      <th>4</th>\n",
       "      <th>5</th>\n",
       "    </tr>\n",
       "    <tr>\n",
       "      <th>name</th>\n",
       "      <th></th>\n",
       "      <th></th>\n",
       "      <th></th>\n",
       "      <th></th>\n",
       "    </tr>\n",
       "  </thead>\n",
       "  <tbody>\n",
       "    <tr>\n",
       "      <th>Pavement</th>\n",
       "      <td>Filter</td>\n",
       "      <td>Pinback</td>\n",
       "      <td>Weezer</td>\n",
       "      <td>Silverchair</td>\n",
       "    </tr>\n",
       "    <tr>\n",
       "      <th>Pinback</th>\n",
       "      <td>Pavement</td>\n",
       "      <td>Психея</td>\n",
       "      <td>James Blunt</td>\n",
       "      <td>Kelly Clarkson</td>\n",
       "    </tr>\n",
       "    <tr>\n",
       "      <th>Pitty</th>\n",
       "      <td>Demi Lovato</td>\n",
       "      <td>Alanis Morissette</td>\n",
       "      <td>Kris Allen</td>\n",
       "      <td>Neon Trees</td>\n",
       "    </tr>\n",
       "    <tr>\n",
       "      <th>Pixies</th>\n",
       "      <td>Sonic Youth</td>\n",
       "      <td>The Strokes</td>\n",
       "      <td>The Cranberries</td>\n",
       "      <td>The White Stripes</td>\n",
       "    </tr>\n",
       "    <tr>\n",
       "      <th>Pizzicato Five</th>\n",
       "      <td>Rihanna</td>\n",
       "      <td>The Cranberries</td>\n",
       "      <td>Психея</td>\n",
       "      <td>Jack's Mannequin</td>\n",
       "    </tr>\n",
       "    <tr>\n",
       "      <th>Placebo</th>\n",
       "      <td>Radiohead</td>\n",
       "      <td>System of a Down</td>\n",
       "      <td>30 Seconds to Mars</td>\n",
       "      <td>James Blunt</td>\n",
       "    </tr>\n",
       "    <tr>\n",
       "      <th>Plain White T's</th>\n",
       "      <td>The All-American Rejects</td>\n",
       "      <td>Copeland</td>\n",
       "      <td>Alanis Morissette</td>\n",
       "      <td>Demi Lovato</td>\n",
       "    </tr>\n",
       "    <tr>\n",
       "      <th>Queen + Paul Rodgers</th>\n",
       "      <td>Roxette</td>\n",
       "      <td>George Michael</td>\n",
       "      <td>Incubus</td>\n",
       "      <td>Michael Jackson</td>\n",
       "    </tr>\n",
       "    <tr>\n",
       "      <th>Queens of the Stone Age</th>\n",
       "      <td>U2</td>\n",
       "      <td>Sonic Youth</td>\n",
       "      <td>The Strokes</td>\n",
       "      <td>Minus the Bear</td>\n",
       "    </tr>\n",
       "    <tr>\n",
       "      <th>Radiohead</th>\n",
       "      <td>Placebo</td>\n",
       "      <td>The Strokes</td>\n",
       "      <td>Keane</td>\n",
       "      <td>Snow Patrol</td>\n",
       "    </tr>\n",
       "  </tbody>\n",
       "</table>\n",
       "</div>"
      ],
      "text/plain": [
       "                                                2                  3  \\\n",
       "name                                                                   \n",
       "Pavement                                   Filter            Pinback   \n",
       "Pinback                                  Pavement             Психея   \n",
       "Pitty                                 Demi Lovato  Alanis Morissette   \n",
       "Pixies                                Sonic Youth        The Strokes   \n",
       "Pizzicato Five                            Rihanna    The Cranberries   \n",
       "Placebo                                 Radiohead   System of a Down   \n",
       "Plain White T's          The All-American Rejects           Copeland   \n",
       "Queen + Paul Rodgers                      Roxette     George Michael   \n",
       "Queens of the Stone Age                        U2        Sonic Youth   \n",
       "Radiohead                                 Placebo        The Strokes   \n",
       "\n",
       "                                          4                  5  \n",
       "name                                                            \n",
       "Pavement                             Weezer        Silverchair  \n",
       "Pinback                         James Blunt     Kelly Clarkson  \n",
       "Pitty                            Kris Allen         Neon Trees  \n",
       "Pixies                      The Cranberries  The White Stripes  \n",
       "Pizzicato Five                       Психея   Jack's Mannequin  \n",
       "Placebo                  30 Seconds to Mars        James Blunt  \n",
       "Plain White T's           Alanis Morissette        Demi Lovato  \n",
       "Queen + Paul Rodgers                Incubus    Michael Jackson  \n",
       "Queens of the Stone Age         The Strokes     Minus the Bear  \n",
       "Radiohead                             Keane        Snow Patrol  "
      ]
     },
     "execution_count": 90,
     "metadata": {},
     "output_type": "execute_result"
    }
   ],
   "source": [
    "# SIMILAR ARTISTS BASED ON CURRENT ARTIST LISTENING TO\n",
    "df_item_sim.iloc[91:101,1:5]"
   ]
  },
  {
   "cell_type": "markdown",
   "metadata": {},
   "source": [
    "#### Summary\n",
    "Recommender appears to be doing a good job, pleased with the performance as number of artists are limited to this cluster, 161 artists in total, it looks good. "
   ]
  },
  {
   "cell_type": "markdown",
   "metadata": {
    "slideshow": {
     "slide_type": "skip"
    }
   },
   "source": [
    "### COLLABORATIVE FILTER - USER "
   ]
  },
  {
   "cell_type": "code",
   "execution_count": 91,
   "metadata": {
    "slideshow": {
     "slide_type": "skip"
    }
   },
   "outputs": [],
   "source": [
    "# RECOMMEND BASED ON SIMILAR USER LISTENING HABITS\n",
    "# ROW (USER) BASED VECTORS\n",
    "# RETURN SIMILAR USERS AND THEIR PREFERENCES\n",
    "\n",
    "# FUNCTION FOR SIMILARITY SCORES\n",
    "def getScore(history, similarities):\n",
    "   return sum(history*similarities)/sum(similarities)"
   ]
  },
  {
   "cell_type": "code",
   "execution_count": 92,
   "metadata": {
    "slideshow": {
     "slide_type": "skip"
    }
   },
   "outputs": [],
   "source": [
    "# CREATE DATAFRAME FOR USER SIMILIARITY SCORE\n",
    "data_sims1 = pd.DataFrame(index=df_same_clust.index,columns=df_same_clust.columns)\n",
    "data_sims1.iloc[:,:1] = df_same_clust.iloc[:,:1]"
   ]
  },
  {
   "cell_type": "code",
   "execution_count": 93,
   "metadata": {},
   "outputs": [
    {
     "data": {
      "text/html": [
       "<div>\n",
       "<style scoped>\n",
       "    .dataframe tbody tr th:only-of-type {\n",
       "        vertical-align: middle;\n",
       "    }\n",
       "\n",
       "    .dataframe tbody tr th {\n",
       "        vertical-align: top;\n",
       "    }\n",
       "\n",
       "    .dataframe thead th {\n",
       "        text-align: right;\n",
       "    }\n",
       "</style>\n",
       "<table border=\"1\" class=\"dataframe\">\n",
       "  <thead>\n",
       "    <tr style=\"text-align: right;\">\n",
       "      <th>name</th>\n",
       "      <th>userID</th>\n",
       "      <th>30 Seconds to Mars</th>\n",
       "      <th>311</th>\n",
       "      <th>ABBA</th>\n",
       "      <th>Adam Lambert</th>\n",
       "      <th>Air Traffic</th>\n",
       "      <th>Alanis Morissette</th>\n",
       "      <th>Alkaline Trio</th>\n",
       "      <th>Anberlin</th>\n",
       "      <th>Architecture in Helsinki</th>\n",
       "      <th>...</th>\n",
       "      <th>Travis</th>\n",
       "      <th>U2</th>\n",
       "      <th>VAST</th>\n",
       "      <th>Ween</th>\n",
       "      <th>Weezer</th>\n",
       "      <th>Zoé</th>\n",
       "      <th>t.A.T.u.</th>\n",
       "      <th>Агата Кристи</th>\n",
       "      <th>Адаптация Пчёл</th>\n",
       "      <th>Психея</th>\n",
       "    </tr>\n",
       "  </thead>\n",
       "  <tbody>\n",
       "    <tr>\n",
       "      <th>0</th>\n",
       "      <td>4</td>\n",
       "      <td>NaN</td>\n",
       "      <td>NaN</td>\n",
       "      <td>NaN</td>\n",
       "      <td>NaN</td>\n",
       "      <td>NaN</td>\n",
       "      <td>NaN</td>\n",
       "      <td>NaN</td>\n",
       "      <td>NaN</td>\n",
       "      <td>NaN</td>\n",
       "      <td>...</td>\n",
       "      <td>NaN</td>\n",
       "      <td>NaN</td>\n",
       "      <td>NaN</td>\n",
       "      <td>NaN</td>\n",
       "      <td>NaN</td>\n",
       "      <td>NaN</td>\n",
       "      <td>NaN</td>\n",
       "      <td>NaN</td>\n",
       "      <td>NaN</td>\n",
       "      <td>NaN</td>\n",
       "    </tr>\n",
       "    <tr>\n",
       "      <th>1</th>\n",
       "      <td>5</td>\n",
       "      <td>NaN</td>\n",
       "      <td>NaN</td>\n",
       "      <td>NaN</td>\n",
       "      <td>NaN</td>\n",
       "      <td>NaN</td>\n",
       "      <td>NaN</td>\n",
       "      <td>NaN</td>\n",
       "      <td>NaN</td>\n",
       "      <td>NaN</td>\n",
       "      <td>...</td>\n",
       "      <td>NaN</td>\n",
       "      <td>NaN</td>\n",
       "      <td>NaN</td>\n",
       "      <td>NaN</td>\n",
       "      <td>NaN</td>\n",
       "      <td>NaN</td>\n",
       "      <td>NaN</td>\n",
       "      <td>NaN</td>\n",
       "      <td>NaN</td>\n",
       "      <td>NaN</td>\n",
       "    </tr>\n",
       "    <tr>\n",
       "      <th>2</th>\n",
       "      <td>23</td>\n",
       "      <td>NaN</td>\n",
       "      <td>NaN</td>\n",
       "      <td>NaN</td>\n",
       "      <td>NaN</td>\n",
       "      <td>NaN</td>\n",
       "      <td>NaN</td>\n",
       "      <td>NaN</td>\n",
       "      <td>NaN</td>\n",
       "      <td>NaN</td>\n",
       "      <td>...</td>\n",
       "      <td>NaN</td>\n",
       "      <td>NaN</td>\n",
       "      <td>NaN</td>\n",
       "      <td>NaN</td>\n",
       "      <td>NaN</td>\n",
       "      <td>NaN</td>\n",
       "      <td>NaN</td>\n",
       "      <td>NaN</td>\n",
       "      <td>NaN</td>\n",
       "      <td>NaN</td>\n",
       "    </tr>\n",
       "    <tr>\n",
       "      <th>3</th>\n",
       "      <td>43</td>\n",
       "      <td>NaN</td>\n",
       "      <td>NaN</td>\n",
       "      <td>NaN</td>\n",
       "      <td>NaN</td>\n",
       "      <td>NaN</td>\n",
       "      <td>NaN</td>\n",
       "      <td>NaN</td>\n",
       "      <td>NaN</td>\n",
       "      <td>NaN</td>\n",
       "      <td>...</td>\n",
       "      <td>NaN</td>\n",
       "      <td>NaN</td>\n",
       "      <td>NaN</td>\n",
       "      <td>NaN</td>\n",
       "      <td>NaN</td>\n",
       "      <td>NaN</td>\n",
       "      <td>NaN</td>\n",
       "      <td>NaN</td>\n",
       "      <td>NaN</td>\n",
       "      <td>NaN</td>\n",
       "    </tr>\n",
       "    <tr>\n",
       "      <th>4</th>\n",
       "      <td>62</td>\n",
       "      <td>NaN</td>\n",
       "      <td>NaN</td>\n",
       "      <td>NaN</td>\n",
       "      <td>NaN</td>\n",
       "      <td>NaN</td>\n",
       "      <td>NaN</td>\n",
       "      <td>NaN</td>\n",
       "      <td>NaN</td>\n",
       "      <td>NaN</td>\n",
       "      <td>...</td>\n",
       "      <td>NaN</td>\n",
       "      <td>NaN</td>\n",
       "      <td>NaN</td>\n",
       "      <td>NaN</td>\n",
       "      <td>NaN</td>\n",
       "      <td>NaN</td>\n",
       "      <td>NaN</td>\n",
       "      <td>NaN</td>\n",
       "      <td>NaN</td>\n",
       "      <td>NaN</td>\n",
       "    </tr>\n",
       "  </tbody>\n",
       "</table>\n",
       "<p>5 rows × 162 columns</p>\n",
       "</div>"
      ],
      "text/plain": [
       "name userID 30 Seconds to Mars  311 ABBA Adam Lambert Air Traffic  \\\n",
       "0         4                NaN  NaN  NaN          NaN         NaN   \n",
       "1         5                NaN  NaN  NaN          NaN         NaN   \n",
       "2        23                NaN  NaN  NaN          NaN         NaN   \n",
       "3        43                NaN  NaN  NaN          NaN         NaN   \n",
       "4        62                NaN  NaN  NaN          NaN         NaN   \n",
       "\n",
       "name Alanis Morissette Alkaline Trio Anberlin Architecture in Helsinki  ...  \\\n",
       "0                  NaN           NaN      NaN                      NaN  ...   \n",
       "1                  NaN           NaN      NaN                      NaN  ...   \n",
       "2                  NaN           NaN      NaN                      NaN  ...   \n",
       "3                  NaN           NaN      NaN                      NaN  ...   \n",
       "4                  NaN           NaN      NaN                      NaN  ...   \n",
       "\n",
       "name Travis   U2 VAST Ween Weezer  Zoé t.A.T.u. Агата Кристи Адаптация Пчёл  \\\n",
       "0       NaN  NaN  NaN  NaN    NaN  NaN      NaN          NaN            NaN   \n",
       "1       NaN  NaN  NaN  NaN    NaN  NaN      NaN          NaN            NaN   \n",
       "2       NaN  NaN  NaN  NaN    NaN  NaN      NaN          NaN            NaN   \n",
       "3       NaN  NaN  NaN  NaN    NaN  NaN      NaN          NaN            NaN   \n",
       "4       NaN  NaN  NaN  NaN    NaN  NaN      NaN          NaN            NaN   \n",
       "\n",
       "name Психея  \n",
       "0       NaN  \n",
       "1       NaN  \n",
       "2       NaN  \n",
       "3       NaN  \n",
       "4       NaN  \n",
       "\n",
       "[5 rows x 162 columns]"
      ]
     },
     "execution_count": 93,
     "metadata": {},
     "output_type": "execute_result"
    }
   ],
   "source": [
    "data_sims1.head()"
   ]
  },
  {
   "cell_type": "code",
   "execution_count": 94,
   "metadata": {
    "slideshow": {
     "slide_type": "skip"
    }
   },
   "outputs": [
    {
     "name": "stderr",
     "output_type": "stream",
     "text": [
      "C:\\Users\\DJ\\Anaconda3\\lib\\site-packages\\ipykernel_launcher.py:7: RuntimeWarning: invalid value encountered in double_scalars\n",
      "  import sys\n"
     ]
    }
   ],
   "source": [
    "# LOOP THROUGH ROWS, FILL WITH SIMILARITY SCORES\n",
    "for i in range(0,len(data_sims1.index)):\n",
    "    for j in range(1,len(data_sims1.columns)):\n",
    "        user1 = data_sims1.index[i]\n",
    "        artist_name1 = data_sims1.columns[j]\n",
    " \n",
    "        if df_same_clust.iloc[i][j] == 1:\n",
    "            data_sims1.iloc[i][j] = 0\n",
    "        else:\n",
    "            artist_top_names1 = df_item_sim.loc[artist_name1][1:10]\n",
    "            artist_top_sims1 = df_item_sim_scr.loc[artist_name1].sort_values(ascending=False)[1:10]\n",
    "            user_listen1 = df_same_clust_no_user.loc[user1,artist_top_names1]\n",
    "            data_sims1.iloc[i][j] = getScore(user_listen1,artist_top_sims1)"
   ]
  },
  {
   "cell_type": "code",
   "execution_count": 95,
   "metadata": {
    "slideshow": {
     "slide_type": "skip"
    }
   },
   "outputs": [],
   "source": [
    "# GET TOP ARTISTS FOR EACH USER\n",
    "data_recommend1 = pd.DataFrame(index=data_sims1.index, columns=['user','1','2','3','4','5','6'])\n",
    "data_recommend1.iloc[0:,0] = data_sims1.iloc[:,0]"
   ]
  },
  {
   "cell_type": "code",
   "execution_count": 96,
   "metadata": {
    "slideshow": {
     "slide_type": "skip"
    }
   },
   "outputs": [],
   "source": [
    "# POPULATE DATAFRAME WITH ARTIST\n",
    "for i in range(0,len(data_sims1.index)):\n",
    "    data_recommend1.iloc[i,1:] = data_sims1.iloc[i,:].sort_values(ascending=False).iloc[1:7,].index.transpose()"
   ]
  },
  {
   "cell_type": "code",
   "execution_count": 97,
   "metadata": {
    "slideshow": {
     "slide_type": "skip"
    }
   },
   "outputs": [
    {
     "data": {
      "text/html": [
       "<div>\n",
       "<style scoped>\n",
       "    .dataframe tbody tr th:only-of-type {\n",
       "        vertical-align: middle;\n",
       "    }\n",
       "\n",
       "    .dataframe tbody tr th {\n",
       "        vertical-align: top;\n",
       "    }\n",
       "\n",
       "    .dataframe thead th {\n",
       "        text-align: right;\n",
       "    }\n",
       "</style>\n",
       "<table border=\"1\" class=\"dataframe\">\n",
       "  <thead>\n",
       "    <tr style=\"text-align: right;\">\n",
       "      <th></th>\n",
       "      <th>user</th>\n",
       "      <th>1</th>\n",
       "      <th>2</th>\n",
       "      <th>3</th>\n",
       "      <th>4</th>\n",
       "      <th>5</th>\n",
       "      <th>6</th>\n",
       "    </tr>\n",
       "  </thead>\n",
       "  <tbody>\n",
       "    <tr>\n",
       "      <th>0</th>\n",
       "      <td>4</td>\n",
       "      <td>Queen + Paul Rodgers</td>\n",
       "      <td>The Moody Blues</td>\n",
       "      <td>New Model Army</td>\n",
       "      <td>Jack Off Jill</td>\n",
       "      <td>George Michael</td>\n",
       "      <td>Czesław Śpiewa</td>\n",
       "    </tr>\n",
       "    <tr>\n",
       "      <th>1</th>\n",
       "      <td>5</td>\n",
       "      <td>The Films</td>\n",
       "      <td>Агата Кристи</td>\n",
       "      <td>U2</td>\n",
       "      <td>Santigold</td>\n",
       "      <td>Teenage Fanclub</td>\n",
       "      <td>Placebo</td>\n",
       "    </tr>\n",
       "    <tr>\n",
       "      <th>2</th>\n",
       "      <td>23</td>\n",
       "      <td>The Jesus and Mary Chain</td>\n",
       "      <td>Kim Wilde</td>\n",
       "      <td>INXS</td>\n",
       "      <td>Ween</td>\n",
       "      <td>Marc Almond</td>\n",
       "      <td>The Police</td>\n",
       "    </tr>\n",
       "    <tr>\n",
       "      <th>3</th>\n",
       "      <td>43</td>\n",
       "      <td>Агата Кристи</td>\n",
       "      <td>30 Seconds to Mars</td>\n",
       "      <td>Christina Aguilera</td>\n",
       "      <td>System of a Down</td>\n",
       "      <td>Teenage Fanclub</td>\n",
       "      <td>Placebo</td>\n",
       "    </tr>\n",
       "    <tr>\n",
       "      <th>4</th>\n",
       "      <td>62</td>\n",
       "      <td>The Films</td>\n",
       "      <td>Teenage Fanclub</td>\n",
       "      <td>Агата Кристи</td>\n",
       "      <td>Air Traffic</td>\n",
       "      <td>Guano Apes</td>\n",
       "      <td>Teoman</td>\n",
       "    </tr>\n",
       "  </tbody>\n",
       "</table>\n",
       "</div>"
      ],
      "text/plain": [
       "  user                         1                   2                   3  \\\n",
       "0    4      Queen + Paul Rodgers     The Moody Blues      New Model Army   \n",
       "1    5                 The Films        Агата Кристи                  U2   \n",
       "2   23  The Jesus and Mary Chain           Kim Wilde                INXS   \n",
       "3   43              Агата Кристи  30 Seconds to Mars  Christina Aguilera   \n",
       "4   62                 The Films     Teenage Fanclub        Агата Кристи   \n",
       "\n",
       "                  4                5               6  \n",
       "0     Jack Off Jill   George Michael  Czesław Śpiewa  \n",
       "1         Santigold  Teenage Fanclub         Placebo  \n",
       "2              Ween      Marc Almond      The Police  \n",
       "3  System of a Down  Teenage Fanclub         Placebo  \n",
       "4       Air Traffic       Guano Apes          Teoman  "
      ]
     },
     "execution_count": 97,
     "metadata": {},
     "output_type": "execute_result"
    }
   ],
   "source": [
    "data_recommend1.head(5)"
   ]
  },
  {
   "cell_type": "code",
   "execution_count": 98,
   "metadata": {
    "slideshow": {
     "slide_type": "slide"
    }
   },
   "outputs": [
    {
     "data": {
      "text/html": [
       "<div>\n",
       "<style scoped>\n",
       "    .dataframe tbody tr th:only-of-type {\n",
       "        vertical-align: middle;\n",
       "    }\n",
       "\n",
       "    .dataframe tbody tr th {\n",
       "        vertical-align: top;\n",
       "    }\n",
       "\n",
       "    .dataframe thead th {\n",
       "        text-align: right;\n",
       "    }\n",
       "</style>\n",
       "<table border=\"1\" class=\"dataframe\">\n",
       "  <thead>\n",
       "    <tr style=\"text-align: right;\">\n",
       "      <th></th>\n",
       "      <th>user</th>\n",
       "      <th>1</th>\n",
       "      <th>2</th>\n",
       "      <th>3</th>\n",
       "      <th>4</th>\n",
       "    </tr>\n",
       "  </thead>\n",
       "  <tbody>\n",
       "    <tr>\n",
       "      <th>0</th>\n",
       "      <td>4</td>\n",
       "      <td>Queen + Paul Rodgers</td>\n",
       "      <td>The Moody Blues</td>\n",
       "      <td>New Model Army</td>\n",
       "      <td>Jack Off Jill</td>\n",
       "    </tr>\n",
       "    <tr>\n",
       "      <th>1</th>\n",
       "      <td>5</td>\n",
       "      <td>The Films</td>\n",
       "      <td>Агата Кристи</td>\n",
       "      <td>U2</td>\n",
       "      <td>Santigold</td>\n",
       "    </tr>\n",
       "    <tr>\n",
       "      <th>2</th>\n",
       "      <td>23</td>\n",
       "      <td>The Jesus and Mary Chain</td>\n",
       "      <td>Kim Wilde</td>\n",
       "      <td>INXS</td>\n",
       "      <td>Ween</td>\n",
       "    </tr>\n",
       "    <tr>\n",
       "      <th>3</th>\n",
       "      <td>43</td>\n",
       "      <td>Агата Кристи</td>\n",
       "      <td>30 Seconds to Mars</td>\n",
       "      <td>Christina Aguilera</td>\n",
       "      <td>System of a Down</td>\n",
       "    </tr>\n",
       "    <tr>\n",
       "      <th>4</th>\n",
       "      <td>62</td>\n",
       "      <td>The Films</td>\n",
       "      <td>Teenage Fanclub</td>\n",
       "      <td>Агата Кристи</td>\n",
       "      <td>Air Traffic</td>\n",
       "    </tr>\n",
       "    <tr>\n",
       "      <th>5</th>\n",
       "      <td>69</td>\n",
       "      <td>Teenage Fanclub</td>\n",
       "      <td>Placebo</td>\n",
       "      <td>Silversun Pickups</td>\n",
       "      <td>Keane</td>\n",
       "    </tr>\n",
       "    <tr>\n",
       "      <th>6</th>\n",
       "      <td>73</td>\n",
       "      <td>Eels</td>\n",
       "      <td>The Moody Blues</td>\n",
       "      <td>The Servant</td>\n",
       "      <td>The Stranglers</td>\n",
       "    </tr>\n",
       "    <tr>\n",
       "      <th>7</th>\n",
       "      <td>75</td>\n",
       "      <td>Joshua Radin</td>\n",
       "      <td>Hoobastank</td>\n",
       "      <td>System of a Down</td>\n",
       "      <td>The Murmurs</td>\n",
       "    </tr>\n",
       "    <tr>\n",
       "      <th>8</th>\n",
       "      <td>91</td>\n",
       "      <td>M. Ward</td>\n",
       "      <td>Sonic Youth</td>\n",
       "      <td>The Strokes</td>\n",
       "      <td>Flogging Molly</td>\n",
       "    </tr>\n",
       "    <tr>\n",
       "      <th>9</th>\n",
       "      <td>94</td>\n",
       "      <td>Ash</td>\n",
       "      <td>McAlmont &amp; Butler</td>\n",
       "      <td>Zoé</td>\n",
       "      <td>David Bowie</td>\n",
       "    </tr>\n",
       "  </tbody>\n",
       "</table>\n",
       "</div>"
      ],
      "text/plain": [
       "  user                         1                   2                   3  \\\n",
       "0    4      Queen + Paul Rodgers     The Moody Blues      New Model Army   \n",
       "1    5                 The Films        Агата Кристи                  U2   \n",
       "2   23  The Jesus and Mary Chain           Kim Wilde                INXS   \n",
       "3   43              Агата Кристи  30 Seconds to Mars  Christina Aguilera   \n",
       "4   62                 The Films     Teenage Fanclub        Агата Кристи   \n",
       "5   69           Teenage Fanclub             Placebo   Silversun Pickups   \n",
       "6   73                      Eels     The Moody Blues         The Servant   \n",
       "7   75              Joshua Radin          Hoobastank    System of a Down   \n",
       "8   91                   M. Ward         Sonic Youth         The Strokes   \n",
       "9   94                       Ash   McAlmont & Butler                 Zoé   \n",
       "\n",
       "                  4  \n",
       "0     Jack Off Jill  \n",
       "1         Santigold  \n",
       "2              Ween  \n",
       "3  System of a Down  \n",
       "4       Air Traffic  \n",
       "5             Keane  \n",
       "6    The Stranglers  \n",
       "7       The Murmurs  \n",
       "8    Flogging Molly  \n",
       "9       David Bowie  "
      ]
     },
     "execution_count": 98,
     "metadata": {},
     "output_type": "execute_result"
    }
   ],
   "source": [
    "# RECOMMENDER WOULD WORK LIKE THIS, PASS THROUGH A LIST OF SIMILAR USERS\n",
    "# PERHAPS USERS CLOSEST IN KMEANS CLUSTER OR KNN\n",
    "# THEN GIVE RECOMMENDATIONS BASED ON ARTISTS SIMILAR USERS LIKE\n",
    "# CAN FROM HERE IDENTIFY ARTISTS THAT SIMILAR USERS LIKE, BUT CURRENT USER HASN'T LISTENED TO\n",
    "data_recommend1.iloc[0:10,:5]"
   ]
  },
  {
   "cell_type": "markdown",
   "metadata": {
    "slideshow": {
     "slide_type": "skip"
    }
   },
   "source": [
    "### CONTENT BASED - VERY BASIC, USE TAG INPUT FOR MOST POPULAR IN GENRE"
   ]
  },
  {
   "cell_type": "code",
   "execution_count": 99,
   "metadata": {
    "slideshow": {
     "slide_type": "slide"
    }
   },
   "outputs": [
    {
     "data": {
      "text/plain": [
       "name\n",
       "Radiohead                134351.0\n",
       "Placebo                  106923.0\n",
       "Panic! At the Disco       73818.0\n",
       "Kerli                     34103.0\n",
       "The Smashing Pumpkins     33744.0\n",
       "Name: weight, dtype: float64"
      ]
     },
     "execution_count": 99,
     "metadata": {},
     "output_type": "execute_result"
    }
   ],
   "source": [
    "# CONTENT BASED FILTER\n",
    "# INPUT TAG (CONTENT), EITHER ROCK, POP OR ALTERNATIVE, GET TOP FIVE MOST LISTENED TO ARTISTS\n",
    "tag_of_interest = 'alternative'\n",
    "#tag_of_interest = 'rock'\n",
    "#tag_of_interest = 'pop'\n",
    "df[df['tagValue']==tag_of_interest].groupby('name')['weight'].sum().sort_values(ascending=False).head()"
   ]
  },
  {
   "cell_type": "markdown",
   "metadata": {
    "slideshow": {
     "slide_type": "skip"
    }
   },
   "source": [
    "### CONTENT BASED - VERY BASIC, PROXIMITY TO CENTROID OF CLUSTERS BASED ON GENRE RANKS"
   ]
  },
  {
   "cell_type": "code",
   "execution_count": 100,
   "metadata": {
    "slideshow": {
     "slide_type": "slide"
    }
   },
   "outputs": [
    {
     "data": {
      "text/html": [
       "<div>\n",
       "<style scoped>\n",
       "    .dataframe tbody tr th:only-of-type {\n",
       "        vertical-align: middle;\n",
       "    }\n",
       "\n",
       "    .dataframe tbody tr th {\n",
       "        vertical-align: top;\n",
       "    }\n",
       "\n",
       "    .dataframe thead th {\n",
       "        text-align: right;\n",
       "    }\n",
       "</style>\n",
       "<table border=\"1\" class=\"dataframe\">\n",
       "  <thead>\n",
       "    <tr style=\"text-align: right;\">\n",
       "      <th></th>\n",
       "      <th>userID</th>\n",
       "      <th>cum_weight</th>\n",
       "      <th>cum_rank</th>\n",
       "      <th>alternative_%</th>\n",
       "      <th>pop_%</th>\n",
       "      <th>rock_%</th>\n",
       "      <th>alternative</th>\n",
       "      <th>pop</th>\n",
       "      <th>rock</th>\n",
       "      <th>cl_label</th>\n",
       "      <th>0</th>\n",
       "      <th>1</th>\n",
       "      <th>2</th>\n",
       "    </tr>\n",
       "  </thead>\n",
       "  <tbody>\n",
       "    <tr>\n",
       "      <th>185</th>\n",
       "      <td>378</td>\n",
       "      <td>18552.0</td>\n",
       "      <td>0.001769</td>\n",
       "      <td>0.000000</td>\n",
       "      <td>0.953590</td>\n",
       "      <td>0.046410</td>\n",
       "      <td>0.0</td>\n",
       "      <td>17691.0</td>\n",
       "      <td>861.0</td>\n",
       "      <td>1</td>\n",
       "      <td>1.243106</td>\n",
       "      <td>0.013952</td>\n",
       "      <td>0.876181</td>\n",
       "    </tr>\n",
       "    <tr>\n",
       "      <th>443</th>\n",
       "      <td>905</td>\n",
       "      <td>5606.0</td>\n",
       "      <td>0.000535</td>\n",
       "      <td>0.018908</td>\n",
       "      <td>0.957189</td>\n",
       "      <td>0.023903</td>\n",
       "      <td>106.0</td>\n",
       "      <td>5366.0</td>\n",
       "      <td>134.0</td>\n",
       "      <td>1</td>\n",
       "      <td>1.261106</td>\n",
       "      <td>0.016835</td>\n",
       "      <td>0.882997</td>\n",
       "    </tr>\n",
       "    <tr>\n",
       "      <th>107</th>\n",
       "      <td>214</td>\n",
       "      <td>14156.0</td>\n",
       "      <td>0.001350</td>\n",
       "      <td>0.000000</td>\n",
       "      <td>0.947019</td>\n",
       "      <td>0.052981</td>\n",
       "      <td>0.0</td>\n",
       "      <td>13406.0</td>\n",
       "      <td>750.0</td>\n",
       "      <td>1</td>\n",
       "      <td>1.233820</td>\n",
       "      <td>0.017645</td>\n",
       "      <td>0.868816</td>\n",
       "    </tr>\n",
       "    <tr>\n",
       "      <th>890</th>\n",
       "      <td>1771</td>\n",
       "      <td>8282.0</td>\n",
       "      <td>0.000790</td>\n",
       "      <td>0.000000</td>\n",
       "      <td>0.946993</td>\n",
       "      <td>0.053007</td>\n",
       "      <td>0.0</td>\n",
       "      <td>7843.0</td>\n",
       "      <td>439.0</td>\n",
       "      <td>1</td>\n",
       "      <td>1.233784</td>\n",
       "      <td>0.017667</td>\n",
       "      <td>0.868788</td>\n",
       "    </tr>\n",
       "    <tr>\n",
       "      <th>492</th>\n",
       "      <td>1003</td>\n",
       "      <td>5888.0</td>\n",
       "      <td>0.000561</td>\n",
       "      <td>0.000000</td>\n",
       "      <td>0.946841</td>\n",
       "      <td>0.053159</td>\n",
       "      <td>0.0</td>\n",
       "      <td>5575.0</td>\n",
       "      <td>313.0</td>\n",
       "      <td>1</td>\n",
       "      <td>1.233569</td>\n",
       "      <td>0.017802</td>\n",
       "      <td>0.868617</td>\n",
       "    </tr>\n",
       "  </tbody>\n",
       "</table>\n",
       "</div>"
      ],
      "text/plain": [
       "     userID  cum_weight  cum_rank  alternative_%     pop_%    rock_%  \\\n",
       "185     378     18552.0  0.001769       0.000000  0.953590  0.046410   \n",
       "443     905      5606.0  0.000535       0.018908  0.957189  0.023903   \n",
       "107     214     14156.0  0.001350       0.000000  0.947019  0.052981   \n",
       "890    1771      8282.0  0.000790       0.000000  0.946993  0.053007   \n",
       "492    1003      5888.0  0.000561       0.000000  0.946841  0.053159   \n",
       "\n",
       "     alternative      pop   rock  cl_label         0         1         2  \n",
       "185          0.0  17691.0  861.0         1  1.243106  0.013952  0.876181  \n",
       "443        106.0   5366.0  134.0         1  1.261106  0.016835  0.882997  \n",
       "107          0.0  13406.0  750.0         1  1.233820  0.017645  0.868816  \n",
       "890          0.0   7843.0  439.0         1  1.233784  0.017667  0.868788  \n",
       "492          0.0   5575.0  313.0         1  1.233569  0.017802  0.868617  "
      ]
     },
     "execution_count": 100,
     "metadata": {},
     "output_type": "execute_result"
    }
   ],
   "source": [
    "# CONTENT BASED FILTER\n",
    "# GET FIVE USERS CLOSEST TO CENTROID IN A CLUSTER\n",
    "# INPUT CLUSTER NUMBER\n",
    "cluster_num = 1\n",
    "df_user_genre.sort_values(by=[cluster_num], ascending=True).head()"
   ]
  },
  {
   "cell_type": "markdown",
   "metadata": {
    "slideshow": {
     "slide_type": "slide"
    }
   },
   "source": [
    "### SUMMARY\n",
    "#### Q: A specified research question your model addresses.  \n",
    ">What are the optimal number of clusters given genre inputs? This analysis identifies three as the optimal number of clusters when comparing rock vs pop genres. Meaning users either:  \n",
    ">1) really like rock and not really pop  \n",
    ">2) at best sort of likes rock, at best sort of likes pop  \n",
    ">3) really like pop, but not really rock  \n",
    "\n",
    "#### Q: How you chose your model specification and what alternatives you compared it to.  \n",
    ">Chose K-Means based on WCSS, the elbow method. \n",
    "Used sillouette scores for other clustering algorithms, including GMM and Agglomerative Clustering.  "
   ]
  },
  {
   "cell_type": "markdown",
   "metadata": {
    "slideshow": {
     "slide_type": "slide"
    }
   },
   "source": [
    "#### Q: Quantifiable results based on the research you’ve conducted.  \n",
    ">Results favored euclidean distance in siloutette scores.   \n",
    "Siloutette scores kept going up with cluster number.   \n",
    "Elbow method rate of change appears to have decreased at three and started to flatten at 4.  \n",
    "\n",
    "#### Q: The visuals you chose and what they represent for your research.  \n",
    "> Chose cluster visuals for unstructured data exploration and rational behind cluster choice.  \n",
    "> Chose similarity matrix and output for recommedation engine to show inner workings and end result.  "
   ]
  },
  {
   "cell_type": "markdown",
   "metadata": {
    "slideshow": {
     "slide_type": "slide"
    }
   },
   "source": [
    "#### Your end-user and the value your project provides to them.  \n",
    ">End user is both the corporation implementing the algorithm and the user using the service. By provideing a quality recommendation, this improves overall experience for the user, as well as customer retention for the company. Company benefits from clustering by better understanding the user. Could be used to understand how to advertise, cross market opportunities for artists and many more.  \n",
    "\n",
    "#### The practical uses of your model for an audience of interest.  \n",
    "> Find new artists haven't listened to before that are relevant and interesting.  \n",
    "> Break apart groupings of users to better understand how behavior is broken down outside of traditional labels.  "
   ]
  },
  {
   "cell_type": "markdown",
   "metadata": {
    "slideshow": {
     "slide_type": "slide"
    }
   },
   "source": [
    "#### Potential problems or bias, any weak points or shortcomings of your model.  \n",
    "> Selection bias. Model uses user tags. Not all users enter tags.   \n",
    "> Classification, users don't have a structured approach to tagging.   \n",
    "> Weights based on user listening preferences may overlook artists the user likes, but doesn't listen to on the platform for whatever reason.   \n",
    "> Data sets may have a form of selection bias embedded in them due to irregularity across userID artistID pairs.\n",
    "> Weights can represent the interests of a family or household vs one user.\n",
    "> Approach is simplistic, can deepen with many levels of analysis.   "
   ]
  },
  {
   "cell_type": "markdown",
   "metadata": {
    "slideshow": {
     "slide_type": "slide"
    }
   },
   "source": [
    "#### Additional research proposal  \n",
    ">Compare to KNN recommendation system.  \n",
    "Explore how to rate the performance of recommendation.  \n",
    "Explore appropriate distance metrics for clustering this type of data.\n",
    "Change rank from cumulative to decile rank based on user weighting.\n",
    "Scale, so can perform analysis using all genres.\n",
    "Get closest x nodes to any given nodes in a K-means cluster."
   ]
  },
  {
   "cell_type": "code",
   "execution_count": null,
   "metadata": {},
   "outputs": [],
   "source": []
  }
 ],
 "metadata": {
  "celltoolbar": "Slideshow",
  "kernelspec": {
   "display_name": "Python 3",
   "language": "python",
   "name": "python3"
  },
  "language_info": {
   "codemirror_mode": {
    "name": "ipython",
    "version": 3
   },
   "file_extension": ".py",
   "mimetype": "text/x-python",
   "name": "python",
   "nbconvert_exporter": "python",
   "pygments_lexer": "ipython3",
   "version": "3.7.3"
  }
 },
 "nbformat": 4,
 "nbformat_minor": 2
}
