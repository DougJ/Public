{
 "cells": [
  {
   "cell_type": "markdown",
   "metadata": {
    "slideshow": {
     "slide_type": "slide"
    }
   },
   "source": [
    "## Capstone 4: Unstrucured Learning with Recommendation System for Musical Artistis using Last.fm. "
   ]
  },
  {
   "cell_type": "markdown",
   "metadata": {
    "slideshow": {
     "slide_type": "slide"
    }
   },
   "source": [
    "###    Last.fm website, http://www.lastfm.com \n",
    "    @inproceedings{Cantador:RecSys2011,\n",
    "      author = {Cantador, Iv\\'{a}n and Brusilovsky, Peter and Kuflik, Tsvi},\n",
    "      title = {2nd Workshop on Information Heterogeneity and Fusion in Recommender Systems (HetRec 2011)},\n",
    "      booktitle = {Proceedings of the 5th ACM conference on Recommender systems},\n",
    "      series = {RecSys 2011},\n",
    "      year = {2011},\n",
    "      location = {Chicago, IL, USA},\n",
    "      publisher = {ACM},\n",
    "      address = {New York, NY, USA},\n",
    "      keywords = {information heterogeneity, information integration, recommender systems},\n",
    "   } \n",
    "\n",
    "### Credits\n",
    "   This dataset was built by Ignacio Fernández-Tobías with the collaboration of Iván Cantador and Alejandro Bellogín, \n",
    "   members of the Information Retrieval group at Universidad Autonoma de Madrid (http://ir.ii.uam.es)\n",
    "\n",
    "   \n",
    "### Contact\n",
    "   Iván Cantador, ivan [dot] cantador [at] uam [dot] es"
   ]
  },
  {
   "cell_type": "markdown",
   "metadata": {
    "slideshow": {
     "slide_type": "slide"
    }
   },
   "source": [
    "Why I chose this dataset:  \n",
    "1) To stretch myself with a dataset that isn't frequently used, and where there are not a lot of recommender examples in contrast to a well known set such as MovieLens.\n",
    "\n",
    "2) Recommender systems are frequently used in business, and they are of interest to me.  \n",
    "\n",
    "3) This is similar to capstone 4 suggestion, \"Netflix wants to identify similar movies based on movie characteristics.\" Rather than just output content based recommendations, members in a similar cluster or group, built collaborative and content based filters to recommend an artist based on similarities in ratings."
   ]
  },
  {
   "cell_type": "markdown",
   "metadata": {
    "slideshow": {
     "slide_type": "skip"
    }
   },
   "source": [
    "#### To run slideshow:\n",
    "\n",
    "jupyter nbconvert Jupyter\\ C:\\Users\\DJ\\Documents\\AnacondaPython\\Thinkful\\C4.ipynb --to slides --post serve"
   ]
  },
  {
   "cell_type": "markdown",
   "metadata": {
    "slideshow": {
     "slide_type": "slide"
    }
   },
   "source": [
    "### Problem Statement:\n",
    "After prepocessing data and generating a rating score, identify optimal number of clusters and make artist recommendations based on collaborative and content based clustering.\n",
    "\n",
    "#### Clustering: cluster user ratings in three genres. \n",
    "A) K-Means  \n",
    "B) Agglomorative  \n",
    "C) GMM  \n",
    "D) Dimension Reduction - UMAP  \n",
    "\n",
    "#### Recommendation Systems: \n",
    "A) Collaborative recommendation - Recommend artist based on artist listening to.  \n",
    "B) Collaborative recommendation - Recommend artist based on similar users.  \n",
    "C) Content recommendation - Recommend artist based on genre.   "
   ]
  },
  {
   "cell_type": "code",
   "execution_count": 1,
   "metadata": {
    "slideshow": {
     "slide_type": "slide"
    }
   },
   "outputs": [],
   "source": [
    "# HIGH LEVEL DATA PLAN\n",
    "\n",
    "# PREPROCESSING\n",
    "    # IMPORT DATA\n",
    "    # BASIC EDA\n",
    "    # MERGE DIFFERENT FILES INTO ONE DATAFRAME\n",
    "    # CREATE RANKING SYSTEM BASED ON USER LISTENS# \n",
    "    # UNIFY TAGS BY HAVING MOST USED TAG FOR EACH ARTIST BE THE TAG FOR ARTIST\n",
    "\n",
    "# CLUSTERING \n",
    "    # NORMALIZE\n",
    "    # KMEANS\n",
    "    # AGGLOMERATIVE CLUSTERING\n",
    "    # GMM\n",
    "    # DIMENSION REDUCTION - UMAP\n",
    "\n",
    "# RECOMMENDER SYSTEMS, COLLABORATIVE FILTERING, CONTENT FILTERING\n",
    "    #COLLABORATIVE \n",
    "        # 1) RECOMMENDATION OF ARTIST BASED ON SIMILARITY TO OTHER ARTISTS\n",
    "        # 2) RECOMMENDATION OF ARTIST BASED ON SIMILARITY TO OTHER USERS\n",
    "    # CONTENT BASED\n",
    "        # GENRE AS CONTENT CHARACTERISTIC. RECOMMEND MOST POPULAR (HIGHEST RATED) IN GENRE"
   ]
  },
  {
   "cell_type": "code",
   "execution_count": 2,
   "metadata": {
    "slideshow": {
     "slide_type": "skip"
    }
   },
   "outputs": [],
   "source": [
    "import numpy as np\n",
    "import pandas as pd\n",
    "import seaborn as sns\n",
    "import matplotlib.pyplot as plt\n",
    "%matplotlib inline\n",
    "\n",
    "from datetime import datetime\n",
    "import time\n",
    "import os\n",
    "#import re\n",
    "\n",
    "from scipy.stats import ttest_ind\n",
    "\n",
    "from scipy.cluster.hierarchy import dendrogram, linkage\n",
    "from sklearn.cluster import AgglomerativeClustering, KMeans\n",
    "\n",
    "#from sklearn.preprocessing import StandardScaler, PowerTransformer # Yeo-Johnson or Boxcox\n",
    "from sklearn.decomposition import PCA\n",
    "from sklearn.model_selection import train_test_split\n",
    "from sklearn import metrics"
   ]
  },
  {
   "cell_type": "code",
   "execution_count": 3,
   "metadata": {
    "slideshow": {
     "slide_type": "skip"
    }
   },
   "outputs": [
    {
     "name": "stdout",
     "output_type": "stream",
     "text": [
      "['artists.dat', 'lastFM_dj.csv', 'readme.txt', 'tags.dat', 'user_artists.dat', 'user_friends.dat', 'user_taggedartists-timestamps.dat', 'user_taggedartists.dat']\n"
     ]
    }
   ],
   "source": [
    "# OUTPUT FILES IN DIRECTORY\n",
    "print(os.listdir(\"../Thinkful/FilesToLoad/lastfm_2k\"))"
   ]
  },
  {
   "cell_type": "code",
   "execution_count": 4,
   "metadata": {
    "slideshow": {
     "slide_type": "skip"
    }
   },
   "outputs": [],
   "source": [
    "# lOAD TAG FILE. THESE ARE TAGIDs TO TAGS (HASHTAGS) IN ANOTHER FILE\n",
    "user_taggedartists=pd.read_csv('../Thinkful/FilesToLoad/lastfm_2k/user_taggedartists.dat',\n",
    "                               sep='\\t')"
   ]
  },
  {
   "cell_type": "code",
   "execution_count": 5,
   "metadata": {
    "slideshow": {
     "slide_type": "skip"
    }
   },
   "outputs": [],
   "source": [
    "# LOAD USAGE OF ARTIST BY USER FILE. \n",
    "user_artists=pd.read_csv('../Thinkful/FilesToLoad/lastfm_2k/user_artists.dat', sep='\\t')"
   ]
  },
  {
   "cell_type": "code",
   "execution_count": 6,
   "metadata": {
    "slideshow": {
     "slide_type": "skip"
    }
   },
   "outputs": [],
   "source": [
    "# LOAD ARTISTID FILE\n",
    "artists=pd.read_csv('../Thinkful/FilesToLoad/lastfm_2k/artists.dat', sep='\\t')"
   ]
  },
  {
   "cell_type": "code",
   "execution_count": 7,
   "metadata": {
    "slideshow": {
     "slide_type": "skip"
    }
   },
   "outputs": [],
   "source": [
    "# LOAD HASHTAG FILE, EX ROCK, POP, DINNER MUSIC, ...\n",
    "tags=pd.read_csv('../Thinkful/FilesToLoad/lastfm_2k/tags.dat',encoding=\"ISO-8859-1\", sep='\\t')"
   ]
  },
  {
   "cell_type": "code",
   "execution_count": 8,
   "metadata": {
    "slideshow": {
     "slide_type": "skip"
    }
   },
   "outputs": [
    {
     "data": {
      "text/html": [
       "<div>\n",
       "<style scoped>\n",
       "    .dataframe tbody tr th:only-of-type {\n",
       "        vertical-align: middle;\n",
       "    }\n",
       "\n",
       "    .dataframe tbody tr th {\n",
       "        vertical-align: top;\n",
       "    }\n",
       "\n",
       "    .dataframe thead th {\n",
       "        text-align: right;\n",
       "    }\n",
       "</style>\n",
       "<table border=\"1\" class=\"dataframe\">\n",
       "  <thead>\n",
       "    <tr style=\"text-align: right;\">\n",
       "      <th></th>\n",
       "      <th>userID</th>\n",
       "      <th>artistID</th>\n",
       "      <th>tagID</th>\n",
       "      <th>day</th>\n",
       "      <th>month</th>\n",
       "      <th>year</th>\n",
       "    </tr>\n",
       "  </thead>\n",
       "  <tbody>\n",
       "    <tr>\n",
       "      <th>0</th>\n",
       "      <td>2</td>\n",
       "      <td>52</td>\n",
       "      <td>13</td>\n",
       "      <td>1</td>\n",
       "      <td>4</td>\n",
       "      <td>2009</td>\n",
       "    </tr>\n",
       "    <tr>\n",
       "      <th>1</th>\n",
       "      <td>2</td>\n",
       "      <td>52</td>\n",
       "      <td>15</td>\n",
       "      <td>1</td>\n",
       "      <td>4</td>\n",
       "      <td>2009</td>\n",
       "    </tr>\n",
       "    <tr>\n",
       "      <th>2</th>\n",
       "      <td>2</td>\n",
       "      <td>52</td>\n",
       "      <td>18</td>\n",
       "      <td>1</td>\n",
       "      <td>4</td>\n",
       "      <td>2009</td>\n",
       "    </tr>\n",
       "    <tr>\n",
       "      <th>3</th>\n",
       "      <td>2</td>\n",
       "      <td>52</td>\n",
       "      <td>21</td>\n",
       "      <td>1</td>\n",
       "      <td>4</td>\n",
       "      <td>2009</td>\n",
       "    </tr>\n",
       "    <tr>\n",
       "      <th>4</th>\n",
       "      <td>2</td>\n",
       "      <td>52</td>\n",
       "      <td>41</td>\n",
       "      <td>1</td>\n",
       "      <td>4</td>\n",
       "      <td>2009</td>\n",
       "    </tr>\n",
       "  </tbody>\n",
       "</table>\n",
       "</div>"
      ],
      "text/plain": [
       "   userID  artistID  tagID  day  month  year\n",
       "0       2        52     13    1      4  2009\n",
       "1       2        52     15    1      4  2009\n",
       "2       2        52     18    1      4  2009\n",
       "3       2        52     21    1      4  2009\n",
       "4       2        52     41    1      4  2009"
      ]
     },
     "execution_count": 8,
     "metadata": {},
     "output_type": "execute_result"
    }
   ],
   "source": [
    "user_taggedartists.head(5)"
   ]
  },
  {
   "cell_type": "code",
   "execution_count": 9,
   "metadata": {
    "slideshow": {
     "slide_type": "skip"
    }
   },
   "outputs": [
    {
     "name": "stdout",
     "output_type": "stream",
     "text": [
      "\n",
      "check shape:\n",
      "(186479, 6)\n",
      "\n",
      "check for nulls:\n",
      "userID      0.0\n",
      "artistID    0.0\n",
      "tagID       0.0\n",
      "day         0.0\n",
      "month       0.0\n",
      "year        0.0\n",
      "dtype: float64\n",
      "\n",
      "check for duplicates:\n",
      "(0, 6)\n"
     ]
    }
   ],
   "source": [
    "print(\"\\ncheck shape:\\n{}\".format(user_taggedartists.shape))\n",
    "print(\"\\ncheck for nulls:\\n{}\".format(user_taggedartists.isnull().mean()))\n",
    "print(\"\\ncheck for duplicates:\\n{}\".format(user_taggedartists[user_taggedartists.duplicated()].shape))\n",
    "\n",
    "# NO NULLS OR DUPLICATES"
   ]
  },
  {
   "cell_type": "code",
   "execution_count": 10,
   "metadata": {
    "slideshow": {
     "slide_type": "skip"
    }
   },
   "outputs": [],
   "source": [
    "# CREATE PRIMARY DATAFRAME, LOAD IN DATA WILL USE\n",
    "# WON'T BE USING DAY MONTH YEAR IN THIS PROJECT\n",
    "df=user_taggedartists.drop(columns=['day','month','year']).copy()"
   ]
  },
  {
   "cell_type": "code",
   "execution_count": 11,
   "metadata": {
    "slideshow": {
     "slide_type": "skip"
    }
   },
   "outputs": [
    {
     "data": {
      "text/html": [
       "<div>\n",
       "<style scoped>\n",
       "    .dataframe tbody tr th:only-of-type {\n",
       "        vertical-align: middle;\n",
       "    }\n",
       "\n",
       "    .dataframe tbody tr th {\n",
       "        vertical-align: top;\n",
       "    }\n",
       "\n",
       "    .dataframe thead th {\n",
       "        text-align: right;\n",
       "    }\n",
       "</style>\n",
       "<table border=\"1\" class=\"dataframe\">\n",
       "  <thead>\n",
       "    <tr style=\"text-align: right;\">\n",
       "      <th></th>\n",
       "      <th>userID</th>\n",
       "      <th>artistID</th>\n",
       "      <th>tagID</th>\n",
       "    </tr>\n",
       "  </thead>\n",
       "  <tbody>\n",
       "    <tr>\n",
       "      <th>0</th>\n",
       "      <td>2</td>\n",
       "      <td>52</td>\n",
       "      <td>13</td>\n",
       "    </tr>\n",
       "    <tr>\n",
       "      <th>1</th>\n",
       "      <td>2</td>\n",
       "      <td>52</td>\n",
       "      <td>15</td>\n",
       "    </tr>\n",
       "    <tr>\n",
       "      <th>2</th>\n",
       "      <td>2</td>\n",
       "      <td>52</td>\n",
       "      <td>18</td>\n",
       "    </tr>\n",
       "    <tr>\n",
       "      <th>3</th>\n",
       "      <td>2</td>\n",
       "      <td>52</td>\n",
       "      <td>21</td>\n",
       "    </tr>\n",
       "    <tr>\n",
       "      <th>4</th>\n",
       "      <td>2</td>\n",
       "      <td>52</td>\n",
       "      <td>41</td>\n",
       "    </tr>\n",
       "  </tbody>\n",
       "</table>\n",
       "</div>"
      ],
      "text/plain": [
       "   userID  artistID  tagID\n",
       "0       2        52     13\n",
       "1       2        52     15\n",
       "2       2        52     18\n",
       "3       2        52     21\n",
       "4       2        52     41"
      ]
     },
     "execution_count": 11,
     "metadata": {},
     "output_type": "execute_result"
    }
   ],
   "source": [
    "df.head()"
   ]
  },
  {
   "cell_type": "code",
   "execution_count": 12,
   "metadata": {
    "slideshow": {
     "slide_type": "skip"
    }
   },
   "outputs": [],
   "source": [
    "# CREATE ONE TAG FOR EACH ARTIST TO USE AS A REFERENCE POINT TO CLUSTER ON\n",
    "# THE ONE TAG WILL BE BASED ON MOST FREQUENT TAG ENTERED BY USERS FOR ANY GIVEN ARTIST\n",
    "# ALT AND BETTER APPROACH: FIND AN INDUSTRY STANDARD MAPPING FOR ARTIST TO MUSIC CATEGORIES\n",
    "\n",
    "# CREATE A NEW TAG FEATURE\n",
    "df['tagID_new']=0\n",
    "\n",
    "# POPULATE GENRE ('tagValue') WITH MOST FREQUENTLY CITED FOR ARTIST\n",
    "for artist_name in df['artistID'].unique():\n",
    "    df_temp = df[df['artistID']==artist_name]\n",
    "    max_tag = df_temp['tagID'].value_counts().idxmax()\n",
    "    # df['tagValue'].value_counts().max() # FOR THE NUMBER\n",
    "    #print(\"{} is {}\".format(artist_name, max_tag))\n",
    "    df.loc[(df['artistID'] == artist_name),'tagID_new'] = max_tag"
   ]
  },
  {
   "cell_type": "code",
   "execution_count": 13,
   "metadata": {
    "slideshow": {
     "slide_type": "skip"
    }
   },
   "outputs": [
    {
     "data": {
      "text/html": [
       "<div>\n",
       "<style scoped>\n",
       "    .dataframe tbody tr th:only-of-type {\n",
       "        vertical-align: middle;\n",
       "    }\n",
       "\n",
       "    .dataframe tbody tr th {\n",
       "        vertical-align: top;\n",
       "    }\n",
       "\n",
       "    .dataframe thead th {\n",
       "        text-align: right;\n",
       "    }\n",
       "</style>\n",
       "<table border=\"1\" class=\"dataframe\">\n",
       "  <thead>\n",
       "    <tr style=\"text-align: right;\">\n",
       "      <th></th>\n",
       "      <th>userID</th>\n",
       "      <th>artistID</th>\n",
       "      <th>tagID</th>\n",
       "      <th>tagID_new</th>\n",
       "    </tr>\n",
       "  </thead>\n",
       "  <tbody>\n",
       "    <tr>\n",
       "      <th>0</th>\n",
       "      <td>2</td>\n",
       "      <td>52</td>\n",
       "      <td>13</td>\n",
       "      <td>21</td>\n",
       "    </tr>\n",
       "    <tr>\n",
       "      <th>1</th>\n",
       "      <td>2</td>\n",
       "      <td>52</td>\n",
       "      <td>15</td>\n",
       "      <td>21</td>\n",
       "    </tr>\n",
       "    <tr>\n",
       "      <th>2</th>\n",
       "      <td>2</td>\n",
       "      <td>52</td>\n",
       "      <td>18</td>\n",
       "      <td>21</td>\n",
       "    </tr>\n",
       "    <tr>\n",
       "      <th>3</th>\n",
       "      <td>2</td>\n",
       "      <td>52</td>\n",
       "      <td>21</td>\n",
       "      <td>21</td>\n",
       "    </tr>\n",
       "    <tr>\n",
       "      <th>4</th>\n",
       "      <td>2</td>\n",
       "      <td>52</td>\n",
       "      <td>41</td>\n",
       "      <td>21</td>\n",
       "    </tr>\n",
       "  </tbody>\n",
       "</table>\n",
       "</div>"
      ],
      "text/plain": [
       "   userID  artistID  tagID  tagID_new\n",
       "0       2        52     13         21\n",
       "1       2        52     15         21\n",
       "2       2        52     18         21\n",
       "3       2        52     21         21\n",
       "4       2        52     41         21"
      ]
     },
     "execution_count": 13,
     "metadata": {},
     "output_type": "execute_result"
    }
   ],
   "source": [
    "df.head()"
   ]
  },
  {
   "cell_type": "code",
   "execution_count": 14,
   "metadata": {
    "slideshow": {
     "slide_type": "skip"
    }
   },
   "outputs": [
    {
     "name": "stdout",
     "output_type": "stream",
     "text": [
      "artistID: 1\ttagID_new: 139\n",
      "artistID: 2\ttagID_new: 575\n",
      "artistID: 3\ttagID_new: 4\n",
      "artistID: 4\ttagID_new: 139\n",
      "artistID: 5\ttagID_new: 575\n"
     ]
    }
   ],
   "source": [
    "# lOOK AT NEW TAGS BY ARTIST\n",
    "grouped = df.groupby(['artistID','tagID_new']).groups\n",
    "\n",
    "cnt = 0\n",
    "for artist, tag in grouped:\n",
    "    cnt += 1\n",
    "    if cnt < 6:\n",
    "        print (\"artistID: {}\\ttagID_new: {}\".format(artist,tag))"
   ]
  },
  {
   "cell_type": "code",
   "execution_count": 15,
   "metadata": {
    "slideshow": {
     "slide_type": "skip"
    }
   },
   "outputs": [],
   "source": [
    "# DROP OLD tagID\n",
    "df.drop(columns='tagID', axis=1, inplace=True)"
   ]
  },
  {
   "cell_type": "code",
   "execution_count": 16,
   "metadata": {
    "slideshow": {
     "slide_type": "skip"
    }
   },
   "outputs": [
    {
     "name": "stdout",
     "output_type": "stream",
     "text": [
      "shape prior to dropping duplicates:\n",
      " (186479, 3)\n",
      "shape of dupplicates prior to dropping duplicates:\n",
      " (115415, 3)\n",
      "shape after dropping duplicates:\n",
      " (71064, 3)\n"
     ]
    },
    {
     "data": {
      "text/plain": [
       "(71064, 3)"
      ]
     },
     "execution_count": 16,
     "metadata": {},
     "output_type": "execute_result"
    }
   ],
   "source": [
    "# HAVE UNIFIED SUNDRY TAG LABELS INTO ONE LABEL PER ARTIST, THIS CREATED DUPLICATE\n",
    "\n",
    "# CHECK FOR DUPLICATES\n",
    "print(\"shape prior to dropping duplicates:\\n {}\".format(df.shape))\n",
    "# SHAPE OF DUPLICATES:\n",
    "print(\"shape of dupplicates prior to dropping duplicates:\\n {}\".format(df[df.duplicated()].shape))\n",
    "# DROP DUPLICATES\n",
    "df.drop_duplicates(keep='first', inplace=True)\n",
    "# SHAPE AFTER DROPPING DUPLICATES\n",
    "print(\"shape after dropping duplicates:\\n {}\".format(df.shape))\n",
    "df.shape"
   ]
  },
  {
   "cell_type": "code",
   "execution_count": 17,
   "metadata": {
    "slideshow": {
     "slide_type": "skip"
    }
   },
   "outputs": [
    {
     "name": "stdout",
     "output_type": "stream",
     "text": [
      "\n",
      "check shape:\n",
      "(71064, 3)\n",
      "\n",
      "check for nulls:\n",
      "userID       0.0\n",
      "artistID     0.0\n",
      "tagID_new    0.0\n",
      "dtype: float64\n",
      "\n",
      "check for duplicates:\n",
      "(0, 3)\n"
     ]
    }
   ],
   "source": [
    "print(\"\\ncheck shape:\\n{}\".format(df.shape))\n",
    "print(\"\\ncheck for nulls:\\n{}\".format(df.isnull().mean()))\n",
    "print(\"\\ncheck for duplicates:\\n{}\".format(df[df.duplicated()].shape))\n",
    "\n",
    "# NO NULLS OR DUPLICATES"
   ]
  },
  {
   "cell_type": "code",
   "execution_count": 18,
   "metadata": {
    "slideshow": {
     "slide_type": "skip"
    }
   },
   "outputs": [
    {
     "data": {
      "text/html": [
       "<div>\n",
       "<style scoped>\n",
       "    .dataframe tbody tr th:only-of-type {\n",
       "        vertical-align: middle;\n",
       "    }\n",
       "\n",
       "    .dataframe tbody tr th {\n",
       "        vertical-align: top;\n",
       "    }\n",
       "\n",
       "    .dataframe thead th {\n",
       "        text-align: right;\n",
       "    }\n",
       "</style>\n",
       "<table border=\"1\" class=\"dataframe\">\n",
       "  <thead>\n",
       "    <tr style=\"text-align: right;\">\n",
       "      <th></th>\n",
       "      <th>id</th>\n",
       "      <th>name</th>\n",
       "      <th>url</th>\n",
       "      <th>pictureURL</th>\n",
       "    </tr>\n",
       "  </thead>\n",
       "  <tbody>\n",
       "    <tr>\n",
       "      <th>0</th>\n",
       "      <td>1</td>\n",
       "      <td>MALICE MIZER</td>\n",
       "      <td>http://www.last.fm/music/MALICE+MIZER</td>\n",
       "      <td>http://userserve-ak.last.fm/serve/252/10808.jpg</td>\n",
       "    </tr>\n",
       "    <tr>\n",
       "      <th>1</th>\n",
       "      <td>2</td>\n",
       "      <td>Diary of Dreams</td>\n",
       "      <td>http://www.last.fm/music/Diary+of+Dreams</td>\n",
       "      <td>http://userserve-ak.last.fm/serve/252/3052066.jpg</td>\n",
       "    </tr>\n",
       "    <tr>\n",
       "      <th>2</th>\n",
       "      <td>3</td>\n",
       "      <td>Carpathian Forest</td>\n",
       "      <td>http://www.last.fm/music/Carpathian+Forest</td>\n",
       "      <td>http://userserve-ak.last.fm/serve/252/40222717...</td>\n",
       "    </tr>\n",
       "    <tr>\n",
       "      <th>3</th>\n",
       "      <td>4</td>\n",
       "      <td>Moi dix Mois</td>\n",
       "      <td>http://www.last.fm/music/Moi+dix+Mois</td>\n",
       "      <td>http://userserve-ak.last.fm/serve/252/54697835...</td>\n",
       "    </tr>\n",
       "    <tr>\n",
       "      <th>4</th>\n",
       "      <td>5</td>\n",
       "      <td>Bella Morte</td>\n",
       "      <td>http://www.last.fm/music/Bella+Morte</td>\n",
       "      <td>http://userserve-ak.last.fm/serve/252/14789013...</td>\n",
       "    </tr>\n",
       "  </tbody>\n",
       "</table>\n",
       "</div>"
      ],
      "text/plain": [
       "   id               name                                         url  \\\n",
       "0   1       MALICE MIZER       http://www.last.fm/music/MALICE+MIZER   \n",
       "1   2    Diary of Dreams    http://www.last.fm/music/Diary+of+Dreams   \n",
       "2   3  Carpathian Forest  http://www.last.fm/music/Carpathian+Forest   \n",
       "3   4       Moi dix Mois       http://www.last.fm/music/Moi+dix+Mois   \n",
       "4   5        Bella Morte        http://www.last.fm/music/Bella+Morte   \n",
       "\n",
       "                                          pictureURL  \n",
       "0    http://userserve-ak.last.fm/serve/252/10808.jpg  \n",
       "1  http://userserve-ak.last.fm/serve/252/3052066.jpg  \n",
       "2  http://userserve-ak.last.fm/serve/252/40222717...  \n",
       "3  http://userserve-ak.last.fm/serve/252/54697835...  \n",
       "4  http://userserve-ak.last.fm/serve/252/14789013...  "
      ]
     },
     "execution_count": 18,
     "metadata": {},
     "output_type": "execute_result"
    }
   ],
   "source": [
    "artists.head()"
   ]
  },
  {
   "cell_type": "code",
   "execution_count": 19,
   "metadata": {
    "slideshow": {
     "slide_type": "skip"
    }
   },
   "outputs": [],
   "source": [
    "# PREPARE TO MERGE ARTISTS INTO df BY ESTABLISHING artistID, WILL USE TO MAP\n",
    "artists.columns=['artistID','name','url','pictureURL']"
   ]
  },
  {
   "cell_type": "code",
   "execution_count": 20,
   "metadata": {
    "slideshow": {
     "slide_type": "skip"
    }
   },
   "outputs": [
    {
     "name": "stdout",
     "output_type": "stream",
     "text": [
      "\n",
      "check shape:\n",
      "(17632, 4)\n",
      "\n",
      "check for nulls:\n",
      "artistID      0.000000\n",
      "name          0.000000\n",
      "url           0.000000\n",
      "pictureURL    0.025181\n",
      "dtype: float64\n",
      "\n",
      "check for duplicates:\n",
      "(0, 4)\n"
     ]
    }
   ],
   "source": [
    "print(\"\\ncheck shape:\\n{}\".format(artists.shape))\n",
    "print(\"\\ncheck for nulls:\\n{}\".format(artists.isnull().mean()))\n",
    "print(\"\\ncheck for duplicates:\\n{}\".format(artists[artists.duplicated()].shape))\n",
    "# NOT USING pictureURL, can ignore"
   ]
  },
  {
   "cell_type": "code",
   "execution_count": 21,
   "metadata": {
    "slideshow": {
     "slide_type": "skip"
    }
   },
   "outputs": [
    {
     "data": {
      "text/html": [
       "<div>\n",
       "<style scoped>\n",
       "    .dataframe tbody tr th:only-of-type {\n",
       "        vertical-align: middle;\n",
       "    }\n",
       "\n",
       "    .dataframe tbody tr th {\n",
       "        vertical-align: top;\n",
       "    }\n",
       "\n",
       "    .dataframe thead th {\n",
       "        text-align: right;\n",
       "    }\n",
       "</style>\n",
       "<table border=\"1\" class=\"dataframe\">\n",
       "  <thead>\n",
       "    <tr style=\"text-align: right;\">\n",
       "      <th></th>\n",
       "      <th>userID</th>\n",
       "      <th>artistID</th>\n",
       "      <th>tagID_new</th>\n",
       "      <th>name</th>\n",
       "    </tr>\n",
       "  </thead>\n",
       "  <tbody>\n",
       "    <tr>\n",
       "      <th>0</th>\n",
       "      <td>2</td>\n",
       "      <td>52</td>\n",
       "      <td>21</td>\n",
       "      <td>Morcheeba</td>\n",
       "    </tr>\n",
       "    <tr>\n",
       "      <th>5</th>\n",
       "      <td>2</td>\n",
       "      <td>63</td>\n",
       "      <td>14</td>\n",
       "      <td>Enigma</td>\n",
       "    </tr>\n",
       "    <tr>\n",
       "      <th>9</th>\n",
       "      <td>2</td>\n",
       "      <td>73</td>\n",
       "      <td>13</td>\n",
       "      <td>Café Del Mar</td>\n",
       "    </tr>\n",
       "    <tr>\n",
       "      <th>17</th>\n",
       "      <td>2</td>\n",
       "      <td>94</td>\n",
       "      <td>15</td>\n",
       "      <td>Ministry of Sound</td>\n",
       "    </tr>\n",
       "    <tr>\n",
       "      <th>25</th>\n",
       "      <td>2</td>\n",
       "      <td>96</td>\n",
       "      <td>192</td>\n",
       "      <td>Fleetwood Mac</td>\n",
       "    </tr>\n",
       "  </tbody>\n",
       "</table>\n",
       "</div>"
      ],
      "text/plain": [
       "    userID  artistID  tagID_new               name\n",
       "0        2        52         21          Morcheeba\n",
       "5        2        63         14             Enigma\n",
       "9        2        73         13       Café Del Mar\n",
       "17       2        94         15  Ministry of Sound\n",
       "25       2        96        192      Fleetwood Mac"
      ]
     },
     "execution_count": 21,
     "metadata": {},
     "output_type": "execute_result"
    }
   ],
   "source": [
    "# GET ARTIST NAME FIELD INTO df BY MAPPING artistID\n",
    "df['name']=''\n",
    "df['name'] = df['artistID'].map(artists.set_index('artistID')['name'])\n",
    "df.head()"
   ]
  },
  {
   "cell_type": "code",
   "execution_count": 22,
   "metadata": {
    "slideshow": {
     "slide_type": "skip"
    }
   },
   "outputs": [
    {
     "data": {
      "text/html": [
       "<div>\n",
       "<style scoped>\n",
       "    .dataframe tbody tr th:only-of-type {\n",
       "        vertical-align: middle;\n",
       "    }\n",
       "\n",
       "    .dataframe tbody tr th {\n",
       "        vertical-align: top;\n",
       "    }\n",
       "\n",
       "    .dataframe thead th {\n",
       "        text-align: right;\n",
       "    }\n",
       "</style>\n",
       "<table border=\"1\" class=\"dataframe\">\n",
       "  <thead>\n",
       "    <tr style=\"text-align: right;\">\n",
       "      <th></th>\n",
       "      <th>tagID</th>\n",
       "      <th>tagValue</th>\n",
       "    </tr>\n",
       "  </thead>\n",
       "  <tbody>\n",
       "    <tr>\n",
       "      <th>0</th>\n",
       "      <td>1</td>\n",
       "      <td>metal</td>\n",
       "    </tr>\n",
       "    <tr>\n",
       "      <th>1</th>\n",
       "      <td>2</td>\n",
       "      <td>alternative metal</td>\n",
       "    </tr>\n",
       "    <tr>\n",
       "      <th>2</th>\n",
       "      <td>3</td>\n",
       "      <td>goth rock</td>\n",
       "    </tr>\n",
       "    <tr>\n",
       "      <th>3</th>\n",
       "      <td>4</td>\n",
       "      <td>black metal</td>\n",
       "    </tr>\n",
       "    <tr>\n",
       "      <th>4</th>\n",
       "      <td>5</td>\n",
       "      <td>death metal</td>\n",
       "    </tr>\n",
       "  </tbody>\n",
       "</table>\n",
       "</div>"
      ],
      "text/plain": [
       "   tagID           tagValue\n",
       "0      1              metal\n",
       "1      2  alternative metal\n",
       "2      3          goth rock\n",
       "3      4        black metal\n",
       "4      5        death metal"
      ]
     },
     "execution_count": 22,
     "metadata": {},
     "output_type": "execute_result"
    }
   ],
   "source": [
    "# LOOK AT TAG IMPORT\n",
    "tags.head()"
   ]
  },
  {
   "cell_type": "code",
   "execution_count": 23,
   "metadata": {
    "slideshow": {
     "slide_type": "skip"
    }
   },
   "outputs": [
    {
     "name": "stdout",
     "output_type": "stream",
     "text": [
      "\n",
      "check shape:\n",
      "(11946, 2)\n",
      "\n",
      "check for nulls:\n",
      "tagID       0.0\n",
      "tagValue    0.0\n",
      "dtype: float64\n",
      "\n",
      "check for duplicates:\n",
      "(0, 2)\n"
     ]
    }
   ],
   "source": [
    "print(\"\\ncheck shape:\\n{}\".format(tags.shape))\n",
    "print(\"\\ncheck for nulls:\\n{}\".format(tags.isnull().mean()))\n",
    "print(\"\\ncheck for duplicates:\\n{}\".format(tags[tags.duplicated()].shape))\n",
    "\n",
    "# NO NULLS OR DUPLICATES"
   ]
  },
  {
   "cell_type": "code",
   "execution_count": 24,
   "metadata": {
    "slideshow": {
     "slide_type": "skip"
    }
   },
   "outputs": [
    {
     "data": {
      "text/html": [
       "<div>\n",
       "<style scoped>\n",
       "    .dataframe tbody tr th:only-of-type {\n",
       "        vertical-align: middle;\n",
       "    }\n",
       "\n",
       "    .dataframe tbody tr th {\n",
       "        vertical-align: top;\n",
       "    }\n",
       "\n",
       "    .dataframe thead th {\n",
       "        text-align: right;\n",
       "    }\n",
       "</style>\n",
       "<table border=\"1\" class=\"dataframe\">\n",
       "  <thead>\n",
       "    <tr style=\"text-align: right;\">\n",
       "      <th></th>\n",
       "      <th>userID</th>\n",
       "      <th>artistID</th>\n",
       "      <th>tagID_new</th>\n",
       "      <th>name</th>\n",
       "      <th>tagValue</th>\n",
       "    </tr>\n",
       "  </thead>\n",
       "  <tbody>\n",
       "    <tr>\n",
       "      <th>0</th>\n",
       "      <td>2</td>\n",
       "      <td>52</td>\n",
       "      <td>21</td>\n",
       "      <td>Morcheeba</td>\n",
       "      <td>trip-hop</td>\n",
       "    </tr>\n",
       "    <tr>\n",
       "      <th>5</th>\n",
       "      <td>2</td>\n",
       "      <td>63</td>\n",
       "      <td>14</td>\n",
       "      <td>Enigma</td>\n",
       "      <td>ambient</td>\n",
       "    </tr>\n",
       "    <tr>\n",
       "      <th>9</th>\n",
       "      <td>2</td>\n",
       "      <td>73</td>\n",
       "      <td>13</td>\n",
       "      <td>Café Del Mar</td>\n",
       "      <td>chillout</td>\n",
       "    </tr>\n",
       "    <tr>\n",
       "      <th>17</th>\n",
       "      <td>2</td>\n",
       "      <td>94</td>\n",
       "      <td>15</td>\n",
       "      <td>Ministry of Sound</td>\n",
       "      <td>downtempo</td>\n",
       "    </tr>\n",
       "    <tr>\n",
       "      <th>25</th>\n",
       "      <td>2</td>\n",
       "      <td>96</td>\n",
       "      <td>192</td>\n",
       "      <td>Fleetwood Mac</td>\n",
       "      <td>classic rock</td>\n",
       "    </tr>\n",
       "  </tbody>\n",
       "</table>\n",
       "</div>"
      ],
      "text/plain": [
       "    userID  artistID  tagID_new               name      tagValue\n",
       "0        2        52         21          Morcheeba      trip-hop\n",
       "5        2        63         14             Enigma       ambient\n",
       "9        2        73         13       Café Del Mar      chillout\n",
       "17       2        94         15  Ministry of Sound     downtempo\n",
       "25       2        96        192      Fleetwood Mac  classic rock"
      ]
     },
     "execution_count": 24,
     "metadata": {},
     "output_type": "execute_result"
    }
   ],
   "source": [
    "# MERGE tagVALUE INTO df BY MAPPING ON tagID WITH tagID_new\n",
    "df['tagValue']=''\n",
    "df['tagValue'] = df['tagID_new'].map(tags.set_index('tagID')['tagValue'])\n",
    "# NOW HAVE NUMERIC IDS WITH ARTIST NAMES AND USER ELECTED GENRE DESIGNATION\n",
    "df.head()"
   ]
  },
  {
   "cell_type": "code",
   "execution_count": 25,
   "metadata": {
    "slideshow": {
     "slide_type": "skip"
    }
   },
   "outputs": [
    {
     "name": "stdout",
     "output_type": "stream",
     "text": [
      "\n",
      "check shape:\n",
      "(71064, 5)\n",
      "\n",
      "check for nulls:\n",
      "userID       0.000000\n",
      "artistID     0.000000\n",
      "tagID_new    0.000000\n",
      "name         0.010793\n",
      "tagValue     0.000000\n",
      "dtype: float64\n",
      "\n",
      "check for duplicates:\n",
      "(0, 5)\n"
     ]
    }
   ],
   "source": [
    "print(\"\\ncheck shape:\\n{}\".format(df.shape))\n",
    "print(\"\\ncheck for nulls:\\n{}\".format(df.isnull().mean()))\n",
    "print(\"\\ncheck for duplicates:\\n{}\".format(df[df.duplicated()].shape))\n",
    "\n",
    "# NO NULLS OR DUPLICATES"
   ]
  },
  {
   "cell_type": "code",
   "execution_count": 26,
   "metadata": {
    "slideshow": {
     "slide_type": "skip"
    }
   },
   "outputs": [
    {
     "data": {
      "text/html": [
       "<div>\n",
       "<style scoped>\n",
       "    .dataframe tbody tr th:only-of-type {\n",
       "        vertical-align: middle;\n",
       "    }\n",
       "\n",
       "    .dataframe tbody tr th {\n",
       "        vertical-align: top;\n",
       "    }\n",
       "\n",
       "    .dataframe thead th {\n",
       "        text-align: right;\n",
       "    }\n",
       "</style>\n",
       "<table border=\"1\" class=\"dataframe\">\n",
       "  <thead>\n",
       "    <tr style=\"text-align: right;\">\n",
       "      <th></th>\n",
       "      <th>userID</th>\n",
       "      <th>artistID</th>\n",
       "      <th>weight</th>\n",
       "    </tr>\n",
       "  </thead>\n",
       "  <tbody>\n",
       "    <tr>\n",
       "      <th>0</th>\n",
       "      <td>2</td>\n",
       "      <td>51</td>\n",
       "      <td>13883</td>\n",
       "    </tr>\n",
       "    <tr>\n",
       "      <th>1</th>\n",
       "      <td>2</td>\n",
       "      <td>52</td>\n",
       "      <td>11690</td>\n",
       "    </tr>\n",
       "    <tr>\n",
       "      <th>2</th>\n",
       "      <td>2</td>\n",
       "      <td>53</td>\n",
       "      <td>11351</td>\n",
       "    </tr>\n",
       "    <tr>\n",
       "      <th>3</th>\n",
       "      <td>2</td>\n",
       "      <td>54</td>\n",
       "      <td>10300</td>\n",
       "    </tr>\n",
       "    <tr>\n",
       "      <th>4</th>\n",
       "      <td>2</td>\n",
       "      <td>55</td>\n",
       "      <td>8983</td>\n",
       "    </tr>\n",
       "  </tbody>\n",
       "</table>\n",
       "</div>"
      ],
      "text/plain": [
       "   userID  artistID  weight\n",
       "0       2        51   13883\n",
       "1       2        52   11690\n",
       "2       2        53   11351\n",
       "3       2        54   10300\n",
       "4       2        55    8983"
      ]
     },
     "execution_count": 26,
     "metadata": {},
     "output_type": "execute_result"
    }
   ],
   "source": [
    "user_artists.head()"
   ]
  },
  {
   "cell_type": "code",
   "execution_count": 27,
   "metadata": {
    "slideshow": {
     "slide_type": "skip"
    }
   },
   "outputs": [
    {
     "name": "stdout",
     "output_type": "stream",
     "text": [
      "\n",
      "check shape:\n",
      "(92834, 3)\n",
      "\n",
      "check for nulls:\n",
      "userID      0.0\n",
      "artistID    0.0\n",
      "weight      0.0\n",
      "dtype: float64\n",
      "\n",
      "check for duplicates:\n",
      "(0, 3)\n"
     ]
    }
   ],
   "source": [
    "print(\"\\ncheck shape:\\n{}\".format(user_artists.shape))\n",
    "print(\"\\ncheck for nulls:\\n{}\".format(user_artists.isnull().mean()))\n",
    "print(\"\\ncheck for duplicates:\\n{}\".format(user_artists[user_artists.duplicated()].shape))\n",
    "\n",
    "# NO NULLS OR DUPLICATES"
   ]
  },
  {
   "cell_type": "code",
   "execution_count": 28,
   "metadata": {
    "slideshow": {
     "slide_type": "skip"
    }
   },
   "outputs": [
    {
     "data": {
      "text/html": [
       "<div>\n",
       "<style scoped>\n",
       "    .dataframe tbody tr th:only-of-type {\n",
       "        vertical-align: middle;\n",
       "    }\n",
       "\n",
       "    .dataframe tbody tr th {\n",
       "        vertical-align: top;\n",
       "    }\n",
       "\n",
       "    .dataframe thead th {\n",
       "        text-align: right;\n",
       "    }\n",
       "</style>\n",
       "<table border=\"1\" class=\"dataframe\">\n",
       "  <thead>\n",
       "    <tr style=\"text-align: right;\">\n",
       "      <th></th>\n",
       "      <th>userID</th>\n",
       "      <th>artistID</th>\n",
       "      <th>tagID_new</th>\n",
       "      <th>name</th>\n",
       "      <th>tagValue</th>\n",
       "      <th>weight</th>\n",
       "      <th>user_artistID</th>\n",
       "    </tr>\n",
       "  </thead>\n",
       "  <tbody>\n",
       "    <tr>\n",
       "      <th>0</th>\n",
       "      <td>2</td>\n",
       "      <td>52</td>\n",
       "      <td>21</td>\n",
       "      <td>Morcheeba</td>\n",
       "      <td>trip-hop</td>\n",
       "      <td></td>\n",
       "      <td>2_52</td>\n",
       "    </tr>\n",
       "    <tr>\n",
       "      <th>5</th>\n",
       "      <td>2</td>\n",
       "      <td>63</td>\n",
       "      <td>14</td>\n",
       "      <td>Enigma</td>\n",
       "      <td>ambient</td>\n",
       "      <td></td>\n",
       "      <td>2_63</td>\n",
       "    </tr>\n",
       "    <tr>\n",
       "      <th>9</th>\n",
       "      <td>2</td>\n",
       "      <td>73</td>\n",
       "      <td>13</td>\n",
       "      <td>Café Del Mar</td>\n",
       "      <td>chillout</td>\n",
       "      <td></td>\n",
       "      <td>2_73</td>\n",
       "    </tr>\n",
       "    <tr>\n",
       "      <th>17</th>\n",
       "      <td>2</td>\n",
       "      <td>94</td>\n",
       "      <td>15</td>\n",
       "      <td>Ministry of Sound</td>\n",
       "      <td>downtempo</td>\n",
       "      <td></td>\n",
       "      <td>2_94</td>\n",
       "    </tr>\n",
       "    <tr>\n",
       "      <th>25</th>\n",
       "      <td>2</td>\n",
       "      <td>96</td>\n",
       "      <td>192</td>\n",
       "      <td>Fleetwood Mac</td>\n",
       "      <td>classic rock</td>\n",
       "      <td></td>\n",
       "      <td>2_96</td>\n",
       "    </tr>\n",
       "  </tbody>\n",
       "</table>\n",
       "</div>"
      ],
      "text/plain": [
       "    userID  artistID  tagID_new               name      tagValue weight  \\\n",
       "0        2        52         21          Morcheeba      trip-hop          \n",
       "5        2        63         14             Enigma       ambient          \n",
       "9        2        73         13       Café Del Mar      chillout          \n",
       "17       2        94         15  Ministry of Sound     downtempo          \n",
       "25       2        96        192      Fleetwood Mac  classic rock          \n",
       "\n",
       "   user_artistID  \n",
       "0           2_52  \n",
       "5           2_63  \n",
       "9           2_73  \n",
       "17          2_94  \n",
       "25          2_96  "
      ]
     },
     "execution_count": 28,
     "metadata": {},
     "output_type": "execute_result"
    }
   ],
   "source": [
    "# PREPARE TO MERGE WEIGHT (NUMBER OF LISTENING EVENTS) BY CREATING USER_ARTISTID UNIQUE ID\n",
    "df['weight']=''\n",
    "df['user_artistID'] = df.userID.astype(str) + '_' + df.artistID.astype(str)\n",
    "user_artists['user_artistID'] = user_artists.userID.astype(str) + '_' + user_artists.artistID.astype(str)\n",
    "df.head()"
   ]
  },
  {
   "cell_type": "code",
   "execution_count": 29,
   "metadata": {
    "slideshow": {
     "slide_type": "skip"
    }
   },
   "outputs": [
    {
     "data": {
      "text/html": [
       "<div>\n",
       "<style scoped>\n",
       "    .dataframe tbody tr th:only-of-type {\n",
       "        vertical-align: middle;\n",
       "    }\n",
       "\n",
       "    .dataframe tbody tr th {\n",
       "        vertical-align: top;\n",
       "    }\n",
       "\n",
       "    .dataframe thead th {\n",
       "        text-align: right;\n",
       "    }\n",
       "</style>\n",
       "<table border=\"1\" class=\"dataframe\">\n",
       "  <thead>\n",
       "    <tr style=\"text-align: right;\">\n",
       "      <th></th>\n",
       "      <th>userID</th>\n",
       "      <th>artistID</th>\n",
       "      <th>weight</th>\n",
       "      <th>user_artistID</th>\n",
       "    </tr>\n",
       "  </thead>\n",
       "  <tbody>\n",
       "    <tr>\n",
       "      <th>92829</th>\n",
       "      <td>2100</td>\n",
       "      <td>18726</td>\n",
       "      <td>337</td>\n",
       "      <td>2100_18726</td>\n",
       "    </tr>\n",
       "    <tr>\n",
       "      <th>92830</th>\n",
       "      <td>2100</td>\n",
       "      <td>18727</td>\n",
       "      <td>297</td>\n",
       "      <td>2100_18727</td>\n",
       "    </tr>\n",
       "    <tr>\n",
       "      <th>92831</th>\n",
       "      <td>2100</td>\n",
       "      <td>18728</td>\n",
       "      <td>281</td>\n",
       "      <td>2100_18728</td>\n",
       "    </tr>\n",
       "    <tr>\n",
       "      <th>92832</th>\n",
       "      <td>2100</td>\n",
       "      <td>18729</td>\n",
       "      <td>280</td>\n",
       "      <td>2100_18729</td>\n",
       "    </tr>\n",
       "    <tr>\n",
       "      <th>92833</th>\n",
       "      <td>2100</td>\n",
       "      <td>18730</td>\n",
       "      <td>263</td>\n",
       "      <td>2100_18730</td>\n",
       "    </tr>\n",
       "  </tbody>\n",
       "</table>\n",
       "</div>"
      ],
      "text/plain": [
       "       userID  artistID  weight user_artistID\n",
       "92829    2100     18726     337    2100_18726\n",
       "92830    2100     18727     297    2100_18727\n",
       "92831    2100     18728     281    2100_18728\n",
       "92832    2100     18729     280    2100_18729\n",
       "92833    2100     18730     263    2100_18730"
      ]
     },
     "execution_count": 29,
     "metadata": {},
     "output_type": "execute_result"
    }
   ],
   "source": [
    "user_artists.tail()"
   ]
  },
  {
   "cell_type": "code",
   "execution_count": 30,
   "metadata": {
    "slideshow": {
     "slide_type": "skip"
    }
   },
   "outputs": [],
   "source": [
    "# MERGE WEIGHT BASED ON MAPPING OF user_artistID combo\n",
    "df['weight'] = df['user_artistID'].map(user_artists.set_index('user_artistID')['weight'])"
   ]
  },
  {
   "cell_type": "code",
   "execution_count": 31,
   "metadata": {
    "slideshow": {
     "slide_type": "skip"
    }
   },
   "outputs": [
    {
     "data": {
      "text/plain": [
       "(71064, 7)"
      ]
     },
     "execution_count": 31,
     "metadata": {},
     "output_type": "execute_result"
    }
   ],
   "source": [
    "df.shape"
   ]
  },
  {
   "cell_type": "code",
   "execution_count": 32,
   "metadata": {
    "slideshow": {
     "slide_type": "skip"
    }
   },
   "outputs": [
    {
     "name": "stdout",
     "output_type": "stream",
     "text": [
      "duplicates: (0, 7)\n"
     ]
    }
   ],
   "source": [
    "# CHECK FOR DUPLICATES ONCE AGAIN JUST TO BE SURE\n",
    "print(\"duplicates: {}\".format(df[df.duplicated()].shape))\n",
    "#df.drop_duplicates(keep='first', inplace=True)"
   ]
  },
  {
   "cell_type": "code",
   "execution_count": 33,
   "metadata": {
    "slideshow": {
     "slide_type": "skip"
    }
   },
   "outputs": [
    {
     "data": {
      "text/plain": [
       "userID           0.000000\n",
       "artistID         0.000000\n",
       "tagID_new        0.000000\n",
       "name             0.010793\n",
       "tagValue         0.000000\n",
       "weight           0.709206\n",
       "user_artistID    0.000000\n",
       "dtype: float64"
      ]
     },
     "execution_count": 33,
     "metadata": {},
     "output_type": "execute_result"
    }
   ],
   "source": [
    "# CHECK FOR NULLS\n",
    "df.isnull().mean()"
   ]
  },
  {
   "cell_type": "markdown",
   "metadata": {
    "slideshow": {
     "slide_type": "skip"
    }
   },
   "source": [
    "#### Nulls - Drop\n",
    "1) Weight has nulls, very high %. This is a result of not every users having listened to every artist. Will drop these rows later.  \n",
    "2) Names in artists do not match artistID resulting in nulls."
   ]
  },
  {
   "cell_type": "code",
   "execution_count": 34,
   "metadata": {
    "slideshow": {
     "slide_type": "skip"
    }
   },
   "outputs": [
    {
     "data": {
      "text/plain": [
       "userID           0.0\n",
       "artistID         0.0\n",
       "tagID_new        0.0\n",
       "name             0.0\n",
       "tagValue         0.0\n",
       "weight           0.0\n",
       "user_artistID    0.0\n",
       "dtype: float64"
      ]
     },
     "execution_count": 34,
     "metadata": {},
     "output_type": "execute_result"
    }
   ],
   "source": [
    "# DROP NULLS\n",
    "df = df.dropna(axis=0, subset=['name'])\n",
    "# DROP WHERE WEIGHTS ARE NULL, NO RATINGS, USER DID NOT LISTEN TO\n",
    "df = df.dropna(axis=0, subset=['weight'])\n",
    "# CHECK NULLS\n",
    "df.isnull().mean()"
   ]
  },
  {
   "cell_type": "code",
   "execution_count": 35,
   "metadata": {
    "slideshow": {
     "slide_type": "skip"
    }
   },
   "outputs": [
    {
     "data": {
      "text/plain": [
       "1180"
      ]
     },
     "execution_count": 35,
     "metadata": {},
     "output_type": "execute_result"
    }
   ],
   "source": [
    "# NUMBER OF UNIQUE GENRES BASED ON USER INPUT AND REDUCED BY UNIFYING INTO A PRIMARY TAG\n",
    "df['tagValue'].nunique()"
   ]
  },
  {
   "cell_type": "code",
   "execution_count": 36,
   "metadata": {
    "slideshow": {
     "slide_type": "skip"
    }
   },
   "outputs": [],
   "source": [
    "# CREATE DATAFRAME FOR tagValue_cnt.\n",
    "# THIS WILL BE USED TO GROUP VALUES AND LOOK AT POPULARITY FOR EACH TAG\n",
    "df_tagValue_cnt=pd.DataFrame()\n",
    "df_tagValue_cnt['tagValue']=df['tagValue']\n",
    "df_tagValue_cnt['tagCnt']=1"
   ]
  },
  {
   "cell_type": "code",
   "execution_count": 37,
   "metadata": {
    "slideshow": {
     "slide_type": "skip"
    }
   },
   "outputs": [
    {
     "data": {
      "text/html": [
       "<div>\n",
       "<style scoped>\n",
       "    .dataframe tbody tr th:only-of-type {\n",
       "        vertical-align: middle;\n",
       "    }\n",
       "\n",
       "    .dataframe tbody tr th {\n",
       "        vertical-align: top;\n",
       "    }\n",
       "\n",
       "    .dataframe thead th {\n",
       "        text-align: right;\n",
       "    }\n",
       "</style>\n",
       "<table border=\"1\" class=\"dataframe\">\n",
       "  <thead>\n",
       "    <tr style=\"text-align: right;\">\n",
       "      <th></th>\n",
       "      <th>tagCnt</th>\n",
       "    </tr>\n",
       "    <tr>\n",
       "      <th>tagValue</th>\n",
       "      <th></th>\n",
       "    </tr>\n",
       "  </thead>\n",
       "  <tbody>\n",
       "    <tr>\n",
       "      <th>pop</th>\n",
       "      <td>2316</td>\n",
       "    </tr>\n",
       "    <tr>\n",
       "      <th>rock</th>\n",
       "      <td>1281</td>\n",
       "    </tr>\n",
       "    <tr>\n",
       "      <th>indie</th>\n",
       "      <td>999</td>\n",
       "    </tr>\n",
       "    <tr>\n",
       "      <th>electronic</th>\n",
       "      <td>943</td>\n",
       "    </tr>\n",
       "    <tr>\n",
       "      <th>alternative</th>\n",
       "      <td>789</td>\n",
       "    </tr>\n",
       "  </tbody>\n",
       "</table>\n",
       "</div>"
      ],
      "text/plain": [
       "             tagCnt\n",
       "tagValue           \n",
       "pop            2316\n",
       "rock           1281\n",
       "indie           999\n",
       "electronic      943\n",
       "alternative     789"
      ]
     },
     "execution_count": 37,
     "metadata": {},
     "output_type": "execute_result"
    }
   ],
   "source": [
    "# CREATE GROUP BY AND OUTPUT MOST USED TAGS\n",
    "df_gb = df_tagValue_cnt.groupby(['tagValue']).sum().sort_values(ascending=False, by='tagCnt')\n",
    "df_gb.head()"
   ]
  },
  {
   "cell_type": "markdown",
   "metadata": {
    "slideshow": {
     "slide_type": "skip"
    }
   },
   "source": [
    "### Analysis:\n",
    "Based on consumption, meaning number of listens, users have voted the top genres to be:\n",
    "    pop, rock, indie, electronic, and alternative."
   ]
  },
  {
   "cell_type": "code",
   "execution_count": 38,
   "metadata": {
    "slideshow": {
     "slide_type": "skip"
    }
   },
   "outputs": [],
   "source": [
    "# CREATE A RANK FOR THE TAGS (GENRES) SO CAN FILTER FOR MOST FREQUENT\n",
    "df_gb['tagRank']=0\n",
    "counter=0\n",
    "value=0\n",
    "for index, row in df_gb.iterrows():\n",
    "    value+=1\n",
    "    df_gb['tagRank'].iloc[[counter]]=value\n",
    "    counter+=1"
   ]
  },
  {
   "cell_type": "code",
   "execution_count": 39,
   "metadata": {
    "slideshow": {
     "slide_type": "skip"
    }
   },
   "outputs": [
    {
     "data": {
      "text/plain": [
       "tagValue\n",
       "pop            1\n",
       "rock           2\n",
       "indie          3\n",
       "electronic     4\n",
       "alternative    5\n",
       "Name: tagRank, dtype: int64"
      ]
     },
     "execution_count": 39,
     "metadata": {},
     "output_type": "execute_result"
    }
   ],
   "source": [
    "df_gb['tagRank'].head(5)"
   ]
  },
  {
   "cell_type": "code",
   "execution_count": 40,
   "metadata": {
    "slideshow": {
     "slide_type": "skip"
    }
   },
   "outputs": [],
   "source": [
    "df = pd.merge(df, df_gb, how='left', on=['tagValue', 'tagValue'])"
   ]
  },
  {
   "cell_type": "code",
   "execution_count": 41,
   "metadata": {
    "slideshow": {
     "slide_type": "skip"
    }
   },
   "outputs": [
    {
     "data": {
      "text/html": [
       "<div>\n",
       "<style scoped>\n",
       "    .dataframe tbody tr th:only-of-type {\n",
       "        vertical-align: middle;\n",
       "    }\n",
       "\n",
       "    .dataframe tbody tr th {\n",
       "        vertical-align: top;\n",
       "    }\n",
       "\n",
       "    .dataframe thead th {\n",
       "        text-align: right;\n",
       "    }\n",
       "</style>\n",
       "<table border=\"1\" class=\"dataframe\">\n",
       "  <thead>\n",
       "    <tr style=\"text-align: right;\">\n",
       "      <th></th>\n",
       "      <th>userID</th>\n",
       "      <th>artistID</th>\n",
       "      <th>tagID_new</th>\n",
       "      <th>weight</th>\n",
       "      <th>tagCnt</th>\n",
       "      <th>tagRank</th>\n",
       "    </tr>\n",
       "  </thead>\n",
       "  <tbody>\n",
       "    <tr>\n",
       "      <th>count</th>\n",
       "      <td>20665.000000</td>\n",
       "      <td>20665.000000</td>\n",
       "      <td>20665.000000</td>\n",
       "      <td>20665.000000</td>\n",
       "      <td>20665.000000</td>\n",
       "      <td>20665.000000</td>\n",
       "    </tr>\n",
       "    <tr>\n",
       "      <th>mean</th>\n",
       "      <td>1045.666780</td>\n",
       "      <td>3390.632906</td>\n",
       "      <td>522.422308</td>\n",
       "      <td>1425.566368</td>\n",
       "      <td>589.069973</td>\n",
       "      <td>67.035325</td>\n",
       "    </tr>\n",
       "    <tr>\n",
       "      <th>std</th>\n",
       "      <td>620.353435</td>\n",
       "      <td>4519.863040</td>\n",
       "      <td>1629.691027</td>\n",
       "      <td>7064.561155</td>\n",
       "      <td>713.883869</td>\n",
       "      <td>163.278196</td>\n",
       "    </tr>\n",
       "    <tr>\n",
       "      <th>min</th>\n",
       "      <td>2.000000</td>\n",
       "      <td>1.000000</td>\n",
       "      <td>1.000000</td>\n",
       "      <td>1.000000</td>\n",
       "      <td>1.000000</td>\n",
       "      <td>1.000000</td>\n",
       "    </tr>\n",
       "    <tr>\n",
       "      <th>25%</th>\n",
       "      <td>507.000000</td>\n",
       "      <td>430.000000</td>\n",
       "      <td>25.000000</td>\n",
       "      <td>172.000000</td>\n",
       "      <td>88.000000</td>\n",
       "      <td>4.000000</td>\n",
       "    </tr>\n",
       "    <tr>\n",
       "      <th>50%</th>\n",
       "      <td>1029.000000</td>\n",
       "      <td>1243.000000</td>\n",
       "      <td>84.000000</td>\n",
       "      <td>411.000000</td>\n",
       "      <td>282.000000</td>\n",
       "      <td>16.000000</td>\n",
       "    </tr>\n",
       "    <tr>\n",
       "      <th>75%</th>\n",
       "      <td>1597.000000</td>\n",
       "      <td>4365.000000</td>\n",
       "      <td>231.000000</td>\n",
       "      <td>1014.000000</td>\n",
       "      <td>943.000000</td>\n",
       "      <td>48.000000</td>\n",
       "    </tr>\n",
       "    <tr>\n",
       "      <th>max</th>\n",
       "      <td>2100.000000</td>\n",
       "      <td>18744.000000</td>\n",
       "      <td>12641.000000</td>\n",
       "      <td>352698.000000</td>\n",
       "      <td>2316.000000</td>\n",
       "      <td>1180.000000</td>\n",
       "    </tr>\n",
       "  </tbody>\n",
       "</table>\n",
       "</div>"
      ],
      "text/plain": [
       "             userID      artistID     tagID_new         weight        tagCnt  \\\n",
       "count  20665.000000  20665.000000  20665.000000   20665.000000  20665.000000   \n",
       "mean    1045.666780   3390.632906    522.422308    1425.566368    589.069973   \n",
       "std      620.353435   4519.863040   1629.691027    7064.561155    713.883869   \n",
       "min        2.000000      1.000000      1.000000       1.000000      1.000000   \n",
       "25%      507.000000    430.000000     25.000000     172.000000     88.000000   \n",
       "50%     1029.000000   1243.000000     84.000000     411.000000    282.000000   \n",
       "75%     1597.000000   4365.000000    231.000000    1014.000000    943.000000   \n",
       "max     2100.000000  18744.000000  12641.000000  352698.000000   2316.000000   \n",
       "\n",
       "            tagRank  \n",
       "count  20665.000000  \n",
       "mean      67.035325  \n",
       "std      163.278196  \n",
       "min        1.000000  \n",
       "25%        4.000000  \n",
       "50%       16.000000  \n",
       "75%       48.000000  \n",
       "max     1180.000000  "
      ]
     },
     "execution_count": 41,
     "metadata": {},
     "output_type": "execute_result"
    }
   ],
   "source": [
    "df.describe()"
   ]
  },
  {
   "cell_type": "code",
   "execution_count": 42,
   "metadata": {
    "slideshow": {
     "slide_type": "skip"
    }
   },
   "outputs": [
    {
     "data": {
      "text/html": [
       "<div>\n",
       "<style scoped>\n",
       "    .dataframe tbody tr th:only-of-type {\n",
       "        vertical-align: middle;\n",
       "    }\n",
       "\n",
       "    .dataframe tbody tr th {\n",
       "        vertical-align: top;\n",
       "    }\n",
       "\n",
       "    .dataframe thead th {\n",
       "        text-align: right;\n",
       "    }\n",
       "</style>\n",
       "<table border=\"1\" class=\"dataframe\">\n",
       "  <thead>\n",
       "    <tr style=\"text-align: right;\">\n",
       "      <th></th>\n",
       "      <th>userID</th>\n",
       "      <th>artistID</th>\n",
       "      <th>tagID_new</th>\n",
       "      <th>name</th>\n",
       "      <th>tagValue</th>\n",
       "      <th>weight</th>\n",
       "      <th>user_artistID</th>\n",
       "      <th>tagCnt</th>\n",
       "      <th>tagRank</th>\n",
       "    </tr>\n",
       "  </thead>\n",
       "  <tbody>\n",
       "    <tr>\n",
       "      <th>0</th>\n",
       "      <td>2</td>\n",
       "      <td>52</td>\n",
       "      <td>21</td>\n",
       "      <td>Morcheeba</td>\n",
       "      <td>trip-hop</td>\n",
       "      <td>11690.0</td>\n",
       "      <td>2_52</td>\n",
       "      <td>172</td>\n",
       "      <td>29</td>\n",
       "    </tr>\n",
       "    <tr>\n",
       "      <th>1</th>\n",
       "      <td>2</td>\n",
       "      <td>63</td>\n",
       "      <td>14</td>\n",
       "      <td>Enigma</td>\n",
       "      <td>ambient</td>\n",
       "      <td>3735.0</td>\n",
       "      <td>2_63</td>\n",
       "      <td>294</td>\n",
       "      <td>14</td>\n",
       "    </tr>\n",
       "    <tr>\n",
       "      <th>2</th>\n",
       "      <td>2</td>\n",
       "      <td>73</td>\n",
       "      <td>13</td>\n",
       "      <td>Café Del Mar</td>\n",
       "      <td>chillout</td>\n",
       "      <td>2584.0</td>\n",
       "      <td>2_73</td>\n",
       "      <td>61</td>\n",
       "      <td>61</td>\n",
       "    </tr>\n",
       "    <tr>\n",
       "      <th>3</th>\n",
       "      <td>2</td>\n",
       "      <td>94</td>\n",
       "      <td>15</td>\n",
       "      <td>Ministry of Sound</td>\n",
       "      <td>downtempo</td>\n",
       "      <td>1373.0</td>\n",
       "      <td>2_94</td>\n",
       "      <td>80</td>\n",
       "      <td>52</td>\n",
       "    </tr>\n",
       "    <tr>\n",
       "      <th>4</th>\n",
       "      <td>2</td>\n",
       "      <td>96</td>\n",
       "      <td>192</td>\n",
       "      <td>Fleetwood Mac</td>\n",
       "      <td>classic rock</td>\n",
       "      <td>1342.0</td>\n",
       "      <td>2_96</td>\n",
       "      <td>605</td>\n",
       "      <td>6</td>\n",
       "    </tr>\n",
       "  </tbody>\n",
       "</table>\n",
       "</div>"
      ],
      "text/plain": [
       "   userID  artistID  tagID_new               name      tagValue   weight  \\\n",
       "0       2        52         21          Morcheeba      trip-hop  11690.0   \n",
       "1       2        63         14             Enigma       ambient   3735.0   \n",
       "2       2        73         13       Café Del Mar      chillout   2584.0   \n",
       "3       2        94         15  Ministry of Sound     downtempo   1373.0   \n",
       "4       2        96        192      Fleetwood Mac  classic rock   1342.0   \n",
       "\n",
       "  user_artistID  tagCnt  tagRank  \n",
       "0          2_52     172       29  \n",
       "1          2_63     294       14  \n",
       "2          2_73      61       61  \n",
       "3          2_94      80       52  \n",
       "4          2_96     605        6  "
      ]
     },
     "execution_count": 42,
     "metadata": {},
     "output_type": "execute_result"
    }
   ],
   "source": [
    "df.head()"
   ]
  },
  {
   "cell_type": "code",
   "execution_count": 43,
   "metadata": {
    "slideshow": {
     "slide_type": "skip"
    }
   },
   "outputs": [],
   "source": [
    "# BACKUP df\n",
    "df_orig = df.copy()"
   ]
  },
  {
   "cell_type": "code",
   "execution_count": 44,
   "metadata": {
    "slideshow": {
     "slide_type": "skip"
    }
   },
   "outputs": [],
   "source": [
    "# GET ALL DATA FOR JUST THE TOP 3 TAG RANKINGS INTO A DATAFRAME:  POP, ROCK, INDIE\n",
    "# PURPOSE IS TO REDUCE SIZE OF FEATURES AND USERS\n",
    "df = df[df['tagRank']<=3]"
   ]
  },
  {
   "cell_type": "code",
   "execution_count": 45,
   "metadata": {
    "slideshow": {
     "slide_type": "skip"
    }
   },
   "outputs": [],
   "source": [
    "# CREATE A ZERO SUM, OR CUMULATIVE TYPE RANKING. \n",
    "# HAVE THREE GROUPS, LISTENERS HAVE LISTENED TO AT LEAST ONE\n",
    "# RANK % OF LISTEN ACROSS GROUPS, WITH RESPECT TO OVERALL NUMBER OF LISTENS FOR ALL GROUPS\n",
    "# INITIALIZE 0.00\n",
    "df_user_genre=pd.DataFrame()\n",
    "df_user_genre['userID']=df['userID'].unique()\n",
    "df_user_genre['cum_weight']=0.00\n",
    "df_user_genre['cum_rank']=0.00"
   ]
  },
  {
   "cell_type": "code",
   "execution_count": 46,
   "metadata": {
    "slideshow": {
     "slide_type": "skip"
    }
   },
   "outputs": [
    {
     "name": "stdout",
     "output_type": "stream",
     "text": [
      "['pop']\n"
     ]
    }
   ],
   "source": [
    "# CHECK TAGS FOR A USER\n",
    "user_num = 8\n",
    "tags = df[df['userID']==user_num]['tagValue'].unique()\n",
    "print(tags)"
   ]
  },
  {
   "cell_type": "code",
   "execution_count": 47,
   "metadata": {
    "slideshow": {
     "slide_type": "skip"
    }
   },
   "outputs": [],
   "source": [
    "# MAKE % FEATURE CATEGORIES SO CAN USE FOR K-MEANS CLUSTERING, DO IN df_user_genre\n",
    "for i in df['tagValue'].unique(): \n",
    "    pctID = i + '_%'\n",
    "    df_user_genre[pctID] = 0.00\n",
    "for i in df['tagValue'].unique(): \n",
    "    df_user_genre[i]     = 0.00"
   ]
  },
  {
   "cell_type": "code",
   "execution_count": 48,
   "metadata": {
    "slideshow": {
     "slide_type": "skip"
    }
   },
   "outputs": [],
   "source": [
    "# NORMALIZE DATA USING %\n",
    "# POPULATE FIELDS WITH PERCENTAGES SO DATA IS NORMALIZED PRIOR TO KMEANS AND CLUSTERING\n",
    "idx=0\n",
    "\n",
    "for i in df['userID'].unique():\n",
    "    cum_weight=0\n",
    "    \n",
    "    # GET UNIQUE TAGS WITHIN EACH USER\n",
    "    # COUNT TAGS\n",
    "    for j in df[df['userID']==i]['tagValue'].unique():\n",
    "        wgt=df[(df['tagValue'] == j) & (df['userID'] == i)]['weight'].sum()\n",
    "        df_user_genre.at[idx,j]= wgt\n",
    "        cum_weight+=wgt\n",
    "    \n",
    "    df_user_genre.at[idx,'cum_weight'] = cum_weight\n",
    "    \n",
    "    for j in df[df['userID']==i]['tagValue'].unique():\n",
    "        wgt=df[(df['tagValue'] == j) & (df['userID'] == i)]['weight'].sum()\n",
    "        pct_wgt = wgt/cum_weight\n",
    "        string = j + \"_%\"\n",
    "        rank_col = string\n",
    "        df_user_genre.at[idx,rank_col] = pct_wgt\n",
    "    idx+=1"
   ]
  },
  {
   "cell_type": "code",
   "execution_count": 49,
   "metadata": {
    "slideshow": {
     "slide_type": "skip"
    }
   },
   "outputs": [],
   "source": [
    "# CREATE A DATAFRAME WITH USER WHO LISTEN TO ALL THREE CATEGORIES\n",
    "#df_user_genre[(df_user_genre['pop']>0) & (df_user_genre['rock']>0) & (df_user_genre['indie']>0)].count()"
   ]
  },
  {
   "cell_type": "code",
   "execution_count": 50,
   "metadata": {
    "slideshow": {
     "slide_type": "slide"
    }
   },
   "outputs": [
    {
     "data": {
      "text/html": [
       "<div>\n",
       "<style scoped>\n",
       "    .dataframe tbody tr th:only-of-type {\n",
       "        vertical-align: middle;\n",
       "    }\n",
       "\n",
       "    .dataframe tbody tr th {\n",
       "        vertical-align: top;\n",
       "    }\n",
       "\n",
       "    .dataframe thead th {\n",
       "        text-align: right;\n",
       "    }\n",
       "</style>\n",
       "<table border=\"1\" class=\"dataframe\">\n",
       "  <thead>\n",
       "    <tr style=\"text-align: right;\">\n",
       "      <th></th>\n",
       "      <th>userID</th>\n",
       "      <th>artistID</th>\n",
       "      <th>tagID_new</th>\n",
       "      <th>name</th>\n",
       "      <th>tagValue</th>\n",
       "      <th>weight</th>\n",
       "      <th>user_artistID</th>\n",
       "      <th>tagCnt</th>\n",
       "      <th>tagRank</th>\n",
       "    </tr>\n",
       "  </thead>\n",
       "  <tbody>\n",
       "    <tr>\n",
       "      <th>24</th>\n",
       "      <td>4</td>\n",
       "      <td>157</td>\n",
       "      <td>24</td>\n",
       "      <td>Michael Jackson</td>\n",
       "      <td>pop</td>\n",
       "      <td>732.0</td>\n",
       "      <td>4_157</td>\n",
       "      <td>2316</td>\n",
       "      <td>1</td>\n",
       "    </tr>\n",
       "    <tr>\n",
       "      <th>31</th>\n",
       "      <td>4</td>\n",
       "      <td>171</td>\n",
       "      <td>73</td>\n",
       "      <td>Stereophonics</td>\n",
       "      <td>rock</td>\n",
       "      <td>359.0</td>\n",
       "      <td>4_171</td>\n",
       "      <td>1281</td>\n",
       "      <td>2</td>\n",
       "    </tr>\n",
       "    <tr>\n",
       "      <th>35</th>\n",
       "      <td>4</td>\n",
       "      <td>180</td>\n",
       "      <td>24</td>\n",
       "      <td>Roxette</td>\n",
       "      <td>pop</td>\n",
       "      <td>256.0</td>\n",
       "      <td>4_180</td>\n",
       "      <td>2316</td>\n",
       "      <td>1</td>\n",
       "    </tr>\n",
       "    <tr>\n",
       "      <th>38</th>\n",
       "      <td>4</td>\n",
       "      <td>184</td>\n",
       "      <td>24</td>\n",
       "      <td>James Blunt</td>\n",
       "      <td>pop</td>\n",
       "      <td>247.0</td>\n",
       "      <td>4_184</td>\n",
       "      <td>2316</td>\n",
       "      <td>1</td>\n",
       "    </tr>\n",
       "    <tr>\n",
       "      <th>39</th>\n",
       "      <td>4</td>\n",
       "      <td>185</td>\n",
       "      <td>73</td>\n",
       "      <td>Reamonn</td>\n",
       "      <td>rock</td>\n",
       "      <td>240.0</td>\n",
       "      <td>4_185</td>\n",
       "      <td>1281</td>\n",
       "      <td>2</td>\n",
       "    </tr>\n",
       "  </tbody>\n",
       "</table>\n",
       "</div>"
      ],
      "text/plain": [
       "    userID  artistID  tagID_new             name tagValue  weight  \\\n",
       "24       4       157         24  Michael Jackson      pop   732.0   \n",
       "31       4       171         73    Stereophonics     rock   359.0   \n",
       "35       4       180         24          Roxette      pop   256.0   \n",
       "38       4       184         24      James Blunt      pop   247.0   \n",
       "39       4       185         73          Reamonn     rock   240.0   \n",
       "\n",
       "   user_artistID  tagCnt  tagRank  \n",
       "24         4_157    2316        1  \n",
       "31         4_171    1281        2  \n",
       "35         4_180    2316        1  \n",
       "38         4_184    2316        1  \n",
       "39         4_185    1281        2  "
      ]
     },
     "execution_count": 50,
     "metadata": {},
     "output_type": "execute_result"
    }
   ],
   "source": [
    "# PRIMARY DATA FRAME CONTENT AFTER PREPROCESSING\n",
    "df.head()"
   ]
  },
  {
   "cell_type": "code",
   "execution_count": 51,
   "metadata": {
    "slideshow": {
     "slide_type": "slide"
    }
   },
   "outputs": [
    {
     "data": {
      "text/html": [
       "<div>\n",
       "<style scoped>\n",
       "    .dataframe tbody tr th:only-of-type {\n",
       "        vertical-align: middle;\n",
       "    }\n",
       "\n",
       "    .dataframe tbody tr th {\n",
       "        vertical-align: top;\n",
       "    }\n",
       "\n",
       "    .dataframe thead th {\n",
       "        text-align: right;\n",
       "    }\n",
       "</style>\n",
       "<table border=\"1\" class=\"dataframe\">\n",
       "  <thead>\n",
       "    <tr style=\"text-align: right;\">\n",
       "      <th></th>\n",
       "      <th>userID</th>\n",
       "      <th>cum_weight</th>\n",
       "      <th>cum_rank</th>\n",
       "      <th>pop_%</th>\n",
       "      <th>rock_%</th>\n",
       "      <th>indie_%</th>\n",
       "      <th>pop</th>\n",
       "      <th>rock</th>\n",
       "      <th>indie</th>\n",
       "    </tr>\n",
       "  </thead>\n",
       "  <tbody>\n",
       "    <tr>\n",
       "      <th>0</th>\n",
       "      <td>4</td>\n",
       "      <td>2031.0</td>\n",
       "      <td>0.0</td>\n",
       "      <td>0.705071</td>\n",
       "      <td>0.294929</td>\n",
       "      <td>0.0</td>\n",
       "      <td>1432.0</td>\n",
       "      <td>599.0</td>\n",
       "      <td>0.0</td>\n",
       "    </tr>\n",
       "    <tr>\n",
       "      <th>1</th>\n",
       "      <td>5</td>\n",
       "      <td>1022.0</td>\n",
       "      <td>0.0</td>\n",
       "      <td>0.000000</td>\n",
       "      <td>0.000000</td>\n",
       "      <td>1.0</td>\n",
       "      <td>0.0</td>\n",
       "      <td>0.0</td>\n",
       "      <td>1022.0</td>\n",
       "    </tr>\n",
       "    <tr>\n",
       "      <th>2</th>\n",
       "      <td>7</td>\n",
       "      <td>43864.0</td>\n",
       "      <td>0.0</td>\n",
       "      <td>1.000000</td>\n",
       "      <td>0.000000</td>\n",
       "      <td>0.0</td>\n",
       "      <td>43864.0</td>\n",
       "      <td>0.0</td>\n",
       "      <td>0.0</td>\n",
       "    </tr>\n",
       "    <tr>\n",
       "      <th>3</th>\n",
       "      <td>8</td>\n",
       "      <td>6693.0</td>\n",
       "      <td>0.0</td>\n",
       "      <td>1.000000</td>\n",
       "      <td>0.000000</td>\n",
       "      <td>0.0</td>\n",
       "      <td>6693.0</td>\n",
       "      <td>0.0</td>\n",
       "      <td>0.0</td>\n",
       "    </tr>\n",
       "    <tr>\n",
       "      <th>4</th>\n",
       "      <td>9</td>\n",
       "      <td>1149.0</td>\n",
       "      <td>0.0</td>\n",
       "      <td>0.000000</td>\n",
       "      <td>1.000000</td>\n",
       "      <td>0.0</td>\n",
       "      <td>0.0</td>\n",
       "      <td>1149.0</td>\n",
       "      <td>0.0</td>\n",
       "    </tr>\n",
       "  </tbody>\n",
       "</table>\n",
       "</div>"
      ],
      "text/plain": [
       "   userID  cum_weight  cum_rank     pop_%    rock_%  indie_%      pop    rock  \\\n",
       "0       4      2031.0       0.0  0.705071  0.294929      0.0   1432.0   599.0   \n",
       "1       5      1022.0       0.0  0.000000  0.000000      1.0      0.0     0.0   \n",
       "2       7     43864.0       0.0  1.000000  0.000000      0.0  43864.0     0.0   \n",
       "3       8      6693.0       0.0  1.000000  0.000000      0.0   6693.0     0.0   \n",
       "4       9      1149.0       0.0  0.000000  1.000000      0.0      0.0  1149.0   \n",
       "\n",
       "    indie  \n",
       "0     0.0  \n",
       "1  1022.0  \n",
       "2     0.0  \n",
       "3     0.0  \n",
       "4     0.0  "
      ]
     },
     "execution_count": 51,
     "metadata": {},
     "output_type": "execute_result"
    }
   ],
   "source": [
    "# ANOTHER SIGNIFICANT DATA FRAME WITH % RANKINGS NORMALIZED BETWEEN 0 AND 1 INCLUSIVE\n",
    "# WEIGHT IS NUMBER OF LISTENING EVENTS, % IS PERCENT OF GENRE TO TOTAL\n",
    "df_user_genre.head()"
   ]
  },
  {
   "cell_type": "code",
   "execution_count": 52,
   "metadata": {
    "slideshow": {
     "slide_type": "skip"
    }
   },
   "outputs": [
    {
     "data": {
      "text/plain": [
       "userID        0.0\n",
       "cum_weight    0.0\n",
       "cum_rank      0.0\n",
       "pop_%         0.0\n",
       "rock_%        0.0\n",
       "indie_%       0.0\n",
       "pop           0.0\n",
       "rock          0.0\n",
       "indie         0.0\n",
       "dtype: float64"
      ]
     },
     "execution_count": 52,
     "metadata": {},
     "output_type": "execute_result"
    }
   ],
   "source": [
    "df_user_genre.isnull().mean()"
   ]
  },
  {
   "cell_type": "code",
   "execution_count": 53,
   "metadata": {
    "slideshow": {
     "slide_type": "skip"
    }
   },
   "outputs": [],
   "source": [
    "#df_user_genre = df_user_genre.dropna()"
   ]
  },
  {
   "cell_type": "code",
   "execution_count": 54,
   "metadata": {
    "slideshow": {
     "slide_type": "skip"
    }
   },
   "outputs": [],
   "source": [
    "df_user_genre['cum_rank']=df_user_genre['cum_weight']/df_user_genre['cum_weight'].sum()"
   ]
  },
  {
   "cell_type": "markdown",
   "metadata": {
    "slideshow": {
     "slide_type": "skip"
    }
   },
   "source": [
    "### K-Means\n",
    "Data prerequisites for k-means:\n",
    "In order to successfully apply k-means to clustering problems, there are three prerequisites the data must meet. If you apply k-means to data that does not meet these assumptions, you will get incorrect, unintuitive results.\n",
    "\n",
    "1. Cluster number is k K-means assumes that the correct cluster number is k. Since we provide the value of k to k-means, we need to determine the best value. However, most of the time determining k is not trivial and we need to run k-means with several k values and choose the one that makes most sense to us. \n",
    "\n",
    "2. Clusters are isotropic K-means assumes that the underlying \"true\" clusters are radially symmetrical (isotropic), meaning that they are uniform in all directions and the edges curve outward. If this assumption fails, k-means would come up with unuseful clusters. \n",
    "\n",
    "3. Similar variance K-means also assumes all clusters have similar variance.\n",
    "\n",
    "The outcome of k-means can be sensitive to the scale of the data. So, standardizing each variable is a common practice before applying k-means.\n",
    "\n",
    "The results depend on the value of k. So, choosing the correct k is essential for the algorithm to find the correct clusters. "
   ]
  },
  {
   "cell_type": "code",
   "execution_count": 55,
   "metadata": {
    "slideshow": {
     "slide_type": "skip"
    }
   },
   "outputs": [
    {
     "data": {
      "image/png": "[encoded data removed]",
      "text/plain": [
       "<Figure size 432x288 with 1 Axes>"
      ]
     },
     "metadata": {
      "needs_background": "light"
     },
     "output_type": "display_data"
    }
   ],
   "source": [
    "X = df_user_genre.loc[:,['pop_%','rock_%']].values\n",
    "\n",
    "# VISUALIZE NORMALIZED WITH SCATTER\n",
    "plt.scatter(X[:,0], X[:,1], s = 100, edgecolors='black', marker='o')\n",
    "plt.title('Genre - Cumulative Ranking by Listener')\n",
    "plt.xlabel('pop_%')\n",
    "plt.ylabel('rock_%')\n",
    "plt.show()"
   ]
  },
  {
   "cell_type": "code",
   "execution_count": 56,
   "metadata": {
    "slideshow": {
     "slide_type": "skip"
    }
   },
   "outputs": [
    {
     "data": {
      "text/plain": [
       "(1107, 9)"
      ]
     },
     "execution_count": 56,
     "metadata": {},
     "output_type": "execute_result"
    }
   ],
   "source": [
    "df_user_genre.shape"
   ]
  },
  {
   "cell_type": "code",
   "execution_count": 57,
   "metadata": {
    "slideshow": {
     "slide_type": "skip"
    }
   },
   "outputs": [
    {
     "data": {
      "text/plain": [
       "(1107, 2)"
      ]
     },
     "execution_count": 57,
     "metadata": {},
     "output_type": "execute_result"
    }
   ],
   "source": [
    "X.shape"
   ]
  },
  {
   "cell_type": "code",
   "execution_count": 104,
   "metadata": {
    "slideshow": {
     "slide_type": "slide"
    }
   },
   "outputs": [
    {
     "data": {
      "image/png": "[encoded data removed]",
      "text/plain": [
       "<Figure size 432x288 with 1 Axes>"
      ]
     },
     "metadata": {
      "needs_background": "light"
     },
     "output_type": "display_data"
    }
   ],
   "source": [
    "# OPTIMAL CLUSTER # -> ELBOW METHOD -> WITHIN CLUSTER SUM OF SQUARES (WCSS)\n",
    "wcss = []\n",
    "for i in range(1,11):\n",
    "    kmeans = KMeans(n_clusters = i, init = 'random', max_iter = 300,\n",
    "                    n_init = 10, random_state = 42)\n",
    "    kmeans.fit(X)\n",
    "    wcss.append(kmeans.inertia_)\n",
    "plt.plot(range(1,11), wcss)\n",
    "plt.title('Elbow Method')\n",
    "plt.xlabel('# Clusters')\n",
    "plt.ylabel('WCSS')\n",
    "plt.show()\n",
    "\n",
    "# 3 CLUSTERS ARE OPTIMAL"
   ]
  },
  {
   "cell_type": "code",
   "execution_count": 59,
   "metadata": {
    "slideshow": {
     "slide_type": "slide"
    }
   },
   "outputs": [
    {
     "name": "stdout",
     "output_type": "stream",
     "text": [
      "Silhouette score for two   cluster k-means:\t 0.6674554380538127\n",
      "Silhouette score for three cluster k-means:\t 0.7588132354576601\n",
      "Silhouette score for four  cluster k-means:\t 0.7594129471320296\n",
      "Silhouette score for five  cluster k-means:\t 0.7641331442434847\n"
     ]
    }
   ],
   "source": [
    "pred_2 = KMeans(n_clusters=2, random_state=42).fit_predict(X)\n",
    "pred_3 = KMeans(n_clusters=3, random_state=42).fit_predict(X)\n",
    "pred_4 = KMeans(n_clusters=4, random_state=42).fit_predict(X)\n",
    "pred_5 = KMeans(n_clusters=5, random_state=42).fit_predict(X)\n",
    "pred_6 = KMeans(n_clusters=6, random_state=42).fit_predict(X)\n",
    "\n",
    "print(\"Silhouette score for two   cluster k-means:\\t {}\".format(\n",
    "    metrics.silhouette_score(X, pred_2, metric='euclidean')))\n",
    "print(\"Silhouette score for three cluster k-means:\\t {}\".format(\n",
    "    metrics.silhouette_score(X, pred_3, metric='euclidean')))\n",
    "print(\"Silhouette score for four  cluster k-means:\\t {}\".format(\n",
    "    metrics.silhouette_score(X, pred_4, metric='euclidean')))\n",
    "print(\"Silhouette score for five  cluster k-means:\\t {}\".format(\n",
    "    metrics.silhouette_score(X, pred_5, metric='euclidean')))\n",
    "\n",
    "# SILHOUETTE INCREASES WITH CLUSTERS"
   ]
  },
  {
   "cell_type": "markdown",
   "metadata": {
    "slideshow": {
     "slide_type": "skip"
    }
   },
   "source": [
    "#### Agglomerative Clustering\n",
    "Ward: The Ward method tends to look for spherical clusters such that the clusters are cohesive inside and differentiated from other groups. In general, this method tends to find clusters of similar size. Note that the Ward method only works with Euclidean distance.  \n",
    "\n",
    "Complete: The Complete method links clusters using their furthest observations, that is, their most dissimilar data points. Consequently, clusters created using this method tend to be comprised of highly similar observations, making the resulting groups quite compact.  \n",
    "\n",
    "Average: The Average method links clusters using their centroids. Since this method focuses on centroids and ignoring the boundary points, it tends to create larger groups than the complete method. Moreover, the clusters can be different sizes and shapes in contrast to the Ward method.  "
   ]
  },
  {
   "cell_type": "code",
   "execution_count": 60,
   "metadata": {
    "slideshow": {
     "slide_type": "skip"
    }
   },
   "outputs": [],
   "source": [
    "agg_cluster1 = AgglomerativeClustering(linkage='complete', \n",
    "                                      affinity='euclidean',\n",
    "                                      n_clusters=3)\n",
    "clusters1 = agg_cluster1.fit_predict(X)\n",
    "\n",
    "agg_cluster2 = AgglomerativeClustering(linkage='average', \n",
    "                                      affinity='euclidean',\n",
    "                                      n_clusters=3)\n",
    "clusters2 = agg_cluster2.fit_predict(X)\n",
    "\n",
    "agg_cluster3 = AgglomerativeClustering(linkage='ward', \n",
    "                                      affinity='euclidean',\n",
    "                                      n_clusters=3)\n",
    "clusters3 = agg_cluster3.fit_predict(X)\n",
    "\n",
    "agg_cluster4 = AgglomerativeClustering(linkage='complete', \n",
    "                                      affinity='manhattan',\n",
    "                                      n_clusters=3)\n",
    "clusters4 = agg_cluster4.fit_predict(X)\n",
    "\n",
    "agg_cluster5 = AgglomerativeClustering(linkage='average', \n",
    "                                      affinity='manhattan',\n",
    "                                      n_clusters=3)\n",
    "clusters5 = agg_cluster5.fit_predict(X)"
   ]
  },
  {
   "cell_type": "code",
   "execution_count": 61,
   "metadata": {
    "slideshow": {
     "slide_type": "slide"
    }
   },
   "outputs": [
    {
     "name": "stdout",
     "output_type": "stream",
     "text": [
      "Silhoutte - metric = euclidean, linkage = complete :\t 0.7404236065016446\n",
      "Silhoutte - metric = euclidean, linkage = average:\t 0.7509464111817193\n",
      "Silhoutte - metric = euclidean, linkage = ward:\t\t 0.751956918996623\n",
      "Silhoutte - metric = manhattan, linkage = complete:\t 0.7263976602930112\n",
      "Silhoutte - metric = manhattan, linkage = average:\t 0.7191474597912193\n",
      "Silhoutte - metric = cosine, linkage = complete:\t 0.6159459940195519\n",
      "Silhoutte - metric = cosine, linkage = average:\t\t 0.5469747916331541\n"
     ]
    }
   ],
   "source": [
    "print(\"Silhoutte - metric = euclidean, linkage = complete :\\t {}\"\n",
    "      .format(metrics.silhouette_score(X, clusters1, metric='euclidean')))\n",
    "\n",
    "print(\"Silhoutte - metric = euclidean, linkage = average:\\t {}\"\n",
    "      .format(metrics.silhouette_score(X, clusters2, metric='euclidean')))\n",
    "\n",
    "print(\"Silhoutte - metric = euclidean, linkage = ward:\\t\\t {}\"\n",
    "      .format(metrics.silhouette_score(X, clusters3, metric='euclidean')))\n",
    "\n",
    "print(\"Silhoutte - metric = manhattan, linkage = complete:\\t {}\"\n",
    "      .format(metrics.silhouette_score(X, clusters4, metric='manhattan')))\n",
    "\n",
    "print(\"Silhoutte - metric = manhattan, linkage = average:\\t {}\"\n",
    "      .format(metrics.silhouette_score(X, clusters5, metric='manhattan')))\n",
    "\n",
    "print(\"Silhoutte - metric = cosine, linkage = complete:\\t {}\"\n",
    "      .format(metrics.silhouette_score(X, clusters4, metric='cosine')))\n",
    "\n",
    "print(\"Silhoutte - metric = cosine, linkage = average:\\t\\t {}\"\n",
    "      .format(metrics.silhouette_score(X, clusters5, metric='cosine')))\n",
    "\n",
    "# EUCLIDEAN BEST DISTANCE, WARD BEST LINKAGE"
   ]
  },
  {
   "cell_type": "code",
   "execution_count": 62,
   "metadata": {
    "slideshow": {
     "slide_type": "slide"
    }
   },
   "outputs": [
    {
     "data": {
      "image/png": "[encoded data removed]",
      "text/plain": [
       "<Figure size 1440x720 with 1 Axes>"
      ]
     },
     "metadata": {
      "needs_background": "light"
     },
     "output_type": "display_data"
    }
   ],
   "source": [
    "plt.figure(figsize=(20,10))\n",
    "dendrogram(linkage(X, method='ward'))\n",
    "plt.show()\n",
    "# TWO CLUSTERS ARE CHOSEN, BUT THREE ARE NOTICEABLE"
   ]
  },
  {
   "cell_type": "markdown",
   "metadata": {
    "slideshow": {
     "slide_type": "skip"
    }
   },
   "source": [
    "### GMM\n",
    "There are two important assumptions that GMM makes:\n",
    "\n",
    "The first one is that there are k distributions that generate the data. In effect, this is equivalent to say that there are exactly k clusters in the data.\n",
    "\n",
    "The other assumption is that all of these k distributions are Gaussians. However, GMM doesn't put constraints on the parameters of these Gaussians but estimates them such that the likelihood of the data being generated by these k Gaussians is maximized.\n",
    "\n",
    "GMM implementation of scikit-learn has a parameter called covariance_type. This parameter determines the type of covariance parameters to use. Specifically, there are four types you can specify:\n",
    "\n",
    "full: This is the default. Each component has its own general covariance matrix.    \n",
    "tied: All components share the same general covariance matrix.  \n",
    "diag: Each component has its own diagonal covariance matrix.  \n",
    "spherical: Each component has its own single variance.      \n",
    "\n",
    "Full: means the components may independently adopt any position and shape.  \n",
    "Tied: means they have the same shape, but the shape may be anything.  \n",
    "Diagonal: means the contour axes are oriented along the coordinate axes, but otherwise the eccentricities may vary between components.  \n",
    "Tied Diagonal: is a \"tied\" situation where the contour axes are oriented along the coordinate axes. (I have added this because initially it was how I misinterpreted \"diagonal.\")  \n",
    "Spherical: is a \"diagonal\" situation with circular contours (spherical in higher dimensions, whence the name).  "
   ]
  },
  {
   "cell_type": "code",
   "execution_count": 63,
   "metadata": {
    "slideshow": {
     "slide_type": "skip"
    }
   },
   "outputs": [
    {
     "name": "stdout",
     "output_type": "stream",
     "text": [
      "Silhoutte - GMM n_components = 3, covariance_type = full:\t\t 0.484\n",
      "Silhoutte - GMM n_components = 3, covariance_type = tied:\t\t 0.756\n",
      "Silhoutte - GMM n_components = 3, covariance_type = diag:\t\t 0.439\n",
      "Silhoutte - GMM n_components = 3, covariance_type = spherical:\t\t 0.439\n",
      "Silhoutte - GMM n_components = 4, covariance_type = full:\t\t 0.496\n",
      "Silhoutte - GMM n_components = 4, covariance_type = tied:\t\t 0.755\n",
      "Silhoutte - GMM n_components = 4, covariance_type = diag:\t\t 0.469\n",
      "Silhoutte - GMM n_components = 4, covariance_type = spherical:\t\t 0.469\n"
     ]
    }
   ],
   "source": [
    "from matplotlib.patches import Ellipse\n",
    "from sklearn.mixture import GaussianMixture\n",
    "\n",
    "gmm_cluster = GaussianMixture(n_components=3, random_state=42, covariance_type='full')\n",
    "clusters = gmm_cluster.fit_predict(X)\n",
    "print(\"Silhoutte - GMM n_components = 3, covariance_type = full:\\t\\t {:.3f}\"\n",
    "      .format(metrics.silhouette_score(X, clusters, metric='euclidean')))\n",
    "\n",
    "gmm_cluster = GaussianMixture(n_components=3, random_state=42, covariance_type='tied')\n",
    "clusters = gmm_cluster.fit_predict(X)\n",
    "print(\"Silhoutte - GMM n_components = 3, covariance_type = tied:\\t\\t {:.3f}\"\n",
    "      .format(metrics.silhouette_score(X, clusters, metric='euclidean')))\n",
    "\n",
    "gmm_cluster = GaussianMixture(n_components=3, random_state=42, covariance_type='diag')\n",
    "clusters = gmm_cluster.fit_predict(X)\n",
    "print(\"Silhoutte - GMM n_components = 3, covariance_type = diag:\\t\\t {:.3f}\"\n",
    "      .format(metrics.silhouette_score(X, clusters, metric='euclidean')))\n",
    "\n",
    "gmm_cluster = GaussianMixture(n_components=3, random_state=42, covariance_type='spherical')\n",
    "clusters = gmm_cluster.fit_predict(X)\n",
    "print(\"Silhoutte - GMM n_components = 3, covariance_type = spherical:\\t\\t {:.3f}\"\n",
    "      .format(metrics.silhouette_score(X, clusters, metric='euclidean')))\n",
    "\n",
    "gmm_cluster = GaussianMixture(n_components=4, random_state=42, covariance_type='full')\n",
    "clusters = gmm_cluster.fit_predict(X)\n",
    "print(\"Silhoutte - GMM n_components = 4, covariance_type = full:\\t\\t {:.3f}\"\n",
    "      .format(metrics.silhouette_score(X, clusters, metric='euclidean')))\n",
    "\n",
    "gmm_cluster = GaussianMixture(n_components=4, random_state=42, covariance_type='tied')\n",
    "clusters = gmm_cluster.fit_predict(X)\n",
    "print(\"Silhoutte - GMM n_components = 4, covariance_type = tied:\\t\\t {:.3f}\"\n",
    "      .format(metrics.silhouette_score(X, clusters, metric='euclidean')))\n",
    "\n",
    "gmm_cluster = GaussianMixture(n_components=4, random_state=42, covariance_type='diag')\n",
    "clusters = gmm_cluster.fit_predict(X)\n",
    "print(\"Silhoutte - GMM n_components = 4, covariance_type = diag:\\t\\t {:.3f}\"\n",
    "      .format(metrics.silhouette_score(X, clusters, metric='euclidean')))\n",
    "\n",
    "gmm_cluster = GaussianMixture(n_components=4, random_state=42, covariance_type='spherical')\n",
    "clusters = gmm_cluster.fit_predict(X)\n",
    "print(\"Silhoutte - GMM n_components = 4, covariance_type = spherical:\\t\\t {:.3f}\"\n",
    "      .format(metrics.silhouette_score(X, clusters, metric='euclidean')))\n",
    "\n",
    "# TIED (SAME SHAPE) COVARIANCE TYPE BEST PERFORMER WITH THREE COMPONENTS"
   ]
  },
  {
   "cell_type": "markdown",
   "metadata": {
    "slideshow": {
     "slide_type": "slide"
    }
   },
   "source": [
    "#### Summary \n",
    "Three clusters are optimal.  \n",
    "K-Means, the best performing clustering algorithm based on siloutette. \n",
    "K-Means, chose three clusters with the elbow method (WCSS)  \n",
    "Agglomerative, Ward best performing. Chose two clusters, but three in view.  \n",
    "GMM, chose three clusters, best performance came from tied covariance type (uniform shape).   "
   ]
  },
  {
   "cell_type": "markdown",
   "metadata": {
    "slideshow": {
     "slide_type": "skip"
    }
   },
   "source": [
    "### DIMENSION REDUCTION\n",
    "\n",
    "UMAP is fast and can handle large datasets with high-dimensional data. This is its core advantage against the t-SNE method. So, if you have a large high-dimensional data and want to visualize it, you should try UMAP first instead of t-SNE. Moreover, UMAP is usually better at preserving the global structure of the data than t-SNE. This means that it can provide a better \"big picture\" view of your data as well as preserving local neighbor similarities.\n",
    "\n",
    "Hyperparameters: UMAP supports a wide variety of distance metrics, including cosine and correlation distances. Hence, the quality of the lower-dimensional representation might be affected by the metric used. We should also specify the number of neighbors and the minimum distance parameters when applying UMAP. As usual, the best way to choose values for these hyperparameters is to apply k-fold cross-validation.\n",
    "\n",
    "Among the dimensionality reduction algorithms we cover in this module, PCA is the fastest then comes UMAP. So, if you are very time-constrained or your data isn't too complex, you should start with PCA. But if your data is complex like image, text or audio where non-linear relationship between the observations is the norm, then you should go with UMAP as it's more likely that UMAP would produce better representation of your data than PCA.\n",
    "\n",
    "UMAP minimizes the total cross-entropy using an optimization method like Stochastic Gradient Descent (SGD). This step is an iterative one and continues until convergence.\n",
    "\n",
    "Output does not appear to be deterministic, like t-SNE, as it changes from run to run. Cannot use in a model, for that use PCA."
   ]
  },
  {
   "cell_type": "code",
   "execution_count": 64,
   "metadata": {
    "slideshow": {
     "slide_type": "skip"
    }
   },
   "outputs": [],
   "source": [
    "#UNIFORM MANIFOLD APPROXIMATION AND PROJECTION\n",
    "import umap\n",
    "umap_results = umap.UMAP(metric='correlation').fit_transform(X)"
   ]
  },
  {
   "cell_type": "code",
   "execution_count": 65,
   "metadata": {
    "slideshow": {
     "slide_type": "slide"
    }
   },
   "outputs": [
    {
     "data": {
      "image/png": "[encoded data removed]",
      "text/plain": [
       "<Figure size 720x360 with 1 Axes>"
      ]
     },
     "metadata": {},
     "output_type": "display_data"
    }
   ],
   "source": [
    "# UMAP DIMENSION REDUCTION USING CORRELATION\n",
    "plt.figure(figsize=(10,5))\n",
    "plt.scatter(umap_results[:, 0], umap_results[:, 1])\n",
    "plt.xticks([])\n",
    "plt.yticks([])\n",
    "plt.axis('off')\n",
    "plt.show()\n",
    "# THREE TO FIVE CLUSTERS ARE NOTICEABLE. CHANGES WITH EACH RUN."
   ]
  },
  {
   "cell_type": "code",
   "execution_count": 66,
   "metadata": {
    "slideshow": {
     "slide_type": "skip"
    }
   },
   "outputs": [],
   "source": [
    "umap_results = umap.UMAP(metric='cosine').fit_transform(X)"
   ]
  },
  {
   "cell_type": "code",
   "execution_count": 67,
   "metadata": {
    "slideshow": {
     "slide_type": "skip"
    }
   },
   "outputs": [
    {
     "data": {
      "image/png": "[encoded data removed]",
      "text/plain": [
       "<Figure size 720x360 with 1 Axes>"
      ]
     },
     "metadata": {},
     "output_type": "display_data"
    }
   ],
   "source": [
    "plt.figure(figsize=(10,5))\n",
    "plt.scatter(umap_results[:, 0], umap_results[:, 1])\n",
    "plt.xticks([])\n",
    "plt.yticks([])\n",
    "plt.axis('off')\n",
    "plt.show()"
   ]
  },
  {
   "cell_type": "code",
   "execution_count": 68,
   "metadata": {
    "slideshow": {
     "slide_type": "skip"
    }
   },
   "outputs": [],
   "source": [
    "umap_results = umap.UMAP(metric='euclidean').fit_transform(X)"
   ]
  },
  {
   "cell_type": "code",
   "execution_count": 69,
   "metadata": {
    "slideshow": {
     "slide_type": "slide"
    }
   },
   "outputs": [
    {
     "data": {
      "image/png": "[encoded data removed]",
      "text/plain": [
       "<Figure size 720x360 with 1 Axes>"
      ]
     },
     "metadata": {},
     "output_type": "display_data"
    }
   ],
   "source": [
    "# UMAP DIMENSION REDUCTION USING EUCLIDEAN DISTANCE\n",
    "plt.figure(figsize=(10,5))\n",
    "plt.scatter(umap_results[:, 0], umap_results[:, 1])\n",
    "plt.xticks([])\n",
    "plt.yticks([])\n",
    "plt.axis('off')\n",
    "plt.show()\n",
    "\n",
    "# AT LEAST FOUR CLUSTERS ARE NOTICEABLE."
   ]
  },
  {
   "cell_type": "markdown",
   "metadata": {
    "slideshow": {
     "slide_type": "slide"
    }
   },
   "source": [
    "### Summary - UMAP dimension reduction\n",
    "Appears to be three to four+ clusters.  \n",
    "Correlation has most uniform circular output, best performer.   \n",
    "Euclidean and cosine distance have linear like output.    \n",
    "Correlation better than euclidean and cosine with three clusters.   \n",
    "UMAP output changes with each run.  "
   ]
  },
  {
   "cell_type": "markdown",
   "metadata": {
    "slideshow": {
     "slide_type": "slide"
    }
   },
   "source": [
    "### Summary - Clustering and dimension reduction\n",
    "Three clusters appear to be the appropriate number of clusters as seen by the elbow method with K-Means and the other clustering types with the exception of possibly Agglormative. \n",
    "\n",
    "UMAP speaks to three to four as the optimal cluster number.  "
   ]
  },
  {
   "cell_type": "code",
   "execution_count": 70,
   "metadata": {
    "scrolled": true,
    "slideshow": {
     "slide_type": "slide"
    }
   },
   "outputs": [
    {
     "data": {
      "image/png": "[encoded data removed]",
      "text/plain": [
       "<Figure size 432x288 with 1 Axes>"
      ]
     },
     "metadata": {
      "needs_background": "light"
     },
     "output_type": "display_data"
    }
   ],
   "source": [
    "# CHART 3 CLUSTERS \n",
    "kmeans = KMeans(n_clusters= 3, init= 'random', max_iter=300, n_init=10,\n",
    "                random_state=42)\n",
    "y_kmeans = kmeans.fit_predict(X)\n",
    "clusters = set(y_kmeans)\n",
    "colors = ['red', 'blue', 'magenta','grey']\n",
    "labels = ['Cluster {}'.format(i+1) for i in set(y_kmeans)]\n",
    "for clust, color, labels in zip(clusters, colors, labels):\n",
    "    plt.scatter(X[y_kmeans == clust, 0], X[y_kmeans == clust, 1], \n",
    "                s=100, c = color, label = labels, edgecolors='black')\n",
    "centroids = kmeans.cluster_centers_\n",
    "plt.scatter(centroids[:, 0], centroids[:, 1], s = 200, c = 'yellow', \n",
    "            label = 'Centroids', edgecolors='black', marker='s')\n",
    "plt.title('Genre: Cumulative Scoring by Listener')\n",
    "plt.xlabel('% pop')\n",
    "plt.ylabel('% rock')\n",
    "plt.legend()\n",
    "plt.show()"
   ]
  },
  {
   "cell_type": "code",
   "execution_count": 71,
   "metadata": {
    "slideshow": {
     "slide_type": "skip"
    }
   },
   "outputs": [
    {
     "data": {
      "image/png": "[encoded data removed]",
      "text/plain": [
       "<Figure size 432x288 with 1 Axes>"
      ]
     },
     "metadata": {
      "needs_background": "light"
     },
     "output_type": "display_data"
    }
   ],
   "source": [
    "# CHART 4 CLUSTERS \n",
    "kmeans = KMeans(n_clusters= 4, init= 'random', max_iter=300, n_init=10,\n",
    "                random_state=42)\n",
    "y_kmeans = kmeans.fit_predict(X)\n",
    "clusters = set(y_kmeans)\n",
    "colors = ['red', 'blue', 'magenta','grey']\n",
    "labels = ['Cluster {}'.format(i+1) for i in set(y_kmeans)]\n",
    "for clust, color, labels in zip(clusters, colors, labels):\n",
    "    plt.scatter(X[y_kmeans == clust, 0], X[y_kmeans == clust, 1], \n",
    "                s=100, c = color, label = labels, edgecolors='black')\n",
    "centroids = kmeans.cluster_centers_\n",
    "plt.scatter(centroids[:, 0], centroids[:, 1], s = 200, c = 'yellow', \n",
    "            label = 'Centroids', edgecolors='black', marker='s')\n",
    "plt.title('Genre: Cumulative Scoring by Listener')\n",
    "plt.xlabel('% pop')\n",
    "plt.ylabel('% rock')\n",
    "plt.legend()\n",
    "plt.show()"
   ]
  },
  {
   "cell_type": "code",
   "execution_count": 72,
   "metadata": {
    "slideshow": {
     "slide_type": "skip"
    }
   },
   "outputs": [],
   "source": [
    "# FIT KMEANS ALGORITHM\n",
    "kmeans = KMeans(n_clusters=3).fit(X)\n",
    "preds = kmeans.predict(X)\n",
    "\n",
    "# GET CENTROIDS\n",
    "centroids = kmeans.cluster_centers_"
   ]
  },
  {
   "cell_type": "code",
   "execution_count": 73,
   "metadata": {
    "slideshow": {
     "slide_type": "skip"
    }
   },
   "outputs": [
    {
     "data": {
      "text/html": [
       "<div>\n",
       "<style scoped>\n",
       "    .dataframe tbody tr th:only-of-type {\n",
       "        vertical-align: middle;\n",
       "    }\n",
       "\n",
       "    .dataframe tbody tr th {\n",
       "        vertical-align: top;\n",
       "    }\n",
       "\n",
       "    .dataframe thead th {\n",
       "        text-align: right;\n",
       "    }\n",
       "</style>\n",
       "<table border=\"1\" class=\"dataframe\">\n",
       "  <thead>\n",
       "    <tr style=\"text-align: right;\">\n",
       "      <th></th>\n",
       "      <th>0</th>\n",
       "      <th>1</th>\n",
       "      <th>2</th>\n",
       "    </tr>\n",
       "  </thead>\n",
       "  <tbody>\n",
       "    <tr>\n",
       "      <th>0</th>\n",
       "      <td>0.129049</td>\n",
       "      <td>1.217391</td>\n",
       "      <td>0.895465</td>\n",
       "    </tr>\n",
       "    <tr>\n",
       "      <th>1</th>\n",
       "      <td>1.219562</td>\n",
       "      <td>0.168218</td>\n",
       "      <td>0.800675</td>\n",
       "    </tr>\n",
       "    <tr>\n",
       "      <th>2</th>\n",
       "      <td>0.901120</td>\n",
       "      <td>0.796770</td>\n",
       "      <td>0.153209</td>\n",
       "    </tr>\n",
       "  </tbody>\n",
       "</table>\n",
       "</div>"
      ],
      "text/plain": [
       "          0         1         2\n",
       "0  0.129049  1.217391  0.895465\n",
       "1  1.219562  0.168218  0.800675\n",
       "2  0.901120  0.796770  0.153209"
      ]
     },
     "execution_count": 73,
     "metadata": {},
     "output_type": "execute_result"
    }
   ],
   "source": [
    "# DISTANCE FROM CENTROID\n",
    "\n",
    "from scipy.spatial import distance_matrix\n",
    "\n",
    "dist_mat = pd.DataFrame(distance_matrix(X, centroids))\n",
    "dist_mat.groupby(preds).mean()"
   ]
  },
  {
   "cell_type": "code",
   "execution_count": 74,
   "metadata": {
    "slideshow": {
     "slide_type": "skip"
    }
   },
   "outputs": [],
   "source": [
    "cluster_map = pd.DataFrame()\n",
    "cluster_map['data_index'] = df_user_genre.index.values\n",
    "cluster_map['cl_label'] = kmeans.labels_"
   ]
  },
  {
   "cell_type": "code",
   "execution_count": 75,
   "metadata": {
    "slideshow": {
     "slide_type": "skip"
    }
   },
   "outputs": [
    {
     "data": {
      "text/html": [
       "<div>\n",
       "<style scoped>\n",
       "    .dataframe tbody tr th:only-of-type {\n",
       "        vertical-align: middle;\n",
       "    }\n",
       "\n",
       "    .dataframe tbody tr th {\n",
       "        vertical-align: top;\n",
       "    }\n",
       "\n",
       "    .dataframe thead th {\n",
       "        text-align: right;\n",
       "    }\n",
       "</style>\n",
       "<table border=\"1\" class=\"dataframe\">\n",
       "  <thead>\n",
       "    <tr style=\"text-align: right;\">\n",
       "      <th></th>\n",
       "      <th>userID</th>\n",
       "      <th>cum_weight</th>\n",
       "      <th>cum_rank</th>\n",
       "      <th>pop_%</th>\n",
       "      <th>rock_%</th>\n",
       "      <th>indie_%</th>\n",
       "      <th>pop</th>\n",
       "      <th>rock</th>\n",
       "      <th>indie</th>\n",
       "      <th>cl_label</th>\n",
       "      <th>0</th>\n",
       "      <th>1</th>\n",
       "      <th>2</th>\n",
       "    </tr>\n",
       "  </thead>\n",
       "  <tbody>\n",
       "    <tr>\n",
       "      <th>0</th>\n",
       "      <td>4</td>\n",
       "      <td>2031.0</td>\n",
       "      <td>0.000194</td>\n",
       "      <td>0.705071</td>\n",
       "      <td>0.294929</td>\n",
       "      <td>0.0</td>\n",
       "      <td>1432.0</td>\n",
       "      <td>599.0</td>\n",
       "      <td>0.0</td>\n",
       "      <td>0</td>\n",
       "      <td>0.333555</td>\n",
       "      <td>0.883377</td>\n",
       "      <td>0.692008</td>\n",
       "    </tr>\n",
       "    <tr>\n",
       "      <th>1</th>\n",
       "      <td>5</td>\n",
       "      <td>1022.0</td>\n",
       "      <td>0.000098</td>\n",
       "      <td>0.000000</td>\n",
       "      <td>0.000000</td>\n",
       "      <td>1.0</td>\n",
       "      <td>0.0</td>\n",
       "      <td>0.0</td>\n",
       "      <td>1022.0</td>\n",
       "      <td>2</td>\n",
       "      <td>0.928789</td>\n",
       "      <td>0.889786</td>\n",
       "      <td>0.106906</td>\n",
       "    </tr>\n",
       "    <tr>\n",
       "      <th>2</th>\n",
       "      <td>7</td>\n",
       "      <td>43864.0</td>\n",
       "      <td>0.004187</td>\n",
       "      <td>1.000000</td>\n",
       "      <td>0.000000</td>\n",
       "      <td>0.0</td>\n",
       "      <td>43864.0</td>\n",
       "      <td>0.0</td>\n",
       "      <td>0.0</td>\n",
       "      <td>0</td>\n",
       "      <td>0.086012</td>\n",
       "      <td>1.300131</td>\n",
       "      <td>0.963525</td>\n",
       "    </tr>\n",
       "    <tr>\n",
       "      <th>3</th>\n",
       "      <td>8</td>\n",
       "      <td>6693.0</td>\n",
       "      <td>0.000639</td>\n",
       "      <td>1.000000</td>\n",
       "      <td>0.000000</td>\n",
       "      <td>0.0</td>\n",
       "      <td>6693.0</td>\n",
       "      <td>0.0</td>\n",
       "      <td>0.0</td>\n",
       "      <td>0</td>\n",
       "      <td>0.086012</td>\n",
       "      <td>1.300131</td>\n",
       "      <td>0.963525</td>\n",
       "    </tr>\n",
       "    <tr>\n",
       "      <th>4</th>\n",
       "      <td>9</td>\n",
       "      <td>1149.0</td>\n",
       "      <td>0.000110</td>\n",
       "      <td>0.000000</td>\n",
       "      <td>1.000000</td>\n",
       "      <td>0.0</td>\n",
       "      <td>0.0</td>\n",
       "      <td>1149.0</td>\n",
       "      <td>0.0</td>\n",
       "      <td>1</td>\n",
       "      <td>1.330300</td>\n",
       "      <td>0.122626</td>\n",
       "      <td>0.902444</td>\n",
       "    </tr>\n",
       "  </tbody>\n",
       "</table>\n",
       "</div>"
      ],
      "text/plain": [
       "   userID  cum_weight  cum_rank     pop_%    rock_%  indie_%      pop    rock  \\\n",
       "0       4      2031.0  0.000194  0.705071  0.294929      0.0   1432.0   599.0   \n",
       "1       5      1022.0  0.000098  0.000000  0.000000      1.0      0.0     0.0   \n",
       "2       7     43864.0  0.004187  1.000000  0.000000      0.0  43864.0     0.0   \n",
       "3       8      6693.0  0.000639  1.000000  0.000000      0.0   6693.0     0.0   \n",
       "4       9      1149.0  0.000110  0.000000  1.000000      0.0      0.0  1149.0   \n",
       "\n",
       "    indie  cl_label         0         1         2  \n",
       "0     0.0         0  0.333555  0.883377  0.692008  \n",
       "1  1022.0         2  0.928789  0.889786  0.106906  \n",
       "2     0.0         0  0.086012  1.300131  0.963525  \n",
       "3     0.0         0  0.086012  1.300131  0.963525  \n",
       "4     0.0         1  1.330300  0.122626  0.902444  "
      ]
     },
     "execution_count": 75,
     "metadata": {},
     "output_type": "execute_result"
    }
   ],
   "source": [
    "df_user_genre= pd.concat([df_user_genre, cluster_map['cl_label']], axis=1)\n",
    "df_user_genre= pd.concat([df_user_genre, dist_mat], axis=1)\n",
    "df_user_genre.head()"
   ]
  },
  {
   "cell_type": "code",
   "execution_count": 76,
   "metadata": {
    "slideshow": {
     "slide_type": "skip"
    }
   },
   "outputs": [
    {
     "data": {
      "text/html": [
       "<div>\n",
       "<style scoped>\n",
       "    .dataframe tbody tr th:only-of-type {\n",
       "        vertical-align: middle;\n",
       "    }\n",
       "\n",
       "    .dataframe tbody tr th {\n",
       "        vertical-align: top;\n",
       "    }\n",
       "\n",
       "    .dataframe thead th {\n",
       "        text-align: right;\n",
       "    }\n",
       "</style>\n",
       "<table border=\"1\" class=\"dataframe\">\n",
       "  <thead>\n",
       "    <tr style=\"text-align: right;\">\n",
       "      <th></th>\n",
       "      <th>userID</th>\n",
       "      <th>artistID</th>\n",
       "      <th>tagID_new</th>\n",
       "      <th>name</th>\n",
       "      <th>tagValue</th>\n",
       "      <th>weight</th>\n",
       "      <th>user_artistID</th>\n",
       "      <th>tagCnt</th>\n",
       "      <th>tagRank</th>\n",
       "    </tr>\n",
       "  </thead>\n",
       "  <tbody>\n",
       "    <tr>\n",
       "      <th>24</th>\n",
       "      <td>4</td>\n",
       "      <td>157</td>\n",
       "      <td>24</td>\n",
       "      <td>Michael Jackson</td>\n",
       "      <td>pop</td>\n",
       "      <td>732.0</td>\n",
       "      <td>4_157</td>\n",
       "      <td>2316</td>\n",
       "      <td>1</td>\n",
       "    </tr>\n",
       "    <tr>\n",
       "      <th>31</th>\n",
       "      <td>4</td>\n",
       "      <td>171</td>\n",
       "      <td>73</td>\n",
       "      <td>Stereophonics</td>\n",
       "      <td>rock</td>\n",
       "      <td>359.0</td>\n",
       "      <td>4_171</td>\n",
       "      <td>1281</td>\n",
       "      <td>2</td>\n",
       "    </tr>\n",
       "    <tr>\n",
       "      <th>35</th>\n",
       "      <td>4</td>\n",
       "      <td>180</td>\n",
       "      <td>24</td>\n",
       "      <td>Roxette</td>\n",
       "      <td>pop</td>\n",
       "      <td>256.0</td>\n",
       "      <td>4_180</td>\n",
       "      <td>2316</td>\n",
       "      <td>1</td>\n",
       "    </tr>\n",
       "    <tr>\n",
       "      <th>38</th>\n",
       "      <td>4</td>\n",
       "      <td>184</td>\n",
       "      <td>24</td>\n",
       "      <td>James Blunt</td>\n",
       "      <td>pop</td>\n",
       "      <td>247.0</td>\n",
       "      <td>4_184</td>\n",
       "      <td>2316</td>\n",
       "      <td>1</td>\n",
       "    </tr>\n",
       "    <tr>\n",
       "      <th>39</th>\n",
       "      <td>4</td>\n",
       "      <td>185</td>\n",
       "      <td>73</td>\n",
       "      <td>Reamonn</td>\n",
       "      <td>rock</td>\n",
       "      <td>240.0</td>\n",
       "      <td>4_185</td>\n",
       "      <td>1281</td>\n",
       "      <td>2</td>\n",
       "    </tr>\n",
       "  </tbody>\n",
       "</table>\n",
       "</div>"
      ],
      "text/plain": [
       "    userID  artistID  tagID_new             name tagValue  weight  \\\n",
       "24       4       157         24  Michael Jackson      pop   732.0   \n",
       "31       4       171         73    Stereophonics     rock   359.0   \n",
       "35       4       180         24          Roxette      pop   256.0   \n",
       "38       4       184         24      James Blunt      pop   247.0   \n",
       "39       4       185         73          Reamonn     rock   240.0   \n",
       "\n",
       "   user_artistID  tagCnt  tagRank  \n",
       "24         4_157    2316        1  \n",
       "31         4_171    1281        2  \n",
       "35         4_180    2316        1  \n",
       "38         4_184    2316        1  \n",
       "39         4_185    1281        2  "
      ]
     },
     "execution_count": 76,
     "metadata": {},
     "output_type": "execute_result"
    }
   ],
   "source": [
    "df.head()"
   ]
  },
  {
   "cell_type": "markdown",
   "metadata": {
    "slideshow": {
     "slide_type": "skip"
    }
   },
   "source": [
    "## START BASIC RECOMMENDER"
   ]
  },
  {
   "cell_type": "markdown",
   "metadata": {
    "slideshow": {
     "slide_type": "skip"
    }
   },
   "source": [
    "### COLLABORATIVE FILTER - ARTIST "
   ]
  },
  {
   "cell_type": "code",
   "execution_count": 77,
   "metadata": {
    "slideshow": {
     "slide_type": "skip"
    }
   },
   "outputs": [],
   "source": [
    "# INPUT THE CLUSTER OF INTEREST\n",
    "cluster_of_interest = 2"
   ]
  },
  {
   "cell_type": "code",
   "execution_count": 78,
   "metadata": {
    "slideshow": {
     "slide_type": "skip"
    }
   },
   "outputs": [],
   "source": [
    "from scipy.spatial.distance import cosine, euclidean, correlation"
   ]
  },
  {
   "cell_type": "code",
   "execution_count": 79,
   "metadata": {
    "slideshow": {
     "slide_type": "skip"
    }
   },
   "outputs": [],
   "source": [
    "#GET CLUSTER NUMBER INTO df SO CAN LIMIT INPUTS INTO RECOMMENDATION ENGINES\n",
    "df['cl_label'] = df['userID'].map(df_user_genre.set_index('userID')['cl_label'])"
   ]
  },
  {
   "cell_type": "code",
   "execution_count": 80,
   "metadata": {
    "slideshow": {
     "slide_type": "skip"
    }
   },
   "outputs": [
    {
     "data": {
      "text/html": [
       "<div>\n",
       "<style scoped>\n",
       "    .dataframe tbody tr th:only-of-type {\n",
       "        vertical-align: middle;\n",
       "    }\n",
       "\n",
       "    .dataframe tbody tr th {\n",
       "        vertical-align: top;\n",
       "    }\n",
       "\n",
       "    .dataframe thead th {\n",
       "        text-align: right;\n",
       "    }\n",
       "</style>\n",
       "<table border=\"1\" class=\"dataframe\">\n",
       "  <thead>\n",
       "    <tr style=\"text-align: right;\">\n",
       "      <th></th>\n",
       "      <th>userID</th>\n",
       "      <th>name</th>\n",
       "      <th>weight</th>\n",
       "    </tr>\n",
       "  </thead>\n",
       "  <tbody>\n",
       "    <tr>\n",
       "      <th>45</th>\n",
       "      <td>5</td>\n",
       "      <td>Keane</td>\n",
       "      <td>1</td>\n",
       "    </tr>\n",
       "    <tr>\n",
       "      <th>47</th>\n",
       "      <td>5</td>\n",
       "      <td>Bright Eyes</td>\n",
       "      <td>1</td>\n",
       "    </tr>\n",
       "    <tr>\n",
       "      <th>56</th>\n",
       "      <td>5</td>\n",
       "      <td>Clap Your Hands Say Yeah</td>\n",
       "      <td>1</td>\n",
       "    </tr>\n",
       "    <tr>\n",
       "      <th>97</th>\n",
       "      <td>10</td>\n",
       "      <td>Arcade Fire</td>\n",
       "      <td>1</td>\n",
       "    </tr>\n",
       "    <tr>\n",
       "      <th>99</th>\n",
       "      <td>10</td>\n",
       "      <td>Death Cab for Cutie</td>\n",
       "      <td>1</td>\n",
       "    </tr>\n",
       "  </tbody>\n",
       "</table>\n",
       "</div>"
      ],
      "text/plain": [
       "    userID                      name  weight\n",
       "45       5                     Keane       1\n",
       "47       5               Bright Eyes       1\n",
       "56       5  Clap Your Hands Say Yeah       1\n",
       "97      10               Arcade Fire       1\n",
       "99      10       Death Cab for Cutie       1"
      ]
     },
     "execution_count": 80,
     "metadata": {},
     "output_type": "execute_result"
    }
   ],
   "source": [
    "# USE COPY SO WON'T IMPACT WEIGHTS IN df \n",
    "df_preprocess = df[df['cl_label']==cluster_of_interest][['userID','name','weight']].copy()\n",
    "df_preprocess['weight']=1\n",
    "df_preprocess.head()"
   ]
  },
  {
   "cell_type": "code",
   "execution_count": 81,
   "metadata": {
    "slideshow": {
     "slide_type": "skip"
    }
   },
   "outputs": [
    {
     "data": {
      "text/plain": [
       "145"
      ]
     },
     "execution_count": 81,
     "metadata": {},
     "output_type": "execute_result"
    }
   ],
   "source": [
    "# COUNT AGGREGATION COLUMN BASED ON ARTISTID\n",
    "df_preprocess['count'] = df_preprocess.groupby('name')['name'].transform('count')\n",
    "\n",
    "# ARTIST REQUIRES >=2 EVENTS TO BE CONSIDERED\n",
    "df_preprocess = df_preprocess[(df_preprocess['count']>=2)]\n",
    "\n",
    "# OUTPUT UNIQUE ARTISTS SO VALIDATE NO DUPES WHEN PIVOT\n",
    "df_preprocess['name'].nunique()"
   ]
  },
  {
   "cell_type": "code",
   "execution_count": 82,
   "metadata": {
    "slideshow": {
     "slide_type": "skip"
    }
   },
   "outputs": [
    {
     "data": {
      "text/plain": [
       "(232, 146)"
      ]
     },
     "execution_count": 82,
     "metadata": {},
     "output_type": "execute_result"
    }
   ],
   "source": [
    "df_preprocess=df_preprocess.pivot(index='userID', columns='name', values='weight')\n",
    "df_preprocess=df_preprocess.reset_index()\n",
    "df_preprocess.shape"
   ]
  },
  {
   "cell_type": "code",
   "execution_count": 83,
   "metadata": {
    "slideshow": {
     "slide_type": "skip"
    }
   },
   "outputs": [
    {
     "data": {
      "text/plain": [
       "(232, 146)"
      ]
     },
     "execution_count": 83,
     "metadata": {},
     "output_type": "execute_result"
    }
   ],
   "source": [
    "df_preprocess.shape"
   ]
  },
  {
   "cell_type": "code",
   "execution_count": 84,
   "metadata": {
    "slideshow": {
     "slide_type": "skip"
    }
   },
   "outputs": [],
   "source": [
    "df_same_clust=df_preprocess.copy()\n",
    "df_same_clust.rename(columns={'userID':'user'}, inplace=True)"
   ]
  },
  {
   "cell_type": "code",
   "execution_count": 85,
   "metadata": {
    "slideshow": {
     "slide_type": "skip"
    }
   },
   "outputs": [],
   "source": [
    "df_same_clust.fillna(0,inplace=True)"
   ]
  },
  {
   "cell_type": "code",
   "execution_count": 86,
   "metadata": {
    "slideshow": {
     "slide_type": "skip"
    }
   },
   "outputs": [
    {
     "data": {
      "text/html": [
       "<div>\n",
       "<style scoped>\n",
       "    .dataframe tbody tr th:only-of-type {\n",
       "        vertical-align: middle;\n",
       "    }\n",
       "\n",
       "    .dataframe tbody tr th {\n",
       "        vertical-align: top;\n",
       "    }\n",
       "\n",
       "    .dataframe thead th {\n",
       "        text-align: right;\n",
       "    }\n",
       "</style>\n",
       "<table border=\"1\" class=\"dataframe\">\n",
       "  <thead>\n",
       "    <tr style=\"text-align: right;\">\n",
       "      <th>name</th>\n",
       "      <th>user</th>\n",
       "      <th>3 Doors Down</th>\n",
       "      <th>30 Seconds to Mars</th>\n",
       "      <th>ABBA</th>\n",
       "      <th>Air Traffic</th>\n",
       "      <th>Arcade Fire</th>\n",
       "      <th>Ashlee Simpson</th>\n",
       "      <th>Audioslave</th>\n",
       "      <th>Avril Lavigne</th>\n",
       "      <th>Babasónicos</th>\n",
       "      <th>...</th>\n",
       "      <th>Vampire Weekend</th>\n",
       "      <th>We Are Scientists</th>\n",
       "      <th>Weezer</th>\n",
       "      <th>Wilco</th>\n",
       "      <th>Wolfmother</th>\n",
       "      <th>Xiu Xiu</th>\n",
       "      <th>Yo La Tengo</th>\n",
       "      <th>Zoé</th>\n",
       "      <th>of Montreal</th>\n",
       "      <th>Мои Ракеты Вверх</th>\n",
       "    </tr>\n",
       "  </thead>\n",
       "  <tbody>\n",
       "    <tr>\n",
       "      <th>0</th>\n",
       "      <td>5</td>\n",
       "      <td>0.0</td>\n",
       "      <td>0.0</td>\n",
       "      <td>0.0</td>\n",
       "      <td>0.0</td>\n",
       "      <td>0.0</td>\n",
       "      <td>0.0</td>\n",
       "      <td>0.0</td>\n",
       "      <td>0.0</td>\n",
       "      <td>0.0</td>\n",
       "      <td>...</td>\n",
       "      <td>0.0</td>\n",
       "      <td>0.0</td>\n",
       "      <td>0.0</td>\n",
       "      <td>0.0</td>\n",
       "      <td>0.0</td>\n",
       "      <td>0.0</td>\n",
       "      <td>0.0</td>\n",
       "      <td>0.0</td>\n",
       "      <td>0.0</td>\n",
       "      <td>0.0</td>\n",
       "    </tr>\n",
       "    <tr>\n",
       "      <th>1</th>\n",
       "      <td>10</td>\n",
       "      <td>0.0</td>\n",
       "      <td>0.0</td>\n",
       "      <td>0.0</td>\n",
       "      <td>0.0</td>\n",
       "      <td>1.0</td>\n",
       "      <td>0.0</td>\n",
       "      <td>0.0</td>\n",
       "      <td>0.0</td>\n",
       "      <td>0.0</td>\n",
       "      <td>...</td>\n",
       "      <td>0.0</td>\n",
       "      <td>0.0</td>\n",
       "      <td>0.0</td>\n",
       "      <td>0.0</td>\n",
       "      <td>0.0</td>\n",
       "      <td>0.0</td>\n",
       "      <td>0.0</td>\n",
       "      <td>0.0</td>\n",
       "      <td>0.0</td>\n",
       "      <td>0.0</td>\n",
       "    </tr>\n",
       "    <tr>\n",
       "      <th>2</th>\n",
       "      <td>27</td>\n",
       "      <td>0.0</td>\n",
       "      <td>0.0</td>\n",
       "      <td>0.0</td>\n",
       "      <td>0.0</td>\n",
       "      <td>0.0</td>\n",
       "      <td>0.0</td>\n",
       "      <td>0.0</td>\n",
       "      <td>0.0</td>\n",
       "      <td>0.0</td>\n",
       "      <td>...</td>\n",
       "      <td>0.0</td>\n",
       "      <td>0.0</td>\n",
       "      <td>0.0</td>\n",
       "      <td>0.0</td>\n",
       "      <td>0.0</td>\n",
       "      <td>0.0</td>\n",
       "      <td>0.0</td>\n",
       "      <td>0.0</td>\n",
       "      <td>0.0</td>\n",
       "      <td>0.0</td>\n",
       "    </tr>\n",
       "    <tr>\n",
       "      <th>3</th>\n",
       "      <td>38</td>\n",
       "      <td>0.0</td>\n",
       "      <td>0.0</td>\n",
       "      <td>0.0</td>\n",
       "      <td>0.0</td>\n",
       "      <td>0.0</td>\n",
       "      <td>0.0</td>\n",
       "      <td>0.0</td>\n",
       "      <td>0.0</td>\n",
       "      <td>0.0</td>\n",
       "      <td>...</td>\n",
       "      <td>0.0</td>\n",
       "      <td>0.0</td>\n",
       "      <td>0.0</td>\n",
       "      <td>0.0</td>\n",
       "      <td>0.0</td>\n",
       "      <td>0.0</td>\n",
       "      <td>0.0</td>\n",
       "      <td>0.0</td>\n",
       "      <td>0.0</td>\n",
       "      <td>0.0</td>\n",
       "    </tr>\n",
       "    <tr>\n",
       "      <th>4</th>\n",
       "      <td>50</td>\n",
       "      <td>0.0</td>\n",
       "      <td>0.0</td>\n",
       "      <td>0.0</td>\n",
       "      <td>0.0</td>\n",
       "      <td>0.0</td>\n",
       "      <td>0.0</td>\n",
       "      <td>0.0</td>\n",
       "      <td>0.0</td>\n",
       "      <td>0.0</td>\n",
       "      <td>...</td>\n",
       "      <td>0.0</td>\n",
       "      <td>0.0</td>\n",
       "      <td>0.0</td>\n",
       "      <td>0.0</td>\n",
       "      <td>0.0</td>\n",
       "      <td>0.0</td>\n",
       "      <td>0.0</td>\n",
       "      <td>0.0</td>\n",
       "      <td>0.0</td>\n",
       "      <td>0.0</td>\n",
       "    </tr>\n",
       "  </tbody>\n",
       "</table>\n",
       "<p>5 rows × 146 columns</p>\n",
       "</div>"
      ],
      "text/plain": [
       "name  user  3 Doors Down  30 Seconds to Mars  ABBA  Air Traffic  Arcade Fire  \\\n",
       "0        5           0.0                 0.0   0.0          0.0          0.0   \n",
       "1       10           0.0                 0.0   0.0          0.0          1.0   \n",
       "2       27           0.0                 0.0   0.0          0.0          0.0   \n",
       "3       38           0.0                 0.0   0.0          0.0          0.0   \n",
       "4       50           0.0                 0.0   0.0          0.0          0.0   \n",
       "\n",
       "name  Ashlee Simpson  Audioslave  Avril Lavigne  Babasónicos  ...  \\\n",
       "0                0.0         0.0            0.0          0.0  ...   \n",
       "1                0.0         0.0            0.0          0.0  ...   \n",
       "2                0.0         0.0            0.0          0.0  ...   \n",
       "3                0.0         0.0            0.0          0.0  ...   \n",
       "4                0.0         0.0            0.0          0.0  ...   \n",
       "\n",
       "name  Vampire Weekend  We Are Scientists  Weezer  Wilco  Wolfmother  Xiu Xiu  \\\n",
       "0                 0.0                0.0     0.0    0.0         0.0      0.0   \n",
       "1                 0.0                0.0     0.0    0.0         0.0      0.0   \n",
       "2                 0.0                0.0     0.0    0.0         0.0      0.0   \n",
       "3                 0.0                0.0     0.0    0.0         0.0      0.0   \n",
       "4                 0.0                0.0     0.0    0.0         0.0      0.0   \n",
       "\n",
       "name  Yo La Tengo  Zoé  of Montreal  Мои Ракеты Вверх  \n",
       "0             0.0  0.0          0.0               0.0  \n",
       "1             0.0  0.0          0.0               0.0  \n",
       "2             0.0  0.0          0.0               0.0  \n",
       "3             0.0  0.0          0.0               0.0  \n",
       "4             0.0  0.0          0.0               0.0  \n",
       "\n",
       "[5 rows x 146 columns]"
      ]
     },
     "execution_count": 86,
     "metadata": {},
     "output_type": "execute_result"
    }
   ],
   "source": [
    "df_same_clust.head()"
   ]
  },
  {
   "cell_type": "code",
   "execution_count": 87,
   "metadata": {
    "slideshow": {
     "slide_type": "skip"
    }
   },
   "outputs": [],
   "source": [
    "# ARTISTS AS FEATURES, INDEX  \n",
    "df_same_clust_no_user = df_same_clust.drop('user', 1)\n",
    " \n",
    "# Create a placeholder dataframe listing item vs. item\n",
    "df_item_sim_scr = pd.DataFrame(index=df_same_clust_no_user.columns,columns=\n",
    "                         df_same_clust_no_user.columns)"
   ]
  },
  {
   "cell_type": "code",
   "execution_count": 88,
   "metadata": {
    "slideshow": {
     "slide_type": "skip"
    }
   },
   "outputs": [],
   "source": [
    "# ITEM BASED SIMILARITY - USE EUCLIDEAN TO MEASURE DISTANCE AND POPULATE\n",
    "\n",
    "# USE COSINE FOR SIMILARITY SCORE\n",
    "# LOOP COLUMNS\n",
    "for i in range(0,len(df_item_sim_scr.columns)):\n",
    "    for j in range(0,len(df_item_sim_scr.columns)):\n",
    "        # SIMILARITY SCORE\n",
    "        # COSINE \n",
    "        #df_item_sim_scr.iloc[i,j] = 1-cosine(df_same_clust_no_user.iloc[:,i],\n",
    "        #                                     df_same_clust_no_user.iloc[:,j])\n",
    "        # CORRELATION\n",
    "        #df_item_sim_scr.iloc[i,j] = 1-correlation(df_same_clust_no_user.iloc[:,i],\n",
    "        #                                        df_same_clust_no_user.iloc[:,j])\n",
    "        # EUCLIDEAN\n",
    "        df_item_sim_scr.iloc[i,j] = 1-euclidean(df_same_clust_no_user.iloc[:,i],\n",
    "                                                 df_same_clust_no_user.iloc[:,j])"
   ]
  },
  {
   "cell_type": "code",
   "execution_count": 89,
   "metadata": {
    "scrolled": true,
    "slideshow": {
     "slide_type": "slide"
    }
   },
   "outputs": [
    {
     "data": {
      "text/html": [
       "<div>\n",
       "<style scoped>\n",
       "    .dataframe tbody tr th:only-of-type {\n",
       "        vertical-align: middle;\n",
       "    }\n",
       "\n",
       "    .dataframe tbody tr th {\n",
       "        vertical-align: top;\n",
       "    }\n",
       "\n",
       "    .dataframe thead th {\n",
       "        text-align: right;\n",
       "    }\n",
       "</style>\n",
       "<table border=\"1\" class=\"dataframe\">\n",
       "  <thead>\n",
       "    <tr style=\"text-align: right;\">\n",
       "      <th>name</th>\n",
       "      <th>3 Doors Down</th>\n",
       "      <th>30 Seconds to Mars</th>\n",
       "      <th>ABBA</th>\n",
       "      <th>Air Traffic</th>\n",
       "      <th>Arcade Fire</th>\n",
       "      <th>Ashlee Simpson</th>\n",
       "      <th>Audioslave</th>\n",
       "      <th>Avril Lavigne</th>\n",
       "      <th>Babasónicos</th>\n",
       "      <th>Band of Horses</th>\n",
       "      <th>...</th>\n",
       "      <th>Vampire Weekend</th>\n",
       "      <th>We Are Scientists</th>\n",
       "      <th>Weezer</th>\n",
       "      <th>Wilco</th>\n",
       "      <th>Wolfmother</th>\n",
       "      <th>Xiu Xiu</th>\n",
       "      <th>Yo La Tengo</th>\n",
       "      <th>Zoé</th>\n",
       "      <th>of Montreal</th>\n",
       "      <th>Мои Ракеты Вверх</th>\n",
       "    </tr>\n",
       "    <tr>\n",
       "      <th>name</th>\n",
       "      <th></th>\n",
       "      <th></th>\n",
       "      <th></th>\n",
       "      <th></th>\n",
       "      <th></th>\n",
       "      <th></th>\n",
       "      <th></th>\n",
       "      <th></th>\n",
       "      <th></th>\n",
       "      <th></th>\n",
       "      <th></th>\n",
       "      <th></th>\n",
       "      <th></th>\n",
       "      <th></th>\n",
       "      <th></th>\n",
       "      <th></th>\n",
       "      <th></th>\n",
       "      <th></th>\n",
       "      <th></th>\n",
       "      <th></th>\n",
       "      <th></th>\n",
       "    </tr>\n",
       "  </thead>\n",
       "  <tbody>\n",
       "    <tr>\n",
       "      <th>3 Doors Down</th>\n",
       "      <td>1</td>\n",
       "      <td>-1.64575</td>\n",
       "      <td>-1</td>\n",
       "      <td>-1</td>\n",
       "      <td>-4.19615</td>\n",
       "      <td>-1</td>\n",
       "      <td>-0.414214</td>\n",
       "      <td>-1.44949</td>\n",
       "      <td>-1</td>\n",
       "      <td>-2</td>\n",
       "      <td>...</td>\n",
       "      <td>-2.31662</td>\n",
       "      <td>-1.23607</td>\n",
       "      <td>-1.82843</td>\n",
       "      <td>-1.23607</td>\n",
       "      <td>-1</td>\n",
       "      <td>-1</td>\n",
       "      <td>-1.23607</td>\n",
       "      <td>-1.44949</td>\n",
       "      <td>-2.4641</td>\n",
       "      <td>-1.23607</td>\n",
       "    </tr>\n",
       "    <tr>\n",
       "      <th>30 Seconds to Mars</th>\n",
       "      <td>-1.64575</td>\n",
       "      <td>1</td>\n",
       "      <td>-1.64575</td>\n",
       "      <td>-1.64575</td>\n",
       "      <td>-4.2915</td>\n",
       "      <td>-1.64575</td>\n",
       "      <td>-1.64575</td>\n",
       "      <td>-2</td>\n",
       "      <td>-1.64575</td>\n",
       "      <td>-2.4641</td>\n",
       "      <td>...</td>\n",
       "      <td>-2.74166</td>\n",
       "      <td>-1.82843</td>\n",
       "      <td>-2.31662</td>\n",
       "      <td>-1.82843</td>\n",
       "      <td>-1.64575</td>\n",
       "      <td>-1.64575</td>\n",
       "      <td>-1.82843</td>\n",
       "      <td>-2</td>\n",
       "      <td>-2.87298</td>\n",
       "      <td>-1.82843</td>\n",
       "    </tr>\n",
       "    <tr>\n",
       "      <th>ABBA</th>\n",
       "      <td>-1</td>\n",
       "      <td>-1.64575</td>\n",
       "      <td>1</td>\n",
       "      <td>-1</td>\n",
       "      <td>-4.19615</td>\n",
       "      <td>-1</td>\n",
       "      <td>-1</td>\n",
       "      <td>-1.44949</td>\n",
       "      <td>-1</td>\n",
       "      <td>-2</td>\n",
       "      <td>...</td>\n",
       "      <td>-2.31662</td>\n",
       "      <td>-1.23607</td>\n",
       "      <td>-1.82843</td>\n",
       "      <td>-1.23607</td>\n",
       "      <td>-1</td>\n",
       "      <td>-1</td>\n",
       "      <td>-1.23607</td>\n",
       "      <td>-1.44949</td>\n",
       "      <td>-2.4641</td>\n",
       "      <td>-1.23607</td>\n",
       "    </tr>\n",
       "    <tr>\n",
       "      <th>Air Traffic</th>\n",
       "      <td>-1</td>\n",
       "      <td>-1.64575</td>\n",
       "      <td>-1</td>\n",
       "      <td>1</td>\n",
       "      <td>-4.19615</td>\n",
       "      <td>-1</td>\n",
       "      <td>-1</td>\n",
       "      <td>-1.44949</td>\n",
       "      <td>-1</td>\n",
       "      <td>-2</td>\n",
       "      <td>...</td>\n",
       "      <td>-2.31662</td>\n",
       "      <td>-1.23607</td>\n",
       "      <td>-1.82843</td>\n",
       "      <td>-1.23607</td>\n",
       "      <td>-1</td>\n",
       "      <td>-1</td>\n",
       "      <td>-1.23607</td>\n",
       "      <td>-1.44949</td>\n",
       "      <td>-2.4641</td>\n",
       "      <td>-1.23607</td>\n",
       "    </tr>\n",
       "    <tr>\n",
       "      <th>Arcade Fire</th>\n",
       "      <td>-4.19615</td>\n",
       "      <td>-4.2915</td>\n",
       "      <td>-4.19615</td>\n",
       "      <td>-4.19615</td>\n",
       "      <td>1</td>\n",
       "      <td>-4.19615</td>\n",
       "      <td>-4.19615</td>\n",
       "      <td>-4.38516</td>\n",
       "      <td>-4.19615</td>\n",
       "      <td>-4.65685</td>\n",
       "      <td>...</td>\n",
       "      <td>-4.65685</td>\n",
       "      <td>-4.09902</td>\n",
       "      <td>-4.19615</td>\n",
       "      <td>-3.89898</td>\n",
       "      <td>-4</td>\n",
       "      <td>-4</td>\n",
       "      <td>-4.2915</td>\n",
       "      <td>-4.38516</td>\n",
       "      <td>-4.56776</td>\n",
       "      <td>-4.2915</td>\n",
       "    </tr>\n",
       "  </tbody>\n",
       "</table>\n",
       "<p>5 rows × 145 columns</p>\n",
       "</div>"
      ],
      "text/plain": [
       "name               3 Doors Down 30 Seconds to Mars     ABBA Air Traffic  \\\n",
       "name                                                                      \n",
       "3 Doors Down                  1           -1.64575       -1          -1   \n",
       "30 Seconds to Mars     -1.64575                  1 -1.64575    -1.64575   \n",
       "ABBA                         -1           -1.64575        1          -1   \n",
       "Air Traffic                  -1           -1.64575       -1           1   \n",
       "Arcade Fire            -4.19615            -4.2915 -4.19615    -4.19615   \n",
       "\n",
       "name               Arcade Fire Ashlee Simpson Audioslave Avril Lavigne  \\\n",
       "name                                                                     \n",
       "3 Doors Down          -4.19615             -1  -0.414214      -1.44949   \n",
       "30 Seconds to Mars     -4.2915       -1.64575   -1.64575            -2   \n",
       "ABBA                  -4.19615             -1         -1      -1.44949   \n",
       "Air Traffic           -4.19615             -1         -1      -1.44949   \n",
       "Arcade Fire                  1       -4.19615   -4.19615      -4.38516   \n",
       "\n",
       "name               Babasónicos Band of Horses  ... Vampire Weekend  \\\n",
       "name                                           ...                   \n",
       "3 Doors Down                -1             -2  ...        -2.31662   \n",
       "30 Seconds to Mars    -1.64575        -2.4641  ...        -2.74166   \n",
       "ABBA                        -1             -2  ...        -2.31662   \n",
       "Air Traffic                 -1             -2  ...        -2.31662   \n",
       "Arcade Fire           -4.19615       -4.65685  ...        -4.65685   \n",
       "\n",
       "name               We Are Scientists   Weezer    Wilco Wolfmother  Xiu Xiu  \\\n",
       "name                                                                         \n",
       "3 Doors Down                -1.23607 -1.82843 -1.23607         -1       -1   \n",
       "30 Seconds to Mars          -1.82843 -2.31662 -1.82843   -1.64575 -1.64575   \n",
       "ABBA                        -1.23607 -1.82843 -1.23607         -1       -1   \n",
       "Air Traffic                 -1.23607 -1.82843 -1.23607         -1       -1   \n",
       "Arcade Fire                 -4.09902 -4.19615 -3.89898         -4       -4   \n",
       "\n",
       "name               Yo La Tengo      Zoé of Montreal Мои Ракеты Вверх  \n",
       "name                                                                  \n",
       "3 Doors Down          -1.23607 -1.44949     -2.4641         -1.23607  \n",
       "30 Seconds to Mars    -1.82843       -2    -2.87298         -1.82843  \n",
       "ABBA                  -1.23607 -1.44949     -2.4641         -1.23607  \n",
       "Air Traffic           -1.23607 -1.44949     -2.4641         -1.23607  \n",
       "Arcade Fire            -4.2915 -4.38516    -4.56776          -4.2915  \n",
       "\n",
       "[5 rows x 145 columns]"
      ]
     },
     "execution_count": 89,
     "metadata": {},
     "output_type": "execute_result"
    }
   ],
   "source": [
    "# SIMILARITY MATRIX BASED ON EUCLIDEAN DISTANCE\n",
    "# CHOSE EUCLIDEAN BECAUSE BEST PERFORMING CLUSTERING ALGORITHIMS BASED ON EUCLIDEAN\n",
    "df_item_sim_scr.head()"
   ]
  },
  {
   "cell_type": "code",
   "execution_count": 90,
   "metadata": {
    "slideshow": {
     "slide_type": "skip"
    }
   },
   "outputs": [
    {
     "data": {
      "text/plain": [
       "name\n",
       "Air Traffic            1\n",
       "Orson          -0.414214\n",
       "The Subways    -0.414214\n",
       "Tahiti 80      -0.414214\n",
       "The Wombats    -0.732051\n",
       "3 Doors Down          -1\n",
       "Name: Air Traffic, dtype: object"
      ]
     },
     "execution_count": 90,
     "metadata": {},
     "output_type": "execute_result"
    }
   ],
   "source": [
    "# SORT QC - MAKE SURE VALUES ARE\n",
    "df_item_sim_scr.iloc[0:,3].sort_values(ascending=False)[:6]"
   ]
  },
  {
   "cell_type": "code",
   "execution_count": 91,
   "metadata": {
    "slideshow": {
     "slide_type": "skip"
    }
   },
   "outputs": [],
   "source": [
    "# CLOSEST SIMILARITY FOR ITEM\n",
    "df_item_sim = pd.DataFrame(index=df_item_sim_scr.columns,columns=range(1,11))"
   ]
  },
  {
   "cell_type": "code",
   "execution_count": 92,
   "metadata": {
    "slideshow": {
     "slide_type": "skip"
    }
   },
   "outputs": [
    {
     "data": {
      "text/html": [
       "<div>\n",
       "<style scoped>\n",
       "    .dataframe tbody tr th:only-of-type {\n",
       "        vertical-align: middle;\n",
       "    }\n",
       "\n",
       "    .dataframe tbody tr th {\n",
       "        vertical-align: top;\n",
       "    }\n",
       "\n",
       "    .dataframe thead th {\n",
       "        text-align: right;\n",
       "    }\n",
       "</style>\n",
       "<table border=\"1\" class=\"dataframe\">\n",
       "  <thead>\n",
       "    <tr style=\"text-align: right;\">\n",
       "      <th></th>\n",
       "      <th>1</th>\n",
       "      <th>2</th>\n",
       "      <th>3</th>\n",
       "      <th>4</th>\n",
       "      <th>5</th>\n",
       "      <th>6</th>\n",
       "      <th>7</th>\n",
       "      <th>8</th>\n",
       "      <th>9</th>\n",
       "      <th>10</th>\n",
       "    </tr>\n",
       "    <tr>\n",
       "      <th>name</th>\n",
       "      <th></th>\n",
       "      <th></th>\n",
       "      <th></th>\n",
       "      <th></th>\n",
       "      <th></th>\n",
       "      <th></th>\n",
       "      <th></th>\n",
       "      <th></th>\n",
       "      <th></th>\n",
       "      <th></th>\n",
       "    </tr>\n",
       "  </thead>\n",
       "  <tbody>\n",
       "    <tr>\n",
       "      <th>3 Doors Down</th>\n",
       "      <td>NaN</td>\n",
       "      <td>NaN</td>\n",
       "      <td>NaN</td>\n",
       "      <td>NaN</td>\n",
       "      <td>NaN</td>\n",
       "      <td>NaN</td>\n",
       "      <td>NaN</td>\n",
       "      <td>NaN</td>\n",
       "      <td>NaN</td>\n",
       "      <td>NaN</td>\n",
       "    </tr>\n",
       "    <tr>\n",
       "      <th>30 Seconds to Mars</th>\n",
       "      <td>NaN</td>\n",
       "      <td>NaN</td>\n",
       "      <td>NaN</td>\n",
       "      <td>NaN</td>\n",
       "      <td>NaN</td>\n",
       "      <td>NaN</td>\n",
       "      <td>NaN</td>\n",
       "      <td>NaN</td>\n",
       "      <td>NaN</td>\n",
       "      <td>NaN</td>\n",
       "    </tr>\n",
       "    <tr>\n",
       "      <th>ABBA</th>\n",
       "      <td>NaN</td>\n",
       "      <td>NaN</td>\n",
       "      <td>NaN</td>\n",
       "      <td>NaN</td>\n",
       "      <td>NaN</td>\n",
       "      <td>NaN</td>\n",
       "      <td>NaN</td>\n",
       "      <td>NaN</td>\n",
       "      <td>NaN</td>\n",
       "      <td>NaN</td>\n",
       "    </tr>\n",
       "    <tr>\n",
       "      <th>Air Traffic</th>\n",
       "      <td>NaN</td>\n",
       "      <td>NaN</td>\n",
       "      <td>NaN</td>\n",
       "      <td>NaN</td>\n",
       "      <td>NaN</td>\n",
       "      <td>NaN</td>\n",
       "      <td>NaN</td>\n",
       "      <td>NaN</td>\n",
       "      <td>NaN</td>\n",
       "      <td>NaN</td>\n",
       "    </tr>\n",
       "    <tr>\n",
       "      <th>Arcade Fire</th>\n",
       "      <td>NaN</td>\n",
       "      <td>NaN</td>\n",
       "      <td>NaN</td>\n",
       "      <td>NaN</td>\n",
       "      <td>NaN</td>\n",
       "      <td>NaN</td>\n",
       "      <td>NaN</td>\n",
       "      <td>NaN</td>\n",
       "      <td>NaN</td>\n",
       "      <td>NaN</td>\n",
       "    </tr>\n",
       "  </tbody>\n",
       "</table>\n",
       "</div>"
      ],
      "text/plain": [
       "                     1    2    3    4    5    6    7    8    9    10\n",
       "name                                                                \n",
       "3 Doors Down        NaN  NaN  NaN  NaN  NaN  NaN  NaN  NaN  NaN  NaN\n",
       "30 Seconds to Mars  NaN  NaN  NaN  NaN  NaN  NaN  NaN  NaN  NaN  NaN\n",
       "ABBA                NaN  NaN  NaN  NaN  NaN  NaN  NaN  NaN  NaN  NaN\n",
       "Air Traffic         NaN  NaN  NaN  NaN  NaN  NaN  NaN  NaN  NaN  NaN\n",
       "Arcade Fire         NaN  NaN  NaN  NaN  NaN  NaN  NaN  NaN  NaN  NaN"
      ]
     },
     "execution_count": 92,
     "metadata": {},
     "output_type": "execute_result"
    }
   ],
   "source": [
    "df_item_sim.head()"
   ]
  },
  {
   "cell_type": "code",
   "execution_count": 93,
   "metadata": {
    "slideshow": {
     "slide_type": "skip"
    }
   },
   "outputs": [],
   "source": [
    "# LOOP ITEM BASED SIMILARITY AND POPULATE NAMES ASSOCIATED WITH HIGHEST SIM SCORE \n",
    "for i in range(0,len(df_item_sim_scr.columns)):\n",
    "    df_item_sim.iloc[i,:10] = df_item_sim_scr.iloc[0:,i].sort_values(\n",
    "        ascending=False)[:10].index"
   ]
  },
  {
   "cell_type": "code",
   "execution_count": 94,
   "metadata": {
    "slideshow": {
     "slide_type": "slide"
    }
   },
   "outputs": [
    {
     "data": {
      "text/html": [
       "<div>\n",
       "<style scoped>\n",
       "    .dataframe tbody tr th:only-of-type {\n",
       "        vertical-align: middle;\n",
       "    }\n",
       "\n",
       "    .dataframe tbody tr th {\n",
       "        vertical-align: top;\n",
       "    }\n",
       "\n",
       "    .dataframe thead th {\n",
       "        text-align: right;\n",
       "    }\n",
       "</style>\n",
       "<table border=\"1\" class=\"dataframe\">\n",
       "  <thead>\n",
       "    <tr style=\"text-align: right;\">\n",
       "      <th></th>\n",
       "      <th>2</th>\n",
       "      <th>3</th>\n",
       "      <th>4</th>\n",
       "      <th>5</th>\n",
       "    </tr>\n",
       "    <tr>\n",
       "      <th>name</th>\n",
       "      <th></th>\n",
       "      <th></th>\n",
       "      <th></th>\n",
       "      <th></th>\n",
       "    </tr>\n",
       "  </thead>\n",
       "  <tbody>\n",
       "    <tr>\n",
       "      <th>3 Doors Down</th>\n",
       "      <td>Audioslave</td>\n",
       "      <td>The Perishers</td>\n",
       "      <td>Peter Bjorn and John</td>\n",
       "      <td>The All-American Rejects</td>\n",
       "    </tr>\n",
       "    <tr>\n",
       "      <th>30 Seconds to Mars</th>\n",
       "      <td>Linkin Park</td>\n",
       "      <td>Julian Casablancas</td>\n",
       "      <td>Evanescence</td>\n",
       "      <td>My Chemical Romance</td>\n",
       "    </tr>\n",
       "    <tr>\n",
       "      <th>ABBA</th>\n",
       "      <td>George Michael</td>\n",
       "      <td>Mika</td>\n",
       "      <td>HIM</td>\n",
       "      <td>Garbage</td>\n",
       "    </tr>\n",
       "    <tr>\n",
       "      <th>Air Traffic</th>\n",
       "      <td>Orson</td>\n",
       "      <td>The Subways</td>\n",
       "      <td>Tahiti 80</td>\n",
       "      <td>The Wombats</td>\n",
       "    </tr>\n",
       "    <tr>\n",
       "      <th>Arcade Fire</th>\n",
       "      <td>Spoon</td>\n",
       "      <td>The New Pornographers</td>\n",
       "      <td>Grizzly Bear</td>\n",
       "      <td>Wilco</td>\n",
       "    </tr>\n",
       "  </tbody>\n",
       "</table>\n",
       "</div>"
      ],
      "text/plain": [
       "                                 2                      3  \\\n",
       "name                                                        \n",
       "3 Doors Down            Audioslave          The Perishers   \n",
       "30 Seconds to Mars     Linkin Park     Julian Casablancas   \n",
       "ABBA                George Michael                   Mika   \n",
       "Air Traffic                  Orson            The Subways   \n",
       "Arcade Fire                  Spoon  The New Pornographers   \n",
       "\n",
       "                                       4                         5  \n",
       "name                                                                \n",
       "3 Doors Down        Peter Bjorn and John  The All-American Rejects  \n",
       "30 Seconds to Mars           Evanescence       My Chemical Romance  \n",
       "ABBA                                 HIM                   Garbage  \n",
       "Air Traffic                    Tahiti 80               The Wombats  \n",
       "Arcade Fire                 Grizzly Bear                     Wilco  "
      ]
     },
     "execution_count": 94,
     "metadata": {},
     "output_type": "execute_result"
    }
   ],
   "source": [
    "# SIMILAR ARTISTS BASED AS COMPARED TO CURRENT ARTIST LISTENING TO\n",
    "df_item_sim.iloc[:5,1:5]"
   ]
  },
  {
   "cell_type": "markdown",
   "metadata": {
    "slideshow": {
     "slide_type": "skip"
    }
   },
   "source": [
    "### COLLABORATIVE FILTER - USER "
   ]
  },
  {
   "cell_type": "code",
   "execution_count": 95,
   "metadata": {
    "slideshow": {
     "slide_type": "skip"
    }
   },
   "outputs": [],
   "source": [
    "# RECOMMEND BASED ON SIMILAR USER LISTENING HABITS\n",
    "# RETURN SIMILAR USER AND THEIR PREFERENCES\n",
    "\n",
    "# FUNCTION FOR SIMILARITY SCORES\n",
    "def getScore(history, similarities):\n",
    "   return sum(history*similarities)/sum(similarities)"
   ]
  },
  {
   "cell_type": "code",
   "execution_count": 96,
   "metadata": {
    "slideshow": {
     "slide_type": "skip"
    }
   },
   "outputs": [],
   "source": [
    "# CREATE DATAFRAME FOR USER SIMILIARITY SCORE\n",
    "# FILL IN THE USER NAME COLUMN ??? CHECK THIS\n",
    "data_sims1 = pd.DataFrame(index=df_same_clust.index,columns=df_same_clust.columns)\n",
    "data_sims1.iloc[:,:1] = df_same_clust.iloc[:,:1]"
   ]
  },
  {
   "cell_type": "code",
   "execution_count": 97,
   "metadata": {
    "slideshow": {
     "slide_type": "skip"
    }
   },
   "outputs": [],
   "source": [
    "#Loop through all rows, skip the user column, and fill with similarity scores\n",
    "for i in range(0,len(data_sims1.index)):\n",
    "    for j in range(1,len(data_sims1.columns)):\n",
    "        user1 = data_sims1.index[i]\n",
    "        product1 = data_sims1.columns[j]\n",
    "        #print(product1)\n",
    " \n",
    "        if df_same_clust.iloc[i][j] == 1:\n",
    "            data_sims1.iloc[i][j] = 0\n",
    "        else:\n",
    "            product_top_names1 = df_item_sim.loc[product1][1:10]\n",
    "            product_top_sims1 = df_item_sim_scr.loc[product1].sort_values(ascending=False)[1:10]\n",
    "            user_purchases1 = df_same_clust_no_user.loc[user1,product_top_names1]\n",
    "            data_sims1.iloc[i][j] = getScore(user_purchases1,product_top_sims1)"
   ]
  },
  {
   "cell_type": "code",
   "execution_count": 98,
   "metadata": {
    "slideshow": {
     "slide_type": "skip"
    }
   },
   "outputs": [],
   "source": [
    "# GET TOP ARTISTS\n",
    "data_recommend1 = pd.DataFrame(index=data_sims1.index, columns=['user','1','2','3','4','5','6'])\n",
    "data_recommend1.iloc[0:,0] = data_sims1.iloc[:,0]"
   ]
  },
  {
   "cell_type": "code",
   "execution_count": 99,
   "metadata": {
    "slideshow": {
     "slide_type": "skip"
    }
   },
   "outputs": [],
   "source": [
    "# POPULATE DATAFRAME WITH ARTIST\n",
    "for i in range(0,len(data_sims1.index)):\n",
    "    data_recommend1.iloc[i,1:] = data_sims1.iloc[i,:].sort_values(ascending=False).iloc[1:7,].index.transpose()"
   ]
  },
  {
   "cell_type": "code",
   "execution_count": 100,
   "metadata": {
    "slideshow": {
     "slide_type": "skip"
    }
   },
   "outputs": [
    {
     "data": {
      "text/html": [
       "<div>\n",
       "<style scoped>\n",
       "    .dataframe tbody tr th:only-of-type {\n",
       "        vertical-align: middle;\n",
       "    }\n",
       "\n",
       "    .dataframe tbody tr th {\n",
       "        vertical-align: top;\n",
       "    }\n",
       "\n",
       "    .dataframe thead th {\n",
       "        text-align: right;\n",
       "    }\n",
       "</style>\n",
       "<table border=\"1\" class=\"dataframe\">\n",
       "  <thead>\n",
       "    <tr style=\"text-align: right;\">\n",
       "      <th></th>\n",
       "      <th>user</th>\n",
       "      <th>1</th>\n",
       "      <th>2</th>\n",
       "      <th>3</th>\n",
       "      <th>4</th>\n",
       "      <th>5</th>\n",
       "      <th>6</th>\n",
       "    </tr>\n",
       "  </thead>\n",
       "  <tbody>\n",
       "    <tr>\n",
       "      <th>0</th>\n",
       "      <td>5</td>\n",
       "      <td>Broken Social Scene</td>\n",
       "      <td>Final Fantasy</td>\n",
       "      <td>Interpol</td>\n",
       "      <td>Yo La Tengo</td>\n",
       "      <td>Pavement</td>\n",
       "      <td>Myslovitz</td>\n",
       "    </tr>\n",
       "    <tr>\n",
       "      <th>1</th>\n",
       "      <td>10</td>\n",
       "      <td>Faith No More</td>\n",
       "      <td>Jet</td>\n",
       "      <td>Interpol</td>\n",
       "      <td>Incubus</td>\n",
       "      <td>Imogen Heap</td>\n",
       "      <td>HIM</td>\n",
       "    </tr>\n",
       "  </tbody>\n",
       "</table>\n",
       "</div>"
      ],
      "text/plain": [
       "  user                    1              2         3            4  \\\n",
       "0    5  Broken Social Scene  Final Fantasy  Interpol  Yo La Tengo   \n",
       "1   10        Faith No More            Jet  Interpol      Incubus   \n",
       "\n",
       "             5          6  \n",
       "0     Pavement  Myslovitz  \n",
       "1  Imogen Heap        HIM  "
      ]
     },
     "execution_count": 100,
     "metadata": {},
     "output_type": "execute_result"
    }
   ],
   "source": [
    "data_recommend1.head(2)"
   ]
  },
  {
   "cell_type": "code",
   "execution_count": 101,
   "metadata": {
    "slideshow": {
     "slide_type": "slide"
    }
   },
   "outputs": [
    {
     "data": {
      "text/html": [
       "<div>\n",
       "<style scoped>\n",
       "    .dataframe tbody tr th:only-of-type {\n",
       "        vertical-align: middle;\n",
       "    }\n",
       "\n",
       "    .dataframe tbody tr th {\n",
       "        vertical-align: top;\n",
       "    }\n",
       "\n",
       "    .dataframe thead th {\n",
       "        text-align: right;\n",
       "    }\n",
       "</style>\n",
       "<table border=\"1\" class=\"dataframe\">\n",
       "  <thead>\n",
       "    <tr style=\"text-align: right;\">\n",
       "      <th></th>\n",
       "      <th>user</th>\n",
       "      <th>1</th>\n",
       "      <th>2</th>\n",
       "      <th>3</th>\n",
       "      <th>4</th>\n",
       "    </tr>\n",
       "  </thead>\n",
       "  <tbody>\n",
       "    <tr>\n",
       "      <th>0</th>\n",
       "      <td>5</td>\n",
       "      <td>Broken Social Scene</td>\n",
       "      <td>Final Fantasy</td>\n",
       "      <td>Interpol</td>\n",
       "      <td>Yo La Tengo</td>\n",
       "    </tr>\n",
       "    <tr>\n",
       "      <th>1</th>\n",
       "      <td>10</td>\n",
       "      <td>Faith No More</td>\n",
       "      <td>Jet</td>\n",
       "      <td>Interpol</td>\n",
       "      <td>Incubus</td>\n",
       "    </tr>\n",
       "    <tr>\n",
       "      <th>2</th>\n",
       "      <td>27</td>\n",
       "      <td>Faith No More</td>\n",
       "      <td>Jet</td>\n",
       "      <td>Interpol</td>\n",
       "      <td>Incubus</td>\n",
       "    </tr>\n",
       "    <tr>\n",
       "      <th>3</th>\n",
       "      <td>38</td>\n",
       "      <td>Faith No More</td>\n",
       "      <td>Jet</td>\n",
       "      <td>Interpol</td>\n",
       "      <td>Incubus</td>\n",
       "    </tr>\n",
       "    <tr>\n",
       "      <th>4</th>\n",
       "      <td>50</td>\n",
       "      <td>Faith No More</td>\n",
       "      <td>Jet</td>\n",
       "      <td>Interpol</td>\n",
       "      <td>Incubus</td>\n",
       "    </tr>\n",
       "    <tr>\n",
       "      <th>5</th>\n",
       "      <td>62</td>\n",
       "      <td>Garbage</td>\n",
       "      <td>Faith No More</td>\n",
       "      <td>The Veronicas</td>\n",
       "      <td>Paramore</td>\n",
       "    </tr>\n",
       "    <tr>\n",
       "      <th>6</th>\n",
       "      <td>73</td>\n",
       "      <td>The All-American Rejects</td>\n",
       "      <td>Foals</td>\n",
       "      <td>The Kooks</td>\n",
       "      <td>Florence + the Machine</td>\n",
       "    </tr>\n",
       "    <tr>\n",
       "      <th>7</th>\n",
       "      <td>77</td>\n",
       "      <td>Faith No More</td>\n",
       "      <td>Jet</td>\n",
       "      <td>Interpol</td>\n",
       "      <td>Incubus</td>\n",
       "    </tr>\n",
       "    <tr>\n",
       "      <th>8</th>\n",
       "      <td>88</td>\n",
       "      <td>Bloc Party</td>\n",
       "      <td>Good Shoes</td>\n",
       "      <td>Jet</td>\n",
       "      <td>Interpol</td>\n",
       "    </tr>\n",
       "    <tr>\n",
       "      <th>9</th>\n",
       "      <td>97</td>\n",
       "      <td>Two Door Cinema Club</td>\n",
       "      <td>George Michael</td>\n",
       "      <td>Interpol</td>\n",
       "      <td>Incubus</td>\n",
       "    </tr>\n",
       "  </tbody>\n",
       "</table>\n",
       "</div>"
      ],
      "text/plain": [
       "  user                         1               2              3  \\\n",
       "0    5       Broken Social Scene   Final Fantasy       Interpol   \n",
       "1   10             Faith No More             Jet       Interpol   \n",
       "2   27             Faith No More             Jet       Interpol   \n",
       "3   38             Faith No More             Jet       Interpol   \n",
       "4   50             Faith No More             Jet       Interpol   \n",
       "5   62                   Garbage   Faith No More  The Veronicas   \n",
       "6   73  The All-American Rejects           Foals      The Kooks   \n",
       "7   77             Faith No More             Jet       Interpol   \n",
       "8   88                Bloc Party      Good Shoes            Jet   \n",
       "9   97      Two Door Cinema Club  George Michael       Interpol   \n",
       "\n",
       "                        4  \n",
       "0             Yo La Tengo  \n",
       "1                 Incubus  \n",
       "2                 Incubus  \n",
       "3                 Incubus  \n",
       "4                 Incubus  \n",
       "5                Paramore  \n",
       "6  Florence + the Machine  \n",
       "7                 Incubus  \n",
       "8                Interpol  \n",
       "9                 Incubus  "
      ]
     },
     "execution_count": 101,
     "metadata": {},
     "output_type": "execute_result"
    }
   ],
   "source": [
    "# GIVE RECOMMENDATIONS FOR SIMILAR USERS\n",
    "# CAN FROM HERE IDENTIFY ARTISTS THAT SIMILAR USERS LIKE, BUT CURRENT USER HASN'T LISTENED TO\n",
    "data_recommend1.iloc[0:10,:5]"
   ]
  },
  {
   "cell_type": "markdown",
   "metadata": {
    "slideshow": {
     "slide_type": "skip"
    }
   },
   "source": [
    "### CONTENT BASED - VERY BASIC, USE TAG INPUT FOR MOST POPULAR IN GENRE"
   ]
  },
  {
   "cell_type": "code",
   "execution_count": 102,
   "metadata": {
    "slideshow": {
     "slide_type": "slide"
    }
   },
   "outputs": [
    {
     "data": {
      "text/plain": [
       "name\n",
       "Britney Spears        1664992.0\n",
       "Christina Aguilera     677708.0\n",
       "Lady Gaga              564453.0\n",
       "Shakira                474315.0\n",
       "Madonna                432089.0\n",
       "Name: weight, dtype: float64"
      ]
     },
     "execution_count": 102,
     "metadata": {},
     "output_type": "execute_result"
    }
   ],
   "source": [
    "# CONTENT BASED FILTER\n",
    "# INPUT TAG (CONTENT), EITHER ROCK, POP OR INDIE, GET TOP FIVE MOST LISTENED TO ARTISTS\n",
    "#tag_of_interest = 'indie'\n",
    "#tag_of_interest = 'rock'\n",
    "tag_of_interest = 'pop'\n",
    "df[df['tagValue']==tag_of_interest].groupby('name')['weight'].sum().sort_values(ascending=False).head()"
   ]
  },
  {
   "cell_type": "markdown",
   "metadata": {
    "slideshow": {
     "slide_type": "skip"
    }
   },
   "source": [
    "### CONTENT BASED - VERY BASIC, PROXIMITY TO CENTROID OF CLUSTERS BASED ON GENRE RANKS"
   ]
  },
  {
   "cell_type": "code",
   "execution_count": 103,
   "metadata": {
    "slideshow": {
     "slide_type": "slide"
    }
   },
   "outputs": [
    {
     "data": {
      "text/html": [
       "<div>\n",
       "<style scoped>\n",
       "    .dataframe tbody tr th:only-of-type {\n",
       "        vertical-align: middle;\n",
       "    }\n",
       "\n",
       "    .dataframe tbody tr th {\n",
       "        vertical-align: top;\n",
       "    }\n",
       "\n",
       "    .dataframe thead th {\n",
       "        text-align: right;\n",
       "    }\n",
       "</style>\n",
       "<table border=\"1\" class=\"dataframe\">\n",
       "  <thead>\n",
       "    <tr style=\"text-align: right;\">\n",
       "      <th></th>\n",
       "      <th>userID</th>\n",
       "      <th>cum_weight</th>\n",
       "      <th>cum_rank</th>\n",
       "      <th>pop_%</th>\n",
       "      <th>rock_%</th>\n",
       "      <th>indie_%</th>\n",
       "      <th>pop</th>\n",
       "      <th>rock</th>\n",
       "      <th>indie</th>\n",
       "      <th>cl_label</th>\n",
       "      <th>0</th>\n",
       "      <th>1</th>\n",
       "      <th>2</th>\n",
       "    </tr>\n",
       "  </thead>\n",
       "  <tbody>\n",
       "    <tr>\n",
       "      <th>230</th>\n",
       "      <td>430</td>\n",
       "      <td>10125.0</td>\n",
       "      <td>0.000966</td>\n",
       "      <td>0.073383</td>\n",
       "      <td>0.875556</td>\n",
       "      <td>0.051062</td>\n",
       "      <td>743.0</td>\n",
       "      <td>8865.0</td>\n",
       "      <td>517.0</td>\n",
       "      <td>1</td>\n",
       "      <td>1.190422</td>\n",
       "      <td>0.026048</td>\n",
       "      <td>0.777697</td>\n",
       "    </tr>\n",
       "    <tr>\n",
       "      <th>467</th>\n",
       "      <td>904</td>\n",
       "      <td>3300.0</td>\n",
       "      <td>0.000315</td>\n",
       "      <td>0.012727</td>\n",
       "      <td>0.877879</td>\n",
       "      <td>0.109394</td>\n",
       "      <td>42.0</td>\n",
       "      <td>2897.0</td>\n",
       "      <td>361.0</td>\n",
       "      <td>1</td>\n",
       "      <td>1.236232</td>\n",
       "      <td>0.039377</td>\n",
       "      <td>0.779899</td>\n",
       "    </tr>\n",
       "    <tr>\n",
       "      <th>110</th>\n",
       "      <td>203</td>\n",
       "      <td>800.0</td>\n",
       "      <td>0.000076</td>\n",
       "      <td>0.083750</td>\n",
       "      <td>0.916250</td>\n",
       "      <td>0.000000</td>\n",
       "      <td>67.0</td>\n",
       "      <td>733.0</td>\n",
       "      <td>0.0</td>\n",
       "      <td>1</td>\n",
       "      <td>1.211872</td>\n",
       "      <td>0.043266</td>\n",
       "      <td>0.818828</td>\n",
       "    </tr>\n",
       "    <tr>\n",
       "      <th>294</th>\n",
       "      <td>545</td>\n",
       "      <td>26408.0</td>\n",
       "      <td>0.002521</td>\n",
       "      <td>0.097736</td>\n",
       "      <td>0.888632</td>\n",
       "      <td>0.013632</td>\n",
       "      <td>2581.0</td>\n",
       "      <td>23467.0</td>\n",
       "      <td>360.0</td>\n",
       "      <td>1</td>\n",
       "      <td>1.182347</td>\n",
       "      <td>0.047048</td>\n",
       "      <td>0.792117</td>\n",
       "    </tr>\n",
       "    <tr>\n",
       "      <th>205</th>\n",
       "      <td>388</td>\n",
       "      <td>26909.0</td>\n",
       "      <td>0.002568</td>\n",
       "      <td>0.061764</td>\n",
       "      <td>0.938236</td>\n",
       "      <td>0.000000</td>\n",
       "      <td>1662.0</td>\n",
       "      <td>25247.0</td>\n",
       "      <td>0.0</td>\n",
       "      <td>1</td>\n",
       "      <td>1.242962</td>\n",
       "      <td>0.051110</td>\n",
       "      <td>0.839968</td>\n",
       "    </tr>\n",
       "  </tbody>\n",
       "</table>\n",
       "</div>"
      ],
      "text/plain": [
       "     userID  cum_weight  cum_rank     pop_%    rock_%   indie_%     pop  \\\n",
       "230     430     10125.0  0.000966  0.073383  0.875556  0.051062   743.0   \n",
       "467     904      3300.0  0.000315  0.012727  0.877879  0.109394    42.0   \n",
       "110     203       800.0  0.000076  0.083750  0.916250  0.000000    67.0   \n",
       "294     545     26408.0  0.002521  0.097736  0.888632  0.013632  2581.0   \n",
       "205     388     26909.0  0.002568  0.061764  0.938236  0.000000  1662.0   \n",
       "\n",
       "        rock  indie  cl_label         0         1         2  \n",
       "230   8865.0  517.0         1  1.190422  0.026048  0.777697  \n",
       "467   2897.0  361.0         1  1.236232  0.039377  0.779899  \n",
       "110    733.0    0.0         1  1.211872  0.043266  0.818828  \n",
       "294  23467.0  360.0         1  1.182347  0.047048  0.792117  \n",
       "205  25247.0    0.0         1  1.242962  0.051110  0.839968  "
      ]
     },
     "execution_count": 103,
     "metadata": {},
     "output_type": "execute_result"
    }
   ],
   "source": [
    "# CONTENT BASED FILTER\n",
    "# GET FIVE USERS CLOSEST TO CENTROID IN A CLUSTER\n",
    "# INPUT CLUSTER NUMBER\n",
    "cluster_num = 1\n",
    "df_user_genre.sort_values(by=[cluster_num], ascending=True).head()\n",
    "#top5['userID']"
   ]
  },
  {
   "cell_type": "markdown",
   "metadata": {
    "slideshow": {
     "slide_type": "slide"
    }
   },
   "source": [
    "### SUMMARY\n",
    "#### Q: A specified research question your model addresses.  \n",
    ">What are the optimal number of clusters given genre inputs? This analysis identifies three as the optimal number of clusters when comparing rock vs pop genres. Meaning users either:  \n",
    ">1) really like rock and not really pop  \n",
    ">2) at best sort of likes rock, at best sort of likes pop  \n",
    ">3) really like pop, but not really rock  \n",
    "\n",
    "#### Q: How you chose your model specification and what alternatives you compared it to.  \n",
    ">Chose K-Means based on WCSS, the elbow method. \n",
    "Used sillouette scores for other clustering algorithms, including GMM and Agglomerative Clustering.  \n",
    "\n",
    "#### Q: Quantifiable results based on the research you’ve conducted.  \n",
    ">Results favored euclidean distance in siloutette scores.   \n",
    "Siloutette scores kept going up with cluster number.   \n",
    "Elbow method rate of change appears to have decreased at three and started to blatten at 4.  \n",
    "\n",
    "#### Q: The visuals you chose and what they represent for your research.  \n",
    "> Chose cluster visuals for unstructured data exploration and rational behind cluster choice.  \n",
    "> Chose similarity matrix and output for recommedation engine to show inner workings and end result.  "
   ]
  },
  {
   "cell_type": "markdown",
   "metadata": {
    "slideshow": {
     "slide_type": "slide"
    }
   },
   "source": [
    "#### Your end-user and the value your project provides to them.  \n",
    ">End user is both the corporation implementing the algorithm and the user using the service. By provideing a quality recommendation, this improves overall experience for the user, as well as customer retention for the company. Company benefits from clustering by better understanding the user. Could be used to understand how to advertise, cross market opportunities for artists and many more.  \n",
    "\n",
    "#### The practical uses of your model for an audience of interest.  \n",
    "> Find new artists haven't listened to before that are relevant and interesting.  \n",
    "> Break apart groupings of users to better understand how behavior is broken down outside of traditional labels.  "
   ]
  },
  {
   "cell_type": "markdown",
   "metadata": {
    "slideshow": {
     "slide_type": "slide"
    }
   },
   "source": [
    "#### Potential problems or bias, any weak points or shortcomings of your model.  \n",
    "> Selection bias. Model uses user tags. Not all users enter tags.   \n",
    "> Classification, users don't have a structured approach to tagging.   \n",
    "> Weights based on user listening preferences may overlook artists the user likes, but doesn't listen to on the platform for whatever reason.   \n",
    "> Approach is simplistic, and not nuanced.   "
   ]
  },
  {
   "cell_type": "markdown",
   "metadata": {
    "slideshow": {
     "slide_type": "slide"
    }
   },
   "source": [
    "#### Additional research proposal  \n",
    ">Compare to KNN recommendation system.  \n",
    "Explore how to rate the performance of recommendation.  \n",
    "Explore appropriate distance metrics for clustering this type of data.\n",
    "Change rank from cumulative to decile rank based on user weighting.\n",
    "Scale, so can perform analysis using all genres."
   ]
  },
  {
   "cell_type": "code",
   "execution_count": null,
   "metadata": {},
   "outputs": [],
   "source": []
  }
 ],
 "metadata": {
  "celltoolbar": "Slideshow",
  "kernelspec": {
   "display_name": "Python 3",
   "language": "python",
   "name": "python3"
  },
  "language_info": {
   "codemirror_mode": {
    "name": "ipython",
    "version": 3
   },
   "file_extension": ".py",
   "mimetype": "text/x-python",
   "name": "python",
   "nbconvert_exporter": "python",
   "pygments_lexer": "ipython3",
   "version": "3.7.3"
  }
 },
 "nbformat": 4,
 "nbformat_minor": 2
}
