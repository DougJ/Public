{
  "nbformat": 4,
  "nbformat_minor": 0,
  "metadata": {
    "colab": {
      "name": "ResNet50_Pnumothorax_V2-0.ipynb",
      "provenance": [],
      "collapsed_sections": [
        "vXLp5CN4A-g2",
        "itsorO9vEXT3",
        "UvDXbvWqGW55",
        "8tACe5aLGSGz",
        "fu5WiW8tIw5T",
        "y-ykYSWXI066",
        "0hGip4enxTJC",
        "UHrzxeDfG5V9",
        "vfZ5MxG0G_Hj"
      ],
      "machine_shape": "hm"
    },
    "kernelspec": {
      "name": "python3",
      "display_name": "Python 3"
    }
  },
  "cells": [
    {
      "cell_type": "markdown",
      "metadata": {
        "id": "vXLp5CN4A-g2",
        "colab_type": "text"
      },
      "source": [
        "## ResNet50 Architecture on Covid X-Ray transfer learning from Pnumothorax X-Ray and imagenet.\n",
        "\n",
        "* Authored by Doug Johnson  \n",
        "\n",
        "Some code borrowed from Machine Learning Mastery and other websites. "
      ]
    },
    {
      "cell_type": "markdown",
      "metadata": {
        "id": "2mozubPVLwST",
        "colab_type": "text"
      },
      "source": [
        "### Summary:  \n",
        "Use imagenet weights and apply transfer learning.  \n",
        "Ran on Colab, referenced premade tensors in shared folder as inputs.  \n",
        "Output weights and model in a single file.  \n",
        "Load best weights after epochs into model after compile, reran.\n",
        "\n",
        "Goal get loss down, lr decreasing may be issue. May wish to gridsearch on optimizers.  "
      ]
    },
    {
      "cell_type": "markdown",
      "metadata": {
        "id": "lsci01LPFXJc",
        "colab_type": "text"
      },
      "source": [
        "### Change Log Details\n",
        "V2.0  \n",
        "* Use Covid tensors to train and test on\n",
        "* Create VERSION GLOBAL VAR for output weight and model files, update each time\n",
        "* Load weights from V1.2 run\n",
        "* Using optimizer = Adam\n",
        "\n",
        "V1.2   \n",
        "* Added ReduceLRonPlateau and Callback  \n",
        "* Using Adadelta  \n",
        "* Trained initial model and loading weights via model.load_weights(WEIGHTS_ONLY_BEST)  \n",
        "* ImageDataGenerator added zoom, crop, rotate ...   \n",
        "\n",
        "V1.1    \n",
        "* Only ResNet50  \n",
        "* Clean up and notate    \n",
        "* Document steps, understand process prior to moving on.     \n",
        "\n",
        "V1.0   \n",
        "* Adapt Cats vs Dogs in local environment to X-Ray tensors on Google Drive   \n",
        "* Get familiar with Colab access to images in shared folder, GPU, and high RAM mode.   \n",
        "* Get a functioning baseline model  \n",
        "* Use .npy tensor    \n",
        "* Move to more current model, ResNet50    \n",
        "* Train test with imagenet weights on pneoumothorax export weights model combo.   \n",
        "\n"
      ]
    },
    {
      "cell_type": "markdown",
      "metadata": {
        "id": "ro6_fomcjOmL",
        "colab_type": "text"
      },
      "source": [
        "### Next Steps:  \n",
        "*  Convert X_train and y_train to pd.dataframe from np.array, explore  \n",
        "*  Load model weight combo for prediction new   \n",
        "*  GridSearch     \n",
        "*  Use GitHub as source code repo for notebooks       \n",
        "*  Multi-class classification  ?      \n",
        "*  Research medical pre-trained imagenet ... Stanford, 1000 lung  \n",
        "\n",
        "### General: \n",
        "* Review performance stats and charts, accuracy vs val accuracy \n",
        "   LR in background, want low val_loss (.3) and loss (.5) accuracy val (.7-.8)     \n",
        "* Images being standardized prior to .npy tensor, process , yes, Jie  dividing by 255 like in a prior notbook.    \n",
        "* Debug API Anatoly, why not working, what issue?      \n",
        "* Understand tensor .npy creation process, document   \n",
        "* In test harness, train_datagen.flow and train_datagen.flow_from_directory have different inputs   \n",
        "* steps_per_epoch = DATASET_SIZE//BATCH_SIZE  how know this, how relate to .npy tensor?  \n",
        "* Debug Anatoly/Jie the programming of functions for commoditizing the model architecture.  \n",
        "\n",
        "  "
      ]
    },
    {
      "cell_type": "markdown",
      "metadata": {
        "id": "itsorO9vEXT3",
        "colab_type": "text"
      },
      "source": [
        "## Import Modules"
      ]
    },
    {
      "cell_type": "code",
      "metadata": {
        "id": "VSjzc3z1OzY_",
        "colab_type": "code",
        "outputId": "8f33b61f-8770-42e2-fa83-956c78c51cde",
        "colab": {
          "base_uri": "https://localhost:8080/",
          "height": 35
        }
      },
      "source": [
        "import sys\n",
        "from keras.utils import to_categorical\n",
        "from keras.layers import Conv2D, MaxPooling2D, Flatten, Dense, Dropout\n",
        "from keras import backend as K\n",
        "from keras.models import Sequential, Model\n",
        "from keras.applications.resnet50 import ResNet50, preprocess_input\n",
        "\n",
        "from keras.optimizers import SGD, Adam\n",
        "#from preprocessing.image import ImageDataGenerator\n",
        "from keras.preprocessing import image\n",
        "from keras.preprocessing.image import ImageDataGenerator, load_img, img_to_array\n",
        "\n",
        "# LOAD DATASET\n",
        "from os import listdir\n",
        "import numpy as np\n",
        "from numpy import asarray, save\n",
        "\n",
        "# PLOT IMAGES \n",
        "import matplotlib.pyplot as plt\n",
        "from matplotlib.image import imread\n",
        "%matplotlib inline"
      ],
      "execution_count": 2,
      "outputs": [
        {
          "output_type": "stream",
          "text": [
            "Using TensorFlow backend.\n"
          ],
          "name": "stderr"
        }
      ]
    },
    {
      "cell_type": "markdown",
      "metadata": {
        "id": "UvDXbvWqGW55",
        "colab_type": "text"
      },
      "source": [
        "## Global Variable Designation"
      ]
    },
    {
      "cell_type": "code",
      "metadata": {
        "id": "tUO4cGn2PTr0",
        "colab_type": "code",
        "colab": {}
      },
      "source": [
        "VERSION_IN        = 'V1-2_Adam' # Adam is optimizer \n",
        "VERSION_OUT       = 'V2-0'\n",
        "DATASET_PATH      = 'images/Preprocessed_Tensors/COVID_img_preprocessed/'\n",
        "BASE_PATH         = '/content/drive/My Drive/'\n",
        "WEIGHTS_IN        = BASE_PATH + 'ResNet50_weights_best_' + VERSION_IN + '.hdf5' \n",
        "WEIGHTS_MODEL_IN  = BASE_PATH + 'ResNet50_model_weights_final_' + VERSION_IN + '.h5' \n",
        "WEIGHTS_MODEL_F   = BASE_PATH + 'ResNet50_model_weights_final_' + VERSION_OUT + '.h5' # IDEALLY INPUT RESNET AND MODEL/OUTPUT FILE CALLED\n",
        "WEIGHTS_ONLY_BEST = BASE_PATH + 'ResNet50_weights_best_' + VERSION_OUT + '.hdf5'\n",
        "FOLDER_PATH_TRAIN = BASE_PATH + DATASET_PATH\n",
        "FOLDER_PATH_TEST  = BASE_PATH + DATASET_PATH\n",
        "IMAGE_SIZE        = 224   \n",
        "INPUT_LAYERS      = 3     # RED, GREEN, BLUE = 3; IF 3 REMOVE FROM ImageDataGenerator\n",
        "LAYERS_TRANS      = 3     # GREYSCALE = 1; FOR MEMORY AND RUNTIME EFFICIENCY CONVERT TO GREYSCALE, !!! DO SOME REQUIRE 1 VS 3?\n",
        "NUM_CLASSES       = 2     # NUMBER OF TARGET CLASSES, BINARY - TRUE OR FALSE = 2,CAT OR DOG OR CHICKEN = 3 ...\n",
        "BATCH_SIZE_N      = 16    # MEMORY MANAGEMENT, INCREASE IF HAVE LOT OF MEMORY\n",
        "FREEZE_LAYERS     = 2     # !!! READ UP ON SIGNIFICANCE\n",
        "NUM_EPOCHS        = 50  \n",
        "VERBOSE_EPOCH     = 1     # EPOCH OUTPUT 0 = NO OUTPUT, 1 = OUTPUT"
      ],
      "execution_count": 0,
      "outputs": []
    },
    {
      "cell_type": "markdown",
      "metadata": {
        "id": "8tACe5aLGSGz",
        "colab_type": "text"
      },
      "source": [
        "## Access Data"
      ]
    },
    {
      "cell_type": "code",
      "metadata": {
        "id": "FN-od3btxMsE",
        "colab_type": "code",
        "outputId": "e4c01b34-76e0-46b0-960f-9a1b85b415c6",
        "colab": {
          "base_uri": "https://localhost:8080/",
          "height": 124
        }
      },
      "source": [
        "# MOUNT GOOGLE DRIVE TO ACCESS SHARED IMAGES FOLDER\n",
        "from google.colab import drive\n",
        "drive.mount('/content/drive')"
      ],
      "execution_count": 4,
      "outputs": [
        {
          "output_type": "stream",
          "text": [
            "Go to this URL in a browser: https://accounts.google.com/o/oauth2/auth?client_id=947318989803-6bn6qk8qdgf4n4g3pfee6491hc0brc4i.apps.googleusercontent.com&redirect_uri=urn%3aietf%3awg%3aoauth%3a2.0%3aoob&response_type=code&scope=email%20https%3a%2f%2fwww.googleapis.com%2fauth%2fdocs.test%20https%3a%2f%2fwww.googleapis.com%2fauth%2fdrive%20https%3a%2f%2fwww.googleapis.com%2fauth%2fdrive.photos.readonly%20https%3a%2f%2fwww.googleapis.com%2fauth%2fpeopleapi.readonly\n",
            "\n",
            "Enter your authorization code:\n",
            "··········\n",
            "Mounted at /content/drive\n"
          ],
          "name": "stdout"
        }
      ]
    },
    {
      "cell_type": "code",
      "metadata": {
        "id": "pbFmJz7TBXNd",
        "colab_type": "code",
        "outputId": "86fa3206-2a64-4b2e-fe42-97592be97423",
        "colab": {
          "base_uri": "https://localhost:8080/",
          "height": 35
        }
      },
      "source": [
        "ls /content/drive/My\\ Drive/images/Preprocessed_Tensors/"
      ],
      "execution_count": 5,
      "outputs": [
        {
          "output_type": "stream",
          "text": [
            "\u001b[0m\u001b[01;34mCOVID_img_preprocessed\u001b[0m/  \u001b[01;34mpnumothorax_preprocessed\u001b[0m/\n"
          ],
          "name": "stdout"
        }
      ]
    },
    {
      "cell_type": "code",
      "metadata": {
        "id": "vMED_j0JMg-U",
        "colab_type": "code",
        "outputId": "1e64abfc-4e0b-4552-bbcf-28a6ccdef465",
        "colab": {
          "base_uri": "https://localhost:8080/",
          "height": 35
        }
      },
      "source": [
        "# ls /content/drive/My Drive/images/NIH chest X ray images/images_001/images/\n",
        "ls /content/drive/My\\ Drive/images/Preprocessed_Tensors/COVID_img_preprocessed/"
      ],
      "execution_count": 6,
      "outputs": [
        {
          "output_type": "stream",
          "text": [
            "X_test.npy  X_train.npy  y_test.npy  y_train.npy\n"
          ],
          "name": "stdout"
        }
      ]
    },
    {
      "cell_type": "code",
      "metadata": {
        "id": "rIbiJjqDteAN",
        "colab_type": "code",
        "colab": {}
      },
      "source": [
        "# TENSORS \n",
        "X_train = np.load(FOLDER_PATH_TRAIN + 'X_train.npy')\n",
        "X_test  = np.load(FOLDER_PATH_TEST  + 'X_test.npy')\n",
        "y_train = np.load(FOLDER_PATH_TRAIN + 'y_train.npy')\n",
        "y_test  = np.load(FOLDER_PATH_TEST  + 'y_test.npy')"
      ],
      "execution_count": 0,
      "outputs": []
    },
    {
      "cell_type": "code",
      "metadata": {
        "id": "rCsvNpm_61Of",
        "colab_type": "code",
        "outputId": "4e7abf68-bdfd-44a1-e8be-97899756a639",
        "colab": {
          "base_uri": "https://localhost:8080/",
          "height": 104
        }
      },
      "source": [
        "print(\"Shape of tensors:\")\n",
        "print(\"X_train: {}\".format(X_train.shape))\n",
        "print(\"y_train: {}\".format(y_train.shape))\n",
        "print(\"X_test:  {}\".format(X_test.shape))\n",
        "print(\"y_test:  {}\".format(y_test.shape))"
      ],
      "execution_count": 8,
      "outputs": [
        {
          "output_type": "stream",
          "text": [
            "Shape of tensors:\n",
            "X_train: (1961, 224, 224, 3)\n",
            "y_train: (1961,)\n",
            "X_test:  (1000, 224, 224, 3)\n",
            "y_test:  (1000,)\n"
          ],
          "name": "stdout"
        }
      ]
    },
    {
      "cell_type": "code",
      "metadata": {
        "id": "SGgEDKJsdbHF",
        "colab_type": "code",
        "colab": {}
      },
      "source": [
        "#ls /content/drive/My\\ Drive/images/Preprocessed_Tensors/\n",
        "#ls /content/drive/My\\ Drive/images/NIH chest X ray images/"
      ],
      "execution_count": 0,
      "outputs": []
    },
    {
      "cell_type": "code",
      "metadata": {
        "id": "jQfX5dY8O4BR",
        "colab_type": "code",
        "outputId": "9678e9b4-b012-4f5d-e864-925228f8fd73",
        "colab": {
          "base_uri": "https://localhost:8080/",
          "height": 35
        }
      },
      "source": [
        "# CHANGE DIRECTORY TO IMAGES\n",
        "cd /content/drive/My\\ Drive/images/NIH chest X ray images/"
      ],
      "execution_count": 10,
      "outputs": [
        {
          "output_type": "stream",
          "text": [
            "/content/drive/.shortcut-targets-by-id/1iVV0f2kJC19GJZlSKvc9A6theRLdsc6-/COVID_19_project/NIH chest X ray images\n"
          ],
          "name": "stdout"
        }
      ]
    },
    {
      "cell_type": "markdown",
      "metadata": {
        "id": "fu5WiW8tIw5T",
        "colab_type": "text"
      },
      "source": [
        "## View Images"
      ]
    },
    {
      "cell_type": "code",
      "metadata": {
        "id": "RrtY-jUgTocp",
        "colab_type": "code",
        "outputId": "d0a9f35e-125b-4fb7-f9cb-c7a67f78c3c2",
        "colab": {
          "base_uri": "https://localhost:8080/",
          "height": 0
        }
      },
      "source": [
        "# VIEW SAMPLE OF IMAGES\n",
        "# !!! CHANGE SO GET RANDOM SELECTION WITHIN FOLDER, INCREASE HEIGHT, WIDTH AND SPACING\n",
        "folder = BASE_PATH + 'images/NIH chest X ray images/images_001/images/'\n",
        "for i in range(1,9):\n",
        "    plt.subplot(330 + 1 + i)\n",
        "    filename =  folder + '0000000' + str(i) + '_000.png'\n",
        "    image = imread(filename)\n",
        "    plt.imshow(image)\n",
        "plt.show()"
      ],
      "execution_count": 11,
      "outputs": [
        {
          "output_type": "display_data",
          "data": {
            "image/png": "[encoded data removed]",
            "text/plain": [
              "<Figure size 432x288 with 8 Axes>"
            ]
          },
          "metadata": {
            "tags": [],
            "needs_background": "light"
          }
        }
      ]
    },
    {
      "cell_type": "markdown",
      "metadata": {
        "id": "y-ykYSWXI066",
        "colab_type": "text"
      },
      "source": [
        "## Define Model Architecture"
      ]
    },
    {
      "cell_type": "code",
      "metadata": {
        "id": "a8K44trC4g6s",
        "colab_type": "code",
        "colab": {}
      },
      "source": [
        "def define_model_resnet50():\n",
        "    '''\n",
        "    ResNet50 model using imagenet weight file for transfer learning.\n",
        "    Freeze layers. Trainable freeze layers, others, not\n",
        "    Optimizer is using learning rate, better to use Adam or SGD and .00001 !!!\n",
        "    '''\n",
        "    # !!! GO TO KERAS DOCUMENTATION ONLINE AND LOOK AT PARAM\n",
        "    net = ResNet50(include_top=False, weights='imagenet', input_tensor=None, input_shape=(IMAGE_SIZE, IMAGE_SIZE, INPUT_LAYERS))\n",
        "    x = net.output\n",
        "    x = Flatten()(x)\n",
        "    x = Dropout(0.5)(x)\n",
        "    output_layer = Dense(NUM_CLASSES, activation='softmax', name='softmax')(x)\n",
        "    net_final = Model(inputs=net.input, outputs=output_layer)\n",
        "    for layer in net_final.layers[:FREEZE_LAYERS]:\n",
        "        layer.trainable = False\n",
        "    for layer in net_final.layers[FREEZE_LAYERS:]:\n",
        "        layer.trainable = True\n",
        "    #net_final.compile(optimizer=Adam(lr=1e-5), loss='categorical_crossentropy', metrics=['accuracy'])\n",
        "    net_final.compile(optimizer=keras.optimizers.Adadelta(), \n",
        "                      loss='categorical_crossentropy', metrics=['accuracy'])\n",
        "    # CHANGED TO momentum, TO DECREASE LEARNING AS EPOCHS PROGRESS\n",
        "    #opt = SGD(lr=0.01, momentum=0.9)\n",
        "    #net_final.compile(optimizer=opt, \n",
        "    #                  loss='categorical_crossentropy', metrics=['accuracy'])\n",
        "    #print(net_final.summary())\n",
        "    return net_final"
      ],
      "execution_count": 0,
      "outputs": []
    },
    {
      "cell_type": "markdown",
      "metadata": {
        "id": "0hGip4enxTJC",
        "colab_type": "text"
      },
      "source": [
        "## Define Learning Rate and Callback Checkpoint"
      ]
    },
    {
      "cell_type": "code",
      "metadata": {
        "id": "ruVyW_qReOtF",
        "colab_type": "code",
        "colab": {}
      },
      "source": [
        "import keras\n",
        "from keras.callbacks import ReduceLROnPlateau, ModelCheckpoint\n",
        "\n",
        "# IMPLEMENT LEARNING RATE REDUCTION BASED ON VALIDATION LOSS\n",
        "lr_reduce = ReduceLROnPlateau(\n",
        "    monitor='val_loss', #monitor val_loss\n",
        "    factor=0.2, \n",
        "    patience=4, #If model does not improve by epsilon in 4 epochs, then reduce lr by factor.  \n",
        "    min_delta=0.0001, \n",
        "    cooldown = 3, # wait 3 epochs before starting again\n",
        "    min_lr=10e-5,\n",
        "    #min_lr=0.0000001\n",
        "    verbose=1)\n",
        "\n",
        "# SAVE WEIGHT FILE FROM BEST RUN, HAVE VERBOSE OUTPUT BASED ON VALIDATION ACCURACY\n",
        "checkpoint = keras.callbacks.callbacks.ModelCheckpoint(\n",
        "    WEIGHTS_ONLY_BEST, \n",
        "    monitor='val_accuracy', \n",
        "    verbose=1, \n",
        "    save_best_only=True, \n",
        "    mode='max')"
      ],
      "execution_count": 0,
      "outputs": []
    },
    {
      "cell_type": "markdown",
      "metadata": {
        "id": "UHrzxeDfG5V9",
        "colab_type": "text"
      },
      "source": [
        "## Plot Diagnostic Learning Curves"
      ]
    },
    {
      "cell_type": "code",
      "metadata": {
        "id": "tYyKsKsdTol7",
        "colab_type": "code",
        "colab": {}
      },
      "source": [
        "def summarize_diagnostics(history):\n",
        "    '''\n",
        "    Plot entropy chart\n",
        "    Plot accuracy chart\n",
        "    '''\n",
        "    \n",
        "    plt.figure(figsize=(8,10))\n",
        "\n",
        "    # PLOT LOSS\n",
        "    plt.subplot(211)\n",
        "    plt.title('Cross Entropy Loss')\n",
        "    plt.plot(history.history['loss'], color='blue', label='train')\n",
        "    plt.plot(history.history['val_loss'], color='orange', label='test')\n",
        "    \n",
        "    # PLOT ACCURACY\n",
        "    plt.subplot(212)\n",
        "    plt.title('Classification Accuracy')\n",
        "    plt.plot(history.history['accuracy'], color='blue', label='train')\n",
        "    plt.plot(history.history['val_accuracy'], color='orange', label='test')\n",
        "    plt.show()\n",
        "    plt.close()"
      ],
      "execution_count": 0,
      "outputs": []
    },
    {
      "cell_type": "markdown",
      "metadata": {
        "id": "vfZ5MxG0G_Hj",
        "colab_type": "text"
      },
      "source": [
        "## Define Test Harness"
      ]
    },
    {
      "cell_type": "code",
      "metadata": {
        "id": "4HwzAVJafLsf",
        "colab_type": "code",
        "colab": {}
      },
      "source": [
        "def run_test_harness():\n",
        "    '''\n",
        "    Test harness calls model definition function \n",
        "    Resizes images\n",
        "    Creates more images with Image Data Generator: rotate, shift, shear, zoom, flip, ...\n",
        "    Fits the data\n",
        "    Gives performance summary\n",
        "    Calls the learning curve graph\n",
        "    '''\n",
        "    \n",
        "    model = define_model_resnet50()\n",
        "    model.load_weights(WEIGHTS_IN)\n",
        "\n",
        "    # TENSORS \n",
        "    X_train = np.load(FOLDER_PATH_TRAIN + 'X_train.npy')\n",
        "    X_test  = np.load(FOLDER_PATH_TEST  + 'X_test.npy')\n",
        "    y_train = np.load(FOLDER_PATH_TRAIN + 'y_train.npy')\n",
        "    y_test  = np.load(FOLDER_PATH_TEST  + 'y_test.npy')\n",
        "    \n",
        "    # SPECIFIC REFERENCING imagenet IN BACKGROUND? DOES THIS ADD VALUE? !!!\n",
        "    #train_datagen = ImageDataGenerator(featurewise_center=True)\n",
        "\n",
        "    # CREATE DATA ITERATORS\n",
        "    train_datagen = ImageDataGenerator(rotation_range=15, \n",
        "                                      width_shift_range=0.2,\n",
        "                                      height_shift_range=0.2,\n",
        "                                      shear_range= 0.2,\n",
        "                                      zoom_range=0.2,\n",
        "                                      horizontal_flip = True)\n",
        "\n",
        "    # SPECIFY imagenet MEAN VALUES FOR CENTERING\n",
        "    train_datagen.mean = [123.68, 116.779, 103.939]\n",
        "\n",
        "    # WORK WITH TENSORS\n",
        "    train_batches = train_datagen.flow(X_train, y_train, batch_size = BATCH_SIZE_N)\n",
        "    test_batches = train_datagen.flow(X_test, y_test, batch_size = BATCH_SIZE_N)\n",
        "\n",
        "    print(\"train batches {}\".format(len(train_batches)))\n",
        "    print(\"test  batches {}\".format(len(test_batches)))\n",
        "    print(\"\\n\")\n",
        "\n",
        "#steps_per_epoch: Integer. Total number of steps (batches of samples) to yield from generator before declaring one epoch finished and starting \n",
        "#the next epoch. It should typically be equal to ceil(num_samples / batch_size). Optional for Sequence: if unspecified, \n",
        "# will use the len(generator) as a number of steps.\n",
        "# You can set it equal to num_samples // batch_size, which is a typical choice.\n",
        "#However, steps_per_epoch give you the chance to \"trick\" the generator when updating the learning rate using \n",
        "#ReduceLROnPlateuau() callback, because this callback checks the drop of the loss once each epoch has finished. \n",
        "#If the loss has stagnated for a patience number of consecutive epochs, the callback decreases the learning rate to \"slow-cook\" the network. \n",
        "#If your dataset is huge, as it is usually the case when you need to use generators, you would probably like to\n",
        "# decay the learning rate within a single epoch (since it includes a big number of data). This can be achieved by setting \n",
        "#steps_per_epoch to a value that is less than num_samples // batch_size without affecting the overall number of training epochs of your model.\n",
        "\n",
        "    # FIT MODEL\n",
        "    history = model.fit_generator(train_batches, \n",
        "                                  steps_per_epoch=len(train_batches),\n",
        "                                  callbacks=[lr_reduce,checkpoint],\n",
        "                                  validation_data=test_batches, \n",
        "                                  validation_steps=len(test_batches), \n",
        "                                  verbose=VERBOSE_EPOCH,\n",
        "                                  epochs=NUM_EPOCHS)\n",
        "\n",
        "    # SAVE TRAINED WEIGHTS\n",
        "    model.save(WEIGHTS_MODEL_F)\n",
        "\n",
        "    # EVALUATE MODEL\n",
        "    _, acc = model.evaluate_generator(test_batches, \n",
        "                                      steps=len(test_batches), \n",
        "                                      verbose=0)\n",
        "    \n",
        "    print(\"\\nAccuracy > {:.3f}\".format(acc * 100.0))\n",
        "\n",
        "    # LEARNING CURVES\n",
        "    summarize_diagnostics(history)"
      ],
      "execution_count": 0,
      "outputs": []
    },
    {
      "cell_type": "markdown",
      "metadata": {
        "id": "8UfNlHxpHDG2",
        "colab_type": "text"
      },
      "source": [
        "## Run Test Harness"
      ]
    },
    {
      "cell_type": "code",
      "metadata": {
        "id": "1re5HeQRnhg-",
        "colab_type": "code",
        "outputId": "ba101ac5-5693-467d-edca-93449bcf40c5",
        "colab": {
          "base_uri": "https://localhost:8080/",
          "height": 487
        }
      },
      "source": [
        "run_test_harness()"
      ],
      "execution_count": 16,
      "outputs": [
        {
          "output_type": "stream",
          "text": [
            "Downloading data from https://github.com/fchollet/deep-learning-models/releases/download/v0.2/resnet50_weights_tf_dim_ordering_tf_kernels_notop.h5\n",
            "\r    8192/94653016 [..............................] - ETA: 1s"
          ],
          "name": "stdout"
        },
        {
          "output_type": "stream",
          "text": [
            "/usr/local/lib/python3.6/dist-packages/keras_applications/resnet50.py:265: UserWarning: The output shape of `ResNet50(include_top=False)` has been changed since Keras 2.2.0.\n",
            "  warnings.warn('The output shape of `ResNet50(include_top=False)` '\n"
          ],
          "name": "stderr"
        },
        {
          "output_type": "stream",
          "text": [
            "94658560/94653016 [==============================] - 1s 0us/step\n",
            "train batches 123\n",
            "test  batches 63\n",
            "\n",
            "\n",
            "Epoch 1/50\n"
          ],
          "name": "stdout"
        },
        {
          "output_type": "error",
          "ename": "ValueError",
          "evalue": "ignored",
          "traceback": [
            "\u001b[0;31m---------------------------------------------------------------------------\u001b[0m",
            "\u001b[0;31mValueError\u001b[0m                                Traceback (most recent call last)",
            "\u001b[0;32m<ipython-input-16-c1b3612b5def>\u001b[0m in \u001b[0;36m<module>\u001b[0;34m()\u001b[0m\n\u001b[0;32m----> 1\u001b[0;31m \u001b[0mrun_test_harness\u001b[0m\u001b[0;34m(\u001b[0m\u001b[0;34m)\u001b[0m\u001b[0;34m\u001b[0m\u001b[0;34m\u001b[0m\u001b[0m\n\u001b[0m",
            "\u001b[0;32m<ipython-input-15-8afc51e3fa43>\u001b[0m in \u001b[0;36mrun_test_harness\u001b[0;34m()\u001b[0m\n\u001b[1;32m     58\u001b[0m                                   \u001b[0mvalidation_steps\u001b[0m\u001b[0;34m=\u001b[0m\u001b[0mlen\u001b[0m\u001b[0;34m(\u001b[0m\u001b[0mtest_batches\u001b[0m\u001b[0;34m)\u001b[0m\u001b[0;34m,\u001b[0m\u001b[0;34m\u001b[0m\u001b[0;34m\u001b[0m\u001b[0m\n\u001b[1;32m     59\u001b[0m                                   \u001b[0mverbose\u001b[0m\u001b[0;34m=\u001b[0m\u001b[0mVERBOSE_EPOCH\u001b[0m\u001b[0;34m,\u001b[0m\u001b[0;34m\u001b[0m\u001b[0;34m\u001b[0m\u001b[0m\n\u001b[0;32m---> 60\u001b[0;31m                                   epochs=NUM_EPOCHS)\n\u001b[0m\u001b[1;32m     61\u001b[0m \u001b[0;34m\u001b[0m\u001b[0m\n\u001b[1;32m     62\u001b[0m     \u001b[0;31m# SAVE TRAINED WEIGHTS\u001b[0m\u001b[0;34m\u001b[0m\u001b[0;34m\u001b[0m\u001b[0;34m\u001b[0m\u001b[0m\n",
            "\u001b[0;32m/usr/local/lib/python3.6/dist-packages/keras/legacy/interfaces.py\u001b[0m in \u001b[0;36mwrapper\u001b[0;34m(*args, **kwargs)\u001b[0m\n\u001b[1;32m     89\u001b[0m                 warnings.warn('Update your `' + object_name + '` call to the ' +\n\u001b[1;32m     90\u001b[0m                               'Keras 2 API: ' + signature, stacklevel=2)\n\u001b[0;32m---> 91\u001b[0;31m             \u001b[0;32mreturn\u001b[0m \u001b[0mfunc\u001b[0m\u001b[0;34m(\u001b[0m\u001b[0;34m*\u001b[0m\u001b[0margs\u001b[0m\u001b[0;34m,\u001b[0m \u001b[0;34m**\u001b[0m\u001b[0mkwargs\u001b[0m\u001b[0;34m)\u001b[0m\u001b[0;34m\u001b[0m\u001b[0;34m\u001b[0m\u001b[0m\n\u001b[0m\u001b[1;32m     92\u001b[0m         \u001b[0mwrapper\u001b[0m\u001b[0;34m.\u001b[0m\u001b[0m_original_function\u001b[0m \u001b[0;34m=\u001b[0m \u001b[0mfunc\u001b[0m\u001b[0;34m\u001b[0m\u001b[0;34m\u001b[0m\u001b[0m\n\u001b[1;32m     93\u001b[0m         \u001b[0;32mreturn\u001b[0m \u001b[0mwrapper\u001b[0m\u001b[0;34m\u001b[0m\u001b[0;34m\u001b[0m\u001b[0m\n",
            "\u001b[0;32m/usr/local/lib/python3.6/dist-packages/keras/engine/training.py\u001b[0m in \u001b[0;36mfit_generator\u001b[0;34m(self, generator, steps_per_epoch, epochs, verbose, callbacks, validation_data, validation_steps, validation_freq, class_weight, max_queue_size, workers, use_multiprocessing, shuffle, initial_epoch)\u001b[0m\n\u001b[1;32m   1730\u001b[0m             \u001b[0muse_multiprocessing\u001b[0m\u001b[0;34m=\u001b[0m\u001b[0muse_multiprocessing\u001b[0m\u001b[0;34m,\u001b[0m\u001b[0;34m\u001b[0m\u001b[0;34m\u001b[0m\u001b[0m\n\u001b[1;32m   1731\u001b[0m             \u001b[0mshuffle\u001b[0m\u001b[0;34m=\u001b[0m\u001b[0mshuffle\u001b[0m\u001b[0;34m,\u001b[0m\u001b[0;34m\u001b[0m\u001b[0;34m\u001b[0m\u001b[0m\n\u001b[0;32m-> 1732\u001b[0;31m             initial_epoch=initial_epoch)\n\u001b[0m\u001b[1;32m   1733\u001b[0m \u001b[0;34m\u001b[0m\u001b[0m\n\u001b[1;32m   1734\u001b[0m     \u001b[0;34m@\u001b[0m\u001b[0minterfaces\u001b[0m\u001b[0;34m.\u001b[0m\u001b[0mlegacy_generator_methods_support\u001b[0m\u001b[0;34m\u001b[0m\u001b[0;34m\u001b[0m\u001b[0m\n",
            "\u001b[0;32m/usr/local/lib/python3.6/dist-packages/keras/engine/training_generator.py\u001b[0m in \u001b[0;36mfit_generator\u001b[0;34m(model, generator, steps_per_epoch, epochs, verbose, callbacks, validation_data, validation_steps, validation_freq, class_weight, max_queue_size, workers, use_multiprocessing, shuffle, initial_epoch)\u001b[0m\n\u001b[1;32m    218\u001b[0m                                             \u001b[0msample_weight\u001b[0m\u001b[0;34m=\u001b[0m\u001b[0msample_weight\u001b[0m\u001b[0;34m,\u001b[0m\u001b[0;34m\u001b[0m\u001b[0;34m\u001b[0m\u001b[0m\n\u001b[1;32m    219\u001b[0m                                             \u001b[0mclass_weight\u001b[0m\u001b[0;34m=\u001b[0m\u001b[0mclass_weight\u001b[0m\u001b[0;34m,\u001b[0m\u001b[0;34m\u001b[0m\u001b[0;34m\u001b[0m\u001b[0m\n\u001b[0;32m--> 220\u001b[0;31m                                             reset_metrics=False)\n\u001b[0m\u001b[1;32m    221\u001b[0m \u001b[0;34m\u001b[0m\u001b[0m\n\u001b[1;32m    222\u001b[0m                 \u001b[0mouts\u001b[0m \u001b[0;34m=\u001b[0m \u001b[0mto_list\u001b[0m\u001b[0;34m(\u001b[0m\u001b[0mouts\u001b[0m\u001b[0;34m)\u001b[0m\u001b[0;34m\u001b[0m\u001b[0;34m\u001b[0m\u001b[0m\n",
            "\u001b[0;32m/usr/local/lib/python3.6/dist-packages/keras/engine/training.py\u001b[0m in \u001b[0;36mtrain_on_batch\u001b[0;34m(self, x, y, sample_weight, class_weight, reset_metrics)\u001b[0m\n\u001b[1;32m   1506\u001b[0m             \u001b[0mx\u001b[0m\u001b[0;34m,\u001b[0m \u001b[0my\u001b[0m\u001b[0;34m,\u001b[0m\u001b[0;34m\u001b[0m\u001b[0;34m\u001b[0m\u001b[0m\n\u001b[1;32m   1507\u001b[0m             \u001b[0msample_weight\u001b[0m\u001b[0;34m=\u001b[0m\u001b[0msample_weight\u001b[0m\u001b[0;34m,\u001b[0m\u001b[0;34m\u001b[0m\u001b[0;34m\u001b[0m\u001b[0m\n\u001b[0;32m-> 1508\u001b[0;31m             class_weight=class_weight)\n\u001b[0m\u001b[1;32m   1509\u001b[0m         \u001b[0;32mif\u001b[0m \u001b[0mself\u001b[0m\u001b[0;34m.\u001b[0m\u001b[0m_uses_dynamic_learning_phase\u001b[0m\u001b[0;34m(\u001b[0m\u001b[0;34m)\u001b[0m\u001b[0;34m:\u001b[0m\u001b[0;34m\u001b[0m\u001b[0;34m\u001b[0m\u001b[0m\n\u001b[1;32m   1510\u001b[0m             \u001b[0mins\u001b[0m \u001b[0;34m=\u001b[0m \u001b[0mx\u001b[0m \u001b[0;34m+\u001b[0m \u001b[0my\u001b[0m \u001b[0;34m+\u001b[0m \u001b[0msample_weights\u001b[0m \u001b[0;34m+\u001b[0m \u001b[0;34m[\u001b[0m\u001b[0;36m1\u001b[0m\u001b[0;34m]\u001b[0m\u001b[0;34m\u001b[0m\u001b[0;34m\u001b[0m\u001b[0m\n",
            "\u001b[0;32m/usr/local/lib/python3.6/dist-packages/keras/engine/training.py\u001b[0m in \u001b[0;36m_standardize_user_data\u001b[0;34m(self, x, y, sample_weight, class_weight, check_array_lengths, batch_size)\u001b[0m\n\u001b[1;32m    619\u001b[0m                 \u001b[0mfeed_output_shapes\u001b[0m\u001b[0;34m,\u001b[0m\u001b[0;34m\u001b[0m\u001b[0;34m\u001b[0m\u001b[0m\n\u001b[1;32m    620\u001b[0m                 \u001b[0mcheck_batch_axis\u001b[0m\u001b[0;34m=\u001b[0m\u001b[0;32mFalse\u001b[0m\u001b[0;34m,\u001b[0m  \u001b[0;31m# Don't enforce the batch size.\u001b[0m\u001b[0;34m\u001b[0m\u001b[0;34m\u001b[0m\u001b[0m\n\u001b[0;32m--> 621\u001b[0;31m                 exception_prefix='target')\n\u001b[0m\u001b[1;32m    622\u001b[0m \u001b[0;34m\u001b[0m\u001b[0m\n\u001b[1;32m    623\u001b[0m             \u001b[0;31m# Generate sample-wise weight values given the `sample_weight` and\u001b[0m\u001b[0;34m\u001b[0m\u001b[0;34m\u001b[0m\u001b[0;34m\u001b[0m\u001b[0m\n",
            "\u001b[0;32m/usr/local/lib/python3.6/dist-packages/keras/engine/training_utils.py\u001b[0m in \u001b[0;36mstandardize_input_data\u001b[0;34m(data, names, shapes, check_batch_axis, exception_prefix)\u001b[0m\n\u001b[1;32m    143\u001b[0m                             \u001b[0;34m': expected '\u001b[0m \u001b[0;34m+\u001b[0m \u001b[0mnames\u001b[0m\u001b[0;34m[\u001b[0m\u001b[0mi\u001b[0m\u001b[0;34m]\u001b[0m \u001b[0;34m+\u001b[0m \u001b[0;34m' to have shape '\u001b[0m \u001b[0;34m+\u001b[0m\u001b[0;34m\u001b[0m\u001b[0;34m\u001b[0m\u001b[0m\n\u001b[1;32m    144\u001b[0m                             \u001b[0mstr\u001b[0m\u001b[0;34m(\u001b[0m\u001b[0mshape\u001b[0m\u001b[0;34m)\u001b[0m \u001b[0;34m+\u001b[0m \u001b[0;34m' but got array with shape '\u001b[0m \u001b[0;34m+\u001b[0m\u001b[0;34m\u001b[0m\u001b[0;34m\u001b[0m\u001b[0m\n\u001b[0;32m--> 145\u001b[0;31m                             str(data_shape))\n\u001b[0m\u001b[1;32m    146\u001b[0m     \u001b[0;32mreturn\u001b[0m \u001b[0mdata\u001b[0m\u001b[0;34m\u001b[0m\u001b[0;34m\u001b[0m\u001b[0m\n\u001b[1;32m    147\u001b[0m \u001b[0;34m\u001b[0m\u001b[0m\n",
            "\u001b[0;31mValueError\u001b[0m: Error when checking target: expected softmax to have shape (2,) but got array with shape (1,)"
          ]
        }
      ]
    },
    {
      "cell_type": "code",
      "metadata": {
        "id": "fj1BwOzxKeNo",
        "colab_type": "code",
        "colab": {}
      },
      "source": [
        ""
      ],
      "execution_count": 0,
      "outputs": []
    }
  ]
}