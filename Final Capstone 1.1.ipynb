{
 "cells": [
  {
   "cell_type": "code",
   "execution_count": 1,
   "metadata": {},
   "outputs": [],
   "source": [
    "import pandas as pd\n",
    "import numpy as np\n",
    "\n",
    "import scipy\n",
    "import matplotlib.pyplot as plt\n",
    "import seaborn as sns\n",
    "%matplotlib inline\n",
    "\n",
    "#import sklearn\n",
    "from sklearn.model_selection import cross_val_score, GridSearchCV, train_test_split\n",
    "\n",
    "# Import libraries to build Word2Vec model, and load Newsgroups data\n",
    "import os\n",
    "import sys\n",
    "import re\n",
    "\n",
    "from collections import Counter\n",
    "\n",
    "import nltk\n",
    "from nltk.corpus import stopwords\n",
    "from nltk.stem import WordNetLemmatizer, SnowballStemmer\n",
    "from nltk.stem.porter import *\n",
    "\n",
    "import spacy\n",
    "\n",
    "from wordcloud import WordCloud\n",
    "#from wordcloud import WordCloud, STOPWORDS\n",
    "\n",
    "# WORD VECTOR\n",
    "from gensim.models import Word2Vec\n",
    "# BIGRAM\n",
    "from gensim.models.phrases import Phraser, Phrases\n",
    "import gensim\n",
    "from gensim.utils import simple_preprocess\n",
    "from gensim.parsing.preprocessing import STOPWORDS\n",
    "stemmer = SnowballStemmer(\"english\")\n"
   ]
  },
  {
   "cell_type": "markdown",
   "metadata": {},
   "source": [
    "### Part 1: Load the data"
   ]
  },
  {
   "cell_type": "code",
   "execution_count": 2,
   "metadata": {},
   "outputs": [
    {
     "name": "stdout",
     "output_type": "stream",
     "text": [
      "['wine-reviews.zip', 'winemag-data-130k-v2.csv', 'winemag-data-130k-v2.json', 'winemag-data_first150k.csv']\n"
     ]
    }
   ],
   "source": [
    "# OUTPUT FILES IN DIRECTORY\n",
    "print(os.listdir(\"C:/Users/DJ/Documents/AnacondaPython/Thinkful/FilesToLoad/wine-reviews\"))"
   ]
  },
  {
   "cell_type": "code",
   "execution_count": 3,
   "metadata": {},
   "outputs": [
    {
     "name": "stdout",
     "output_type": "stream",
     "text": [
      "Number of rows and columns: (280901, 14)\n"
     ]
    }
   ],
   "source": [
    "# LOAD FILE FROM CSV\n",
    "wine_130k = pd.read_csv((\"../FilesToLoad/wine-reviews/winemag-data-130k-v2.csv\"))\n",
    "wine_150k = pd.read_csv((\"../FilesToLoad/wine-reviews/winemag-data_first150k.csv\"))\n",
    "df = pd.concat([wine_150k, wine_130k],axis=0, sort=False)\n",
    "#wine = wine_150k\n",
    "print(\"Number of rows and columns:\",df.shape)"
   ]
  },
  {
   "cell_type": "code",
   "execution_count": 4,
   "metadata": {},
   "outputs": [
    {
     "data": {
      "text/plain": [
       "(280901, 14)"
      ]
     },
     "execution_count": 4,
     "metadata": {},
     "output_type": "execute_result"
    }
   ],
   "source": [
    "df.shape"
   ]
  },
  {
   "cell_type": "code",
   "execution_count": 5,
   "metadata": {},
   "outputs": [
    {
     "name": "stdout",
     "output_type": "stream",
     "text": [
      "<class 'pandas.core.frame.DataFrame'>\n",
      "Int64Index: 280901 entries, 0 to 129970\n",
      "Data columns (total 14 columns):\n",
      "Unnamed: 0               280901 non-null int64\n",
      "country                  280833 non-null object\n",
      "description              280901 non-null object\n",
      "designation              197701 non-null object\n",
      "points                   280901 non-null int64\n",
      "price                    258210 non-null float64\n",
      "province                 280833 non-null object\n",
      "region_1                 234594 non-null object\n",
      "region_2                 111464 non-null object\n",
      "variety                  280900 non-null object\n",
      "winery                   280901 non-null object\n",
      "taster_name              103727 non-null object\n",
      "taster_twitter_handle    98758 non-null object\n",
      "title                    129971 non-null object\n",
      "dtypes: float64(1), int64(2), object(11)\n",
      "memory usage: 32.1+ MB\n"
     ]
    }
   ],
   "source": [
    "df.info()"
   ]
  },
  {
   "cell_type": "markdown",
   "metadata": {},
   "source": [
    "### Part 2: Clean Data"
   ]
  },
  {
   "cell_type": "markdown",
   "metadata": {},
   "source": [
    "#### Duplicates exist in description, but are missed if analyzing duplicate for row."
   ]
  },
  {
   "cell_type": "code",
   "execution_count": 6,
   "metadata": {},
   "outputs": [
    {
     "name": "stdout",
     "output_type": "stream",
     "text": [
      "Row level duplicates:   (0, 14)\n",
      "Description duplicates: (111471, 14)\n"
     ]
    }
   ],
   "source": [
    "# DUPLICATE COUNTS (ROWS, COLUMNS)\n",
    "print(\"Row level duplicates:   {}\".format(df[df.duplicated()].shape))\n",
    "print(\"Description duplicates: {}\".format(df[df.duplicated('description')].shape))"
   ]
  },
  {
   "cell_type": "code",
   "execution_count": 7,
   "metadata": {},
   "outputs": [
    {
     "data": {
      "text/html": [
       "<div>\n",
       "<style scoped>\n",
       "    .dataframe tbody tr th:only-of-type {\n",
       "        vertical-align: middle;\n",
       "    }\n",
       "\n",
       "    .dataframe tbody tr th {\n",
       "        vertical-align: top;\n",
       "    }\n",
       "\n",
       "    .dataframe thead th {\n",
       "        text-align: right;\n",
       "    }\n",
       "</style>\n",
       "<table border=\"1\" class=\"dataframe\">\n",
       "  <thead>\n",
       "    <tr style=\"text-align: right;\">\n",
       "      <th></th>\n",
       "      <th>Unnamed: 0</th>\n",
       "      <th>country</th>\n",
       "      <th>description</th>\n",
       "      <th>designation</th>\n",
       "      <th>points</th>\n",
       "      <th>price</th>\n",
       "      <th>province</th>\n",
       "      <th>region_1</th>\n",
       "      <th>region_2</th>\n",
       "      <th>variety</th>\n",
       "      <th>winery</th>\n",
       "      <th>taster_name</th>\n",
       "      <th>taster_twitter_handle</th>\n",
       "      <th>title</th>\n",
       "    </tr>\n",
       "  </thead>\n",
       "  <tbody>\n",
       "    <tr>\n",
       "      <th>94355</th>\n",
       "      <td>94355</td>\n",
       "      <td>Austria</td>\n",
       "      <td>\"Chremisa,\" the ancient name of Krems, is comm...</td>\n",
       "      <td>Edition Chremisa Sandgrube 13</td>\n",
       "      <td>85</td>\n",
       "      <td>24.0</td>\n",
       "      <td>Niederösterreich</td>\n",
       "      <td>NaN</td>\n",
       "      <td>NaN</td>\n",
       "      <td>Grüner Veltliner</td>\n",
       "      <td>Winzer Krems</td>\n",
       "      <td>Roger Voss</td>\n",
       "      <td>@vossroger</td>\n",
       "      <td>Winzer Krems 2011 Edition Chremisa Sandgrube 1...</td>\n",
       "    </tr>\n",
       "    <tr>\n",
       "      <th>96052</th>\n",
       "      <td>96052</td>\n",
       "      <td>Austria</td>\n",
       "      <td>\"Chremisa,\" the ancient name of Krems, is comm...</td>\n",
       "      <td>Edition Chremisa Sandgrube 13</td>\n",
       "      <td>85</td>\n",
       "      <td>24.0</td>\n",
       "      <td>Niederösterreich</td>\n",
       "      <td>NaN</td>\n",
       "      <td>NaN</td>\n",
       "      <td>Grüner Veltliner</td>\n",
       "      <td>Winzer Krems</td>\n",
       "      <td>NaN</td>\n",
       "      <td>NaN</td>\n",
       "      <td>NaN</td>\n",
       "    </tr>\n",
       "  </tbody>\n",
       "</table>\n",
       "</div>"
      ],
      "text/plain": [
       "       Unnamed: 0  country                                        description  \\\n",
       "94355       94355  Austria  \"Chremisa,\" the ancient name of Krems, is comm...   \n",
       "96052       96052  Austria  \"Chremisa,\" the ancient name of Krems, is comm...   \n",
       "\n",
       "                         designation  points  price          province  \\\n",
       "94355  Edition Chremisa Sandgrube 13      85   24.0  Niederösterreich   \n",
       "96052  Edition Chremisa Sandgrube 13      85   24.0  Niederösterreich   \n",
       "\n",
       "      region_1 region_2           variety        winery taster_name  \\\n",
       "94355      NaN      NaN  Grüner Veltliner  Winzer Krems  Roger Voss   \n",
       "96052      NaN      NaN  Grüner Veltliner  Winzer Krems         NaN   \n",
       "\n",
       "      taster_twitter_handle                                              title  \n",
       "94355            @vossroger  Winzer Krems 2011 Edition Chremisa Sandgrube 1...  \n",
       "96052                   NaN                                                NaN  "
      ]
     },
     "execution_count": 7,
     "metadata": {},
     "output_type": "execute_result"
    }
   ],
   "source": [
    "# VIEW DUPLICATES\n",
    "df[df.duplicated(subset='description', keep=False)==True].sort_values(by='description', ascending=True).head(2)"
   ]
  },
  {
   "cell_type": "code",
   "execution_count": 8,
   "metadata": {},
   "outputs": [
    {
     "name": "stdout",
     "output_type": "stream",
     "text": [
      "0    This tremendous 100% varietal wine hails from ...\n",
      "Name: description, dtype: object\n"
     ]
    }
   ],
   "source": [
    "print(df['description'].head(1))"
   ]
  },
  {
   "cell_type": "code",
   "execution_count": 9,
   "metadata": {},
   "outputs": [
    {
     "data": {
      "text/plain": [
       "Pinot Noir                  14529\n",
       "Cabernet Sauvignon          13145\n",
       "Chardonnay                  11719\n",
       "Zinfandel                    6330\n",
       "Syrah                        4575\n",
       "Sauvignon Blanc              4027\n",
       "Merlot                       3684\n",
       "Red Blend                    3587\n",
       "Bordeaux-style Red Blend     2006\n",
       "Petite Sirah                 1524\n",
       "Sparkling Blend              1085\n",
       "Rosé                         1003\n",
       "Viognier                      985\n",
       "Rhône-style Red Blend         970\n",
       "Cabernet Franc                795\n",
       "White Blend                   739\n",
       "Pinot Grigio                  694\n",
       "Name: variety, dtype: int64"
      ]
     },
     "execution_count": 9,
     "metadata": {},
     "output_type": "execute_result"
    }
   ],
   "source": [
    "# TOP VARIETALS IN CALIFORNIA BY REVIEW COUNT\n",
    "df[df['province']=='California']['variety'].value_counts().head(17)\n",
    "\n",
    "# RED VARIETALS\n",
    "#Pinot Noir                    8828\n",
    "#Cabernet Sauvignon            7873\n",
    "#Zinfandel                     3691\n",
    "#Syrah                         2668\n",
    "#Merlot                        2155\n",
    "#Petite Sirah                   914\n",
    "#Cabernet Franc                 469\n",
    "#Grenache                       427"
   ]
  },
  {
   "cell_type": "code",
   "execution_count": 10,
   "metadata": {},
   "outputs": [],
   "source": [
    "# LOOK UP STR \n",
    "#https://stackoverflow.com/questions/11350770/select-by-partial-string-from-a-pandas-dataframe\n",
    "    \n",
    "#CONTAINS THE STRING\n",
    "#df_ca[df_ca['variety'].str.contains('iogn')]['variety'].value_counts()\n",
    "\n",
    "# STARTS WITH THE STRING\n",
    "#df_ca[df_ca['variety'].str.match('Sauv')]['variety'].value_counts()\n",
    "#df_ca[df_ca['variety'].str.match('Cab')]['variety'].value_counts()\n",
    "\n",
    "#pat = Rules.SearchTerms.str.replace('\\*', r'.*').str.cat(sep='|')\n",
    "#df[df.Column.str.contains(pat, flags=re.I)"
   ]
  },
  {
   "cell_type": "code",
   "execution_count": 11,
   "metadata": {},
   "outputs": [
    {
     "name": "stdout",
     "output_type": "stream",
     "text": [
      "Description duplicates: (0, 14)\n",
      "Dataframe shape: (169430, 14)\n"
     ]
    }
   ],
   "source": [
    "# DROP DUPLICATES\n",
    "df.drop_duplicates('description', keep='first', inplace=True)\n",
    "print(\"Description duplicates: {}\".format(df[df.duplicated('description')].shape))\n",
    "print(\"Dataframe shape: {}\".format(df.shape))"
   ]
  },
  {
   "cell_type": "markdown",
   "metadata": {},
   "source": [
    "#### Duplicates based on description removed. The 'Unnamed 0' column appears to be an index duplicate. Let's remove."
   ]
  },
  {
   "cell_type": "code",
   "execution_count": 12,
   "metadata": {},
   "outputs": [],
   "source": [
    "# DROP 'Unnamed: 0 FROM DATAFRAME\n",
    "df.drop(['Unnamed: 0'], axis=1, inplace=True)"
   ]
  },
  {
   "cell_type": "markdown",
   "metadata": {},
   "source": [
    "#### Null values, we want to work with points, price and description, variety, winery and country primarily and will drop any row with null values in those categories.  "
   ]
  },
  {
   "cell_type": "code",
   "execution_count": 13,
   "metadata": {},
   "outputs": [],
   "source": [
    "df.dropna(axis=0, subset=['country','price', 'variety'], inplace=True)"
   ]
  },
  {
   "cell_type": "code",
   "execution_count": 14,
   "metadata": {},
   "outputs": [],
   "source": [
    "#df.isnull().mean()"
   ]
  },
  {
   "cell_type": "markdown",
   "metadata": {},
   "source": [
    "### Step 3: Preprocessing and EDA"
   ]
  },
  {
   "cell_type": "markdown",
   "metadata": {},
   "source": [
    "#### Create log of price."
   ]
  },
  {
   "cell_type": "code",
   "execution_count": null,
   "metadata": {},
   "outputs": [],
   "source": []
  },
  {
   "cell_type": "code",
   "execution_count": 15,
   "metadata": {},
   "outputs": [
    {
     "data": {
      "text/html": [
       "<div>\n",
       "<style scoped>\n",
       "    .dataframe tbody tr th:only-of-type {\n",
       "        vertical-align: middle;\n",
       "    }\n",
       "\n",
       "    .dataframe tbody tr th {\n",
       "        vertical-align: top;\n",
       "    }\n",
       "\n",
       "    .dataframe thead th {\n",
       "        text-align: right;\n",
       "    }\n",
       "</style>\n",
       "<table border=\"1\" class=\"dataframe\">\n",
       "  <thead>\n",
       "    <tr style=\"text-align: right;\">\n",
       "      <th></th>\n",
       "      <th>count</th>\n",
       "      <th>unique</th>\n",
       "      <th>top</th>\n",
       "      <th>freq</th>\n",
       "      <th>mean</th>\n",
       "      <th>std</th>\n",
       "      <th>min</th>\n",
       "      <th>25%</th>\n",
       "      <th>50%</th>\n",
       "      <th>75%</th>\n",
       "      <th>max</th>\n",
       "    </tr>\n",
       "  </thead>\n",
       "  <tbody>\n",
       "    <tr>\n",
       "      <th>country</th>\n",
       "      <td>156552</td>\n",
       "      <td>48</td>\n",
       "      <td>US</td>\n",
       "      <td>70491</td>\n",
       "      <td>NaN</td>\n",
       "      <td>NaN</td>\n",
       "      <td>NaN</td>\n",
       "      <td>NaN</td>\n",
       "      <td>NaN</td>\n",
       "      <td>NaN</td>\n",
       "      <td>NaN</td>\n",
       "    </tr>\n",
       "    <tr>\n",
       "      <th>description</th>\n",
       "      <td>156552</td>\n",
       "      <td>156552</td>\n",
       "      <td>Here's a lovely interpretation of Barbera Supe...</td>\n",
       "      <td>1</td>\n",
       "      <td>NaN</td>\n",
       "      <td>NaN</td>\n",
       "      <td>NaN</td>\n",
       "      <td>NaN</td>\n",
       "      <td>NaN</td>\n",
       "      <td>NaN</td>\n",
       "      <td>NaN</td>\n",
       "    </tr>\n",
       "    <tr>\n",
       "      <th>designation</th>\n",
       "      <td>110034</td>\n",
       "      <td>44351</td>\n",
       "      <td>Reserve</td>\n",
       "      <td>2802</td>\n",
       "      <td>NaN</td>\n",
       "      <td>NaN</td>\n",
       "      <td>NaN</td>\n",
       "      <td>NaN</td>\n",
       "      <td>NaN</td>\n",
       "      <td>NaN</td>\n",
       "      <td>NaN</td>\n",
       "    </tr>\n",
       "    <tr>\n",
       "      <th>points</th>\n",
       "      <td>156552</td>\n",
       "      <td>NaN</td>\n",
       "      <td>NaN</td>\n",
       "      <td>NaN</td>\n",
       "      <td>88.1924</td>\n",
       "      <td>3.15024</td>\n",
       "      <td>80</td>\n",
       "      <td>86</td>\n",
       "      <td>88</td>\n",
       "      <td>90</td>\n",
       "      <td>100</td>\n",
       "    </tr>\n",
       "    <tr>\n",
       "      <th>price</th>\n",
       "      <td>156552</td>\n",
       "      <td>NaN</td>\n",
       "      <td>NaN</td>\n",
       "      <td>NaN</td>\n",
       "      <td>34.6458</td>\n",
       "      <td>39.3853</td>\n",
       "      <td>4</td>\n",
       "      <td>16</td>\n",
       "      <td>25</td>\n",
       "      <td>40</td>\n",
       "      <td>3300</td>\n",
       "    </tr>\n",
       "    <tr>\n",
       "      <th>province</th>\n",
       "      <td>156552</td>\n",
       "      <td>483</td>\n",
       "      <td>California</td>\n",
       "      <td>48458</td>\n",
       "      <td>NaN</td>\n",
       "      <td>NaN</td>\n",
       "      <td>NaN</td>\n",
       "      <td>NaN</td>\n",
       "      <td>NaN</td>\n",
       "      <td>NaN</td>\n",
       "      <td>NaN</td>\n",
       "    </tr>\n",
       "    <tr>\n",
       "      <th>region_1</th>\n",
       "      <td>130976</td>\n",
       "      <td>1307</td>\n",
       "      <td>Napa Valley</td>\n",
       "      <td>6401</td>\n",
       "      <td>NaN</td>\n",
       "      <td>NaN</td>\n",
       "      <td>NaN</td>\n",
       "      <td>NaN</td>\n",
       "      <td>NaN</td>\n",
       "      <td>NaN</td>\n",
       "      <td>NaN</td>\n",
       "    </tr>\n",
       "    <tr>\n",
       "      <th>region_2</th>\n",
       "      <td>67184</td>\n",
       "      <td>18</td>\n",
       "      <td>Central Coast</td>\n",
       "      <td>14504</td>\n",
       "      <td>NaN</td>\n",
       "      <td>NaN</td>\n",
       "      <td>NaN</td>\n",
       "      <td>NaN</td>\n",
       "      <td>NaN</td>\n",
       "      <td>NaN</td>\n",
       "      <td>NaN</td>\n",
       "    </tr>\n",
       "    <tr>\n",
       "      <th>variety</th>\n",
       "      <td>156552</td>\n",
       "      <td>739</td>\n",
       "      <td>Pinot Noir</td>\n",
       "      <td>15983</td>\n",
       "      <td>NaN</td>\n",
       "      <td>NaN</td>\n",
       "      <td>NaN</td>\n",
       "      <td>NaN</td>\n",
       "      <td>NaN</td>\n",
       "      <td>NaN</td>\n",
       "      <td>NaN</td>\n",
       "    </tr>\n",
       "    <tr>\n",
       "      <th>winery</th>\n",
       "      <td>156552</td>\n",
       "      <td>18143</td>\n",
       "      <td>Williams Selyem</td>\n",
       "      <td>299</td>\n",
       "      <td>NaN</td>\n",
       "      <td>NaN</td>\n",
       "      <td>NaN</td>\n",
       "      <td>NaN</td>\n",
       "      <td>NaN</td>\n",
       "      <td>NaN</td>\n",
       "      <td>NaN</td>\n",
       "    </tr>\n",
       "    <tr>\n",
       "      <th>taster_name</th>\n",
       "      <td>58620</td>\n",
       "      <td>19</td>\n",
       "      <td>Roger Voss</td>\n",
       "      <td>12210</td>\n",
       "      <td>NaN</td>\n",
       "      <td>NaN</td>\n",
       "      <td>NaN</td>\n",
       "      <td>NaN</td>\n",
       "      <td>NaN</td>\n",
       "      <td>NaN</td>\n",
       "      <td>NaN</td>\n",
       "    </tr>\n",
       "    <tr>\n",
       "      <th>taster_twitter_handle</th>\n",
       "      <td>55583</td>\n",
       "      <td>15</td>\n",
       "      <td>@vossroger</td>\n",
       "      <td>12210</td>\n",
       "      <td>NaN</td>\n",
       "      <td>NaN</td>\n",
       "      <td>NaN</td>\n",
       "      <td>NaN</td>\n",
       "      <td>NaN</td>\n",
       "      <td>NaN</td>\n",
       "      <td>NaN</td>\n",
       "    </tr>\n",
       "    <tr>\n",
       "      <th>title</th>\n",
       "      <td>67447</td>\n",
       "      <td>66958</td>\n",
       "      <td>Gloria Ferrer NV Blanc de Noirs Sparkling (Car...</td>\n",
       "      <td>5</td>\n",
       "      <td>NaN</td>\n",
       "      <td>NaN</td>\n",
       "      <td>NaN</td>\n",
       "      <td>NaN</td>\n",
       "      <td>NaN</td>\n",
       "      <td>NaN</td>\n",
       "      <td>NaN</td>\n",
       "    </tr>\n",
       "  </tbody>\n",
       "</table>\n",
       "</div>"
      ],
      "text/plain": [
       "                        count  unique  \\\n",
       "country                156552      48   \n",
       "description            156552  156552   \n",
       "designation            110034   44351   \n",
       "points                 156552     NaN   \n",
       "price                  156552     NaN   \n",
       "province               156552     483   \n",
       "region_1               130976    1307   \n",
       "region_2                67184      18   \n",
       "variety                156552     739   \n",
       "winery                 156552   18143   \n",
       "taster_name             58620      19   \n",
       "taster_twitter_handle   55583      15   \n",
       "title                   67447   66958   \n",
       "\n",
       "                                                                     top  \\\n",
       "country                                                               US   \n",
       "description            Here's a lovely interpretation of Barbera Supe...   \n",
       "designation                                                      Reserve   \n",
       "points                                                               NaN   \n",
       "price                                                                NaN   \n",
       "province                                                      California   \n",
       "region_1                                                     Napa Valley   \n",
       "region_2                                                   Central Coast   \n",
       "variety                                                       Pinot Noir   \n",
       "winery                                                   Williams Selyem   \n",
       "taster_name                                                   Roger Voss   \n",
       "taster_twitter_handle                                         @vossroger   \n",
       "title                  Gloria Ferrer NV Blanc de Noirs Sparkling (Car...   \n",
       "\n",
       "                        freq     mean      std  min  25%  50%  75%   max  \n",
       "country                70491      NaN      NaN  NaN  NaN  NaN  NaN   NaN  \n",
       "description                1      NaN      NaN  NaN  NaN  NaN  NaN   NaN  \n",
       "designation             2802      NaN      NaN  NaN  NaN  NaN  NaN   NaN  \n",
       "points                   NaN  88.1924  3.15024   80   86   88   90   100  \n",
       "price                    NaN  34.6458  39.3853    4   16   25   40  3300  \n",
       "province               48458      NaN      NaN  NaN  NaN  NaN  NaN   NaN  \n",
       "region_1                6401      NaN      NaN  NaN  NaN  NaN  NaN   NaN  \n",
       "region_2               14504      NaN      NaN  NaN  NaN  NaN  NaN   NaN  \n",
       "variety                15983      NaN      NaN  NaN  NaN  NaN  NaN   NaN  \n",
       "winery                   299      NaN      NaN  NaN  NaN  NaN  NaN   NaN  \n",
       "taster_name            12210      NaN      NaN  NaN  NaN  NaN  NaN   NaN  \n",
       "taster_twitter_handle  12210      NaN      NaN  NaN  NaN  NaN  NaN   NaN  \n",
       "title                      5      NaN      NaN  NaN  NaN  NaN  NaN   NaN  "
      ]
     },
     "execution_count": 15,
     "metadata": {},
     "output_type": "execute_result"
    }
   ],
   "source": [
    "# include='all' FOR ALL, include='O' FOR STRING, include () FOR NUMERIC\n",
    "df.describe(include=\"all\").T"
   ]
  },
  {
   "cell_type": "markdown",
   "metadata": {},
   "source": [
    "#### Univariate Analysis"
   ]
  },
  {
   "cell_type": "markdown",
   "metadata": {},
   "source": [
    "#### Price Outlier"
   ]
  },
  {
   "cell_type": "code",
   "execution_count": 16,
   "metadata": {},
   "outputs": [
    {
     "data": {
      "text/plain": [
       "Text(0.5, 1.0, 'price')"
      ]
     },
     "execution_count": 16,
     "metadata": {},
     "output_type": "execute_result"
    },
    {
     "data": {
      "image/png": "[encoded data removed]",
      "text/plain": [
       "<Figure size 864x288 with 1 Axes>"
      ]
     },
     "metadata": {
      "needs_background": "light"
     },
     "output_type": "display_data"
    }
   ],
   "source": [
    "plt.figure(figsize=(12,4))\n",
    "\n",
    "# BOXPLOT\n",
    "plt.subplot(1,2,1)\n",
    "plt.boxplot(df['price'],whis=1.5)\n",
    "plt.title('price')"
   ]
  },
  {
   "cell_type": "markdown",
   "metadata": {},
   "source": [
    "#### Although there is a wide range of prices, the variance is legitimate. Certain wineries command a premium due to quality, scarcity, and prestige. To explain the wine market, we will introduce market three primary categories each with three sub categories. The segments are based on price per 750ml."
   ]
  },
  {
   "cell_type": "markdown",
   "metadata": {},
   "source": [
    "#### Rating (\"points\") Outlier Analysis"
   ]
  },
  {
   "cell_type": "code",
   "execution_count": 17,
   "metadata": {},
   "outputs": [
    {
     "data": {
      "text/plain": [
       "Text(0.5, 1.0, 'Rating')"
      ]
     },
     "execution_count": 17,
     "metadata": {},
     "output_type": "execute_result"
    },
    {
     "data": {
      "image/png": "[encoded data removed]",
      "text/plain": [
       "<Figure size 864x288 with 1 Axes>"
      ]
     },
     "metadata": {
      "needs_background": "light"
     },
     "output_type": "display_data"
    }
   ],
   "source": [
    "plt.figure(figsize=(12,4))\n",
    "\n",
    "# BOXPLOT\n",
    "plt.subplot(1,2,1)\n",
    "plt.boxplot(df['points'],whis=1.5)\n",
    "plt.title('Rating')"
   ]
  },
  {
   "cell_type": "markdown",
   "metadata": {},
   "source": [
    "#### Majority of ratings rank the wines between 86 and 90 points where greater than 90 points appears to be a designation for an above average wine, and less than 86 a below average wine with a few outliers on the upside which speak to unique high quality wines."
   ]
  },
  {
   "cell_type": "markdown",
   "metadata": {},
   "source": [
    "#### Bivariate Analysis"
   ]
  },
  {
   "cell_type": "code",
   "execution_count": 18,
   "metadata": {},
   "outputs": [
    {
     "data": {
      "image/png": "[encoded data removed]",
      "text/plain": [
       "<Figure size 576x216 with 1 Axes>"
      ]
     },
     "metadata": {
      "needs_background": "light"
     },
     "output_type": "display_data"
    }
   ],
   "source": [
    "plt.figure(figsize=(8,3))\n",
    "# CONVERT SERIES TO DATAFRAME. cnt IS DF WHERE INDEX IS COUNTRY AND COUNTS ARE FEATURE \n",
    "# cnt['country'] IS REVIEW COUNTS, NOT COUNTRY NAME\n",
    "cnt = df['country'].value_counts().to_frame()[0:15]\n",
    "#plt.xscale('log')\n",
    "sns.barplot(x= cnt['country'], y =cnt.index, data=cnt, palette='ocean',orient='h')\n",
    "plt.title('Review count WRT winery country (Top 15)');"
   ]
  },
  {
   "cell_type": "markdown",
   "metadata": {},
   "source": [
    "#### Majority of wineries with reviews in this dataset are in US, France and Italy."
   ]
  },
  {
   "cell_type": "code",
   "execution_count": 19,
   "metadata": {},
   "outputs": [
    {
     "data": {
      "image/png": "[encoded data removed]",
      "text/plain": [
       "<Figure size 1008x216 with 1 Axes>"
      ]
     },
     "metadata": {
      "needs_background": "light"
     },
     "output_type": "display_data"
    }
   ],
   "source": [
    "plt.figure(figsize=(14,3))\n",
    "# CONVERT SERIES TO DATAFRAME. cnt IS DF WHERE INDEX IS COUNTRY AND COUNTS ARE FEATURE \n",
    "# cnt['country'] IS REVIEW COUNTS, NOT COUNTRY NAME\n",
    "cnt = df[(df['country'] == 'US') & (df['province'] =='California')]['variety'].value_counts().to_frame()[0:10]\n",
    "#plt.xscale('log')\n",
    "sns.barplot(x= cnt['variety'], y =cnt.index, data=cnt, palette='ocean',orient='h')\n",
    "plt.title('Review count of CA wineries WRT variety (Top 10)');"
   ]
  },
  {
   "cell_type": "markdown",
   "metadata": {},
   "source": [
    "#### The pinot noir grape is the most reviewed variety. For this Capstone, we will focus on the pinot noir wine market in California."
   ]
  },
  {
   "cell_type": "code",
   "execution_count": 20,
   "metadata": {},
   "outputs": [
    {
     "data": {
      "image/png": "[encoded data removed]",
      "text/plain": [
       "<Figure size 864x360 with 1 Axes>"
      ]
     },
     "metadata": {
      "needs_background": "light"
     },
     "output_type": "display_data"
    }
   ],
   "source": [
    "plt.figure(figsize=(12,5))\n",
    "# CONVERT SERIES TO DATAFRAME. cnt IS DF WHERE INDEX IS COUNTRY AND COUNTS ARE FEATURE \n",
    "# cnt['country'] IS REVIEW COUNTS, NOT COUNTRY NAME\n",
    "cnt = df[(df['country'] == 'US') & (df['province'] =='California') & (df['variety'] == 'Pinot Noir')]['region_1'].value_counts().to_frame()[0:20]\n",
    "#plt.xscale('log')\n",
    "sns.barplot(x= cnt['region_1'], y =cnt.index, data=cnt, palette='ocean',orient='h')\n",
    "plt.title('Review count of CA wineries WRT variety (Top 20)');"
   ]
  },
  {
   "cell_type": "markdown",
   "metadata": {},
   "source": [
    "#### Focus will be on US wine market, particularly California and the Pinot Noir variety as it get's the most reviews."
   ]
  },
  {
   "cell_type": "code",
   "execution_count": 21,
   "metadata": {},
   "outputs": [],
   "source": [
    "pn_region_list = ['Russian River Valley', 'Sonoma Coast', 'Sta. Rita Hills',\n",
    "       'Santa Lucia Highlands', 'Carneros', 'Anderson Valley',\n",
    "       'Santa Maria Valley', 'California', 'Santa Cruz Mountains',\n",
    "       'Edna Valley', 'Santa Barbara County', 'Central Coast', 'Sonoma County',\n",
    "       'Arroyo Grande Valley', 'Green Valley', 'Monterey',\n",
    "       'San Luis Obispo County', 'Monterey County', 'Napa Valley',\n",
    "       'Arroyo Seco']\n",
    "\n",
    "df_pn20_prc = df[(df['country'] == 'US') & \n",
    "                 (df['province'] =='California') & \n",
    "                 (df['variety'] == 'Pinot Noir') &\n",
    "                 (df['region_1'].isin(pn_region_list))].copy()\n",
    "\n",
    "df_pn20_pnt = df[(df['country'] == 'US') & \n",
    "                 (df['province'] =='California') & \n",
    "                 (df['variety'] == 'Pinot Noir') &\n",
    "                 (df['region_1'].isin(pn_region_list))].copy()"
   ]
  },
  {
   "cell_type": "code",
   "execution_count": 22,
   "metadata": {},
   "outputs": [
    {
     "name": "stdout",
     "output_type": "stream",
     "text": [
      "Number unique regions:                           20\n",
      "Shape of new Top 20 Pinot Noir Region Dataframe: (8013, 13)\n"
     ]
    },
    {
     "data": {
      "text/html": [
       "<div>\n",
       "<style scoped>\n",
       "    .dataframe tbody tr th:only-of-type {\n",
       "        vertical-align: middle;\n",
       "    }\n",
       "\n",
       "    .dataframe tbody tr th {\n",
       "        vertical-align: top;\n",
       "    }\n",
       "\n",
       "    .dataframe thead th {\n",
       "        text-align: right;\n",
       "    }\n",
       "</style>\n",
       "<table border=\"1\" class=\"dataframe\">\n",
       "  <thead>\n",
       "    <tr style=\"text-align: right;\">\n",
       "      <th></th>\n",
       "      <th>country</th>\n",
       "      <th>description</th>\n",
       "      <th>designation</th>\n",
       "      <th>points</th>\n",
       "      <th>price</th>\n",
       "      <th>province</th>\n",
       "      <th>region_1</th>\n",
       "      <th>region_2</th>\n",
       "      <th>variety</th>\n",
       "      <th>winery</th>\n",
       "      <th>taster_name</th>\n",
       "      <th>taster_twitter_handle</th>\n",
       "      <th>title</th>\n",
       "    </tr>\n",
       "  </thead>\n",
       "  <tbody>\n",
       "    <tr>\n",
       "      <th>9</th>\n",
       "      <td>US</td>\n",
       "      <td>The producer sources from two blocks of the vi...</td>\n",
       "      <td>Gap's Crown Vineyard</td>\n",
       "      <td>95</td>\n",
       "      <td>60.0</td>\n",
       "      <td>California</td>\n",
       "      <td>Sonoma Coast</td>\n",
       "      <td>Sonoma</td>\n",
       "      <td>Pinot Noir</td>\n",
       "      <td>Blue Farm</td>\n",
       "      <td>NaN</td>\n",
       "      <td>NaN</td>\n",
       "      <td>NaN</td>\n",
       "    </tr>\n",
       "  </tbody>\n",
       "</table>\n",
       "</div>"
      ],
      "text/plain": [
       "  country                                        description  \\\n",
       "9      US  The producer sources from two blocks of the vi...   \n",
       "\n",
       "            designation  points  price    province      region_1 region_2  \\\n",
       "9  Gap's Crown Vineyard      95   60.0  California  Sonoma Coast   Sonoma   \n",
       "\n",
       "      variety     winery taster_name taster_twitter_handle title  \n",
       "9  Pinot Noir  Blue Farm         NaN                   NaN   NaN  "
      ]
     },
     "execution_count": 22,
     "metadata": {},
     "output_type": "execute_result"
    }
   ],
   "source": [
    "#df_pn20 = df_pn20[df_pn20['region_1'].isin(pn_region_list)]\n",
    "#df_pn20.reset_index()\n",
    "print(\"Number unique regions:                           {}\".format(df_pn20_prc['region_1'].nunique()))\n",
    "print(\"Shape of new Top 20 Pinot Noir Region Dataframe: {}\".format(df_pn20_prc.shape))\n",
    "df_pn20_prc.head(1)"
   ]
  },
  {
   "cell_type": "code",
   "execution_count": 23,
   "metadata": {},
   "outputs": [],
   "source": [
    "# !!! STANDARDIZE VS LOG\n",
    "df_pn20_prc['price_log'] = np.log(df_pn20_prc['price'])"
   ]
  },
  {
   "cell_type": "code",
   "execution_count": 24,
   "metadata": {},
   "outputs": [],
   "source": [
    "df_pn20_prc.drop(columns=['country', 'variety', 'region_2','taster_name','taster_twitter_handle'], \n",
    "                 axis=1, inplace=True)"
   ]
  },
  {
   "cell_type": "code",
   "execution_count": 25,
   "metadata": {},
   "outputs": [],
   "source": [
    "df_pn20_pnt.drop(columns=['country','variety', 'region_2','taster_name','taster_twitter_handle'], \n",
    "                 axis=1, inplace=True)"
   ]
  },
  {
   "cell_type": "code",
   "execution_count": 26,
   "metadata": {},
   "outputs": [
    {
     "data": {
      "text/plain": [
       "Index(['description', 'designation', 'points', 'price', 'province', 'region_1',\n",
       "       'winery', 'title', 'price_log'],\n",
       "      dtype='object')"
      ]
     },
     "execution_count": 26,
     "metadata": {},
     "output_type": "execute_result"
    }
   ],
   "source": [
    "df_pn20_prc.columns"
   ]
  },
  {
   "cell_type": "code",
   "execution_count": 27,
   "metadata": {},
   "outputs": [
    {
     "data": {
      "text/plain": [
       "Index(['description', 'designation', 'points', 'price', 'province', 'region_1',\n",
       "       'winery', 'title'],\n",
       "      dtype='object')"
      ]
     },
     "execution_count": 27,
     "metadata": {},
     "output_type": "execute_result"
    }
   ],
   "source": [
    "df_pn20_pnt.columns"
   ]
  },
  {
   "cell_type": "markdown",
   "metadata": {},
   "source": [
    "#### Price by Region"
   ]
  },
  {
   "cell_type": "code",
   "execution_count": 28,
   "metadata": {},
   "outputs": [
    {
     "data": {
      "image/png": "[encoded data removed]",
      "text/plain": [
       "<Figure size 720x288 with 1 Axes>"
      ]
     },
     "metadata": {
      "needs_background": "light"
     },
     "output_type": "display_data"
    }
   ],
   "source": [
    "cnt = df_pn20_prc.groupby(['region_1']).mean()['price'].sort_values(ascending=False).to_frame()[0:20]\n",
    "plt.figure(figsize=(10,4))\n",
    "sns.pointplot(x=cnt['price'], y=cnt.index, color='r', orient='h', markers='o')\n",
    "plt.title('Avg Wine Price W.R.T. Region')\n",
    "plt.xlabel('Price')\n",
    "plt.ylabel('Country');"
   ]
  },
  {
   "cell_type": "markdown",
   "metadata": {},
   "source": [
    "#### Outlier analysis with boxplot"
   ]
  },
  {
   "cell_type": "code",
   "execution_count": 29,
   "metadata": {},
   "outputs": [
    {
     "data": {
      "image/png": "[encoded data removed]",
      "text/plain": [
       "<Figure size 1152x432 with 1 Axes>"
      ]
     },
     "metadata": {
      "needs_background": "light"
     },
     "output_type": "display_data"
    }
   ],
   "source": [
    "#    The rating of wine is varies from 0 to 100, but least rating is 80.\n",
    "#    The wine produced in France, Australia, Portugal, Italy, US receives top rating.\n",
    "#    The wine produced in Urugay, South Africa, Portugal reveices least rating.\n",
    "\n",
    "plt.figure(figsize=(16,6))\n",
    "sns.boxplot(x = df_pn20_prc['region_1'], y = df_pn20_prc['price'])\n",
    "#sns.pointplot(x = wine['country'], y = wine['points'])\n",
    "plt.title('Price by Region')\n",
    "plt.xticks(rotation=90);"
   ]
  },
  {
   "cell_type": "markdown",
   "metadata": {},
   "source": [
    "#### Ratings by Region"
   ]
  },
  {
   "cell_type": "code",
   "execution_count": 30,
   "metadata": {},
   "outputs": [
    {
     "data": {
      "image/png": "[encoded data removed]",
      "text/plain": [
       "<Figure size 720x288 with 1 Axes>"
      ]
     },
     "metadata": {
      "needs_background": "light"
     },
     "output_type": "display_data"
    }
   ],
   "source": [
    "cnt = df_pn20_pnt.groupby(['region_1']).mean()['points'].sort_values(ascending=False).to_frame()[0:20]\n",
    "plt.figure(figsize=(10,4))\n",
    "sns.pointplot(x=cnt['points'], y=cnt.index, color='r', orient='h', markers='o')\n",
    "plt.title('Avg Wine Points W.R.T. Region')\n",
    "plt.xlabel('Points')\n",
    "plt.ylabel('Country');"
   ]
  },
  {
   "cell_type": "code",
   "execution_count": 31,
   "metadata": {},
   "outputs": [
    {
     "data": {
      "image/png": "[encoded data removed]",
      "text/plain": [
       "<Figure size 864x288 with 1 Axes>"
      ]
     },
     "metadata": {
      "needs_background": "light"
     },
     "output_type": "display_data"
    }
   ],
   "source": [
    "#    The rating of wine is varies from 0 to 100, but least rating is 80.\n",
    "\n",
    "plt.figure(figsize=(12,4))\n",
    "sns.boxplot(x = df_pn20_pnt['region_1'], y = df_pn20_pnt['points'])\n",
    "#sns.pointplot(x = wine['country'], y = wine['points'])\n",
    "plt.title('Point Rating by Region')\n",
    "plt.xticks(rotation=90);"
   ]
  },
  {
   "cell_type": "markdown",
   "metadata": {},
   "source": [
    "  \n",
    "#### Luxury Super Segment  \n",
    "Icon over 100   \n",
    "Super Luxury 50 to 100  \n",
    "Luxury 25 to 50   \n",
    "\n",
    "#### Premium Super Segment    \n",
    "Ultra Premium 14 to 25   \n",
    "Mid-Premium 10 to 14   \n",
    "Popular Premium 7 to 10   \n",
    "\n",
    "#### Everyday Super Segment   \n",
    "Fighting Varietals 3 up to 7    \n",
    "Extreme Value Below 3    \n",
    "Jug Wine Below 3  "
   ]
  },
  {
   "cell_type": "markdown",
   "metadata": {},
   "source": [
    "Analysis: \n",
    "Talk to price, why such wide range, concentration, and legitimacy of values. \n",
    "Talk to rating scale and what happening.\n",
    "Talk to how going to approach analysis, segments, varietals, specific region for specific varietal.\n",
    "Talk to complication of wine market, Rhone, multiple regions, each has a specific recipe and rules. Diff than that of US\n",
    "US Syrah, not always all Syrah, over certain percentage, may be blended with Viognier, Grenache, Mouvedre, etc ..., but called Syrah\n",
    "So Syrah in US may not be similar to Syrah in Australia or France, all have rules. \n",
    "Also flavor different,terrior as it is called, a 100% syrah in diff parts of France or US or Australia will taste different within their own country and in contrast to other parts of world. This is function of weather, soil, and farming practices.\n",
    "\n",
    "For these reasons breaking down analysis. Will use high level aggregations to identify common threads for flavor, smell characteristics to find variatal similarities. Will value based on specific province/region combination. Will recommend using user preferences, rating/review perception of quality, and similarities to other varietals.\n",
    "\n",
    "Other issues, if don't look on a varietal basis, then can be deceiving. Example Rhone grows Syrah, Bordeaux will not have Syrah reviews. Rhone considered one of, if not the best Syrah growing region, particularly Hermitage and Cote Rotie. To compare Hermitage with Croze hermitage is like comparing the best wine region in California to central Valley mass market farming. One is targeting the high end, the \"Luxury\" market, the other the low end, the \"Everyday\" market, to say another way. \n",
    "\n",
    "So the wine market is complex, best way to approach is by variety, and by segment and to avoid generalizing too much as the price/rating scales will lose meaning and not be of use to the consumer and business. \n",
    "\n",
    "As we are building an app to help the consumer, we want to make accurate predictions. \n",
    "\n",
    "Let's go over this reasoning with bivariate analysis."
   ]
  },
  {
   "cell_type": "markdown",
   "metadata": {},
   "source": [
    "#### Assign percentile rank"
   ]
  },
  {
   "cell_type": "code",
   "execution_count": 32,
   "metadata": {},
   "outputs": [
    {
     "data": {
      "text/html": [
       "<div>\n",
       "<style scoped>\n",
       "    .dataframe tbody tr th:only-of-type {\n",
       "        vertical-align: middle;\n",
       "    }\n",
       "\n",
       "    .dataframe tbody tr th {\n",
       "        vertical-align: top;\n",
       "    }\n",
       "\n",
       "    .dataframe thead th {\n",
       "        text-align: right;\n",
       "    }\n",
       "</style>\n",
       "<table border=\"1\" class=\"dataframe\">\n",
       "  <thead>\n",
       "    <tr style=\"text-align: right;\">\n",
       "      <th></th>\n",
       "      <th>description</th>\n",
       "      <th>designation</th>\n",
       "      <th>points</th>\n",
       "      <th>price</th>\n",
       "      <th>province</th>\n",
       "      <th>region_1</th>\n",
       "      <th>winery</th>\n",
       "      <th>title</th>\n",
       "      <th>price_log</th>\n",
       "      <th>price_rank</th>\n",
       "    </tr>\n",
       "  </thead>\n",
       "  <tbody>\n",
       "    <tr>\n",
       "      <th>129912</th>\n",
       "      <td>From the Ranch House block of the famous viney...</td>\n",
       "      <td>Durell Vineyard</td>\n",
       "      <td>91</td>\n",
       "      <td>55.0</td>\n",
       "      <td>California</td>\n",
       "      <td>Sonoma Coast</td>\n",
       "      <td>Dunstan</td>\n",
       "      <td>Dunstan 2014 Durell Vineyard Pinot Noir (Sonom...</td>\n",
       "      <td>4.007333</td>\n",
       "      <td>2</td>\n",
       "    </tr>\n",
       "  </tbody>\n",
       "</table>\n",
       "</div>"
      ],
      "text/plain": [
       "                                              description      designation  \\\n",
       "129912  From the Ranch House block of the famous viney...  Durell Vineyard   \n",
       "\n",
       "        points  price    province      region_1   winery  \\\n",
       "129912      91   55.0  California  Sonoma Coast  Dunstan   \n",
       "\n",
       "                                                    title  price_log  \\\n",
       "129912  Dunstan 2014 Durell Vineyard Pinot Noir (Sonom...   4.007333   \n",
       "\n",
       "        price_rank  \n",
       "129912           2  "
      ]
     },
     "execution_count": 32,
     "metadata": {},
     "output_type": "execute_result"
    }
   ],
   "source": [
    "# RANK - Assign price rank by grouping all Pinot Noir Ratings 1-3, organizing by 33 percentile\n",
    "df_pn20_prc['price_rank']=pd.qcut(df_pn20_prc['price'],4,labels=False)\n",
    "df_pn20_prc.tail(1)"
   ]
  },
  {
   "cell_type": "code",
   "execution_count": 33,
   "metadata": {},
   "outputs": [
    {
     "data": {
      "text/html": [
       "<div>\n",
       "<style scoped>\n",
       "    .dataframe tbody tr th:only-of-type {\n",
       "        vertical-align: middle;\n",
       "    }\n",
       "\n",
       "    .dataframe tbody tr th {\n",
       "        vertical-align: top;\n",
       "    }\n",
       "\n",
       "    .dataframe thead th {\n",
       "        text-align: right;\n",
       "    }\n",
       "</style>\n",
       "<table border=\"1\" class=\"dataframe\">\n",
       "  <thead>\n",
       "    <tr style=\"text-align: right;\">\n",
       "      <th></th>\n",
       "      <th>description</th>\n",
       "      <th>designation</th>\n",
       "      <th>points</th>\n",
       "      <th>price</th>\n",
       "      <th>province</th>\n",
       "      <th>region_1</th>\n",
       "      <th>winery</th>\n",
       "      <th>title</th>\n",
       "      <th>point_rank</th>\n",
       "    </tr>\n",
       "  </thead>\n",
       "  <tbody>\n",
       "    <tr>\n",
       "      <th>129912</th>\n",
       "      <td>From the Ranch House block of the famous viney...</td>\n",
       "      <td>Durell Vineyard</td>\n",
       "      <td>91</td>\n",
       "      <td>55.0</td>\n",
       "      <td>California</td>\n",
       "      <td>Sonoma Coast</td>\n",
       "      <td>Dunstan</td>\n",
       "      <td>Dunstan 2014 Durell Vineyard Pinot Noir (Sonom...</td>\n",
       "      <td>2</td>\n",
       "    </tr>\n",
       "  </tbody>\n",
       "</table>\n",
       "</div>"
      ],
      "text/plain": [
       "                                              description      designation  \\\n",
       "129912  From the Ranch House block of the famous viney...  Durell Vineyard   \n",
       "\n",
       "        points  price    province      region_1   winery  \\\n",
       "129912      91   55.0  California  Sonoma Coast  Dunstan   \n",
       "\n",
       "                                                    title  point_rank  \n",
       "129912  Dunstan 2014 Durell Vineyard Pinot Noir (Sonom...           2  "
      ]
     },
     "execution_count": 33,
     "metadata": {},
     "output_type": "execute_result"
    }
   ],
   "source": [
    "# RANK - Assign price rank by grouping all Pinot Noir Ratings 1-3, organizing by 33 percentile\n",
    "df_pn20_pnt['point_rank']=pd.qcut(df_pn20_pnt['points'],4,labels=False)\n",
    "df_pn20_pnt.tail(1)"
   ]
  },
  {
   "cell_type": "code",
   "execution_count": 34,
   "metadata": {},
   "outputs": [
    {
     "data": {
      "text/plain": [
       "0    2427\n",
       "1    2133\n",
       "2    1770\n",
       "3    1683\n",
       "Name: point_rank, dtype: int64"
      ]
     },
     "execution_count": 34,
     "metadata": {},
     "output_type": "execute_result"
    }
   ],
   "source": [
    "df_pn20_pnt['point_rank'].value_counts()"
   ]
  },
  {
   "cell_type": "markdown",
   "metadata": {},
   "source": [
    "#### Price and point rank analysis"
   ]
  },
  {
   "cell_type": "markdown",
   "metadata": {},
   "source": [
    "#### Price Rank"
   ]
  },
  {
   "cell_type": "code",
   "execution_count": 35,
   "metadata": {
    "scrolled": true
   },
   "outputs": [
    {
     "data": {
      "text/html": [
       "<div>\n",
       "<style scoped>\n",
       "    .dataframe tbody tr th:only-of-type {\n",
       "        vertical-align: middle;\n",
       "    }\n",
       "\n",
       "    .dataframe tbody tr th {\n",
       "        vertical-align: top;\n",
       "    }\n",
       "\n",
       "    .dataframe thead th {\n",
       "        text-align: right;\n",
       "    }\n",
       "</style>\n",
       "<table border=\"1\" class=\"dataframe\">\n",
       "  <thead>\n",
       "    <tr style=\"text-align: right;\">\n",
       "      <th></th>\n",
       "      <th>points</th>\n",
       "      <th>price</th>\n",
       "      <th>price_log</th>\n",
       "      <th>price_rank</th>\n",
       "    </tr>\n",
       "  </thead>\n",
       "  <tbody>\n",
       "    <tr>\n",
       "      <th>count</th>\n",
       "      <td>1793.000000</td>\n",
       "      <td>1793.000000</td>\n",
       "      <td>1793.000000</td>\n",
       "      <td>1793.0</td>\n",
       "    </tr>\n",
       "    <tr>\n",
       "      <th>mean</th>\n",
       "      <td>91.778026</td>\n",
       "      <td>68.172895</td>\n",
       "      <td>4.209594</td>\n",
       "      <td>3.0</td>\n",
       "    </tr>\n",
       "    <tr>\n",
       "      <th>std</th>\n",
       "      <td>2.685491</td>\n",
       "      <td>11.610504</td>\n",
       "      <td>0.152600</td>\n",
       "      <td>0.0</td>\n",
       "    </tr>\n",
       "    <tr>\n",
       "      <th>min</th>\n",
       "      <td>81.000000</td>\n",
       "      <td>56.000000</td>\n",
       "      <td>4.025352</td>\n",
       "      <td>3.0</td>\n",
       "    </tr>\n",
       "    <tr>\n",
       "      <th>25%</th>\n",
       "      <td>90.000000</td>\n",
       "      <td>60.000000</td>\n",
       "      <td>4.094345</td>\n",
       "      <td>3.0</td>\n",
       "    </tr>\n",
       "    <tr>\n",
       "      <th>50%</th>\n",
       "      <td>92.000000</td>\n",
       "      <td>65.000000</td>\n",
       "      <td>4.174387</td>\n",
       "      <td>3.0</td>\n",
       "    </tr>\n",
       "    <tr>\n",
       "      <th>75%</th>\n",
       "      <td>94.000000</td>\n",
       "      <td>75.000000</td>\n",
       "      <td>4.317488</td>\n",
       "      <td>3.0</td>\n",
       "    </tr>\n",
       "    <tr>\n",
       "      <th>max</th>\n",
       "      <td>100.000000</td>\n",
       "      <td>150.000000</td>\n",
       "      <td>5.010635</td>\n",
       "      <td>3.0</td>\n",
       "    </tr>\n",
       "  </tbody>\n",
       "</table>\n",
       "</div>"
      ],
      "text/plain": [
       "            points        price    price_log  price_rank\n",
       "count  1793.000000  1793.000000  1793.000000      1793.0\n",
       "mean     91.778026    68.172895     4.209594         3.0\n",
       "std       2.685491    11.610504     0.152600         0.0\n",
       "min      81.000000    56.000000     4.025352         3.0\n",
       "25%      90.000000    60.000000     4.094345         3.0\n",
       "50%      92.000000    65.000000     4.174387         3.0\n",
       "75%      94.000000    75.000000     4.317488         3.0\n",
       "max     100.000000   150.000000     5.010635         3.0"
      ]
     },
     "execution_count": 35,
     "metadata": {},
     "output_type": "execute_result"
    }
   ],
   "source": [
    "df_pn20_prc[df_pn20_prc['price_rank']==3].describe()"
   ]
  },
  {
   "cell_type": "markdown",
   "metadata": {},
   "source": [
    "#### Analysis: When looking at the price rank, there appears to be a wide point range for all categories.  \n",
    "\n",
    ">0: price 6 -> 32,  points 80 -> 95   \n",
    "1: price 33 -> 44,  points 80 -> 96   \n",
    "2: price 45 -> 55,  points 80 -> 98   \n",
    "3: price 56 -> 150, points 81 -> 100  "
   ]
  },
  {
   "cell_type": "code",
   "execution_count": 36,
   "metadata": {},
   "outputs": [],
   "source": [
    "df_pn20_pnt['reg1_pnt_mean'] = df_pn20_pnt.groupby('region_1')['points'].transform('mean')\n",
    "df_pn20_pnt['reg1_pnt_rank'] = df_pn20_pnt['reg1_pnt_mean'].rank(method='dense', ascending=False)\n",
    "#df_pn20.head(15)\n",
    "#df_pn20['reg1_pnt_rank'].value_counts()"
   ]
  },
  {
   "cell_type": "code",
   "execution_count": 37,
   "metadata": {},
   "outputs": [],
   "source": [
    "df_pn20_prc['reg1_prc_mean'] = df_pn20_prc.groupby('region_1')['price'].transform('mean')\n",
    "df_pn20_prc['reg1_prc_rank'] = df_pn20_prc['reg1_prc_mean'].rank(method='dense', ascending=False)\n",
    "#df_pn20.head(15)\n",
    "#df_pn20['reg1_prc_rank'].value_counts()"
   ]
  },
  {
   "cell_type": "code",
   "execution_count": 38,
   "metadata": {},
   "outputs": [
    {
     "data": {
      "text/plain": [
       "Text(0.5, 1.0, 'points divided by reg1_pnts')"
      ]
     },
     "execution_count": 38,
     "metadata": {},
     "output_type": "execute_result"
    },
    {
     "data": {
      "image/png": "[encoded data removed]",
      "text/plain": [
       "<Figure size 432x288 with 1 Axes>"
      ]
     },
     "metadata": {
      "needs_background": "light"
     },
     "output_type": "display_data"
    }
   ],
   "source": [
    "def reg1_pnt_ratio(row):\n",
    "    if ((row['points'] != 0) & (row['reg1_pnt_mean'] !=0)):\n",
    "        pnt_d_prc = row['points'] / row['reg1_pnt_mean'] \n",
    "    else:\n",
    "        pnt_d_prc =  0 \n",
    "    return pnt_d_prc\n",
    "\n",
    "df_pn20_pnt['pnt_2_reg1pnt_ratio'] = df_pn20_pnt.apply(reg1_pnt_ratio, axis=1)\n",
    "\n",
    "plt.figure(figsize=(6,4))\n",
    "plt.hist(df_pn20_pnt['pnt_2_reg1pnt_ratio'])\n",
    "plt.title(\"{}\".format('points divided by reg1_pnts')) "
   ]
  },
  {
   "cell_type": "code",
   "execution_count": 39,
   "metadata": {},
   "outputs": [
    {
     "data": {
      "text/plain": [
       "Text(0.5, 1.0, 'price divided by region mean price')"
      ]
     },
     "execution_count": 39,
     "metadata": {},
     "output_type": "execute_result"
    },
    {
     "data": {
      "image/png": "[encoded data removed]",
      "text/plain": [
       "<Figure size 432x288 with 1 Axes>"
      ]
     },
     "metadata": {
      "needs_background": "light"
     },
     "output_type": "display_data"
    }
   ],
   "source": [
    "def reg1_prc_ratio(row):\n",
    "    if ((row['price'] != 0) & (row['reg1_prc_mean'] !=0)):\n",
    "        prc_d_prc_mean = row['price'] / row['reg1_prc_mean'] \n",
    "    else:\n",
    "        pnt_d_prc =  0 \n",
    "    return prc_d_prc_mean\n",
    "\n",
    "df_pn20_prc['prc_2_reg1prc_ratio'] = df_pn20_prc.apply(reg1_prc_ratio, axis=1)\n",
    "\n",
    "plt.figure(figsize=(6,4))\n",
    "plt.hist(df_pn20_prc['prc_2_reg1prc_ratio'])\n",
    "plt.title(\"{}\".format('price divided by region mean price')) "
   ]
  },
  {
   "cell_type": "code",
   "execution_count": 40,
   "metadata": {},
   "outputs": [
    {
     "data": {
      "text/html": [
       "<style  type=\"text/css\" >\n",
       "    #T_a7512d8a_5a02_11ea_81da_54ee75266f30row0_col0 {\n",
       "            background-color:  #b40426;\n",
       "            color:  #f1f1f1;\n",
       "        }    #T_a7512d8a_5a02_11ea_81da_54ee75266f30row0_col1 {\n",
       "            background-color:  #f7ac8e;\n",
       "            color:  #000000;\n",
       "        }    #T_a7512d8a_5a02_11ea_81da_54ee75266f30row0_col2 {\n",
       "            background-color:  #f5a081;\n",
       "            color:  #000000;\n",
       "        }    #T_a7512d8a_5a02_11ea_81da_54ee75266f30row0_col3 {\n",
       "            background-color:  #f7b497;\n",
       "            color:  #000000;\n",
       "        }    #T_a7512d8a_5a02_11ea_81da_54ee75266f30row0_col4 {\n",
       "            background-color:  #f7b194;\n",
       "            color:  #000000;\n",
       "        }    #T_a7512d8a_5a02_11ea_81da_54ee75266f30row0_col5 {\n",
       "            background-color:  #a1c0ff;\n",
       "            color:  #000000;\n",
       "        }    #T_a7512d8a_5a02_11ea_81da_54ee75266f30row0_col6 {\n",
       "            background-color:  #c7d7f0;\n",
       "            color:  #000000;\n",
       "        }    #T_a7512d8a_5a02_11ea_81da_54ee75266f30row1_col0 {\n",
       "            background-color:  #f7b497;\n",
       "            color:  #000000;\n",
       "        }    #T_a7512d8a_5a02_11ea_81da_54ee75266f30row1_col1 {\n",
       "            background-color:  #b40426;\n",
       "            color:  #f1f1f1;\n",
       "        }    #T_a7512d8a_5a02_11ea_81da_54ee75266f30row1_col2 {\n",
       "            background-color:  #be242e;\n",
       "            color:  #f1f1f1;\n",
       "        }    #T_a7512d8a_5a02_11ea_81da_54ee75266f30row1_col3 {\n",
       "            background-color:  #c83836;\n",
       "            color:  #f1f1f1;\n",
       "        }    #T_a7512d8a_5a02_11ea_81da_54ee75266f30row1_col4 {\n",
       "            background-color:  #f5a081;\n",
       "            color:  #000000;\n",
       "        }    #T_a7512d8a_5a02_11ea_81da_54ee75266f30row1_col5 {\n",
       "            background-color:  #90b2fe;\n",
       "            color:  #000000;\n",
       "        }    #T_a7512d8a_5a02_11ea_81da_54ee75266f30row1_col6 {\n",
       "            background-color:  #e67259;\n",
       "            color:  #000000;\n",
       "        }    #T_a7512d8a_5a02_11ea_81da_54ee75266f30row2_col0 {\n",
       "            background-color:  #f7af91;\n",
       "            color:  #000000;\n",
       "        }    #T_a7512d8a_5a02_11ea_81da_54ee75266f30row2_col1 {\n",
       "            background-color:  #c0282f;\n",
       "            color:  #f1f1f1;\n",
       "        }    #T_a7512d8a_5a02_11ea_81da_54ee75266f30row2_col2 {\n",
       "            background-color:  #b40426;\n",
       "            color:  #f1f1f1;\n",
       "        }    #T_a7512d8a_5a02_11ea_81da_54ee75266f30row2_col3 {\n",
       "            background-color:  #cf453c;\n",
       "            color:  #f1f1f1;\n",
       "        }    #T_a7512d8a_5a02_11ea_81da_54ee75266f30row2_col4 {\n",
       "            background-color:  #f08a6c;\n",
       "            color:  #000000;\n",
       "        }    #T_a7512d8a_5a02_11ea_81da_54ee75266f30row2_col5 {\n",
       "            background-color:  #80a3fa;\n",
       "            color:  #000000;\n",
       "        }    #T_a7512d8a_5a02_11ea_81da_54ee75266f30row2_col6 {\n",
       "            background-color:  #f39475;\n",
       "            color:  #000000;\n",
       "        }    #T_a7512d8a_5a02_11ea_81da_54ee75266f30row3_col0 {\n",
       "            background-color:  #f7b99e;\n",
       "            color:  #000000;\n",
       "        }    #T_a7512d8a_5a02_11ea_81da_54ee75266f30row3_col1 {\n",
       "            background-color:  #c83836;\n",
       "            color:  #f1f1f1;\n",
       "        }    #T_a7512d8a_5a02_11ea_81da_54ee75266f30row3_col2 {\n",
       "            background-color:  #cd423b;\n",
       "            color:  #f1f1f1;\n",
       "        }    #T_a7512d8a_5a02_11ea_81da_54ee75266f30row3_col3 {\n",
       "            background-color:  #b40426;\n",
       "            color:  #f1f1f1;\n",
       "        }    #T_a7512d8a_5a02_11ea_81da_54ee75266f30row3_col4 {\n",
       "            background-color:  #f7a889;\n",
       "            color:  #000000;\n",
       "        }    #T_a7512d8a_5a02_11ea_81da_54ee75266f30row3_col5 {\n",
       "            background-color:  #97b8ff;\n",
       "            color:  #000000;\n",
       "        }    #T_a7512d8a_5a02_11ea_81da_54ee75266f30row3_col6 {\n",
       "            background-color:  #f39577;\n",
       "            color:  #000000;\n",
       "        }    #T_a7512d8a_5a02_11ea_81da_54ee75266f30row4_col0 {\n",
       "            background-color:  #e8d6cc;\n",
       "            color:  #000000;\n",
       "        }    #T_a7512d8a_5a02_11ea_81da_54ee75266f30row4_col1 {\n",
       "            background-color:  #f5c0a7;\n",
       "            color:  #000000;\n",
       "        }    #T_a7512d8a_5a02_11ea_81da_54ee75266f30row4_col2 {\n",
       "            background-color:  #f6a283;\n",
       "            color:  #000000;\n",
       "        }    #T_a7512d8a_5a02_11ea_81da_54ee75266f30row4_col3 {\n",
       "            background-color:  #f2cbb7;\n",
       "            color:  #000000;\n",
       "        }    #T_a7512d8a_5a02_11ea_81da_54ee75266f30row4_col4 {\n",
       "            background-color:  #b40426;\n",
       "            color:  #f1f1f1;\n",
       "        }    #T_a7512d8a_5a02_11ea_81da_54ee75266f30row4_col5 {\n",
       "            background-color:  #3b4cc0;\n",
       "            color:  #f1f1f1;\n",
       "        }    #T_a7512d8a_5a02_11ea_81da_54ee75266f30row4_col6 {\n",
       "            background-color:  #3b4cc0;\n",
       "            color:  #f1f1f1;\n",
       "        }    #T_a7512d8a_5a02_11ea_81da_54ee75266f30row5_col0 {\n",
       "            background-color:  #3b4cc0;\n",
       "            color:  #f1f1f1;\n",
       "        }    #T_a7512d8a_5a02_11ea_81da_54ee75266f30row5_col1 {\n",
       "            background-color:  #3b4cc0;\n",
       "            color:  #f1f1f1;\n",
       "        }    #T_a7512d8a_5a02_11ea_81da_54ee75266f30row5_col2 {\n",
       "            background-color:  #3b4cc0;\n",
       "            color:  #f1f1f1;\n",
       "        }    #T_a7512d8a_5a02_11ea_81da_54ee75266f30row5_col3 {\n",
       "            background-color:  #3b4cc0;\n",
       "            color:  #f1f1f1;\n",
       "        }    #T_a7512d8a_5a02_11ea_81da_54ee75266f30row5_col4 {\n",
       "            background-color:  #3b4cc0;\n",
       "            color:  #f1f1f1;\n",
       "        }    #T_a7512d8a_5a02_11ea_81da_54ee75266f30row5_col5 {\n",
       "            background-color:  #b40426;\n",
       "            color:  #f1f1f1;\n",
       "        }    #T_a7512d8a_5a02_11ea_81da_54ee75266f30row5_col6 {\n",
       "            background-color:  #3b4cc0;\n",
       "            color:  #f1f1f1;\n",
       "        }    #T_a7512d8a_5a02_11ea_81da_54ee75266f30row6_col0 {\n",
       "            background-color:  #eed0c0;\n",
       "            color:  #000000;\n",
       "        }    #T_a7512d8a_5a02_11ea_81da_54ee75266f30row6_col1 {\n",
       "            background-color:  #d95847;\n",
       "            color:  #000000;\n",
       "        }    #T_a7512d8a_5a02_11ea_81da_54ee75266f30row6_col2 {\n",
       "            background-color:  #e46e56;\n",
       "            color:  #000000;\n",
       "        }    #T_a7512d8a_5a02_11ea_81da_54ee75266f30row6_col3 {\n",
       "            background-color:  #e8765c;\n",
       "            color:  #000000;\n",
       "        }    #T_a7512d8a_5a02_11ea_81da_54ee75266f30row6_col4 {\n",
       "            background-color:  #dadce0;\n",
       "            color:  #000000;\n",
       "        }    #T_a7512d8a_5a02_11ea_81da_54ee75266f30row6_col5 {\n",
       "            background-color:  #dadce0;\n",
       "            color:  #000000;\n",
       "        }    #T_a7512d8a_5a02_11ea_81da_54ee75266f30row6_col6 {\n",
       "            background-color:  #b40426;\n",
       "            color:  #f1f1f1;\n",
       "        }</style><table id=\"T_a7512d8a_5a02_11ea_81da_54ee75266f30\" ><thead>    <tr>        <th class=\"blank level0\" ></th>        <th class=\"col_heading level0 col0\" >points</th>        <th class=\"col_heading level0 col1\" >price</th>        <th class=\"col_heading level0 col2\" >price_log</th>        <th class=\"col_heading level0 col3\" >price_rank</th>        <th class=\"col_heading level0 col4\" >reg1_prc_mean</th>        <th class=\"col_heading level0 col5\" >reg1_prc_rank</th>        <th class=\"col_heading level0 col6\" >prc_2_reg1prc_ratio</th>    </tr></thead><tbody>\n",
       "                <tr>\n",
       "                        <th id=\"T_a7512d8a_5a02_11ea_81da_54ee75266f30level0_row0\" class=\"row_heading level0 row0\" >points</th>\n",
       "                        <td id=\"T_a7512d8a_5a02_11ea_81da_54ee75266f30row0_col0\" class=\"data row0 col0\" >1</td>\n",
       "                        <td id=\"T_a7512d8a_5a02_11ea_81da_54ee75266f30row0_col1\" class=\"data row0 col1\" >0.562636</td>\n",
       "                        <td id=\"T_a7512d8a_5a02_11ea_81da_54ee75266f30row0_col2\" class=\"data row0 col2\" >0.584698</td>\n",
       "                        <td id=\"T_a7512d8a_5a02_11ea_81da_54ee75266f30row0_col3\" class=\"data row0 col3\" >0.540202</td>\n",
       "                        <td id=\"T_a7512d8a_5a02_11ea_81da_54ee75266f30row0_col4\" class=\"data row0 col4\" >0.382123</td>\n",
       "                        <td id=\"T_a7512d8a_5a02_11ea_81da_54ee75266f30row0_col5\" class=\"data row0 col5\" >-0.36007</td>\n",
       "                        <td id=\"T_a7512d8a_5a02_11ea_81da_54ee75266f30row0_col6\" class=\"data row0 col6\" >0.423762</td>\n",
       "            </tr>\n",
       "            <tr>\n",
       "                        <th id=\"T_a7512d8a_5a02_11ea_81da_54ee75266f30level0_row1\" class=\"row_heading level0 row1\" >price</th>\n",
       "                        <td id=\"T_a7512d8a_5a02_11ea_81da_54ee75266f30row1_col0\" class=\"data row1 col0\" >0.562636</td>\n",
       "                        <td id=\"T_a7512d8a_5a02_11ea_81da_54ee75266f30row1_col1\" class=\"data row1 col1\" >1</td>\n",
       "                        <td id=\"T_a7512d8a_5a02_11ea_81da_54ee75266f30row1_col2\" class=\"data row1 col2\" >0.952712</td>\n",
       "                        <td id=\"T_a7512d8a_5a02_11ea_81da_54ee75266f30row1_col3\" class=\"data row1 col3\" >0.917066</td>\n",
       "                        <td id=\"T_a7512d8a_5a02_11ea_81da_54ee75266f30row1_col4\" class=\"data row1 col4\" >0.472611</td>\n",
       "                        <td id=\"T_a7512d8a_5a02_11ea_81da_54ee75266f30row1_col5\" class=\"data row1 col5\" >-0.45691</td>\n",
       "                        <td id=\"T_a7512d8a_5a02_11ea_81da_54ee75266f30row1_col6\" class=\"data row1 col6\" >0.839294</td>\n",
       "            </tr>\n",
       "            <tr>\n",
       "                        <th id=\"T_a7512d8a_5a02_11ea_81da_54ee75266f30level0_row2\" class=\"row_heading level0 row2\" >price_log</th>\n",
       "                        <td id=\"T_a7512d8a_5a02_11ea_81da_54ee75266f30row2_col0\" class=\"data row2 col0\" >0.584698</td>\n",
       "                        <td id=\"T_a7512d8a_5a02_11ea_81da_54ee75266f30row2_col1\" class=\"data row2 col1\" >0.952712</td>\n",
       "                        <td id=\"T_a7512d8a_5a02_11ea_81da_54ee75266f30row2_col2\" class=\"data row2 col2\" >1</td>\n",
       "                        <td id=\"T_a7512d8a_5a02_11ea_81da_54ee75266f30row2_col3\" class=\"data row2 col3\" >0.890946</td>\n",
       "                        <td id=\"T_a7512d8a_5a02_11ea_81da_54ee75266f30row2_col4\" class=\"data row2 col4\" >0.582863</td>\n",
       "                        <td id=\"T_a7512d8a_5a02_11ea_81da_54ee75266f30row2_col5\" class=\"data row2 col5\" >-0.547377</td>\n",
       "                        <td id=\"T_a7512d8a_5a02_11ea_81da_54ee75266f30row2_col6\" class=\"data row2 col6\" >0.763672</td>\n",
       "            </tr>\n",
       "            <tr>\n",
       "                        <th id=\"T_a7512d8a_5a02_11ea_81da_54ee75266f30level0_row3\" class=\"row_heading level0 row3\" >price_rank</th>\n",
       "                        <td id=\"T_a7512d8a_5a02_11ea_81da_54ee75266f30row3_col0\" class=\"data row3 col0\" >0.540202</td>\n",
       "                        <td id=\"T_a7512d8a_5a02_11ea_81da_54ee75266f30row3_col1\" class=\"data row3 col1\" >0.917066</td>\n",
       "                        <td id=\"T_a7512d8a_5a02_11ea_81da_54ee75266f30row3_col2\" class=\"data row3 col2\" >0.890946</td>\n",
       "                        <td id=\"T_a7512d8a_5a02_11ea_81da_54ee75266f30row3_col3\" class=\"data row3 col3\" >1</td>\n",
       "                        <td id=\"T_a7512d8a_5a02_11ea_81da_54ee75266f30row3_col4\" class=\"data row3 col4\" >0.433325</td>\n",
       "                        <td id=\"T_a7512d8a_5a02_11ea_81da_54ee75266f30row3_col5\" class=\"data row3 col5\" >-0.421282</td>\n",
       "                        <td id=\"T_a7512d8a_5a02_11ea_81da_54ee75266f30row3_col6\" class=\"data row3 col6\" >0.758257</td>\n",
       "            </tr>\n",
       "            <tr>\n",
       "                        <th id=\"T_a7512d8a_5a02_11ea_81da_54ee75266f30level0_row4\" class=\"row_heading level0 row4\" >reg1_prc_mean</th>\n",
       "                        <td id=\"T_a7512d8a_5a02_11ea_81da_54ee75266f30row4_col0\" class=\"data row4 col0\" >0.382123</td>\n",
       "                        <td id=\"T_a7512d8a_5a02_11ea_81da_54ee75266f30row4_col1\" class=\"data row4 col1\" >0.472611</td>\n",
       "                        <td id=\"T_a7512d8a_5a02_11ea_81da_54ee75266f30row4_col2\" class=\"data row4 col2\" >0.582863</td>\n",
       "                        <td id=\"T_a7512d8a_5a02_11ea_81da_54ee75266f30row4_col3\" class=\"data row4 col3\" >0.433325</td>\n",
       "                        <td id=\"T_a7512d8a_5a02_11ea_81da_54ee75266f30row4_col4\" class=\"data row4 col4\" >1</td>\n",
       "                        <td id=\"T_a7512d8a_5a02_11ea_81da_54ee75266f30row4_col5\" class=\"data row4 col5\" >-0.966779</td>\n",
       "                        <td id=\"T_a7512d8a_5a02_11ea_81da_54ee75266f30row4_col6\" class=\"data row4 col6\" >-5.00846e-17</td>\n",
       "            </tr>\n",
       "            <tr>\n",
       "                        <th id=\"T_a7512d8a_5a02_11ea_81da_54ee75266f30level0_row5\" class=\"row_heading level0 row5\" >reg1_prc_rank</th>\n",
       "                        <td id=\"T_a7512d8a_5a02_11ea_81da_54ee75266f30row5_col0\" class=\"data row5 col0\" >-0.36007</td>\n",
       "                        <td id=\"T_a7512d8a_5a02_11ea_81da_54ee75266f30row5_col1\" class=\"data row5 col1\" >-0.45691</td>\n",
       "                        <td id=\"T_a7512d8a_5a02_11ea_81da_54ee75266f30row5_col2\" class=\"data row5 col2\" >-0.547377</td>\n",
       "                        <td id=\"T_a7512d8a_5a02_11ea_81da_54ee75266f30row5_col3\" class=\"data row5 col3\" >-0.421282</td>\n",
       "                        <td id=\"T_a7512d8a_5a02_11ea_81da_54ee75266f30row5_col4\" class=\"data row5 col4\" >-0.966779</td>\n",
       "                        <td id=\"T_a7512d8a_5a02_11ea_81da_54ee75266f30row5_col5\" class=\"data row5 col5\" >1</td>\n",
       "                        <td id=\"T_a7512d8a_5a02_11ea_81da_54ee75266f30row5_col6\" class=\"data row5 col6\" >7.79886e-17</td>\n",
       "            </tr>\n",
       "            <tr>\n",
       "                        <th id=\"T_a7512d8a_5a02_11ea_81da_54ee75266f30level0_row6\" class=\"row_heading level0 row6\" >prc_2_reg1prc_ratio</th>\n",
       "                        <td id=\"T_a7512d8a_5a02_11ea_81da_54ee75266f30row6_col0\" class=\"data row6 col0\" >0.423762</td>\n",
       "                        <td id=\"T_a7512d8a_5a02_11ea_81da_54ee75266f30row6_col1\" class=\"data row6 col1\" >0.839294</td>\n",
       "                        <td id=\"T_a7512d8a_5a02_11ea_81da_54ee75266f30row6_col2\" class=\"data row6 col2\" >0.763672</td>\n",
       "                        <td id=\"T_a7512d8a_5a02_11ea_81da_54ee75266f30row6_col3\" class=\"data row6 col3\" >0.758257</td>\n",
       "                        <td id=\"T_a7512d8a_5a02_11ea_81da_54ee75266f30row6_col4\" class=\"data row6 col4\" >-5.00846e-17</td>\n",
       "                        <td id=\"T_a7512d8a_5a02_11ea_81da_54ee75266f30row6_col5\" class=\"data row6 col5\" >7.79886e-17</td>\n",
       "                        <td id=\"T_a7512d8a_5a02_11ea_81da_54ee75266f30row6_col6\" class=\"data row6 col6\" >1</td>\n",
       "            </tr>\n",
       "    </tbody></table>"
      ],
      "text/plain": [
       "<pandas.io.formats.style.Styler at 0x233201cca58>"
      ]
     },
     "execution_count": 40,
     "metadata": {},
     "output_type": "execute_result"
    }
   ],
   "source": [
    "corr=df_pn20_prc.corr()\n",
    "corr.style.background_gradient(cmap = 'coolwarm')"
   ]
  },
  {
   "cell_type": "code",
   "execution_count": 41,
   "metadata": {},
   "outputs": [
    {
     "data": {
      "text/html": [
       "<style  type=\"text/css\" >\n",
       "    #T_a758f3de_5a02_11ea_8337_54ee75266f30row0_col0 {\n",
       "            background-color:  #b40426;\n",
       "            color:  #f1f1f1;\n",
       "        }    #T_a758f3de_5a02_11ea_8337_54ee75266f30row0_col1 {\n",
       "            background-color:  #f7af91;\n",
       "            color:  #000000;\n",
       "        }    #T_a758f3de_5a02_11ea_8337_54ee75266f30row0_col2 {\n",
       "            background-color:  #c53334;\n",
       "            color:  #f1f1f1;\n",
       "        }    #T_a758f3de_5a02_11ea_8337_54ee75266f30row0_col3 {\n",
       "            background-color:  #f7af91;\n",
       "            color:  #000000;\n",
       "        }    #T_a758f3de_5a02_11ea_8337_54ee75266f30row0_col4 {\n",
       "            background-color:  #9dbdff;\n",
       "            color:  #000000;\n",
       "        }    #T_a758f3de_5a02_11ea_8337_54ee75266f30row0_col5 {\n",
       "            background-color:  #d1493f;\n",
       "            color:  #f1f1f1;\n",
       "        }    #T_a758f3de_5a02_11ea_8337_54ee75266f30row1_col0 {\n",
       "            background-color:  #f7b396;\n",
       "            color:  #000000;\n",
       "        }    #T_a758f3de_5a02_11ea_8337_54ee75266f30row1_col1 {\n",
       "            background-color:  #b40426;\n",
       "            color:  #f1f1f1;\n",
       "        }    #T_a758f3de_5a02_11ea_8337_54ee75266f30row1_col2 {\n",
       "            background-color:  #f6bea4;\n",
       "            color:  #000000;\n",
       "        }    #T_a758f3de_5a02_11ea_8337_54ee75266f30row1_col3 {\n",
       "            background-color:  #f6a586;\n",
       "            color:  #000000;\n",
       "        }    #T_a758f3de_5a02_11ea_8337_54ee75266f30row1_col4 {\n",
       "            background-color:  #96b7ff;\n",
       "            color:  #000000;\n",
       "        }    #T_a758f3de_5a02_11ea_8337_54ee75266f30row1_col5 {\n",
       "            background-color:  #c5d6f2;\n",
       "            color:  #000000;\n",
       "        }    #T_a758f3de_5a02_11ea_8337_54ee75266f30row2_col0 {\n",
       "            background-color:  #c53334;\n",
       "            color:  #f1f1f1;\n",
       "        }    #T_a758f3de_5a02_11ea_8337_54ee75266f30row2_col1 {\n",
       "            background-color:  #f7b89c;\n",
       "            color:  #000000;\n",
       "        }    #T_a758f3de_5a02_11ea_8337_54ee75266f30row2_col2 {\n",
       "            background-color:  #b40426;\n",
       "            color:  #f1f1f1;\n",
       "        }    #T_a758f3de_5a02_11ea_8337_54ee75266f30row2_col3 {\n",
       "            background-color:  #f7b89c;\n",
       "            color:  #000000;\n",
       "        }    #T_a758f3de_5a02_11ea_8337_54ee75266f30row2_col4 {\n",
       "            background-color:  #a3c2fe;\n",
       "            color:  #000000;\n",
       "        }    #T_a758f3de_5a02_11ea_8337_54ee75266f30row2_col5 {\n",
       "            background-color:  #e0654f;\n",
       "            color:  #000000;\n",
       "        }    #T_a758f3de_5a02_11ea_8337_54ee75266f30row3_col0 {\n",
       "            background-color:  #ecd3c5;\n",
       "            color:  #000000;\n",
       "        }    #T_a758f3de_5a02_11ea_8337_54ee75266f30row3_col1 {\n",
       "            background-color:  #f3c7b1;\n",
       "            color:  #000000;\n",
       "        }    #T_a758f3de_5a02_11ea_8337_54ee75266f30row3_col2 {\n",
       "            background-color:  #dfdbd9;\n",
       "            color:  #000000;\n",
       "        }    #T_a758f3de_5a02_11ea_8337_54ee75266f30row3_col3 {\n",
       "            background-color:  #b40426;\n",
       "            color:  #f1f1f1;\n",
       "        }    #T_a758f3de_5a02_11ea_8337_54ee75266f30row3_col4 {\n",
       "            background-color:  #3b4cc0;\n",
       "            color:  #f1f1f1;\n",
       "        }    #T_a758f3de_5a02_11ea_8337_54ee75266f30row3_col5 {\n",
       "            background-color:  #3b4cc0;\n",
       "            color:  #f1f1f1;\n",
       "        }    #T_a758f3de_5a02_11ea_8337_54ee75266f30row4_col0 {\n",
       "            background-color:  #3b4cc0;\n",
       "            color:  #f1f1f1;\n",
       "        }    #T_a758f3de_5a02_11ea_8337_54ee75266f30row4_col1 {\n",
       "            background-color:  #3b4cc0;\n",
       "            color:  #f1f1f1;\n",
       "        }    #T_a758f3de_5a02_11ea_8337_54ee75266f30row4_col2 {\n",
       "            background-color:  #3b4cc0;\n",
       "            color:  #f1f1f1;\n",
       "        }    #T_a758f3de_5a02_11ea_8337_54ee75266f30row4_col3 {\n",
       "            background-color:  #3b4cc0;\n",
       "            color:  #f1f1f1;\n",
       "        }    #T_a758f3de_5a02_11ea_8337_54ee75266f30row4_col4 {\n",
       "            background-color:  #b40426;\n",
       "            color:  #f1f1f1;\n",
       "        }    #T_a758f3de_5a02_11ea_8337_54ee75266f30row4_col5 {\n",
       "            background-color:  #3b4cc0;\n",
       "            color:  #f1f1f1;\n",
       "        }    #T_a758f3de_5a02_11ea_8337_54ee75266f30row5_col0 {\n",
       "            background-color:  #ca3b37;\n",
       "            color:  #f1f1f1;\n",
       "        }    #T_a758f3de_5a02_11ea_8337_54ee75266f30row5_col1 {\n",
       "            background-color:  #f0cdbb;\n",
       "            color:  #000000;\n",
       "        }    #T_a758f3de_5a02_11ea_8337_54ee75266f30row5_col2 {\n",
       "            background-color:  #d65244;\n",
       "            color:  #000000;\n",
       "        }    #T_a758f3de_5a02_11ea_8337_54ee75266f30row5_col3 {\n",
       "            background-color:  #d9dce1;\n",
       "            color:  #000000;\n",
       "        }    #T_a758f3de_5a02_11ea_8337_54ee75266f30row5_col4 {\n",
       "            background-color:  #d9dce1;\n",
       "            color:  #000000;\n",
       "        }    #T_a758f3de_5a02_11ea_8337_54ee75266f30row5_col5 {\n",
       "            background-color:  #b40426;\n",
       "            color:  #f1f1f1;\n",
       "        }</style><table id=\"T_a758f3de_5a02_11ea_8337_54ee75266f30\" ><thead>    <tr>        <th class=\"blank level0\" ></th>        <th class=\"col_heading level0 col0\" >points</th>        <th class=\"col_heading level0 col1\" >price</th>        <th class=\"col_heading level0 col2\" >point_rank</th>        <th class=\"col_heading level0 col3\" >reg1_pnt_mean</th>        <th class=\"col_heading level0 col4\" >reg1_pnt_rank</th>        <th class=\"col_heading level0 col5\" >pnt_2_reg1pnt_ratio</th>    </tr></thead><tbody>\n",
       "                <tr>\n",
       "                        <th id=\"T_a758f3de_5a02_11ea_8337_54ee75266f30level0_row0\" class=\"row_heading level0 row0\" >points</th>\n",
       "                        <td id=\"T_a758f3de_5a02_11ea_8337_54ee75266f30row0_col0\" class=\"data row0 col0\" >1</td>\n",
       "                        <td id=\"T_a758f3de_5a02_11ea_8337_54ee75266f30row0_col1\" class=\"data row0 col1\" >0.562636</td>\n",
       "                        <td id=\"T_a758f3de_5a02_11ea_8337_54ee75266f30row0_col2\" class=\"data row0 col2\" >0.934854</td>\n",
       "                        <td id=\"T_a758f3de_5a02_11ea_8337_54ee75266f30row0_col3\" class=\"data row0 col3\" >0.397934</td>\n",
       "                        <td id=\"T_a758f3de_5a02_11ea_8337_54ee75266f30row0_col4\" class=\"data row0 col4\" >-0.37936</td>\n",
       "                        <td id=\"T_a758f3de_5a02_11ea_8337_54ee75266f30row0_col5\" class=\"data row0 col5\" >0.917311</td>\n",
       "            </tr>\n",
       "            <tr>\n",
       "                        <th id=\"T_a758f3de_5a02_11ea_8337_54ee75266f30level0_row1\" class=\"row_heading level0 row1\" >price</th>\n",
       "                        <td id=\"T_a758f3de_5a02_11ea_8337_54ee75266f30row1_col0\" class=\"data row1 col0\" >0.562636</td>\n",
       "                        <td id=\"T_a758f3de_5a02_11ea_8337_54ee75266f30row1_col1\" class=\"data row1 col1\" >1</td>\n",
       "                        <td id=\"T_a758f3de_5a02_11ea_8337_54ee75266f30row1_col2\" class=\"data row1 col2\" >0.528014</td>\n",
       "                        <td id=\"T_a758f3de_5a02_11ea_8337_54ee75266f30row1_col3\" class=\"data row1 col3\" >0.453832</td>\n",
       "                        <td id=\"T_a758f3de_5a02_11ea_8337_54ee75266f30row1_col4\" class=\"data row1 col4\" >-0.418553</td>\n",
       "                        <td id=\"T_a758f3de_5a02_11ea_8337_54ee75266f30row1_col5\" class=\"data row1 col5\" >0.416665</td>\n",
       "            </tr>\n",
       "            <tr>\n",
       "                        <th id=\"T_a758f3de_5a02_11ea_8337_54ee75266f30level0_row2\" class=\"row_heading level0 row2\" >point_rank</th>\n",
       "                        <td id=\"T_a758f3de_5a02_11ea_8337_54ee75266f30row2_col0\" class=\"data row2 col0\" >0.934854</td>\n",
       "                        <td id=\"T_a758f3de_5a02_11ea_8337_54ee75266f30row2_col1\" class=\"data row2 col1\" >0.528014</td>\n",
       "                        <td id=\"T_a758f3de_5a02_11ea_8337_54ee75266f30row2_col2\" class=\"data row2 col2\" >1</td>\n",
       "                        <td id=\"T_a758f3de_5a02_11ea_8337_54ee75266f30row2_col3\" class=\"data row2 col3\" >0.346731</td>\n",
       "                        <td id=\"T_a758f3de_5a02_11ea_8337_54ee75266f30row2_col4\" class=\"data row2 col4\" >-0.336432</td>\n",
       "                        <td id=\"T_a758f3de_5a02_11ea_8337_54ee75266f30row2_col5\" class=\"data row2 col5\" >0.867048</td>\n",
       "            </tr>\n",
       "            <tr>\n",
       "                        <th id=\"T_a758f3de_5a02_11ea_8337_54ee75266f30level0_row3\" class=\"row_heading level0 row3\" >reg1_pnt_mean</th>\n",
       "                        <td id=\"T_a758f3de_5a02_11ea_8337_54ee75266f30row3_col0\" class=\"data row3 col0\" >0.397934</td>\n",
       "                        <td id=\"T_a758f3de_5a02_11ea_8337_54ee75266f30row3_col1\" class=\"data row3 col1\" >0.453832</td>\n",
       "                        <td id=\"T_a758f3de_5a02_11ea_8337_54ee75266f30row3_col2\" class=\"data row3 col2\" >0.346731</td>\n",
       "                        <td id=\"T_a758f3de_5a02_11ea_8337_54ee75266f30row3_col3\" class=\"data row3 col3\" >1</td>\n",
       "                        <td id=\"T_a758f3de_5a02_11ea_8337_54ee75266f30row3_col4\" class=\"data row3 col4\" >-0.953322</td>\n",
       "                        <td id=\"T_a758f3de_5a02_11ea_8337_54ee75266f30row3_col5\" class=\"data row3 col5\" >5.81024e-17</td>\n",
       "            </tr>\n",
       "            <tr>\n",
       "                        <th id=\"T_a758f3de_5a02_11ea_8337_54ee75266f30level0_row4\" class=\"row_heading level0 row4\" >reg1_pnt_rank</th>\n",
       "                        <td id=\"T_a758f3de_5a02_11ea_8337_54ee75266f30row4_col0\" class=\"data row4 col0\" >-0.37936</td>\n",
       "                        <td id=\"T_a758f3de_5a02_11ea_8337_54ee75266f30row4_col1\" class=\"data row4 col1\" >-0.418553</td>\n",
       "                        <td id=\"T_a758f3de_5a02_11ea_8337_54ee75266f30row4_col2\" class=\"data row4 col2\" >-0.336432</td>\n",
       "                        <td id=\"T_a758f3de_5a02_11ea_8337_54ee75266f30row4_col3\" class=\"data row4 col3\" >-0.953322</td>\n",
       "                        <td id=\"T_a758f3de_5a02_11ea_8337_54ee75266f30row4_col4\" class=\"data row4 col4\" >1</td>\n",
       "                        <td id=\"T_a758f3de_5a02_11ea_8337_54ee75266f30row4_col5\" class=\"data row4 col5\" >-2.63915e-16</td>\n",
       "            </tr>\n",
       "            <tr>\n",
       "                        <th id=\"T_a758f3de_5a02_11ea_8337_54ee75266f30level0_row5\" class=\"row_heading level0 row5\" >pnt_2_reg1pnt_ratio</th>\n",
       "                        <td id=\"T_a758f3de_5a02_11ea_8337_54ee75266f30row5_col0\" class=\"data row5 col0\" >0.917311</td>\n",
       "                        <td id=\"T_a758f3de_5a02_11ea_8337_54ee75266f30row5_col1\" class=\"data row5 col1\" >0.416665</td>\n",
       "                        <td id=\"T_a758f3de_5a02_11ea_8337_54ee75266f30row5_col2\" class=\"data row5 col2\" >0.867048</td>\n",
       "                        <td id=\"T_a758f3de_5a02_11ea_8337_54ee75266f30row5_col3\" class=\"data row5 col3\" >5.81024e-17</td>\n",
       "                        <td id=\"T_a758f3de_5a02_11ea_8337_54ee75266f30row5_col4\" class=\"data row5 col4\" >-2.63915e-16</td>\n",
       "                        <td id=\"T_a758f3de_5a02_11ea_8337_54ee75266f30row5_col5\" class=\"data row5 col5\" >1</td>\n",
       "            </tr>\n",
       "    </tbody></table>"
      ],
      "text/plain": [
       "<pandas.io.formats.style.Styler at 0x2331db03908>"
      ]
     },
     "execution_count": 41,
     "metadata": {},
     "output_type": "execute_result"
    }
   ],
   "source": [
    "corr=df_pn20_pnt.corr()\n",
    "corr.style.background_gradient(cmap = 'coolwarm')"
   ]
  },
  {
   "cell_type": "code",
   "execution_count": 42,
   "metadata": {},
   "outputs": [],
   "source": [
    "# SIMPLE FILTERING MODELS\n",
    "# TAKE REGION POINT / PRICE MAKE A RATIO, \n",
    "# ACTUAL POINT / REGION MEAN POINT \n",
    "# ACTUAL PRICE / REGION MEAN PRICE\n",
    "# SIMPLE MODEL COULD BE  IF POINT RATIO > 1 AND PRICE RATIO < 1, THEN VALUE FOR REGION\n",
    "# ANOTHER SIMPLE MODEL WOULD BE IF POINT_RANK IS > REGION POINT RANK AND PRICE RANK IS <= REGION PRICE RANK"
   ]
  },
  {
   "cell_type": "code",
   "execution_count": 43,
   "metadata": {},
   "outputs": [
    {
     "data": {
      "text/plain": [
       "Text(0.5, 1.0, 'Icon')"
      ]
     },
     "execution_count": 43,
     "metadata": {},
     "output_type": "execute_result"
    },
    {
     "data": {
      "image/png": "[encoded data removed]",
      "text/plain": [
       "<Figure size 1080x288 with 4 Axes>"
      ]
     },
     "metadata": {
      "needs_background": "light"
     },
     "output_type": "display_data"
    }
   ],
   "source": [
    "plt.figure(figsize=(15,4))\n",
    "df_pn20_prc[df_pn20_prc['price_rank']==1]\n",
    "# BAR PLOT\n",
    "plt.subplot(1, 4, 1)\n",
    "plt.hist(df_pn20_prc[df_pn20_prc['price_rank']==0]['points'])\n",
    "plt.title(\"{}\".format('Everyday')) \n",
    "\n",
    "# DENSITY PLOT - HISTOGRAM\n",
    "plt.subplot(1, 4, 2)\n",
    "plt.hist(df_pn20_prc[df_pn20_prc['price_rank']==1]['points'])\n",
    "plt.title(\"{}\".format('Premium'))   \n",
    "    \n",
    "# TUKEY: DETECT OUTLIERS IN VARIABLES USING BOX PLOTS\n",
    "plt.subplot(1, 4, 3)\n",
    "plt.hist(df_pn20_prc[df_pn20_prc['price_rank']==2]['points'] )\n",
    "plt.title(\"{}\".format('Luxury')) \n",
    "\n",
    "# TUKEY: DETECT OUTLIERS IN VARIABLES USING BOX PLOTS\n",
    "plt.subplot(1, 4, 4)\n",
    "plt.hist(df_pn20_prc[df_pn20_prc['price_rank']==3]['points'] )\n",
    "plt.title(\"{}\".format('Icon')) "
   ]
  },
  {
   "cell_type": "code",
   "execution_count": 44,
   "metadata": {},
   "outputs": [
    {
     "data": {
      "image/png": "[encoded data removed]",
      "text/plain": [
       "<Figure size 1080x288 with 4 Axes>"
      ]
     },
     "metadata": {
      "needs_background": "light"
     },
     "output_type": "display_data"
    }
   ],
   "source": [
    "plt.figure(figsize=(15,4))\n",
    "\n",
    "plt.subplot(1, 4, 1)\n",
    "df_scatter = df_pn20_prc[df_pn20_prc['price_rank']==0]\n",
    "g = sns.regplot(x='points', y='price_log', data=df_scatter, line_kws={'color':'red'}, \n",
    "                x_jitter=True, fit_reg=True, color='darkgreen')\n",
    "#g.set_title(\"Points x Price Distribuition\", fontsize=15)\n",
    "#g.set_xlabel(\"Points\", fontsize= 15)\n",
    "#g.set_ylabel(\"Price\", fontsize= 15)\n",
    "#plt.show()\n",
    "\n",
    "plt.subplot(1, 4, 2)\n",
    "df_scatter = df_pn20_prc[df_pn20_prc['price_rank']==1]\n",
    "g = sns.regplot(x='points', y='price_log', data=df_scatter, line_kws={'color':'red'}, \n",
    "                x_jitter=True, fit_reg=True, color='darkgreen')\n",
    "#g.set_title(\"Points x Price Distribuition\", fontsize=15)\n",
    "#g.set_xlabel(\"Points\", fontsize= 15)\n",
    "#g.set_ylabel(\"Price\", fontsize= 15)\n",
    "#plt.show()\n",
    "\n",
    "plt.subplot(1, 4, 3)\n",
    "df_scatter = df_pn20_prc[df_pn20_prc['price_rank']==2]\n",
    "g = sns.regplot(x='points', y='price_log', data=df_scatter, line_kws={'color':'red'}, \n",
    "                x_jitter=True, fit_reg=True, color='darkgreen')\n",
    "#g.set_title(\"Points x Price Distribuition\", fontsize=15)\n",
    "#g.set_xlabel(\"Points\", fontsize= 15)\n",
    "#g.set_ylabel(\"Price\", fontsize= 15)\n",
    "\n",
    "plt.subplot(1, 4, 4)\n",
    "df_scatter = df_pn20_prc[df_pn20_prc['price_rank']==3]\n",
    "g = sns.regplot(x='points', y='price_log', data=df_scatter, line_kws={'color':'red'}, \n",
    "                x_jitter=True, fit_reg=True, color='darkgreen')\n",
    "\n",
    "plt.show()"
   ]
  },
  {
   "cell_type": "markdown",
   "metadata": {},
   "source": [
    "#### Point Rank"
   ]
  },
  {
   "cell_type": "code",
   "execution_count": 45,
   "metadata": {},
   "outputs": [
    {
     "data": {
      "text/html": [
       "<div>\n",
       "<style scoped>\n",
       "    .dataframe tbody tr th:only-of-type {\n",
       "        vertical-align: middle;\n",
       "    }\n",
       "\n",
       "    .dataframe tbody tr th {\n",
       "        vertical-align: top;\n",
       "    }\n",
       "\n",
       "    .dataframe thead th {\n",
       "        text-align: right;\n",
       "    }\n",
       "</style>\n",
       "<table border=\"1\" class=\"dataframe\">\n",
       "  <thead>\n",
       "    <tr style=\"text-align: right;\">\n",
       "      <th></th>\n",
       "      <th>points</th>\n",
       "      <th>price</th>\n",
       "      <th>point_rank</th>\n",
       "      <th>reg1_pnt_mean</th>\n",
       "      <th>reg1_pnt_rank</th>\n",
       "      <th>pnt_2_reg1pnt_ratio</th>\n",
       "    </tr>\n",
       "  </thead>\n",
       "  <tbody>\n",
       "    <tr>\n",
       "      <th>count</th>\n",
       "      <td>1683.000000</td>\n",
       "      <td>1683.000000</td>\n",
       "      <td>1683.0</td>\n",
       "      <td>1683.000000</td>\n",
       "      <td>1683.000000</td>\n",
       "      <td>1683.000000</td>\n",
       "    </tr>\n",
       "    <tr>\n",
       "      <th>mean</th>\n",
       "      <td>93.797386</td>\n",
       "      <td>57.395128</td>\n",
       "      <td>3.0</td>\n",
       "      <td>90.000378</td>\n",
       "      <td>6.485443</td>\n",
       "      <td>1.042268</td>\n",
       "    </tr>\n",
       "    <tr>\n",
       "      <th>std</th>\n",
       "      <td>1.035605</td>\n",
       "      <td>15.939172</td>\n",
       "      <td>0.0</td>\n",
       "      <td>0.787589</td>\n",
       "      <td>3.446930</td>\n",
       "      <td>0.014639</td>\n",
       "    </tr>\n",
       "    <tr>\n",
       "      <th>min</th>\n",
       "      <td>93.000000</td>\n",
       "      <td>18.000000</td>\n",
       "      <td>3.0</td>\n",
       "      <td>85.565371</td>\n",
       "      <td>1.000000</td>\n",
       "      <td>1.023290</td>\n",
       "    </tr>\n",
       "    <tr>\n",
       "      <th>25%</th>\n",
       "      <td>93.000000</td>\n",
       "      <td>46.000000</td>\n",
       "      <td>3.0</td>\n",
       "      <td>89.892544</td>\n",
       "      <td>3.000000</td>\n",
       "      <td>1.032222</td>\n",
       "    </tr>\n",
       "    <tr>\n",
       "      <th>50%</th>\n",
       "      <td>93.000000</td>\n",
       "      <td>55.000000</td>\n",
       "      <td>3.0</td>\n",
       "      <td>90.096883</td>\n",
       "      <td>6.000000</td>\n",
       "      <td>1.037411</td>\n",
       "    </tr>\n",
       "    <tr>\n",
       "      <th>75%</th>\n",
       "      <td>94.000000</td>\n",
       "      <td>65.000000</td>\n",
       "      <td>3.0</td>\n",
       "      <td>90.610149</td>\n",
       "      <td>9.000000</td>\n",
       "      <td>1.048376</td>\n",
       "    </tr>\n",
       "    <tr>\n",
       "      <th>max</th>\n",
       "      <td>100.000000</td>\n",
       "      <td>150.000000</td>\n",
       "      <td>3.0</td>\n",
       "      <td>90.883333</td>\n",
       "      <td>20.000000</td>\n",
       "      <td>1.121949</td>\n",
       "    </tr>\n",
       "  </tbody>\n",
       "</table>\n",
       "</div>"
      ],
      "text/plain": [
       "            points        price  point_rank  reg1_pnt_mean  reg1_pnt_rank  \\\n",
       "count  1683.000000  1683.000000      1683.0    1683.000000    1683.000000   \n",
       "mean     93.797386    57.395128         3.0      90.000378       6.485443   \n",
       "std       1.035605    15.939172         0.0       0.787589       3.446930   \n",
       "min      93.000000    18.000000         3.0      85.565371       1.000000   \n",
       "25%      93.000000    46.000000         3.0      89.892544       3.000000   \n",
       "50%      93.000000    55.000000         3.0      90.096883       6.000000   \n",
       "75%      94.000000    65.000000         3.0      90.610149       9.000000   \n",
       "max     100.000000   150.000000         3.0      90.883333      20.000000   \n",
       "\n",
       "       pnt_2_reg1pnt_ratio  \n",
       "count          1683.000000  \n",
       "mean              1.042268  \n",
       "std               0.014639  \n",
       "min               1.023290  \n",
       "25%               1.032222  \n",
       "50%               1.037411  \n",
       "75%               1.048376  \n",
       "max               1.121949  "
      ]
     },
     "execution_count": 45,
     "metadata": {},
     "output_type": "execute_result"
    }
   ],
   "source": [
    "df_pn20_pnt[df_pn20_pnt['point_rank']==3].describe()"
   ]
  },
  {
   "cell_type": "markdown",
   "metadata": {},
   "source": [
    "#### Analysis: When looking at the point range, there appears to be a wide price range for all categories.  \n",
    ">0: points 80 -> 87, price 6 -> 125  \n",
    "1: points 88 -> 90, price 8 -> 125  \n",
    "2: points 91 -> 92, price 14 -> 125  \n",
    "2: points 93 -> 100, price 18 -> 150 \n",
    "\n",
    ">0: price 6 -> 32,  points 80 -> 95   \n",
    "1: price 33 -> 44,  points 80 -> 96   \n",
    "2: price 45 -> 55,  points 80 -> 98   \n",
    "3: price 56 -> 150, points 81 -> 100 "
   ]
  },
  {
   "cell_type": "code",
   "execution_count": 46,
   "metadata": {},
   "outputs": [
    {
     "data": {
      "text/plain": [
       "Text(0.5, 1.0, 'Icon')"
      ]
     },
     "execution_count": 46,
     "metadata": {},
     "output_type": "execute_result"
    },
    {
     "data": {
      "image/png": "[encoded data removed]",
      "text/plain": [
       "<Figure size 1080x288 with 4 Axes>"
      ]
     },
     "metadata": {
      "needs_background": "light"
     },
     "output_type": "display_data"
    }
   ],
   "source": [
    "plt.figure(figsize=(15,4))\n",
    "\n",
    "# BAR PLOT\n",
    "plt.subplot(1, 4, 1)\n",
    "plt.hist(df_pn20_pnt[df_pn20_pnt['point_rank']==0]['price'])\n",
    "plt.title(\"{}\".format('Everyday')) \n",
    "\n",
    "# DENSITY PLOT - HISTOGRAM\n",
    "plt.subplot(1, 4, 2)\n",
    "plt.hist(df_pn20_pnt[df_pn20_pnt['point_rank']==1]['price'])\n",
    "plt.title(\"{}\".format('Premium'))   \n",
    "    \n",
    "# TUKEY: DETECT OUTLIERS IN VARIABLES USING BOX PLOTS\n",
    "plt.subplot(1, 4, 3)\n",
    "plt.hist(df_pn20_pnt[df_pn20_pnt['point_rank']==2]['price'] )\n",
    "plt.title(\"{}\".format('Luxury')) \n",
    "\n",
    "# TUKEY: DETECT OUTLIERS IN VARIABLES USING BOX PLOTS\n",
    "plt.subplot(1, 4, 4)\n",
    "plt.hist(df_pn20_pnt[df_pn20_pnt['point_rank']==3]['price'] )\n",
    "plt.title(\"{}\".format('Icon'))"
   ]
  },
  {
   "cell_type": "markdown",
   "metadata": {},
   "source": [
    "#### Bivariate: Description Length WRT Points and Ratings"
   ]
  },
  {
   "cell_type": "code",
   "execution_count": 47,
   "metadata": {},
   "outputs": [
    {
     "data": {
      "image/png": "[encoded data removed]",
      "text/plain": [
       "<Figure size 1008x432 with 1 Axes>"
      ]
     },
     "metadata": {
      "needs_background": "light"
     },
     "output_type": "display_data"
    }
   ],
   "source": [
    "df_pn20_prc = df_pn20_prc.assign(desc_length = df_pn20_prc['description'].apply(len))\n",
    "df_pn20_pnt = df_pn20_pnt.assign(desc_length = df_pn20_pnt['description'].apply(len))\n",
    "\n",
    "plt.figure(figsize=(14,6))\n",
    "g = sns.boxplot(x='points', y='desc_length', data=df_pn20_prc,\n",
    "                color='darkgreen')\n",
    "g.set_title('Description Length by Points', fontsize=20)\n",
    "g.set_ylabel('Description Length', fontsize = 16) # Y label\n",
    "g.set_xlabel('Points', fontsize = 16) # X label\n",
    "plt.show()"
   ]
  },
  {
   "cell_type": "code",
   "execution_count": 48,
   "metadata": {},
   "outputs": [
    {
     "data": {
      "image/png": "[encoded data removed]",
      "text/plain": [
       "<Figure size 432x432 with 3 Axes>"
      ]
     },
     "metadata": {
      "needs_background": "light"
     },
     "output_type": "display_data"
    }
   ],
   "source": [
    "sns.jointplot(x=df_pn20_pnt['points'], y=df_pn20_prc['price'], color='g');"
   ]
  },
  {
   "cell_type": "code",
   "execution_count": 49,
   "metadata": {},
   "outputs": [
    {
     "data": {
      "image/png": "[encoded data removed]",
      "text/plain": [
       "<Figure size 1152x360 with 2 Axes>"
      ]
     },
     "metadata": {
      "needs_background": "light"
     },
     "output_type": "display_data"
    }
   ],
   "source": [
    "# define the size of figures that I will build\n",
    "plt.figure(figsize=(16,5))\n",
    "\n",
    "plt.subplot(1,2,1) # this will create a grid of 1 row and 2 columns; this is the first graphic\n",
    "g = sns.countplot(x='points', data=df_pn20_pnt, color='forestgreen') # seting the seaborn countplot to known the points distribuition\n",
    "g.set_title(\"Points Count distribuition \", fontsize=20) # seting title and size of font\n",
    "g.set_xlabel(\"Points\", fontsize=15) # seting xlabel and size of font\n",
    "g.set_ylabel(\"Count\", fontsize=15) # seting ylabel and size of font\n",
    "\n",
    "plt.subplot(1,2,2)  # this will set the second graphic of our grid\n",
    "plt.scatter(range(df_pn20_pnt.shape[0]), np.sort(df_pn20_pnt.points.values), color='forestgreen') # creating a cumulative distribution\n",
    "plt.xlabel('Index', fontsize=15)  # seting xlabel and size of font\n",
    "plt.ylabel('Points Dist(US)', fontsize=15)  # seting ylabel and size of font\n",
    "plt.title(\"Points Distribuition\", fontsize=20) # seting title and size of font\n",
    "\n",
    "plt.show() #rendering the graphs"
   ]
  },
  {
   "cell_type": "code",
   "execution_count": 50,
   "metadata": {},
   "outputs": [
    {
     "data": {
      "image/png": "[encoded data removed]",
      "text/plain": [
       "<Figure size 1152x360 with 2 Axes>"
      ]
     },
     "metadata": {
      "needs_background": "light"
     },
     "output_type": "display_data"
    }
   ],
   "source": [
    "# define the size of figures that I will build\n",
    "plt.figure(figsize=(16,5))\n",
    "\n",
    "plt.subplot(1,2,1) # this will create a grid of 1 row and 2 columns; this is the first graphic\n",
    "g = sns.countplot(x='price', data=df_pn20_prc, color='forestgreen') # seting the seaborn countplot to known the points distribuition\n",
    "g.set_title(\"Points Count distribuition \", fontsize=20) # seting title and size of font\n",
    "g.set_xlabel(\"Price\", fontsize=15) # seting xlabel and size of font\n",
    "g.set_ylabel(\"Count\", fontsize=15) # seting ylabel and size of font\n",
    "#plt.xticks(rotation=90);\n",
    "\n",
    "plt.subplot(1,2,2)  # this will set the second graphic of our grid\n",
    "plt.scatter(range(df_pn20_prc.shape[0]), np.sort(df_pn20_prc.price.values), color='forestgreen') # creating a cumulative distribution\n",
    "plt.xlabel('Index', fontsize=15)  # seting xlabel and size of font\n",
    "plt.ylabel('Price Dist(US)', fontsize=15)  # seting ylabel and size of font\n",
    "plt.title(\"Price Distribuition\", fontsize=20) # seting title and size of font\n",
    "plt.show() #rendering the graphs"
   ]
  },
  {
   "cell_type": "code",
   "execution_count": 51,
   "metadata": {},
   "outputs": [
    {
     "data": {
      "image/png": "[encoded data removed]",
      "text/plain": [
       "<Figure size 1008x432 with 1 Axes>"
      ]
     },
     "metadata": {
      "needs_background": "light"
     },
     "output_type": "display_data"
    }
   ],
   "source": [
    "plt.figure(figsize=(14,6))\n",
    "\n",
    "g = sns.regplot(x='desc_length', y='price_log', line_kws={'color':'red'},\n",
    "                data=df_pn20_prc, fit_reg=True, color='darkgreen', )\n",
    "g.set_title('Price by Description Length', fontsize=20)\n",
    "g.set_ylabel('Price(USD) log' , fontsize = 16) \n",
    "g.set_xlabel('Description Length', fontsize = 16)\n",
    "g.set_xticklabels(g.get_xticklabels(),rotation=45)\n",
    "\n",
    "plt.show()"
   ]
  },
  {
   "cell_type": "code",
   "execution_count": 52,
   "metadata": {},
   "outputs": [
    {
     "data": {
      "text/plain": [
       "[Text(0.5, 0, 'points')]"
      ]
     },
     "execution_count": 52,
     "metadata": {},
     "output_type": "execute_result"
    },
    {
     "data": {
      "image/png": "[encoded data removed]",
      "text/plain": [
       "<Figure size 432x288 with 1 Axes>"
      ]
     },
     "metadata": {
      "needs_background": "light"
     },
     "output_type": "display_data"
    }
   ],
   "source": [
    "pnt_prc = sns.stripplot(x='points', y='price_log', data=df_pn20_prc, jitter=True)  \n",
    "pnt_prc.set(xlabel='points')  "
   ]
  },
  {
   "cell_type": "code",
   "execution_count": 53,
   "metadata": {},
   "outputs": [
    {
     "name": "stdout",
     "output_type": "stream",
     "text": [
      "Index(['description', 'designation', 'points', 'price', 'province', 'region_1',\n",
      "       'winery', 'title', 'price_log', 'price_rank', 'reg1_prc_mean',\n",
      "       'reg1_prc_rank', 'prc_2_reg1prc_ratio', 'desc_length'],\n",
      "      dtype='object')\n"
     ]
    }
   ],
   "source": [
    "print(df_pn20_prc.columns)"
   ]
  },
  {
   "cell_type": "markdown",
   "metadata": {},
   "source": [
    "#### STANDARDIZE PRICE DATA \n",
    "\n",
    "#### !!! ZACK NOTES REVIEW, PRICE_RANK (0-3), DESCRIPTION RANK(COULD BE 100s) STANDARDIZE THESE AS WELL"
   ]
  },
  {
   "cell_type": "code",
   "execution_count": 54,
   "metadata": {},
   "outputs": [],
   "source": [
    "from sklearn.preprocessing import StandardScaler, PowerTransformer # Yeo-Johnson or Boxcox\n",
    "\n",
    "# TRANSFORMATION: Yeo-Johnson DUE TO NEGATIVE AND ZERO NUMERIC VALUES IN CONTINUOUS VARIABLES\n",
    "pt = PowerTransformer(standardize=True, copy=False) # Yeo-Johnson is default\n",
    "df_trans = pt.fit_transform(df_pn20_prc[['price', 'price_rank', 'reg1_prc_mean','reg1_prc_rank', \n",
    "                                         'prc_2_reg1prc_ratio', 'desc_length']])"
   ]
  },
  {
   "cell_type": "code",
   "execution_count": 55,
   "metadata": {},
   "outputs": [],
   "source": [
    "df_trans = pd.DataFrame(df_trans, columns=['price_yj', 'price_rank_yj', 'reg1_prc_mean_yj',\n",
    "                                           'reg1_prc_rank_yj', 'prc_2_reg1prc_ratio_yj', \n",
    "                                           'desc_length_yj'])"
   ]
  },
  {
   "cell_type": "code",
   "execution_count": 56,
   "metadata": {},
   "outputs": [
    {
     "data": {
      "text/plain": [
       "(8013, 6)"
      ]
     },
     "execution_count": 56,
     "metadata": {},
     "output_type": "execute_result"
    }
   ],
   "source": [
    "df_trans.shape"
   ]
  },
  {
   "cell_type": "code",
   "execution_count": 57,
   "metadata": {},
   "outputs": [
    {
     "data": {
      "text/plain": [
       "Index(['price_yj', 'price_rank_yj', 'reg1_prc_mean_yj', 'reg1_prc_rank_yj',\n",
       "       'prc_2_reg1prc_ratio_yj', 'desc_length_yj'],\n",
       "      dtype='object')"
      ]
     },
     "execution_count": 57,
     "metadata": {},
     "output_type": "execute_result"
    }
   ],
   "source": [
    "df_trans.columns"
   ]
  },
  {
   "cell_type": "code",
   "execution_count": 58,
   "metadata": {},
   "outputs": [
    {
     "data": {
      "text/plain": [
       "(8013, 14)"
      ]
     },
     "execution_count": 58,
     "metadata": {},
     "output_type": "execute_result"
    }
   ],
   "source": [
    "df_pn20_prc.shape"
   ]
  },
  {
   "cell_type": "code",
   "execution_count": 59,
   "metadata": {},
   "outputs": [
    {
     "ename": "NameError",
     "evalue": "name 'break_so_can_look_at' is not defined",
     "output_type": "error",
     "traceback": [
      "\u001b[1;31m---------------------------------------------------------------------------\u001b[0m",
      "\u001b[1;31mNameError\u001b[0m                                 Traceback (most recent call last)",
      "\u001b[1;32m<ipython-input-59-388e29b3cdfb>\u001b[0m in \u001b[0;36m<module>\u001b[1;34m\u001b[0m\n\u001b[1;32m----> 1\u001b[1;33m \u001b[0mprint\u001b[0m\u001b[1;33m(\u001b[0m\u001b[0mbreak_so_can_look_at\u001b[0m\u001b[1;33m)\u001b[0m\u001b[1;33m\u001b[0m\u001b[1;33m\u001b[0m\u001b[0m\n\u001b[0m",
      "\u001b[1;31mNameError\u001b[0m: name 'break_so_can_look_at' is not defined"
     ]
    }
   ],
   "source": [
    "print(break_so_can_look_at)"
   ]
  },
  {
   "cell_type": "markdown",
   "metadata": {},
   "source": [
    "#### !!! WHY NOT MERGING? CONCATENATE FAILS"
   ]
  },
  {
   "cell_type": "code",
   "execution_count": 67,
   "metadata": {},
   "outputs": [
    {
     "data": {
      "text/html": [
       "<div>\n",
       "<style scoped>\n",
       "    .dataframe tbody tr th:only-of-type {\n",
       "        vertical-align: middle;\n",
       "    }\n",
       "\n",
       "    .dataframe tbody tr th {\n",
       "        vertical-align: top;\n",
       "    }\n",
       "\n",
       "    .dataframe thead th {\n",
       "        text-align: right;\n",
       "    }\n",
       "</style>\n",
       "<table border=\"1\" class=\"dataframe\">\n",
       "  <thead>\n",
       "    <tr style=\"text-align: right;\">\n",
       "      <th></th>\n",
       "      <th>description</th>\n",
       "      <th>designation</th>\n",
       "      <th>points</th>\n",
       "      <th>price</th>\n",
       "      <th>province</th>\n",
       "      <th>region_1</th>\n",
       "      <th>winery</th>\n",
       "      <th>title</th>\n",
       "      <th>price_log</th>\n",
       "      <th>price_rank</th>\n",
       "      <th>reg1_prc_mean</th>\n",
       "      <th>reg1_prc_rank</th>\n",
       "      <th>prc_2_reg1prc_ratio</th>\n",
       "      <th>desc_length</th>\n",
       "    </tr>\n",
       "  </thead>\n",
       "  <tbody>\n",
       "    <tr>\n",
       "      <th>9</th>\n",
       "      <td>The producer sources from two blocks of the vi...</td>\n",
       "      <td>Gap's Crown Vineyard</td>\n",
       "      <td>95</td>\n",
       "      <td>60.0</td>\n",
       "      <td>California</td>\n",
       "      <td>Sonoma Coast</td>\n",
       "      <td>Blue Farm</td>\n",
       "      <td>NaN</td>\n",
       "      <td>4.094345</td>\n",
       "      <td>3</td>\n",
       "      <td>50.219882</td>\n",
       "      <td>2.0</td>\n",
       "      <td>1.194746</td>\n",
       "      <td>307</td>\n",
       "    </tr>\n",
       "    <tr>\n",
       "      <th>19</th>\n",
       "      <td>This fresh and lively medium-bodied wine is be...</td>\n",
       "      <td>Gap's Crown Vineyard</td>\n",
       "      <td>95</td>\n",
       "      <td>75.0</td>\n",
       "      <td>California</td>\n",
       "      <td>Sonoma Coast</td>\n",
       "      <td>Gary Farrell</td>\n",
       "      <td>NaN</td>\n",
       "      <td>4.317488</td>\n",
       "      <td>3</td>\n",
       "      <td>50.219882</td>\n",
       "      <td>2.0</td>\n",
       "      <td>1.493432</td>\n",
       "      <td>260</td>\n",
       "    </tr>\n",
       "    <tr>\n",
       "      <th>24</th>\n",
       "      <td>San Jose-based producer Adam Comartin heads 1,...</td>\n",
       "      <td>R-Bar-R Ranch</td>\n",
       "      <td>95</td>\n",
       "      <td>45.0</td>\n",
       "      <td>California</td>\n",
       "      <td>Santa Cruz Mountains</td>\n",
       "      <td>Comartin</td>\n",
       "      <td>NaN</td>\n",
       "      <td>3.806662</td>\n",
       "      <td>2</td>\n",
       "      <td>45.466926</td>\n",
       "      <td>8.0</td>\n",
       "      <td>0.989730</td>\n",
       "      <td>341</td>\n",
       "    </tr>\n",
       "    <tr>\n",
       "      <th>28</th>\n",
       "      <td>Cranberry, baked rhubarb, anise and crushed sl...</td>\n",
       "      <td>Garys' Vineyard</td>\n",
       "      <td>94</td>\n",
       "      <td>60.0</td>\n",
       "      <td>California</td>\n",
       "      <td>Santa Lucia Highlands</td>\n",
       "      <td>Roar</td>\n",
       "      <td>NaN</td>\n",
       "      <td>4.094345</td>\n",
       "      <td>3</td>\n",
       "      <td>47.203498</td>\n",
       "      <td>7.0</td>\n",
       "      <td>1.271092</td>\n",
       "      <td>292</td>\n",
       "    </tr>\n",
       "    <tr>\n",
       "      <th>71</th>\n",
       "      <td>This wine draws from a handful of tremendous v...</td>\n",
       "      <td>NaN</td>\n",
       "      <td>91</td>\n",
       "      <td>45.0</td>\n",
       "      <td>California</td>\n",
       "      <td>Sonoma Coast</td>\n",
       "      <td>Red Car</td>\n",
       "      <td>NaN</td>\n",
       "      <td>3.806662</td>\n",
       "      <td>2</td>\n",
       "      <td>50.219882</td>\n",
       "      <td>2.0</td>\n",
       "      <td>0.896059</td>\n",
       "      <td>240</td>\n",
       "    </tr>\n",
       "  </tbody>\n",
       "</table>\n",
       "</div>"
      ],
      "text/plain": [
       "                                          description           designation  \\\n",
       "9   The producer sources from two blocks of the vi...  Gap's Crown Vineyard   \n",
       "19  This fresh and lively medium-bodied wine is be...  Gap's Crown Vineyard   \n",
       "24  San Jose-based producer Adam Comartin heads 1,...         R-Bar-R Ranch   \n",
       "28  Cranberry, baked rhubarb, anise and crushed sl...       Garys' Vineyard   \n",
       "71  This wine draws from a handful of tremendous v...                   NaN   \n",
       "\n",
       "    points  price    province               region_1        winery title  \\\n",
       "9       95   60.0  California           Sonoma Coast     Blue Farm   NaN   \n",
       "19      95   75.0  California           Sonoma Coast  Gary Farrell   NaN   \n",
       "24      95   45.0  California   Santa Cruz Mountains      Comartin   NaN   \n",
       "28      94   60.0  California  Santa Lucia Highlands          Roar   NaN   \n",
       "71      91   45.0  California           Sonoma Coast       Red Car   NaN   \n",
       "\n",
       "    price_log  price_rank  reg1_prc_mean  reg1_prc_rank  prc_2_reg1prc_ratio  \\\n",
       "9    4.094345           3      50.219882            2.0             1.194746   \n",
       "19   4.317488           3      50.219882            2.0             1.493432   \n",
       "24   3.806662           2      45.466926            8.0             0.989730   \n",
       "28   4.094345           3      47.203498            7.0             1.271092   \n",
       "71   3.806662           2      50.219882            2.0             0.896059   \n",
       "\n",
       "    desc_length  \n",
       "9           307  \n",
       "19          260  \n",
       "24          341  \n",
       "28          292  \n",
       "71          240  "
      ]
     },
     "execution_count": 67,
     "metadata": {},
     "output_type": "execute_result"
    }
   ],
   "source": [
    "#df_pn20_prc = pd.concat([df_pn20_prc, df_trans], axis=1)\n",
    "pd.merge(df_pn20_prc, df_trans, left_index=True, right_index=True);\n",
    "#df_pn20_prc.join(df_trans);\n",
    "df_pn20_prc.head()"
   ]
  },
  {
   "cell_type": "code",
   "execution_count": 61,
   "metadata": {},
   "outputs": [
    {
     "data": {
      "text/plain": [
       "(8013, 14)"
      ]
     },
     "execution_count": 61,
     "metadata": {},
     "output_type": "execute_result"
    }
   ],
   "source": [
    "df_pn20_prc.shape"
   ]
  },
  {
   "cell_type": "code",
   "execution_count": null,
   "metadata": {},
   "outputs": [],
   "source": [
    "df_pn20_prc.head()"
   ]
  },
  {
   "cell_type": "code",
   "execution_count": null,
   "metadata": {},
   "outputs": [],
   "source": [
    "print(break_so_can_look_at)"
   ]
  },
  {
   "cell_type": "code",
   "execution_count": 62,
   "metadata": {},
   "outputs": [
    {
     "data": {
      "text/plain": [
       "'\\n# DROPPING ORIGINAL PRE-TRANSFORMATION VARIABLES\\ndf_pn20_prc.drop(\"price\", axis=1, inplace=True) \\ndf_pn20_prc.drop(\"price_rank\", axis=1, inplace=True) \\ndf_pn20_prc.drop(\"reg1_prc_mean\", axis=1, inplace=True)\\ndf_pn20_prc.drop(\"reg1_prc_rank\", axis=1, inplace=True)\\ndf_pn20_prc.drop(\"prc_2_reg1prc_ratio\", axis=1, inplace=True)\\ndf_pn20_prc.drop(\"desc_length\", axis=1, inplace=True)\\ndf_pn20_prc.drop(\"points\", axis=1, inplace=True)\\n'"
      ]
     },
     "execution_count": 62,
     "metadata": {},
     "output_type": "execute_result"
    }
   ],
   "source": [
    "'''\n",
    "# DROPPING ORIGINAL PRE-TRANSFORMATION VARIABLES\n",
    "df_pn20_prc.drop(\"price\", axis=1, inplace=True)  \n",
    "df_pn20_prc.drop(\"price_rank\", axis=1, inplace=True) \n",
    "df_pn20_prc.drop(\"reg1_prc_mean\", axis=1, inplace=True)\n",
    "df_pn20_prc.drop(\"reg1_prc_rank\", axis=1, inplace=True)\n",
    "df_pn20_prc.drop(\"prc_2_reg1prc_ratio\", axis=1, inplace=True)\n",
    "df_pn20_prc.drop(\"desc_length\", axis=1, inplace=True)\n",
    "df_pn20_prc.drop(\"points\", axis=1, inplace=True)\n",
    "'''"
   ]
  },
  {
   "cell_type": "markdown",
   "metadata": {},
   "source": [
    "#### ONE HOT ENCODING"
   ]
  },
  {
   "cell_type": "code",
   "execution_count": null,
   "metadata": {},
   "outputs": [],
   "source": [
    "one_hot_list_all = []\n",
    "cat_list = ['region_1']\n",
    "\n",
    "for feature in cat_list:\n",
    "    df_pn20_prc = pd.concat([df_pn20_prc, pd.get_dummies(df_pn20_prc[feature], prefix=feature, \n",
    "                                                         drop_first=True)], axis=1)\n",
    "    one_hot_list_all.extend(list(pd.get_dummies(df_pn20_prc[feature], prefix=feature, \n",
    "                                                drop_first=True).columns))\n",
    "    df_pn20_prc.drop(feature, axis=1, inplace=True) "
   ]
  },
  {
   "cell_type": "code",
   "execution_count": null,
   "metadata": {},
   "outputs": [],
   "source": [
    "df_pn20_prc.columns"
   ]
  },
  {
   "cell_type": "markdown",
   "metadata": {},
   "source": [
    "# NLP "
   ]
  },
  {
   "cell_type": "code",
   "execution_count": null,
   "metadata": {},
   "outputs": [],
   "source": [
    "print(len(STOPWORDS))\n",
    "stopwords = set(STOPWORDS)\n",
    "newStopWords = ['fruit', \"drink\", \"black\", 'wine', \"pinot\", \"noir\", \"palate\", \"flavor\", \"note\",\n",
    "                'russian', 'river', 'valley', 'sonoma', 'coast', 'sta', 'santa', 'rita', 'hills',\n",
    "                'lucia', 'highlands', 'carneros', 'anderson', 'maria','california', 'santa', \n",
    "                'cruz', 'mountains','edna', 'barbara', 'central', 'coast', 'sonoma','county', \n",
    "                'arroyo', 'grande Valley', 'monterey', 'san', 'luis', 'obispo', 'monterey', \n",
    "                'napa', 'arroyo', 'seco']\n",
    "stopwords.update(newStopWords)\n",
    "print(len(stopwords))"
   ]
  },
  {
   "cell_type": "code",
   "execution_count": null,
   "metadata": {},
   "outputs": [],
   "source": [
    "# FUNCTIONS TO PREPROCESSING \n",
    "def lemmatize_stemming(text):\n",
    "    # REDUCE WORD TO ROOT FORM\n",
    "    # THIRD TO FIRST PERSON\n",
    "    # VERB TENSES TO PRESENT\n",
    "    # PUNCTUATION REMOVED\n",
    "    # WORDS LOWER CASE\n",
    "    return stemmer.stem(WordNetLemmatizer().lemmatize(text, pos='v'))\n",
    "\n",
    "# TOKENIZE AND LEMMANTIZE\n",
    "def preprocess(text):\n",
    "    result=[]\n",
    "    for token in gensim.utils.simple_preprocess(text) :\n",
    "        # WORDS WITH FEWER 3 CHARACTERS ARE IGNORED\n",
    "        # STOP WORDS ARE IGNORED, NOTE MODIFIED THE \"stopwords\"\n",
    "        #if token not in gensim.parsing.preprocessing.STOPWORDS and len(token) > 3:\n",
    "        if token not in stopwords and len(token) > 3:\n",
    "            result.append(lemmatize_stemming(token))\n",
    "    return \" \".join(result)\n",
    "    #return result\n",
    "\n",
    "df_pn20['clean_desc'] = df_pn20['description'].map(lambda x: preprocess(x)) "
   ]
  },
  {
   "cell_type": "code",
   "execution_count": null,
   "metadata": {},
   "outputs": [],
   "source": [
    "import nltk\n",
    "from nltk.tokenize import RegexpTokenizer\n",
    "from nltk.stem import WordNetLemmatizer,PorterStemmer\n",
    "from nltk.corpus import stopwords\n",
    "import re\n",
    "lemmatizer = WordNetLemmatizer()\n",
    "stemmer = PorterStemmer() \n",
    "\n",
    "def preprocess2(sentence):\n",
    "    # MAKE STRING\n",
    "    sentence=str(sentence)\n",
    "    # MAKE LOWER CASE\n",
    "    sentence = sentence.lower()\n",
    "    #REMOVE SOMETHING REPLACE WITH NOTHING\n",
    "    #sentence=sentence.replace('something',\"\") \n",
    "    # REMOVE SPECIAL CHARACTERS AND PUCTUATION\n",
    "    cleanr = re.compile('<.*?>')\n",
    "    cleantext = re.sub(cleanr, '', sentence)\n",
    "    # REMOVE NUMBERS\n",
    "    rem_num = re.sub('[0-9]+', '', cleantext)\n",
    "    # TOKENIZE\n",
    "    tokenizer = RegexpTokenizer(r'\\w+')\n",
    "    tokens = tokenizer.tokenize(rem_num)  \n",
    "    # IF LENGTH > 2 AND NOT A STOPWORD, PUT INTO LIST SEPERATED BY COMMAS\n",
    "    filtered_words = [w for w in tokens if len(w) > 3 if not w in stopwords.words('english')]\n",
    "    # GET STEM - CHOP WORD DOWN TO ROOT\n",
    "    stem_words=[stemmer.stem(w) for w in filtered_words]\n",
    "    # GET FUTURE AND PAST -> PRESENT\n",
    "    lemma_words=[lemmatizer.lemmatize(w) for w in stem_words]\n",
    "    # RETURN A SPACE SEPERATED LIST\n",
    "    return \" \".join(filtered_words)\n",
    "\n",
    "#df_pn20['clean_desc'] = df_pn20['description'].map(lambda x: preprocess2(x)) "
   ]
  },
  {
   "cell_type": "code",
   "execution_count": null,
   "metadata": {},
   "outputs": [],
   "source": [
    "# SET OPTION TO SEE ENTIRE SENTENCE\n",
    "pd.set_option('display.max_colwidth', -1)\n",
    "print(df_pn20['description'].head(1))\n",
    "print()\n",
    "print(df_pn20['clean_desc'].head(1))"
   ]
  },
  {
   "cell_type": "code",
   "execution_count": null,
   "metadata": {},
   "outputs": [],
   "source": [
    "plt.figure(figsize= (16,8))\n",
    "plt.title('Word cloud of Description')\n",
    "wc = WordCloud(max_words=1000,max_font_size=40,\n",
    "               background_color='black', \n",
    "               #stopwords = stopwords, \n",
    "               stopwords = STOPWORDS, \n",
    "               colormap='Set1')\n",
    "wc.generate(' '.join(df_pn20['clean_desc']))\n",
    "plt.imshow(wc,interpolation=\"bilinear\")\n",
    "plt.axis('off')"
   ]
  },
  {
   "cell_type": "code",
   "execution_count": null,
   "metadata": {},
   "outputs": [],
   "source": [
    "# https://github.com/DougJ/Public/blob/master/Final%20Capstone%201.0.ipynb\n",
    "\n",
    "from sklearn.feature_extraction.text import TfidfVectorizer, CountVectorizer\n",
    "\n",
    "# ngram level tf-idf \n",
    "tfidf_vect_ngram = TfidfVectorizer(\n",
    "    #max_df=0.1,  # THIS DOESN'T APPEAR TO BE HAVING ANY IMPACT HIGH OR LOW\n",
    "    min_df=0.01, \n",
    "    analyzer='word', \n",
    "    token_pattern=r'\\w{1,}', \n",
    "    ngram_range=(1,3), \n",
    "    max_features=5000,\n",
    "    stop_words='english', \n",
    "    #stop_words=stopwords, \n",
    "    lowercase=False,\n",
    "    vocabulary=None)\n",
    "\n",
    "# FIT ON ENTIRE\n",
    "tfidf_ngram = tfidf_vect_ngram.fit_transform(df_pn20['clean_desc'])\n",
    "tfidf_ngram_feat = tfidf_vect_ngram.get_feature_names()\n",
    "#type(tfidf_ngram)\n",
    "#print(type(tfidf_ngram_feat))\n",
    "#print(tfidf_ngram_feat)"
   ]
  },
  {
   "cell_type": "code",
   "execution_count": null,
   "metadata": {},
   "outputs": [],
   "source": [
    "#tfidf_feature_names = vectorizer.get_feature_names()\n",
    "#print(type(tfidf_feature_names))\n",
    "#print(tfidf_feature_names)"
   ]
  },
  {
   "cell_type": "code",
   "execution_count": null,
   "metadata": {},
   "outputs": [],
   "source": [
    "#print(tfidf_wine.shape)\n",
    "print(df_pn20.shape)\n",
    "print(tfidf_ngram.shape)\n",
    "#print(tfidf_ngram_feat)"
   ]
  },
  {
   "cell_type": "code",
   "execution_count": null,
   "metadata": {},
   "outputs": [],
   "source": [
    "# ??? RESEARCH: ALLEGEDLY THIS DOES IT - WHY MORE STEPS IN MY APPROACH?\n",
    "# pd.DataFrame(A.todense())\n",
    "\n",
    "# USE THIS TO GET INTO DATAFRAME VS CSR MATRIX\n",
    "# GO FROM SPARSE TO DENSE, PUT INTO LIST, CONVERT LIST TO DATAFRAME\n",
    "dense = tfidf_ngram.todense()\n",
    "denselist = dense.tolist()\n",
    "df_tfidf_ngram_wine = pd.DataFrame(denselist, columns=tfidf_ngram_feat)\n",
    "#print(type(df_tfidf_ngram_wine))\n",
    "#df_tfidf_ngram_wine['rev_w_cnt'] = 1\n",
    "df_tfidf_ngram_wine.head()"
   ]
  },
  {
   "cell_type": "code",
   "execution_count": null,
   "metadata": {},
   "outputs": [],
   "source": [
    "#df_tfidf_ngram_wine.isnull().mean()"
   ]
  },
  {
   "cell_type": "code",
   "execution_count": null,
   "metadata": {},
   "outputs": [],
   "source": [
    "# !!! THIS IS WORKING NOW, CONCAT DOESN'T WORK\n",
    "# Merge two dataframes by index\n",
    "# https://stackoverflow.com/questions/40468069/merge-two-dataframes-by-index#40468090\n",
    "pd.merge(df_pn20, df_tfidf_ngram_wine, left_index=True, right_index=True)\n",
    "\n",
    "#Or join, which is left join by default:\n",
    "#df_pn20.join(df_tfidf_ngram_wine)\n",
    "\n",
    "#Or concat, which is outer join by default:\n",
    "#pd.concat([df_pn20, df_tfidf_ngram_wine], axis=1)"
   ]
  },
  {
   "cell_type": "markdown",
   "metadata": {},
   "source": [
    "#### PCA"
   ]
  },
  {
   "cell_type": "code",
   "execution_count": null,
   "metadata": {},
   "outputs": [],
   "source": [
    "from sklearn.decomposition import PCA\n",
    "# SET PCA ABOVE 80% VARIANCE EXPLAINED, HOWEVER MANY COMPONENTS\n",
    "selector = PCA(n_components=.8).fit(X,y)\n",
    "# SELECT # COMPONENTS\n",
    "#selector = PCA(n_components=10).fit(X,y)\n",
    "\n",
    "var_explained = selector.explained_variance_ratio_ \n",
    "var_explained = pd.Series(var_explained)\n",
    "print(round(var_explained,4)) "
   ]
  },
  {
   "cell_type": "code",
   "execution_count": null,
   "metadata": {},
   "outputs": [],
   "source": [
    "pca = PCA(n_components = 10)\n",
    "logreg = LogisticRegression(solver='lbfgs',max_iter=50000)\n",
    "pipeline = Pipeline([('pca', pca), ('logistic', logreg)])\n",
    "score_fs_pca = cross_val_score(pipeline, X, y, scoring=\"f1_weighted\", cv=3)   \n",
    "print(\"mean={:.2f}   std=(+/- {:.2f})   all={} \".format(score_fs_pca.mean(),\n",
    "                                                        score_fs_pca.std()*2, score_fs_pca))"
   ]
  },
  {
   "cell_type": "markdown",
   "metadata": {},
   "source": [
    "#### UMAP"
   ]
  },
  {
   "cell_type": "code",
   "execution_count": null,
   "metadata": {},
   "outputs": [],
   "source": [
    "### Step X: Clustering - Do after NLP !!! Do after PCA? what if umap\n",
    "### Remove collinearity. Stanardize\n",
    "\n",
    "# DO UMAP ONCE HAVE FEATURES AND AFTER DO PCA\n",
    "\n",
    "import umap\n",
    "\n",
    "# DO LOCATION AND PRICE, LOCATION AND RATING\n",
    "# DO NORMALIZED, OR THE LOG \n",
    "X = df_pn20.loc[:,['price','points']].values\n",
    "\n",
    "umap_results = umap.UMAP(n_neighbors=30, min_dist=1,\n",
    "                         metric='correlation').fit_transform(X)\n",
    "\n",
    "plt.figure(figsize=(10,5))\n",
    "plt.scatter(umap_results[:, 0], umap_results[:, 1])\n",
    "plt.xticks([])\n",
    "plt.yticks([])\n",
    "plt.axis('off')\n",
    "plt.show()"
   ]
  },
  {
   "cell_type": "code",
   "execution_count": null,
   "metadata": {},
   "outputs": [],
   "source": []
  },
  {
   "cell_type": "markdown",
   "metadata": {},
   "source": [
    "## TOPIC MODELING DO IN EDA, GET GREATER INSIGHT INTO TOPICS, PERHAPS AFTER CLUSTERING, SO CAN USE THAT AS NUMBER OF TOPICS"
   ]
  },
  {
   "cell_type": "code",
   "execution_count": null,
   "metadata": {},
   "outputs": [],
   "source": [
    "# Number of topics.\n",
    "ntopics=20\n",
    "\n",
    "# Number of words to look at for each topic.\n",
    "n_top_words = 10\n",
    "\n",
    "# Linking words to topics\n",
    "def word_topic(tfidf, solution, wordlist):\n",
    "    \n",
    "    # Loading scores for each word on each topic/component.\n",
    "    words_by_topic=tfidf.T * solution\n",
    "\n",
    "    # Linking the loadings to the words in an easy-to-read way.\n",
    "    components=pd.DataFrame(words_by_topic,index=wordlist)\n",
    "    \n",
    "    return components\n",
    "\n",
    "# Extracts the top N words and their loadings for each topic.\n",
    "def top_words(components, n_top_words):\n",
    "    n_topics = range(components.shape[1])\n",
    "    index= np.repeat(n_topics, n_top_words, axis=0)\n",
    "    topwords=pd.Series(index=index)\n",
    "    for column in range(components.shape[1]):\n",
    "        # Sort the column so that highest loadings are at the top.\n",
    "        sortedwords=components.iloc[:,column].sort_values(ascending=False)\n",
    "        # Choose the N highest loadings.\n",
    "        chosen=sortedwords[:n_top_words]\n",
    "        # Combine loading and index into a string.\n",
    "        chosenlist=chosen.index +\" \"+round(chosen,2).map(str) \n",
    "        topwords.loc[column]=[x for x in chosenlist]\n",
    "    return(topwords)"
   ]
  },
  {
   "cell_type": "code",
   "execution_count": null,
   "metadata": {},
   "outputs": [],
   "source": [
    "# LSA\n",
    "\n",
    "from sklearn.decomposition import TruncatedSVD\n",
    "from sklearn.pipeline import make_pipeline\n",
    "from sklearn.preprocessing import Normalizer\n",
    "\n",
    "svd= TruncatedSVD(ntopics)\n",
    "lsa = make_pipeline(svd, Normalizer(copy=False))\n",
    "wine_lsa = lsa.fit_transform(tfidf_wine)\n",
    "\n",
    "lsa_components = word_topic(tfidf_wine, wine_lsa, tfidf_feature_names)\n",
    "\n",
    "topwords=pd.DataFrame()\n",
    "topwords['LSA']=top_words(lsa_components, n_top_words)                "
   ]
  },
  {
   "cell_type": "code",
   "execution_count": null,
   "metadata": {},
   "outputs": [],
   "source": [
    "# LDA\n",
    "from sklearn.decomposition import LatentDirichletAllocation as LDA\n",
    "\n",
    "lda = LDA(n_components=ntopics, \n",
    "          doc_topic_prior=None, # Prior = 1/n_documents\n",
    "          topic_word_prior=1/ntopics,\n",
    "          learning_decay=0.7, # Convergence rate.\n",
    "          learning_offset=10.0, # Causes earlier iterations to have less influence on the learning\n",
    "          max_iter=10, # when to stop even if the model is not converging (to prevent running forever)\n",
    "          evaluate_every=-1, # Do not evaluate perplexity, as it slows training time.\n",
    "          mean_change_tol=0.001, # Stop updating the document topic distribution in the E-step when mean change is < tol\n",
    "          max_doc_update_iter=100, # When to stop updating the document topic distribution in the E-step even if tol is not reached\n",
    "          n_jobs=-1, # Use all available CPUs to speed up processing time.\n",
    "          verbose=0, # amount of output to give while iterating\n",
    "          random_state=0\n",
    "         )\n",
    "\n",
    "lda_wine = lda.fit_transform(tfidf_wine) \n",
    "\n",
    "lda_components = word_topic(tfidf_wine, lda_wine, tfidf_feature_names)\n",
    "\n",
    "topwords['LDA']=top_words(lda_components, n_top_words)\n"
   ]
  },
  {
   "cell_type": "code",
   "execution_count": null,
   "metadata": {},
   "outputs": [],
   "source": [
    "\n",
    "# ??? WHAT EXACTLY IS todense() READ UP\n",
    "#sentences_tfidf=vectorizer.fit_transform(sentences_alt)\n",
    "#feature_names = vectorizer.get_feature_names()\n",
    "#dense = sentences_tfidf.todense()\n",
    "#denselist = dense.tolist()\n",
    "#df = pd.DataFrame(denselist, columns=feature_names)\n",
    "#df.head()"
   ]
  },
  {
   "cell_type": "code",
   "execution_count": null,
   "metadata": {},
   "outputs": [],
   "source": [
    "# NNMF\n",
    "\n",
    "from sklearn.decomposition import NMF\n",
    "\n",
    "nmf = NMF(alpha=0.0, \n",
    "          init='nndsvdar', # how starting value are calculated\n",
    "          l1_ratio=0.0, # Sets whether regularization is L2 (0), L1 (1), or a combination (values between 0 and 1)\n",
    "          max_iter=200, # when to stop even if the model is not converging (to prevent running forever)\n",
    "          n_components=ntopics, \n",
    "          random_state=0, \n",
    "          solver='cd', # Use Coordinate Descent to solve\n",
    "          tol=0.0001, # model will stop if tfidf-WH <= tol\n",
    "          verbose=0 # amount of output to give while iterating\n",
    "         )\n",
    "nmf_wine = nmf.fit_transform(tfidf_wine) \n",
    "\n",
    "nmf_components = word_topic(tfidf_wine, nmf_wine, tfidf_feature_names)\n",
    "\n",
    "topwords['NNMF']=top_words(nmf_components, n_top_words)"
   ]
  },
  {
   "cell_type": "code",
   "execution_count": null,
   "metadata": {},
   "outputs": [],
   "source": [
    "#dense = tfidf_wine.todense()\n",
    "#denselist = dense.tolist()\n",
    "#df_tfidf_wine = pd.DataFrame(denselist, columns=tfidf_feature_names)\n",
    "#df_tfidf_wine.head()\n",
    "\n",
    "#sparse matrix, not really a matrix, efficient way to refer to matrix, can't apply math\n",
    "# math that would be used when using other matrices"
   ]
  },
  {
   "cell_type": "markdown",
   "metadata": {},
   "source": [
    "### STEP X:  RUN MODELS WITH GRIDSEARCHCV"
   ]
  },
  {
   "cell_type": "markdown",
   "metadata": {},
   "source": [
    "### Step X: KNN - Suggest varietals to user based on nearest neighbor"
   ]
  },
  {
   "cell_type": "code",
   "execution_count": null,
   "metadata": {},
   "outputs": [],
   "source": [
    "from sklearn.neighbors import NearestNeighbors # KNN Clustering \n",
    "from scipy.sparse import csr_matrix # Compressed Sparse Row matrix\n",
    "from sklearn.decomposition import TruncatedSVD # Dimensional Reduction"
   ]
  },
  {
   "cell_type": "code",
   "execution_count": null,
   "metadata": {},
   "outputs": [],
   "source": [
    "# Lets choice rating of wine is points, title as user_id, and variety,\n",
    "col = ['province','variety','points']\n",
    "\n",
    "wine1 = df[col]\n",
    "wine1 = wine1.dropna(axis=0)\n",
    "wine1 = wine1.drop_duplicates(['province','variety'])\n",
    "wine1 = wine1[wine1['points'] > 85]\n",
    "\n",
    "wine_pivot = wine1.pivot(index= 'variety',columns='province',values='points').fillna(0)\n",
    "wine_pivot_matrix = csr_matrix(wine_pivot)"
   ]
  },
  {
   "cell_type": "code",
   "execution_count": null,
   "metadata": {},
   "outputs": [],
   "source": [
    "knn = NearestNeighbors(n_neighbors=10, algorithm= 'brute', metric= 'cosine')\n",
    "model_knn = knn.fit(wine_pivot_matrix)"
   ]
  },
  {
   "cell_type": "code",
   "execution_count": null,
   "metadata": {},
   "outputs": [],
   "source": [
    "for n in range(5):\n",
    "    query_index = np.random.choice(wine_pivot.shape[0])\n",
    "    #print(n, query_index)\n",
    "    distance, indice = model_knn.kneighbors(wine_pivot.iloc[query_index,:].values.reshape(1,-1), n_neighbors=6)\n",
    "    for i in range(0, len(distance.flatten())):\n",
    "        if  i == 0:\n",
    "            print('Recommendation for ## {0} ##:'.format(wine_pivot.index[query_index]))\n",
    "        else:\n",
    "            print('{0}: {1} with distance: {2}'.format(i,wine_pivot.index[indice.flatten()[i]],distance.flatten()[i]))\n",
    "    print('\\n')"
   ]
  },
  {
   "cell_type": "markdown",
   "metadata": {},
   "source": [
    "### Step X: KNN - Suggest varietals to user based on nearest neighbor"
   ]
  },
  {
   "cell_type": "code",
   "execution_count": null,
   "metadata": {},
   "outputs": [],
   "source": []
  },
  {
   "cell_type": "code",
   "execution_count": null,
   "metadata": {},
   "outputs": [],
   "source": [
    "# DUPLICATES APPEAR TO BE IN DATAFRAME ROWS, LIKELY ALL ZEROS\n",
    "df_tfidf_ngram_wine[df_tfidf_ngram_wine.duplicated(keep=False)==True].head(2)"
   ]
  },
  {
   "cell_type": "code",
   "execution_count": null,
   "metadata": {},
   "outputs": [],
   "source": [
    "from sklearn.neighbors import NearestNeighbors\n",
    "from scipy.sparse import csr_matrix\n",
    "from sklearn.decomposition import TruncatedSVD"
   ]
  },
  {
   "cell_type": "code",
   "execution_count": null,
   "metadata": {},
   "outputs": [],
   "source": [
    "wine1 = df.copy()"
   ]
  },
  {
   "cell_type": "code",
   "execution_count": null,
   "metadata": {},
   "outputs": [],
   "source": [
    "# !!! TRY TO ADD A UNIQUE ITEM TO REMOVE DUPLICATE\n",
    "\n",
    "#df_tfidf_ngram_wine.duplicated()\n",
    "\n",
    "# VIEW DUPLICATES\n",
    "#df_tfidf_ngram_wine[df_tfidf_ngram_wine.duplicated(keep=False)==True].head(2)\n",
    "\n",
    "# THERE ARE DUPLICATES\n",
    "#df_tfidf_ngram_wine[\"rev_w_cnt\"] = len(df_pn20['desc_length'])\n",
    "\n",
    "#def description_length(row):\n",
    "#    return 2 #len(row['cleanDesc'])\n",
    "\n",
    "#df_tfidf_ngram_wine['rev_w_cnt'] = ''\n",
    "#df_tfidf_ngram_wine.reset_index();\n",
    "#df_pn20.reset_index();\n",
    "#df_tfidf_ngram_wine['rev_w_cnt'] = df_pn20.apply(description_length, axis=1)\n",
    "#df_tfidf_ngram_wine['rev_w_cnt'] = df_pn20['cleanDesc'].apply(lambda x: description_length(x)) \n",
    "#df_tfidf_ngram_wine['rev_w_cnt'] = df_pn20['cleanDesc'].map(lambda x: description_length(x))\n",
    "#df_tfidf_ngram_wine.assign(desc_length = df_pn20['description'].apply(len))\n",
    "\n",
    "#df_tfidf_ngram_wine['rev_w_cnt'].head()"
   ]
  },
  {
   "cell_type": "code",
   "execution_count": null,
   "metadata": {},
   "outputs": [],
   "source": [
    "# Lets choice rating of wine is points, title as user_id, and variety,\n",
    "col = ['province','variety','points']\n",
    "wine1 = df[col]\n",
    "wine1 = wine1.dropna(axis=0)\n",
    "wine1 = wine1.drop_duplicates(['province','variety'])\n",
    "wine1 = wine1[wine1['points'] >85]\n",
    "wine_pivot = wine1.pivot(index= 'variety',columns='province',values='points').fillna(0)\n",
    "wine_pivot_matrix = csr_matrix(wine_pivot)"
   ]
  },
  {
   "cell_type": "code",
   "execution_count": null,
   "metadata": {},
   "outputs": [],
   "source": [
    "df_tfidf_ngram_wine.head()"
   ]
  },
  {
   "cell_type": "code",
   "execution_count": null,
   "metadata": {},
   "outputs": [],
   "source": [
    "knn = NearestNeighbors(n_neighbors=10,algorithm= 'brute', metric= 'cosine')\n",
    "model_knn = knn.fit(wine_pivot_matrix)"
   ]
  },
  {
   "cell_type": "code",
   "execution_count": null,
   "metadata": {},
   "outputs": [],
   "source": [
    "query_index = np.random.choice(wine_pivot.shape[0])\n",
    "distance, indice = model_knn.kneighbors(wine_pivot.iloc[query_index,:].values.reshape(1,-1),n_neighbors=6)\n",
    "for i in range(0, len(distance.flatten())):\n",
    "    if  i == 0:\n",
    "        print('Recommendation for {0}:\\n'.format(wine_pivot.index[query_index]))\n",
    "    else:\n",
    "        print('{0}: {1} with distance: {2}'.format(i,wine_pivot.index[indice.flatten()[i]],distance.flatten()[i]))"
   ]
  },
  {
   "cell_type": "code",
   "execution_count": null,
   "metadata": {},
   "outputs": [],
   "source": [
    "df_pn20_tdidf = pd.concat([df_pn20, df_tdidf], axis=1, sort=False)"
   ]
  },
  {
   "cell_type": "code",
   "execution_count": null,
   "metadata": {},
   "outputs": [],
   "source": [
    "# DETERMINE OPTIMAL CLUSTER NUMBER \n",
    "# ELBOW METHOD -> WITHIN CLUSTER SUM OF SQUARES (WCSS)\n",
    "wcss = []\n",
    "for i in range(1,8):\n",
    "    kmeans = KMeans(n_clusters = i, init = 'random', max_iter = 300,\n",
    "                    n_init = 10, random_state = 42)\n",
    "    kmeans.fit(X)\n",
    "    wcss.append(kmeans.inertia_)\n",
    "plt.plot(range(1,8), wcss)\n",
    "plt.title('Elbow Method')\n",
    "plt.xlabel('# Clusters')\n",
    "plt.ylabel('WCSS')\n",
    "plt.show()"
   ]
  }
 ],
 "metadata": {
  "kernelspec": {
   "display_name": "Python 3",
   "language": "python",
   "name": "python3"
  },
  "language_info": {
   "codemirror_mode": {
    "name": "ipython",
    "version": 3
   },
   "file_extension": ".py",
   "mimetype": "text/x-python",
   "name": "python",
   "nbconvert_exporter": "python",
   "pygments_lexer": "ipython3",
   "version": "3.7.3"
  }
 },
 "nbformat": 4,
 "nbformat_minor": 2
}
